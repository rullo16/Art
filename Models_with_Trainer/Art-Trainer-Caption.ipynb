{
 "cells": [
  {
   "cell_type": "markdown",
   "metadata": {},
   "source": [
    "# Install the needed packages"
   ]
  },
  {
   "cell_type": "markdown",
   "metadata": {},
   "source": [
    "%pip install datasets\n",
    "%pip install transformers\n",
    "%pip install sentencepiece\n",
    "%pip install diffusers --upgrade\n",
    "%pip install invisible_watermark accelerate safetensors\n",
    "%pip install accelerate\n",
    "%pip install jiwer\n",
    "%pip install evaluate"
   ]
  },
  {
   "cell_type": "code",
   "execution_count": 19,
   "metadata": {},
   "outputs": [
    {
     "name": "stdout",
     "output_type": "stream",
     "text": [
      "cuda\n"
     ]
    }
   ],
   "source": [
    "import pandas as pd\n",
    "import datasets\n",
    "import torch\n",
    "from transformers import AutoProcessor,TrainingArguments, Trainer, AutoTokenizer\n",
    "from transformers import AutoModelForCausalLM\n",
    "from PIL import Image, ImageFile\n",
    "from datasets import load_metric\n",
    "import numpy as np\n",
    "Image.LOAD_TRUNCATED_IMAGES = True\n",
    "ImageFile.LOAD_TRUNCATED_IMAGES = True\n",
    "PYTORCH_CUDA_ALLOC_CONF=expandable_segments = True\n",
    "from transformers import EarlyStoppingCallback\n",
    "\n",
    "device = torch.device(\"cuda\" if torch.cuda.is_available() else \"cpu\")\n",
    "print(device)"
   ]
  },
  {
   "cell_type": "markdown",
   "metadata": {},
   "source": [
    "# Load the dataset\n",
    "\n",
    "We check if the dataset is already present in the system, by checking the local variables. If it is not present we load it, else we just skip it. This is done to avoid loading the dataset again and again, as it takes time to load the dataset.\n",
    "\n",
    "## Data to Keep\n",
    "Since in this notebook we only Fine-Tune the Captioning model we only keep the descriptions of the paintings, which we scraped from the urls provided in the original dataset."
   ]
  },
  {
   "cell_type": "code",
   "execution_count": 2,
   "metadata": {},
   "outputs": [
    {
     "data": {
      "text/html": [
       "<div>\n",
       "<style scoped>\n",
       "    .dataframe tbody tr th:only-of-type {\n",
       "        vertical-align: middle;\n",
       "    }\n",
       "\n",
       "    .dataframe tbody tr th {\n",
       "        vertical-align: top;\n",
       "    }\n",
       "\n",
       "    .dataframe thead th {\n",
       "        text-align: right;\n",
       "    }\n",
       "</style>\n",
       "<table border=\"1\" class=\"dataframe\">\n",
       "  <thead>\n",
       "    <tr style=\"text-align: right;\">\n",
       "      <th></th>\n",
       "      <th>image</th>\n",
       "      <th>description</th>\n",
       "    </tr>\n",
       "  </thead>\n",
       "  <tbody>\n",
       "    <tr>\n",
       "      <th>0</th>\n",
       "      <td>../images/618.jpg</td>\n",
       "      <td>The picture shows the central part of the fresco.</td>\n",
       "    </tr>\n",
       "    <tr>\n",
       "      <th>1</th>\n",
       "      <td>../images/8630.jpg</td>\n",
       "      <td>Van ClÃ¨ve studied Annibale Carracci's frescoe...</td>\n",
       "    </tr>\n",
       "    <tr>\n",
       "      <th>2</th>\n",
       "      <td>../images/31284.jpg</td>\n",
       "      <td>In the United States, as in France, Neoclassic...</td>\n",
       "    </tr>\n",
       "    <tr>\n",
       "      <th>3</th>\n",
       "      <td>../images/12009.jpg</td>\n",
       "      <td>The central scene represents the Nativity. Mar...</td>\n",
       "    </tr>\n",
       "    <tr>\n",
       "      <th>4</th>\n",
       "      <td>../images/2577.jpg</td>\n",
       "      <td>This impressive maiolica plate was part of a s...</td>\n",
       "    </tr>\n",
       "  </tbody>\n",
       "</table>\n",
       "</div>"
      ],
      "text/plain": [
       "                 image                                        description\n",
       "0    ../images/618.jpg  The picture shows the central part of the fresco.\n",
       "1   ../images/8630.jpg  Van ClÃ¨ve studied Annibale Carracci's frescoe...\n",
       "2  ../images/31284.jpg  In the United States, as in France, Neoclassic...\n",
       "3  ../images/12009.jpg  The central scene represents the Nativity. Mar...\n",
       "4   ../images/2577.jpg  This impressive maiolica plate was part of a s..."
      ]
     },
     "execution_count": 2,
     "metadata": {},
     "output_type": "execute_result"
    }
   ],
   "source": [
    "if 'data' not in locals():\n",
    "    data = pd.read_csv('../described_dataset_label.csv',sep='\\t',encoding='latin-1')\n",
    "    data = data.sample(frac=1).reset_index(drop=True)\n",
    "    data = data.iloc[:20000]\n",
    "    data = data.rename(columns={'FILE':'image','AUTHOR':'author', 'TITLE': 'title', 'TECHNIQUE':'style','URL':'description'})\n",
    "    data = data[['image','description']]\n",
    "    data['image'] = [f'.{x}' for x in data['image']]\n",
    "data.head()"
   ]
  },
  {
   "cell_type": "code",
   "execution_count": 3,
   "metadata": {},
   "outputs": [
    {
     "name": "stdout",
     "output_type": "stream",
     "text": [
      "Index(['image', 'description'], dtype='object')\n"
     ]
    }
   ],
   "source": [
    "print(data.columns)"
   ]
  },
  {
   "cell_type": "code",
   "execution_count": 4,
   "metadata": {},
   "outputs": [
    {
     "name": "stdout",
     "output_type": "stream",
     "text": [
      "Dataset({\n",
      "    features: ['image', 'description'],\n",
      "    num_rows: 20000\n",
      "})\n"
     ]
    }
   ],
   "source": [
    "dataset = datasets.Dataset.from_pandas(data).cast_column('image', datasets.Image())\n",
    "print(dataset)"
   ]
  },
  {
   "cell_type": "code",
   "execution_count": 5,
   "metadata": {},
   "outputs": [
    {
     "data": {
      "image/png": "[encoded data removed]",
      "text/plain": [
       "<PIL.Image.Image image mode=RGB size=240x330>"
      ]
     },
     "metadata": {},
     "output_type": "display_data"
    },
    {
     "name": "stdout",
     "output_type": "stream",
     "text": [
      "This is a fragment from the later period of the artist.\n"
     ]
    }
   ],
   "source": [
    "sample = dataset[53]\n",
    "\n",
    "image = sample['image']\n",
    "height,width = image.size\n",
    "display(image.resize((int(0.3*height),int(0.3*width))))\n",
    "caption = sample['description']\n",
    "print(caption)"
   ]
  },
  {
   "cell_type": "markdown",
   "metadata": {},
   "source": [
    "# The Model\n",
    "\n",
    "For our task, we opted for the Git-large-Coco model provided by Microsoft. This model is a large-scale language model trained on the Coco dataset, which shares similarities with our dataset as it consists of images paired with textual descriptions. Among the models available on Hugging Face, we found that the Git-large-Coco model consistently yielded superior results for our specific task.\n",
    "\n",
    "In addition to the model itself, we utilized the associated processor. This processor aligns with the one used during the original training of the model. Ensuring consistency between the model and its processor is crucial, as the processor plays a key role in tokenizing input data. Mismatched processors could result in the model being unable to interpret input data correctly. By leveraging the pre-existing processor, we save significant time and effort that would otherwise be required to develop and fine-tune our own processor.\n"
   ]
  },
  {
   "cell_type": "code",
   "execution_count": 6,
   "metadata": {},
   "outputs": [],
   "source": [
    "checkpoint_capt= \"microsoft/git-large-coco\"\n",
    "processor_capt = AutoProcessor.from_pretrained(checkpoint_capt)"
   ]
  },
  {
   "cell_type": "markdown",
   "metadata": {},
   "source": [
    "# Data Preprocessing\n",
    "\n",
    "To facilitate data feeding into the processor and obtain tokenized inputs for the model, we define a function named `capt_transforms`. This function transforms the raw data into a format suitable for the model input. Here's a breakdown of the process:\n",
    "\n",
    "## Function Description\n",
    "The `capt_transforms` function takes an example batch containing images and captions as input. It performs the following steps:\n",
    "\n",
    "1. **Extract Images and Captions**:\n",
    "   - Extracts images and captions from the example batch.\n",
    "\n",
    "2. **Tokenization**:\n",
    "   - Utilizes the pre-trained processor (`processor_capt`) to tokenize the images and captions.\n",
    "   - Sets the maximum sequence length for padding and truncates sequences if needed.\n",
    "   - Returns a DatasetDict containing tokenized inputs with keys \"input_ids\" and \"labels\".\n",
    "\n",
    "## Input and Output\n",
    "- **Input**: Example batch containing images and captions.\n",
    "- **Output**: Tokenized inputs suitable for model ingestion, comprising input IDs and corresponding labels.\n",
    "\n",
    "## Data Processing Improvements\n",
    "- **Efficient Transformation**: The function efficiently transforms raw data into tokenized inputs using the pre-trained processor, ensuring compatibility with the model's input requirements.\n",
    "- **Padding and Truncation**: Utilizes padding and truncation to handle sequences of varying lengths, enabling uniform input sizes for the model.\n",
    "- **Label Generation**: Generates labels from input IDs, facilitating model training and evaluation.\n",
    "\n",
    "By employing this data preprocessing function, we streamline the pipeline for preparing inputs to the model, ultimately enhancing efficiency and compatibility with downstream tasks.\n"
   ]
  },
  {
   "cell_type": "code",
   "execution_count": 7,
   "metadata": {},
   "outputs": [],
   "source": [
    "def transforms(example_batch):\n",
    "    images = [x for x in example_batch[\"image\"]]\n",
    "    captions = [x for x in example_batch[\"description\"]]\n",
    "    inputs = processor_capt(images=images, text=captions, padding='max_length', truncation=True, return_tensors=\"pt\")\n",
    "    inputs.update({\"labels\": inputs[\"input_ids\"]})\n",
    "    return inputs"
   ]
  },
  {
   "cell_type": "code",
   "execution_count": 8,
   "metadata": {},
   "outputs": [],
   "source": [
    "#Caption\n",
    "capt_dataset = dataset.train_test_split(test_size=0.3)\n",
    "capt_dataset = capt_dataset.with_transform(transforms)"
   ]
  },
  {
   "cell_type": "markdown",
   "metadata": {},
   "source": [
    "# Evaluation\n",
    "\n",
    "In assessing the performance of our model, we employed the ROUGE score, a widely used metric for evaluating image captioning in generative models. The ROUGE score measures the similarity between generated captions and ground truth captions by comparing overlapping n-grams, thereby providing insights into the quality and accuracy of the generated captions.\n",
    "\n",
    "To compute the ROUGE score, we utilized the `load_metric` function from the `datasets` library, specifically loading the ROUGE metric for evaluation purposes.\n",
    "We then defined a custom function named `capt_compute_metrics` to compute the ROUGE score for evaluation. This function takes `eval_pred` as input, which contains logits (model predictions) and labels (ground truth captions).\n",
    "\n",
    "The function performs the following steps:\n",
    "\n",
    "1. Extracts logits (model predictions) and labels (ground truth captions) from the `eval_pred` input.\n",
    "2. Decodes the labels and predictions using the associated processor (`processor_capt`), skipping special tokens to obtain human-readable text.\n",
    "3. Computes the ROUGE score using the decoded predictions and references (ground truth captions).\n",
    "4. Returns a dictionary containing the computed ROUGE score under the key \"rouge_score\".\n",
    "\n",
    "By utilizing the ROUGE score and implementing a custom evaluation function, we gain valuable insights into the quality of our model's generated captions compared to ground truth captions. This facilitates quantitative assessment and refinement of the model's performance, ultimately contributing to its effectiveness in generating accurate and relevant captions for images.\n"
   ]
  },
  {
   "cell_type": "code",
   "execution_count": 9,
   "metadata": {},
   "outputs": [],
   "source": [
    "from transformers import AutoTokenizer\n",
    "\n",
    "tokenizer = AutoTokenizer.from_pretrained(checkpoint_capt)"
   ]
  },
  {
   "cell_type": "markdown",
   "metadata": {},
   "source": [
    "We need to preprocess the data before evaluation because the trainer function has a problem of memory leaks."
   ]
  },
  {
   "cell_type": "code",
   "execution_count": 10,
   "metadata": {},
   "outputs": [],
   "source": [
    "def preprocess_logits_for_metrics(logits,labels):\n",
    "    predictions = torch.argmax(logits, dim=-1)\n",
    "    return predictions,labels"
   ]
  },
  {
   "cell_type": "code",
   "execution_count": 11,
   "metadata": {},
   "outputs": [
    {
     "name": "stdout",
     "output_type": "stream",
     "text": [
      "WARNING:tensorflow:From c:\\Users\\Fede\\anaconda3\\envs\\tf\\lib\\site-packages\\tf_keras\\src\\losses.py:2976: The name tf.losses.sparse_softmax_cross_entropy is deprecated. Please use tf.compat.v1.losses.sparse_softmax_cross_entropy instead.\n",
      "\n",
      "WARNING:tensorflow:From c:\\Users\\Fede\\anaconda3\\envs\\tf\\lib\\site-packages\\tensorflow_probability\\python\\internal\\backend\\numpy\\_utils.py:48: The name tf.logging.TaskLevelStatusMessage is deprecated. Please use tf.compat.v1.logging.TaskLevelStatusMessage instead.\n",
      "\n",
      "WARNING:tensorflow:From c:\\Users\\Fede\\anaconda3\\envs\\tf\\lib\\site-packages\\tensorflow_probability\\python\\internal\\backend\\numpy\\_utils.py:48: The name tf.control_flow_v2_enabled is deprecated. Please use tf.compat.v1.control_flow_v2_enabled instead.\n",
      "\n"
     ]
    }
   ],
   "source": [
    "import evaluate"
   ]
  },
  {
   "cell_type": "code",
   "execution_count": 12,
   "metadata": {},
   "outputs": [],
   "source": [
    "rouge = evaluate.load('rouge')\n",
    "def capt_compute_metrics(eval_pred):\n",
    "    logits, labels = eval_pred\n",
    "    pred_ids = logits[0]\n",
    "    pred_ids = processor_capt.batch_decode(pred_ids, skip_special_tokens=True)\n",
    "    labels = processor_capt.batch_decode(labels, skip_special_tokens=True)\n",
    "    result = rouge.compute(predictions=pred_ids, references=labels, use_aggregator=True)\n",
    "    return result"
   ]
  },
  {
   "cell_type": "code",
   "execution_count": 13,
   "metadata": {},
   "outputs": [],
   "source": [
    "# from transformers import CLIPProcessor, CLIPModel\n",
    "\n",
    "# clip = CLIPModel.from_pretrained(\"openai/clip-vit-base-patch32\")\n",
    "# processor_clip = CLIPProcessor.from_pretrained(\"openai/clip-vit-base-patch32\")\n",
    "\n",
    "# def clip_compute_metrics(eval_pred):\n",
    "#     references = eval_pred.label_ids\n",
    "#     generated_text = eval_pred.predictions[1]\n",
    "\n",
    "#     references = processor_clip.batch_decode(references, skip_special_tokens=True)\n",
    "#     generated_text = processor_clip.batch_decode(generated_text, skip_special_tokens=True)\n",
    "\n",
    "#     # Calculate the BERTScore\n",
    "#     result = clip.compute(predictions=generated_text, references=references)\n",
    "#     print(result)\n",
    "#     return result[\"f1\"].mean()"
   ]
  },
  {
   "cell_type": "markdown",
   "metadata": {},
   "source": [
    "# Fine tuning\n",
    "\n",
    "In this notebook we decide to use the HuggingFace trainer since it is a very easy to use and powerful tool to fine-tune models. This saved us time in writing our own custom training loop as the hugging face model serves us as a comparison for our custom models, which we train in a different notebook."
   ]
  },
  {
   "cell_type": "code",
   "execution_count": 14,
   "metadata": {},
   "outputs": [],
   "source": [
    "from transformers import DefaultDataCollator\n",
    "\n",
    "data_collator = DefaultDataCollator()"
   ]
  },
  {
   "cell_type": "markdown",
   "metadata": {},
   "source": [
    "## Hyperparameters Optimization\n",
    "\n"
   ]
  },
  {
   "cell_type": "code",
   "execution_count": 15,
   "metadata": {},
   "outputs": [],
   "source": [
    "def model_init(trial):\n",
    "    return AutoModelForCausalLM.from_pretrained(checkpoint_capt).to(device)"
   ]
  },
  {
   "cell_type": "code",
   "execution_count": 16,
   "metadata": {},
   "outputs": [
    {
     "name": "stderr",
     "output_type": "stream",
     "text": [
      "c:\\Users\\Fede\\anaconda3\\envs\\tf\\lib\\site-packages\\accelerate\\accelerator.py:436: FutureWarning: Passing the following arguments to `Accelerator` is deprecated and will be removed in version 1.0 of Accelerate: dict_keys(['dispatch_batches', 'split_batches']). Please pass an `accelerate.DataLoaderConfiguration` instead: \n",
      "dataloader_config = DataLoaderConfiguration(dispatch_batches=None, split_batches=False)\n",
      "  warnings.warn(\n"
     ]
    }
   ],
   "source": [
    "torch.cuda.empty_cache()\n",
    "\n",
    "capt_training_args = TrainingArguments(\n",
    "    output_dir=\"model_checkpoints/captioning\",\n",
    "    learning_rate=1e-5,\n",
    "    num_train_epochs=5,\n",
    "    warmup_ratio=0.2,\n",
    "    fp16=False,\n",
    "    per_device_train_batch_size=8,\n",
    "    per_device_eval_batch_size=8,\n",
    "    gradient_accumulation_steps=2,\n",
    "    save_total_limit=2,\n",
    "    evaluation_strategy=\"epoch\",\n",
    "    save_strategy=\"epoch\",\n",
    "    remove_unused_columns=False,\n",
    "    push_to_hub=False,\n",
    "    label_names=[\"labels\"],\n",
    "    load_best_model_at_end=True,\n",
    ")\n",
    "\n",
    "capt_trainer = Trainer(\n",
    "    # model=model_capt,\n",
    "    model_init=model_init,\n",
    "    args=capt_training_args,\n",
    "    data_collator=data_collator,\n",
    "    train_dataset=capt_dataset[\"train\"],\n",
    "    eval_dataset=capt_dataset[\"test\"],\n",
    "    compute_metrics=capt_compute_metrics,\n",
    "    preprocess_logits_for_metrics=preprocess_logits_for_metrics,\n",
    "    callbacks=[EarlyStoppingCallback(early_stopping_patience=5)],\n",
    ")\n",
    "\n",
    "torch.cuda.empty_cache()"
   ]
  },
  {
   "cell_type": "code",
   "execution_count": 17,
   "metadata": {},
   "outputs": [],
   "source": [
    "#HyperParameter Search\n",
    "\n",
    "def optuna_hp_space(trial):\n",
    "    return {\n",
    "        \"learning_rate\": trial.suggest_float(\"learning_rate\", 1e-5, 1e-4, log=True),\n",
    "        \"num_train_epochs\": trial.suggest_int(\"num_train_epochs\", 1, 4),\n",
    "        \"per_device_train_batch_size\": trial.suggest_categorical(\"per_device_train_batch_size\", [6,8]),\n",
    "        \"gradient_accumulation_steps\": trial.suggest_int(\"gradient_accumulation_steps\", 1, 4),\n",
    "        \"per_device_eval_batch_size\": trial.suggest_categorical(\"per_device_eval_batch_size\", [6,8]),\n",
    "        \"warmup_ratio\": trial.suggest_float(\"warmup_ratio\", 0.1, 0.3),\n",
    "    }"
   ]
  },
  {
   "cell_type": "code",
   "execution_count": 18,
   "metadata": {},
   "outputs": [
    {
     "name": "stderr",
     "output_type": "stream",
     "text": [
      "[I 2024-05-18 12:55:53,053] A new study created in memory with name: no-name-d3bb88c6-b5d2-44b3-ab01-c0f7e710f0f8\n",
      "Failed to detect the name of this notebook, you can set it manually with the WANDB_NOTEBOOK_NAME environment variable to enable code saving.\n",
      "\u001b[34m\u001b[1mwandb\u001b[0m: Currently logged in as: \u001b[33mrullofederico16\u001b[0m (\u001b[33mfede-\u001b[0m). Use \u001b[1m`wandb login --relogin`\u001b[0m to force relogin\n"
     ]
    },
    {
     "data": {
      "text/html": [
       "wandb version 0.17.0 is available!  To upgrade, please run:\n",
       " $ pip install wandb --upgrade"
      ],
      "text/plain": [
       "<IPython.core.display.HTML object>"
      ]
     },
     "metadata": {},
     "output_type": "display_data"
    },
    {
     "data": {
      "text/html": [
       "Tracking run with wandb version 0.16.6"
      ],
      "text/plain": [
       "<IPython.core.display.HTML object>"
      ]
     },
     "metadata": {},
     "output_type": "display_data"
    },
    {
     "data": {
      "text/html": [
       "Run data is saved locally in <code>c:\\Users\\Fede\\Desktop\\Art\\Models_with_Trainer\\wandb\\run-20240518_125556-ryetazqj</code>"
      ],
      "text/plain": [
       "<IPython.core.display.HTML object>"
      ]
     },
     "metadata": {},
     "output_type": "display_data"
    },
    {
     "data": {
      "text/html": [
       "Syncing run <strong><a href='https://wandb.ai/fede-/huggingface/runs/ryetazqj' target=\"_blank\">vague-voice-75</a></strong> to <a href='https://wandb.ai/fede-/huggingface' target=\"_blank\">Weights & Biases</a> (<a href='https://wandb.me/run' target=\"_blank\">docs</a>)<br/>"
      ],
      "text/plain": [
       "<IPython.core.display.HTML object>"
      ]
     },
     "metadata": {},
     "output_type": "display_data"
    },
    {
     "data": {
      "text/html": [
       " View project at <a href='https://wandb.ai/fede-/huggingface' target=\"_blank\">https://wandb.ai/fede-/huggingface</a>"
      ],
      "text/plain": [
       "<IPython.core.display.HTML object>"
      ]
     },
     "metadata": {},
     "output_type": "display_data"
    },
    {
     "data": {
      "text/html": [
       " View run at <a href='https://wandb.ai/fede-/huggingface/runs/ryetazqj' target=\"_blank\">https://wandb.ai/fede-/huggingface/runs/ryetazqj</a>"
      ],
      "text/plain": [
       "<IPython.core.display.HTML object>"
      ]
     },
     "metadata": {},
     "output_type": "display_data"
    },
    {
     "data": {
      "application/vnd.jupyter.widget-view+json": {
       "model_id": "2215edde4a8f41ac8b16b05dc29092b3",
       "version_major": 2,
       "version_minor": 0
      },
      "text/plain": [
       "  0%|          | 0/875 [00:00<?, ?it/s]"
      ]
     },
     "metadata": {},
     "output_type": "display_data"
    },
    {
     "name": "stdout",
     "output_type": "stream",
     "text": [
      "{'loss': 2.9181, 'learning_rate': 1.5826645888505617e-05, 'epoch': 0.57}\n"
     ]
    },
    {
     "data": {
      "application/vnd.jupyter.widget-view+json": {
       "model_id": "7845accd214d42cca86e0910d718a7f3",
       "version_major": 2,
       "version_minor": 0
      },
      "text/plain": [
       "  0%|          | 0/1000 [00:00<?, ?it/s]"
      ]
     },
     "metadata": {},
     "output_type": "display_data"
    },
    {
     "name": "stdout",
     "output_type": "stream",
     "text": [
      "{'eval_loss': 1.0149412155151367, 'eval_rouge1': 0.14480009897790283, 'eval_rouge2': 0.03269451410637356, 'eval_rougeL': 0.10831880153043305, 'eval_rougeLsum': 0.10834321793945698, 'eval_runtime': 422.8828, 'eval_samples_per_second': 14.188, 'eval_steps_per_second': 2.365, 'epoch': 1.0}\n"
     ]
    },
    {
     "name": "stderr",
     "output_type": "stream",
     "text": [
      "[I 2024-05-18 17:16:34,877] Trial 0 finished with value: 0.39415663255416644 and parameters: {'learning_rate': 3.123124788665108e-05, 'num_train_epochs': 1, 'per_device_train_batch_size': 8, 'gradient_accumulation_steps': 2, 'per_device_eval_batch_size': 6, 'warmup_ratio': 0.15410749436440235}. Best is trial 0 with value: 0.39415663255416644.\n"
     ]
    },
    {
     "name": "stdout",
     "output_type": "stream",
     "text": [
      "{'train_runtime': 15640.5219, 'train_samples_per_second': 0.895, 'train_steps_per_second': 0.056, 'train_loss': 2.1202169015066965, 'epoch': 1.0}\n"
     ]
    },
    {
     "name": "stderr",
     "output_type": "stream",
     "text": [
      "c:\\Users\\Fede\\anaconda3\\envs\\tf\\lib\\site-packages\\accelerate\\accelerator.py:436: FutureWarning: Passing the following arguments to `Accelerator` is deprecated and will be removed in version 1.0 of Accelerate: dict_keys(['dispatch_batches', 'split_batches']). Please pass an `accelerate.DataLoaderConfiguration` instead: \n",
      "dataloader_config = DataLoaderConfiguration(dispatch_batches=None, split_batches=False)\n",
      "  warnings.warn(\n"
     ]
    },
    {
     "data": {
      "application/vnd.jupyter.widget-view+json": {
       "model_id": "cfdcf23a3d244500baedce6b49ee2ac8",
       "version_major": 2,
       "version_minor": 0
      },
      "text/plain": [
       "VBox(children=(Label(value='0.001 MB of 0.001 MB uploaded\\r'), FloatProgress(value=1.0, max=1.0)))"
      ]
     },
     "metadata": {},
     "output_type": "display_data"
    },
    {
     "data": {
      "text/html": [
       "<style>\n",
       "    table.wandb td:nth-child(1) { padding: 0 10px; text-align: left ; width: auto;} td:nth-child(2) {text-align: left ; width: 100%}\n",
       "    .wandb-row { display: flex; flex-direction: row; flex-wrap: wrap; justify-content: flex-start; width: 100% }\n",
       "    .wandb-col { display: flex; flex-direction: column; flex-basis: 100%; flex: 1; padding: 10px; }\n",
       "    </style>\n",
       "<div class=\"wandb-row\"><div class=\"wandb-col\"><h3>Run history:</h3><br/><table class=\"wandb\"><tr><td>eval/loss</td><td>▁</td></tr><tr><td>eval/rouge1</td><td>▁</td></tr><tr><td>eval/rouge2</td><td>▁</td></tr><tr><td>eval/rougeL</td><td>▁</td></tr><tr><td>eval/rougeLsum</td><td>▁</td></tr><tr><td>eval/runtime</td><td>▁</td></tr><tr><td>eval/samples_per_second</td><td>▁</td></tr><tr><td>eval/steps_per_second</td><td>▁</td></tr><tr><td>train/epoch</td><td>▁██</td></tr><tr><td>train/global_step</td><td>▁██</td></tr><tr><td>train/learning_rate</td><td>▁</td></tr><tr><td>train/loss</td><td>▁</td></tr><tr><td>train/total_flos</td><td>▁</td></tr><tr><td>train/train_loss</td><td>▁</td></tr><tr><td>train/train_runtime</td><td>▁</td></tr><tr><td>train/train_samples_per_second</td><td>▁</td></tr><tr><td>train/train_steps_per_second</td><td>▁</td></tr></table><br/></div><div class=\"wandb-col\"><h3>Run summary:</h3><br/><table class=\"wandb\"><tr><td>eval/loss</td><td>1.01494</td></tr><tr><td>eval/rouge1</td><td>0.1448</td></tr><tr><td>eval/rouge2</td><td>0.03269</td></tr><tr><td>eval/rougeL</td><td>0.10832</td></tr><tr><td>eval/rougeLsum</td><td>0.10834</td></tr><tr><td>eval/runtime</td><td>422.8828</td></tr><tr><td>eval/samples_per_second</td><td>14.188</td></tr><tr><td>eval/steps_per_second</td><td>2.365</td></tr><tr><td>train/epoch</td><td>1.0</td></tr><tr><td>train/global_step</td><td>875</td></tr><tr><td>train/learning_rate</td><td>2e-05</td></tr><tr><td>train/loss</td><td>2.9181</td></tr><tr><td>train/total_flos</td><td>1.590029543424e+16</td></tr><tr><td>train/train_loss</td><td>2.12022</td></tr><tr><td>train/train_runtime</td><td>15640.5219</td></tr><tr><td>train/train_samples_per_second</td><td>0.895</td></tr><tr><td>train/train_steps_per_second</td><td>0.056</td></tr></table><br/></div></div>"
      ],
      "text/plain": [
       "<IPython.core.display.HTML object>"
      ]
     },
     "metadata": {},
     "output_type": "display_data"
    },
    {
     "data": {
      "text/html": [
       " View run <strong style=\"color:#cdcd00\">vague-voice-75</strong> at: <a href='https://wandb.ai/fede-/huggingface/runs/ryetazqj' target=\"_blank\">https://wandb.ai/fede-/huggingface/runs/ryetazqj</a><br/> View project at: <a href='https://wandb.ai/fede-/huggingface' target=\"_blank\">https://wandb.ai/fede-/huggingface</a><br/>Synced 5 W&B file(s), 0 media file(s), 0 artifact file(s) and 0 other file(s)"
      ],
      "text/plain": [
       "<IPython.core.display.HTML object>"
      ]
     },
     "metadata": {},
     "output_type": "display_data"
    },
    {
     "data": {
      "text/html": [
       "Find logs at: <code>.\\wandb\\run-20240518_125556-ryetazqj\\logs</code>"
      ],
      "text/plain": [
       "<IPython.core.display.HTML object>"
      ]
     },
     "metadata": {},
     "output_type": "display_data"
    },
    {
     "data": {
      "text/html": [
       "wandb version 0.17.0 is available!  To upgrade, please run:\n",
       " $ pip install wandb --upgrade"
      ],
      "text/plain": [
       "<IPython.core.display.HTML object>"
      ]
     },
     "metadata": {},
     "output_type": "display_data"
    },
    {
     "data": {
      "text/html": [
       "Tracking run with wandb version 0.16.6"
      ],
      "text/plain": [
       "<IPython.core.display.HTML object>"
      ]
     },
     "metadata": {},
     "output_type": "display_data"
    },
    {
     "data": {
      "text/html": [
       "Run data is saved locally in <code>c:\\Users\\Fede\\Desktop\\Art\\Models_with_Trainer\\wandb\\run-20240518_171644-76cvrw3g</code>"
      ],
      "text/plain": [
       "<IPython.core.display.HTML object>"
      ]
     },
     "metadata": {},
     "output_type": "display_data"
    },
    {
     "data": {
      "text/html": [
       "Syncing run <strong><a href='https://wandb.ai/fede-/huggingface/runs/76cvrw3g' target=\"_blank\">glorious-monkey-76</a></strong> to <a href='https://wandb.ai/fede-/huggingface' target=\"_blank\">Weights & Biases</a> (<a href='https://wandb.me/run' target=\"_blank\">docs</a>)<br/>"
      ],
      "text/plain": [
       "<IPython.core.display.HTML object>"
      ]
     },
     "metadata": {},
     "output_type": "display_data"
    },
    {
     "data": {
      "text/html": [
       " View project at <a href='https://wandb.ai/fede-/huggingface' target=\"_blank\">https://wandb.ai/fede-/huggingface</a>"
      ],
      "text/plain": [
       "<IPython.core.display.HTML object>"
      ]
     },
     "metadata": {},
     "output_type": "display_data"
    },
    {
     "data": {
      "text/html": [
       " View run at <a href='https://wandb.ai/fede-/huggingface/runs/76cvrw3g' target=\"_blank\">https://wandb.ai/fede-/huggingface/runs/76cvrw3g</a>"
      ],
      "text/plain": [
       "<IPython.core.display.HTML object>"
      ]
     },
     "metadata": {},
     "output_type": "display_data"
    },
    {
     "data": {
      "application/vnd.jupyter.widget-view+json": {
       "model_id": "8ae3d85d5d974dc68ea02a8a4650e57f",
       "version_major": 2,
       "version_minor": 0
      },
      "text/plain": [
       "  0%|          | 0/583 [00:00<?, ?it/s]"
      ]
     },
     "metadata": {},
     "output_type": "display_data"
    },
    {
     "name": "stdout",
     "output_type": "stream",
     "text": [
      "{'loss': 4.0938, 'learning_rate': 2.9638946926369213e-06, 'epoch': 0.86}\n"
     ]
    },
    {
     "data": {
      "application/vnd.jupyter.widget-view+json": {
       "model_id": "13c63bbbd4764d92a71ee8eec4b058bd",
       "version_major": 2,
       "version_minor": 0
      },
      "text/plain": [
       "  0%|          | 0/750 [00:00<?, ?it/s]"
      ]
     },
     "metadata": {},
     "output_type": "display_data"
    },
    {
     "name": "stdout",
     "output_type": "stream",
     "text": [
      "{'eval_loss': 1.1967887878417969, 'eval_rouge1': 0.16133719599443022, 'eval_rouge2': 0.0322079564468032, 'eval_rougeL': 0.11975101810542069, 'eval_rougeLsum': 0.11976626395084955, 'eval_runtime': 442.3169, 'eval_samples_per_second': 13.565, 'eval_steps_per_second': 1.696, 'epoch': 1.0}\n"
     ]
    },
    {
     "name": "stderr",
     "output_type": "stream",
     "text": [
      "[I 2024-05-18 17:42:24,494] Trial 1 finished with value: 0.4330624344975037 and parameters: {'learning_rate': 1.5212278783895523e-05, 'num_train_epochs': 1, 'per_device_train_batch_size': 6, 'gradient_accumulation_steps': 4, 'per_device_eval_batch_size': 8, 'warmup_ratio': 0.2678202115706211}. Best is trial 1 with value: 0.4330624344975037.\n"
     ]
    },
    {
     "name": "stdout",
     "output_type": "stream",
     "text": [
      "{'train_runtime': 1545.7693, 'train_samples_per_second': 9.057, 'train_steps_per_second': 0.377, 'train_loss': 3.686843466390672, 'epoch': 1.0}\n"
     ]
    },
    {
     "name": "stderr",
     "output_type": "stream",
     "text": [
      "c:\\Users\\Fede\\anaconda3\\envs\\tf\\lib\\site-packages\\accelerate\\accelerator.py:436: FutureWarning: Passing the following arguments to `Accelerator` is deprecated and will be removed in version 1.0 of Accelerate: dict_keys(['dispatch_batches', 'split_batches']). Please pass an `accelerate.DataLoaderConfiguration` instead: \n",
      "dataloader_config = DataLoaderConfiguration(dispatch_batches=None, split_batches=False)\n",
      "  warnings.warn(\n"
     ]
    },
    {
     "data": {
      "application/vnd.jupyter.widget-view+json": {
       "model_id": "510e65e57af44144a9f6d381b4258c26",
       "version_major": 2,
       "version_minor": 0
      },
      "text/plain": [
       "VBox(children=(Label(value='0.001 MB of 0.001 MB uploaded\\r'), FloatProgress(value=1.0, max=1.0)))"
      ]
     },
     "metadata": {},
     "output_type": "display_data"
    },
    {
     "data": {
      "text/html": [
       "<style>\n",
       "    table.wandb td:nth-child(1) { padding: 0 10px; text-align: left ; width: auto;} td:nth-child(2) {text-align: left ; width: 100%}\n",
       "    .wandb-row { display: flex; flex-direction: row; flex-wrap: wrap; justify-content: flex-start; width: 100% }\n",
       "    .wandb-col { display: flex; flex-direction: column; flex-basis: 100%; flex: 1; padding: 10px; }\n",
       "    </style>\n",
       "<div class=\"wandb-row\"><div class=\"wandb-col\"><h3>Run history:</h3><br/><table class=\"wandb\"><tr><td>eval/loss</td><td>▁</td></tr><tr><td>eval/rouge1</td><td>▁</td></tr><tr><td>eval/rouge2</td><td>▁</td></tr><tr><td>eval/rougeL</td><td>▁</td></tr><tr><td>eval/rougeLsum</td><td>▁</td></tr><tr><td>eval/runtime</td><td>▁</td></tr><tr><td>eval/samples_per_second</td><td>▁</td></tr><tr><td>eval/steps_per_second</td><td>▁</td></tr><tr><td>train/epoch</td><td>▁██</td></tr><tr><td>train/global_step</td><td>▁██</td></tr><tr><td>train/learning_rate</td><td>▁</td></tr><tr><td>train/loss</td><td>▁</td></tr><tr><td>train/total_flos</td><td>▁</td></tr><tr><td>train/train_loss</td><td>▁</td></tr><tr><td>train/train_runtime</td><td>▁</td></tr><tr><td>train/train_samples_per_second</td><td>▁</td></tr><tr><td>train/train_steps_per_second</td><td>▁</td></tr></table><br/></div><div class=\"wandb-col\"><h3>Run summary:</h3><br/><table class=\"wandb\"><tr><td>eval/loss</td><td>1.19679</td></tr><tr><td>eval/rouge1</td><td>0.16134</td></tr><tr><td>eval/rouge2</td><td>0.03221</td></tr><tr><td>eval/rougeL</td><td>0.11975</td></tr><tr><td>eval/rougeLsum</td><td>0.11977</td></tr><tr><td>eval/runtime</td><td>442.3169</td></tr><tr><td>eval/samples_per_second</td><td>13.565</td></tr><tr><td>eval/steps_per_second</td><td>1.696</td></tr><tr><td>train/epoch</td><td>1.0</td></tr><tr><td>train/global_step</td><td>583</td></tr><tr><td>train/learning_rate</td><td>0.0</td></tr><tr><td>train/loss</td><td>4.0938</td></tr><tr><td>train/total_flos</td><td>1.589120955113472e+16</td></tr><tr><td>train/train_loss</td><td>3.68684</td></tr><tr><td>train/train_runtime</td><td>1545.7693</td></tr><tr><td>train/train_samples_per_second</td><td>9.057</td></tr><tr><td>train/train_steps_per_second</td><td>0.377</td></tr></table><br/></div></div>"
      ],
      "text/plain": [
       "<IPython.core.display.HTML object>"
      ]
     },
     "metadata": {},
     "output_type": "display_data"
    },
    {
     "data": {
      "text/html": [
       " View run <strong style=\"color:#cdcd00\">glorious-monkey-76</strong> at: <a href='https://wandb.ai/fede-/huggingface/runs/76cvrw3g' target=\"_blank\">https://wandb.ai/fede-/huggingface/runs/76cvrw3g</a><br/> View project at: <a href='https://wandb.ai/fede-/huggingface' target=\"_blank\">https://wandb.ai/fede-/huggingface</a><br/>Synced 5 W&B file(s), 0 media file(s), 0 artifact file(s) and 0 other file(s)"
      ],
      "text/plain": [
       "<IPython.core.display.HTML object>"
      ]
     },
     "metadata": {},
     "output_type": "display_data"
    },
    {
     "data": {
      "text/html": [
       "Find logs at: <code>.\\wandb\\run-20240518_171644-76cvrw3g\\logs</code>"
      ],
      "text/plain": [
       "<IPython.core.display.HTML object>"
      ]
     },
     "metadata": {},
     "output_type": "display_data"
    },
    {
     "data": {
      "application/vnd.jupyter.widget-view+json": {
       "model_id": "d368487703bb4394a3cb2445bd0c1ddc",
       "version_major": 2,
       "version_minor": 0
      },
      "text/plain": [
       "VBox(children=(Label(value='Waiting for wandb.init()...\\r'), FloatProgress(value=0.011111111111111112, max=1.0…"
      ]
     },
     "metadata": {},
     "output_type": "display_data"
    },
    {
     "data": {
      "text/html": [
       "wandb version 0.17.0 is available!  To upgrade, please run:\n",
       " $ pip install wandb --upgrade"
      ],
      "text/plain": [
       "<IPython.core.display.HTML object>"
      ]
     },
     "metadata": {},
     "output_type": "display_data"
    },
    {
     "data": {
      "text/html": [
       "Tracking run with wandb version 0.16.6"
      ],
      "text/plain": [
       "<IPython.core.display.HTML object>"
      ]
     },
     "metadata": {},
     "output_type": "display_data"
    },
    {
     "data": {
      "text/html": [
       "Run data is saved locally in <code>c:\\Users\\Fede\\Desktop\\Art\\Models_with_Trainer\\wandb\\run-20240518_174234-or0x3rt9</code>"
      ],
      "text/plain": [
       "<IPython.core.display.HTML object>"
      ]
     },
     "metadata": {},
     "output_type": "display_data"
    },
    {
     "data": {
      "text/html": [
       "Syncing run <strong><a href='https://wandb.ai/fede-/huggingface/runs/or0x3rt9' target=\"_blank\">different-mountain-77</a></strong> to <a href='https://wandb.ai/fede-/huggingface' target=\"_blank\">Weights & Biases</a> (<a href='https://wandb.me/run' target=\"_blank\">docs</a>)<br/>"
      ],
      "text/plain": [
       "<IPython.core.display.HTML object>"
      ]
     },
     "metadata": {},
     "output_type": "display_data"
    },
    {
     "data": {
      "text/html": [
       " View project at <a href='https://wandb.ai/fede-/huggingface' target=\"_blank\">https://wandb.ai/fede-/huggingface</a>"
      ],
      "text/plain": [
       "<IPython.core.display.HTML object>"
      ]
     },
     "metadata": {},
     "output_type": "display_data"
    },
    {
     "data": {
      "text/html": [
       " View run at <a href='https://wandb.ai/fede-/huggingface/runs/or0x3rt9' target=\"_blank\">https://wandb.ai/fede-/huggingface/runs/or0x3rt9</a>"
      ],
      "text/plain": [
       "<IPython.core.display.HTML object>"
      ]
     },
     "metadata": {},
     "output_type": "display_data"
    },
    {
     "data": {
      "application/vnd.jupyter.widget-view+json": {
       "model_id": "f0f834afd2fb4653b123c1a6522239ca",
       "version_major": 2,
       "version_minor": 0
      },
      "text/plain": [
       "  0%|          | 0/3112 [00:00<?, ?it/s]"
      ]
     },
     "metadata": {},
     "output_type": "display_data"
    },
    {
     "name": "stdout",
     "output_type": "stream",
     "text": [
      "{'loss': 4.9409, 'learning_rate': 2.009455896140849e-05, 'epoch': 0.64}\n"
     ]
    },
    {
     "data": {
      "application/vnd.jupyter.widget-view+json": {
       "model_id": "ad8b62267c7343c3834636f7109c4f75",
       "version_major": 2,
       "version_minor": 0
      },
      "text/plain": [
       "  0%|          | 0/750 [00:00<?, ?it/s]"
      ]
     },
     "metadata": {},
     "output_type": "display_data"
    },
    {
     "name": "stdout",
     "output_type": "stream",
     "text": [
      "{'eval_loss': 1.0332151651382446, 'eval_rouge1': 0.15905015739329237, 'eval_rouge2': 0.035062297429192466, 'eval_rougeL': 0.11806873526176065, 'eval_rougeLsum': 0.11809625373999522, 'eval_runtime': 997.5284, 'eval_samples_per_second': 6.015, 'eval_steps_per_second': 0.752, 'epoch': 1.0}\n",
      "{'loss': 1.0683, 'learning_rate': 1.6247974167877004e-05, 'epoch': 1.29}\n",
      "{'loss': 0.9932, 'learning_rate': 1.2401389374345514e-05, 'epoch': 1.93}\n"
     ]
    },
    {
     "data": {
      "application/vnd.jupyter.widget-view+json": {
       "model_id": "cacbcd79941b45a788aaddbf39c7c46d",
       "version_major": 2,
       "version_minor": 0
      },
      "text/plain": [
       "  0%|          | 0/750 [00:00<?, ?it/s]"
      ]
     },
     "metadata": {},
     "output_type": "display_data"
    },
    {
     "name": "stdout",
     "output_type": "stream",
     "text": [
      "{'eval_loss': 0.9683454036712646, 'eval_rouge1': 0.1555260801967826, 'eval_rouge2': 0.03646926933960203, 'eval_rougeL': 0.11474830486501428, 'eval_rougeLsum': 0.11479040283771375, 'eval_runtime': 627.9916, 'eval_samples_per_second': 9.554, 'eval_steps_per_second': 1.194, 'epoch': 2.0}\n",
      "{'loss': 0.9422, 'learning_rate': 8.554804580814027e-06, 'epoch': 2.57}\n"
     ]
    },
    {
     "data": {
      "application/vnd.jupyter.widget-view+json": {
       "model_id": "22bc96038fd34f3a801a17bb0bbd2e9d",
       "version_major": 2,
       "version_minor": 0
      },
      "text/plain": [
       "  0%|          | 0/750 [00:00<?, ?it/s]"
      ]
     },
     "metadata": {},
     "output_type": "display_data"
    },
    {
     "name": "stdout",
     "output_type": "stream",
     "text": [
      "{'eval_loss': 0.9447664618492126, 'eval_rouge1': 0.15743047128960747, 'eval_rouge2': 0.03788004269422238, 'eval_rougeL': 0.1156754683696013, 'eval_rougeLsum': 0.11569273954667986, 'eval_runtime': 645.5592, 'eval_samples_per_second': 9.294, 'eval_steps_per_second': 1.162, 'epoch': 3.0}\n",
      "{'loss': 0.9249, 'learning_rate': 4.7082197872825405e-06, 'epoch': 3.21}\n",
      "{'loss': 0.8942, 'learning_rate': 8.616349937510532e-07, 'epoch': 3.86}\n"
     ]
    },
    {
     "data": {
      "application/vnd.jupyter.widget-view+json": {
       "model_id": "162aeeb86a924ec288fc43e4cd8b9f81",
       "version_major": 2,
       "version_minor": 0
      },
      "text/plain": [
       "  0%|          | 0/750 [00:00<?, ?it/s]"
      ]
     },
     "metadata": {},
     "output_type": "display_data"
    },
    {
     "name": "stdout",
     "output_type": "stream",
     "text": [
      "{'eval_loss': 0.9390530586242676, 'eval_rouge1': 0.16129048231335344, 'eval_rouge2': 0.039010531365613034, 'eval_rougeL': 0.11860916679041592, 'eval_rougeLsum': 0.11865298613169362, 'eval_runtime': 650.3858, 'eval_samples_per_second': 9.225, 'eval_steps_per_second': 1.153, 'epoch': 4.0}\n"
     ]
    },
    {
     "name": "stderr",
     "output_type": "stream",
     "text": [
      "[I 2024-05-18 22:12:03,948] Trial 2 finished with value: 0.43756316660107597 and parameters: {'learning_rate': 2.0494603779935764e-05, 'num_train_epochs': 4, 'per_device_train_batch_size': 6, 'gradient_accumulation_steps': 3, 'per_device_eval_batch_size': 8, 'warmup_ratio': 0.14388112172513454}. Best is trial 2 with value: 0.43756316660107597.\n"
     ]
    },
    {
     "name": "stdout",
     "output_type": "stream",
     "text": [
      "{'train_runtime': 16175.9388, 'train_samples_per_second': 3.462, 'train_steps_per_second': 0.192, 'train_loss': 1.6036660236074256, 'epoch': 4.0}\n"
     ]
    },
    {
     "name": "stderr",
     "output_type": "stream",
     "text": [
      "c:\\Users\\Fede\\anaconda3\\envs\\tf\\lib\\site-packages\\accelerate\\accelerator.py:436: FutureWarning: Passing the following arguments to `Accelerator` is deprecated and will be removed in version 1.0 of Accelerate: dict_keys(['dispatch_batches', 'split_batches']). Please pass an `accelerate.DataLoaderConfiguration` instead: \n",
      "dataloader_config = DataLoaderConfiguration(dispatch_batches=None, split_batches=False)\n",
      "  warnings.warn(\n"
     ]
    },
    {
     "data": {
      "application/vnd.jupyter.widget-view+json": {
       "model_id": "82c3d051a48f46b7bc408bb9c49f12c1",
       "version_major": 2,
       "version_minor": 0
      },
      "text/plain": [
       "VBox(children=(Label(value='0.001 MB of 0.001 MB uploaded\\r'), FloatProgress(value=1.0, max=1.0)))"
      ]
     },
     "metadata": {},
     "output_type": "display_data"
    },
    {
     "data": {
      "text/html": [
       "<style>\n",
       "    table.wandb td:nth-child(1) { padding: 0 10px; text-align: left ; width: auto;} td:nth-child(2) {text-align: left ; width: 100%}\n",
       "    .wandb-row { display: flex; flex-direction: row; flex-wrap: wrap; justify-content: flex-start; width: 100% }\n",
       "    .wandb-col { display: flex; flex-direction: column; flex-basis: 100%; flex: 1; padding: 10px; }\n",
       "    </style>\n",
       "<div class=\"wandb-row\"><div class=\"wandb-col\"><h3>Run history:</h3><br/><table class=\"wandb\"><tr><td>eval/loss</td><td>█▃▁▁</td></tr><tr><td>eval/rouge1</td><td>▅▁▃█</td></tr><tr><td>eval/rouge2</td><td>▁▃▆█</td></tr><tr><td>eval/rougeL</td><td>▇▁▃█</td></tr><tr><td>eval/rougeLsum</td><td>▇▁▃█</td></tr><tr><td>eval/runtime</td><td>█▁▁▁</td></tr><tr><td>eval/samples_per_second</td><td>▁█▇▇</td></tr><tr><td>eval/steps_per_second</td><td>▁█▇▇</td></tr><tr><td>train/epoch</td><td>▁▂▂▄▄▅▆▆███</td></tr><tr><td>train/global_step</td><td>▁▂▂▄▄▅▆▆███</td></tr><tr><td>train/learning_rate</td><td>█▇▅▄▂▁</td></tr><tr><td>train/loss</td><td>█▁▁▁▁▁</td></tr><tr><td>train/total_flos</td><td>▁</td></tr><tr><td>train/train_loss</td><td>▁</td></tr><tr><td>train/train_runtime</td><td>▁</td></tr><tr><td>train/train_samples_per_second</td><td>▁</td></tr><tr><td>train/train_steps_per_second</td><td>▁</td></tr></table><br/></div><div class=\"wandb-col\"><h3>Run summary:</h3><br/><table class=\"wandb\"><tr><td>eval/loss</td><td>0.93905</td></tr><tr><td>eval/rouge1</td><td>0.16129</td></tr><tr><td>eval/rouge2</td><td>0.03901</td></tr><tr><td>eval/rougeL</td><td>0.11861</td></tr><tr><td>eval/rougeLsum</td><td>0.11865</td></tr><tr><td>eval/runtime</td><td>650.3858</td></tr><tr><td>eval/samples_per_second</td><td>9.225</td></tr><tr><td>eval/steps_per_second</td><td>1.153</td></tr><tr><td>train/epoch</td><td>4.0</td></tr><tr><td>train/global_step</td><td>3112</td></tr><tr><td>train/learning_rate</td><td>0.0</td></tr><tr><td>train/loss</td><td>0.8942</td></tr><tr><td>train/total_flos</td><td>6.360118173696e+16</td></tr><tr><td>train/train_loss</td><td>1.60367</td></tr><tr><td>train/train_runtime</td><td>16175.9388</td></tr><tr><td>train/train_samples_per_second</td><td>3.462</td></tr><tr><td>train/train_steps_per_second</td><td>0.192</td></tr></table><br/></div></div>"
      ],
      "text/plain": [
       "<IPython.core.display.HTML object>"
      ]
     },
     "metadata": {},
     "output_type": "display_data"
    },
    {
     "data": {
      "text/html": [
       " View run <strong style=\"color:#cdcd00\">different-mountain-77</strong> at: <a href='https://wandb.ai/fede-/huggingface/runs/or0x3rt9' target=\"_blank\">https://wandb.ai/fede-/huggingface/runs/or0x3rt9</a><br/> View project at: <a href='https://wandb.ai/fede-/huggingface' target=\"_blank\">https://wandb.ai/fede-/huggingface</a><br/>Synced 5 W&B file(s), 0 media file(s), 0 artifact file(s) and 0 other file(s)"
      ],
      "text/plain": [
       "<IPython.core.display.HTML object>"
      ]
     },
     "metadata": {},
     "output_type": "display_data"
    },
    {
     "data": {
      "text/html": [
       "Find logs at: <code>.\\wandb\\run-20240518_174234-or0x3rt9\\logs</code>"
      ],
      "text/plain": [
       "<IPython.core.display.HTML object>"
      ]
     },
     "metadata": {},
     "output_type": "display_data"
    },
    {
     "data": {
      "application/vnd.jupyter.widget-view+json": {
       "model_id": "256faf353a594c1d97a5bd570124295f",
       "version_major": 2,
       "version_minor": 0
      },
      "text/plain": [
       "VBox(children=(Label(value='Waiting for wandb.init()...\\r'), FloatProgress(value=0.011277777777932999, max=1.0…"
      ]
     },
     "metadata": {},
     "output_type": "display_data"
    },
    {
     "data": {
      "text/html": [
       "wandb version 0.17.0 is available!  To upgrade, please run:\n",
       " $ pip install wandb --upgrade"
      ],
      "text/plain": [
       "<IPython.core.display.HTML object>"
      ]
     },
     "metadata": {},
     "output_type": "display_data"
    },
    {
     "data": {
      "text/html": [
       "Tracking run with wandb version 0.16.6"
      ],
      "text/plain": [
       "<IPython.core.display.HTML object>"
      ]
     },
     "metadata": {},
     "output_type": "display_data"
    },
    {
     "data": {
      "text/html": [
       "Run data is saved locally in <code>c:\\Users\\Fede\\Desktop\\Art\\Models_with_Trainer\\wandb\\run-20240518_221214-wy10lvut</code>"
      ],
      "text/plain": [
       "<IPython.core.display.HTML object>"
      ]
     },
     "metadata": {},
     "output_type": "display_data"
    },
    {
     "data": {
      "text/html": [
       "Syncing run <strong><a href='https://wandb.ai/fede-/huggingface/runs/wy10lvut' target=\"_blank\">young-music-78</a></strong> to <a href='https://wandb.ai/fede-/huggingface' target=\"_blank\">Weights & Biases</a> (<a href='https://wandb.me/run' target=\"_blank\">docs</a>)<br/>"
      ],
      "text/plain": [
       "<IPython.core.display.HTML object>"
      ]
     },
     "metadata": {},
     "output_type": "display_data"
    },
    {
     "data": {
      "text/html": [
       " View project at <a href='https://wandb.ai/fede-/huggingface' target=\"_blank\">https://wandb.ai/fede-/huggingface</a>"
      ],
      "text/plain": [
       "<IPython.core.display.HTML object>"
      ]
     },
     "metadata": {},
     "output_type": "display_data"
    },
    {
     "data": {
      "text/html": [
       " View run at <a href='https://wandb.ai/fede-/huggingface/runs/wy10lvut' target=\"_blank\">https://wandb.ai/fede-/huggingface/runs/wy10lvut</a>"
      ],
      "text/plain": [
       "<IPython.core.display.HTML object>"
      ]
     },
     "metadata": {},
     "output_type": "display_data"
    },
    {
     "data": {
      "application/vnd.jupyter.widget-view+json": {
       "model_id": "322c445f05da40008bff3f23bc9968af",
       "version_major": 2,
       "version_minor": 0
      },
      "text/plain": [
       "  0%|          | 0/3500 [00:00<?, ?it/s]"
      ]
     },
     "metadata": {},
     "output_type": "display_data"
    },
    {
     "name": "stdout",
     "output_type": "stream",
     "text": [
      "{'loss': 5.1459, 'learning_rate': 2.1280577363784108e-05, 'epoch': 0.29}\n",
      "{'loss': 1.1183, 'learning_rate': 3.509031373815465e-05, 'epoch': 0.57}\n",
      "{'loss': 1.0559, 'learning_rate': 2.8072250990523722e-05, 'epoch': 0.86}\n"
     ]
    },
    {
     "data": {
      "application/vnd.jupyter.widget-view+json": {
       "model_id": "9963469ff0e74206940798063f177990",
       "version_major": 2,
       "version_minor": 0
      },
      "text/plain": [
       "  0%|          | 0/1000 [00:00<?, ?it/s]"
      ]
     },
     "metadata": {},
     "output_type": "display_data"
    },
    {
     "name": "stdout",
     "output_type": "stream",
     "text": [
      "{'eval_loss': 0.9847855567932129, 'eval_rouge1': 0.14659807525088267, 'eval_rouge2': 0.03341504849029496, 'eval_rougeL': 0.10951935296080414, 'eval_rougeLsum': 0.10953906330638549, 'eval_runtime': 704.9506, 'eval_samples_per_second': 8.511, 'eval_steps_per_second': 1.419, 'epoch': 1.0}\n",
      "{'loss': 0.9895, 'learning_rate': 2.1054188242892792e-05, 'epoch': 1.14}\n",
      "{'loss': 0.9434, 'learning_rate': 1.4036125495261861e-05, 'epoch': 1.43}\n",
      "{'loss': 0.9636, 'learning_rate': 7.0180627476309305e-06, 'epoch': 1.71}\n",
      "{'loss': 0.9112, 'learning_rate': 0.0, 'epoch': 2.0}\n"
     ]
    },
    {
     "data": {
      "application/vnd.jupyter.widget-view+json": {
       "model_id": "dacc9d56709149819eb7f416424d6e1b",
       "version_major": 2,
       "version_minor": 0
      },
      "text/plain": [
       "  0%|          | 0/1000 [00:00<?, ?it/s]"
      ]
     },
     "metadata": {},
     "output_type": "display_data"
    },
    {
     "name": "stdout",
     "output_type": "stream",
     "text": [
      "{'eval_loss': 0.9407439827919006, 'eval_rouge1': 0.15179529186411866, 'eval_rouge2': 0.036446838740063464, 'eval_rougeL': 0.11404352122268324, 'eval_rougeLsum': 0.11410605096828719, 'eval_runtime': 713.0659, 'eval_samples_per_second': 8.414, 'eval_steps_per_second': 1.402, 'epoch': 2.0}\n"
     ]
    },
    {
     "name": "stderr",
     "output_type": "stream",
     "text": [
      "[I 2024-05-19 01:50:21,625] Trial 3 finished with value: 0.4163917027951526 and parameters: {'learning_rate': 3.6943082303529215e-05, 'num_train_epochs': 2, 'per_device_train_batch_size': 8, 'gradient_accumulation_steps': 1, 'per_device_eval_batch_size': 6, 'warmup_ratio': 0.24798173778566537}. Best is trial 2 with value: 0.43756316660107597.\n"
     ]
    },
    {
     "name": "stdout",
     "output_type": "stream",
     "text": [
      "{'train_runtime': 13094.3228, 'train_samples_per_second': 2.138, 'train_steps_per_second': 0.267, 'train_loss': 1.5896890433175224, 'epoch': 2.0}\n"
     ]
    },
    {
     "name": "stderr",
     "output_type": "stream",
     "text": [
      "c:\\Users\\Fede\\anaconda3\\envs\\tf\\lib\\site-packages\\accelerate\\accelerator.py:436: FutureWarning: Passing the following arguments to `Accelerator` is deprecated and will be removed in version 1.0 of Accelerate: dict_keys(['dispatch_batches', 'split_batches']). Please pass an `accelerate.DataLoaderConfiguration` instead: \n",
      "dataloader_config = DataLoaderConfiguration(dispatch_batches=None, split_batches=False)\n",
      "  warnings.warn(\n"
     ]
    },
    {
     "data": {
      "application/vnd.jupyter.widget-view+json": {
       "model_id": "3ed07fb0653b4eeb9a826981a9ebdd2a",
       "version_major": 2,
       "version_minor": 0
      },
      "text/plain": [
       "VBox(children=(Label(value='0.001 MB of 0.001 MB uploaded\\r'), FloatProgress(value=1.0, max=1.0)))"
      ]
     },
     "metadata": {},
     "output_type": "display_data"
    },
    {
     "data": {
      "text/html": [
       "<style>\n",
       "    table.wandb td:nth-child(1) { padding: 0 10px; text-align: left ; width: auto;} td:nth-child(2) {text-align: left ; width: 100%}\n",
       "    .wandb-row { display: flex; flex-direction: row; flex-wrap: wrap; justify-content: flex-start; width: 100% }\n",
       "    .wandb-col { display: flex; flex-direction: column; flex-basis: 100%; flex: 1; padding: 10px; }\n",
       "    </style>\n",
       "<div class=\"wandb-row\"><div class=\"wandb-col\"><h3>Run history:</h3><br/><table class=\"wandb\"><tr><td>eval/loss</td><td>█▁</td></tr><tr><td>eval/rouge1</td><td>▁█</td></tr><tr><td>eval/rouge2</td><td>▁█</td></tr><tr><td>eval/rougeL</td><td>▁█</td></tr><tr><td>eval/rougeLsum</td><td>▁█</td></tr><tr><td>eval/runtime</td><td>▁█</td></tr><tr><td>eval/samples_per_second</td><td>█▁</td></tr><tr><td>eval/steps_per_second</td><td>█▁</td></tr><tr><td>train/epoch</td><td>▁▂▃▄▄▆▇███</td></tr><tr><td>train/global_step</td><td>▁▂▃▄▅▆▇███</td></tr><tr><td>train/learning_rate</td><td>▅█▇▅▄▂▁</td></tr><tr><td>train/loss</td><td>█▁▁▁▁▁▁</td></tr><tr><td>train/total_flos</td><td>▁</td></tr><tr><td>train/train_loss</td><td>▁</td></tr><tr><td>train/train_runtime</td><td>▁</td></tr><tr><td>train/train_samples_per_second</td><td>▁</td></tr><tr><td>train/train_steps_per_second</td><td>▁</td></tr></table><br/></div><div class=\"wandb-col\"><h3>Run summary:</h3><br/><table class=\"wandb\"><tr><td>eval/loss</td><td>0.94074</td></tr><tr><td>eval/rouge1</td><td>0.1518</td></tr><tr><td>eval/rouge2</td><td>0.03645</td></tr><tr><td>eval/rougeL</td><td>0.11404</td></tr><tr><td>eval/rougeLsum</td><td>0.11411</td></tr><tr><td>eval/runtime</td><td>713.0659</td></tr><tr><td>eval/samples_per_second</td><td>8.414</td></tr><tr><td>eval/steps_per_second</td><td>1.402</td></tr><tr><td>train/epoch</td><td>2.0</td></tr><tr><td>train/global_step</td><td>3500</td></tr><tr><td>train/learning_rate</td><td>0.0</td></tr><tr><td>train/loss</td><td>0.9112</td></tr><tr><td>train/total_flos</td><td>3.180059086848e+16</td></tr><tr><td>train/train_loss</td><td>1.58969</td></tr><tr><td>train/train_runtime</td><td>13094.3228</td></tr><tr><td>train/train_samples_per_second</td><td>2.138</td></tr><tr><td>train/train_steps_per_second</td><td>0.267</td></tr></table><br/></div></div>"
      ],
      "text/plain": [
       "<IPython.core.display.HTML object>"
      ]
     },
     "metadata": {},
     "output_type": "display_data"
    },
    {
     "data": {
      "text/html": [
       " View run <strong style=\"color:#cdcd00\">young-music-78</strong> at: <a href='https://wandb.ai/fede-/huggingface/runs/wy10lvut' target=\"_blank\">https://wandb.ai/fede-/huggingface/runs/wy10lvut</a><br/> View project at: <a href='https://wandb.ai/fede-/huggingface' target=\"_blank\">https://wandb.ai/fede-/huggingface</a><br/>Synced 5 W&B file(s), 0 media file(s), 0 artifact file(s) and 0 other file(s)"
      ],
      "text/plain": [
       "<IPython.core.display.HTML object>"
      ]
     },
     "metadata": {},
     "output_type": "display_data"
    },
    {
     "data": {
      "text/html": [
       "Find logs at: <code>.\\wandb\\run-20240518_221214-wy10lvut\\logs</code>"
      ],
      "text/plain": [
       "<IPython.core.display.HTML object>"
      ]
     },
     "metadata": {},
     "output_type": "display_data"
    },
    {
     "data": {
      "application/vnd.jupyter.widget-view+json": {
       "model_id": "5c0debb05b7748d3b1fd1e8a90bf1448",
       "version_major": 2,
       "version_minor": 0
      },
      "text/plain": [
       "VBox(children=(Label(value='Waiting for wandb.init()...\\r'), FloatProgress(value=0.011111111111111112, max=1.0…"
      ]
     },
     "metadata": {},
     "output_type": "display_data"
    },
    {
     "data": {
      "text/html": [
       "wandb version 0.17.0 is available!  To upgrade, please run:\n",
       " $ pip install wandb --upgrade"
      ],
      "text/plain": [
       "<IPython.core.display.HTML object>"
      ]
     },
     "metadata": {},
     "output_type": "display_data"
    },
    {
     "data": {
      "text/html": [
       "Tracking run with wandb version 0.16.6"
      ],
      "text/plain": [
       "<IPython.core.display.HTML object>"
      ]
     },
     "metadata": {},
     "output_type": "display_data"
    },
    {
     "data": {
      "text/html": [
       "Run data is saved locally in <code>c:\\Users\\Fede\\Desktop\\Art\\Models_with_Trainer\\wandb\\run-20240519_015032-n8e1xglt</code>"
      ],
      "text/plain": [
       "<IPython.core.display.HTML object>"
      ]
     },
     "metadata": {},
     "output_type": "display_data"
    },
    {
     "data": {
      "text/html": [
       "Syncing run <strong><a href='https://wandb.ai/fede-/huggingface/runs/n8e1xglt' target=\"_blank\">olive-durian-79</a></strong> to <a href='https://wandb.ai/fede-/huggingface' target=\"_blank\">Weights & Biases</a> (<a href='https://wandb.me/run' target=\"_blank\">docs</a>)<br/>"
      ],
      "text/plain": [
       "<IPython.core.display.HTML object>"
      ]
     },
     "metadata": {},
     "output_type": "display_data"
    },
    {
     "data": {
      "text/html": [
       " View project at <a href='https://wandb.ai/fede-/huggingface' target=\"_blank\">https://wandb.ai/fede-/huggingface</a>"
      ],
      "text/plain": [
       "<IPython.core.display.HTML object>"
      ]
     },
     "metadata": {},
     "output_type": "display_data"
    },
    {
     "data": {
      "text/html": [
       " View run at <a href='https://wandb.ai/fede-/huggingface/runs/n8e1xglt' target=\"_blank\">https://wandb.ai/fede-/huggingface/runs/n8e1xglt</a>"
      ],
      "text/plain": [
       "<IPython.core.display.HTML object>"
      ]
     },
     "metadata": {},
     "output_type": "display_data"
    },
    {
     "data": {
      "application/vnd.jupyter.widget-view+json": {
       "model_id": "3e6029af7bd84ce4adfc6ac09d9c5829",
       "version_major": 2,
       "version_minor": 0
      },
      "text/plain": [
       "  0%|          | 0/4668 [00:00<?, ?it/s]"
      ]
     },
     "metadata": {},
     "output_type": "display_data"
    },
    {
     "name": "stdout",
     "output_type": "stream",
     "text": [
      "{'loss': 4.5954, 'learning_rate': 2.8818254926945633e-05, 'epoch': 0.43}\n",
      "{'loss': 1.0777, 'learning_rate': 3.989186201801839e-05, 'epoch': 0.86}\n"
     ]
    },
    {
     "data": {
      "application/vnd.jupyter.widget-view+json": {
       "model_id": "631428ae0b3244aa8d146508b1ca894c",
       "version_major": 2,
       "version_minor": 0
      },
      "text/plain": [
       "  0%|          | 0/1000 [00:00<?, ?it/s]"
      ]
     },
     "metadata": {},
     "output_type": "display_data"
    },
    {
     "name": "stdout",
     "output_type": "stream",
     "text": [
      "{'eval_loss': 0.9959990382194519, 'eval_rouge1': 0.14433088125857324, 'eval_rouge2': 0.03248034169822164, 'eval_rougeL': 0.1080458169936339, 'eval_rougeLsum': 0.10809176214295618, 'eval_runtime': 753.0145, 'eval_samples_per_second': 7.968, 'eval_steps_per_second': 1.328, 'epoch': 1.0}\n",
      "{'loss': 0.9892, 'learning_rate': 3.445404004173453e-05, 'epoch': 1.29}\n",
      "{'loss': 0.9622, 'learning_rate': 2.901621806545067e-05, 'epoch': 1.71}\n"
     ]
    },
    {
     "data": {
      "application/vnd.jupyter.widget-view+json": {
       "model_id": "9eec02bb35ca4eedb22f84a671ee4fbf",
       "version_major": 2,
       "version_minor": 0
      },
      "text/plain": [
       "  0%|          | 0/1000 [00:00<?, ?it/s]"
      ]
     },
     "metadata": {},
     "output_type": "display_data"
    },
    {
     "name": "stdout",
     "output_type": "stream",
     "text": [
      "{'eval_loss': 0.9353002309799194, 'eval_rouge1': 0.14627526249085665, 'eval_rouge2': 0.0347174816672096, 'eval_rougeL': 0.1104509546556104, 'eval_rougeLsum': 0.11049679408796301, 'eval_runtime': 757.3801, 'eval_samples_per_second': 7.922, 'eval_steps_per_second': 1.32, 'epoch': 2.0}\n",
      "{'loss': 0.9023, 'learning_rate': 2.3578396089166813e-05, 'epoch': 2.14}\n",
      "{'loss': 0.8827, 'learning_rate': 1.8140574112882952e-05, 'epoch': 2.57}\n",
      "{'loss': 0.8856, 'learning_rate': 1.2702752136599093e-05, 'epoch': 3.0}\n"
     ]
    },
    {
     "data": {
      "application/vnd.jupyter.widget-view+json": {
       "model_id": "e06c829534f642ef9f72ae59fd17a8bd",
       "version_major": 2,
       "version_minor": 0
      },
      "text/plain": [
       "  0%|          | 0/1000 [00:00<?, ?it/s]"
      ]
     },
     "metadata": {},
     "output_type": "display_data"
    },
    {
     "name": "stdout",
     "output_type": "stream",
     "text": [
      "{'eval_loss': 0.911203920841217, 'eval_rouge1': 0.14933656862741815, 'eval_rouge2': 0.03675107981257328, 'eval_rougeL': 0.11289170327470525, 'eval_rougeLsum': 0.11294023652494659, 'eval_runtime': 717.1336, 'eval_samples_per_second': 8.367, 'eval_steps_per_second': 1.394, 'epoch': 3.0}\n",
      "{'loss': 0.8331, 'learning_rate': 7.264930160315235e-06, 'epoch': 3.43}\n",
      "{'loss': 0.8342, 'learning_rate': 1.8271081840313765e-06, 'epoch': 3.86}\n"
     ]
    },
    {
     "data": {
      "application/vnd.jupyter.widget-view+json": {
       "model_id": "1292ddbb3e9b4beda77774cd26055e05",
       "version_major": 2,
       "version_minor": 0
      },
      "text/plain": [
       "  0%|          | 0/1000 [00:00<?, ?it/s]"
      ]
     },
     "metadata": {},
     "output_type": "display_data"
    },
    {
     "name": "stdout",
     "output_type": "stream",
     "text": [
      "{'eval_loss': 0.9018682241439819, 'eval_rouge1': 0.15150859839321357, 'eval_rouge2': 0.038151388432603475, 'eval_rougeL': 0.1148852491392835, 'eval_rougeLsum': 0.11493157838877166, 'eval_runtime': 713.659, 'eval_samples_per_second': 8.407, 'eval_steps_per_second': 1.401, 'epoch': 4.0}\n"
     ]
    },
    {
     "name": "stderr",
     "output_type": "stream",
     "text": [
      "[I 2024-05-19 05:06:17,294] Trial 4 finished with value: 0.4194768143538722 and parameters: {'learning_rate': 4.270865380173343e-05, 'num_train_epochs': 4, 'per_device_train_batch_size': 6, 'gradient_accumulation_steps': 2, 'per_device_eval_batch_size': 6, 'warmup_ratio': 0.15865374556022727}. Best is trial 2 with value: 0.43756316660107597.\n"
     ]
    },
    {
     "name": "stdout",
     "output_type": "stream",
     "text": [
      "{'train_runtime': 11752.0046, 'train_samples_per_second': 4.765, 'train_steps_per_second': 0.397, 'train_loss': 1.3138684989451954, 'epoch': 4.0}\n"
     ]
    },
    {
     "name": "stderr",
     "output_type": "stream",
     "text": [
      "c:\\Users\\Fede\\anaconda3\\envs\\tf\\lib\\site-packages\\accelerate\\accelerator.py:436: FutureWarning: Passing the following arguments to `Accelerator` is deprecated and will be removed in version 1.0 of Accelerate: dict_keys(['dispatch_batches', 'split_batches']). Please pass an `accelerate.DataLoaderConfiguration` instead: \n",
      "dataloader_config = DataLoaderConfiguration(dispatch_batches=None, split_batches=False)\n",
      "  warnings.warn(\n"
     ]
    },
    {
     "data": {
      "application/vnd.jupyter.widget-view+json": {
       "model_id": "281db3ac112a4640be3b74fb09ffeb91",
       "version_major": 2,
       "version_minor": 0
      },
      "text/plain": [
       "VBox(children=(Label(value='0.001 MB of 0.001 MB uploaded\\r'), FloatProgress(value=1.0, max=1.0)))"
      ]
     },
     "metadata": {},
     "output_type": "display_data"
    },
    {
     "data": {
      "text/html": [
       "<style>\n",
       "    table.wandb td:nth-child(1) { padding: 0 10px; text-align: left ; width: auto;} td:nth-child(2) {text-align: left ; width: 100%}\n",
       "    .wandb-row { display: flex; flex-direction: row; flex-wrap: wrap; justify-content: flex-start; width: 100% }\n",
       "    .wandb-col { display: flex; flex-direction: column; flex-basis: 100%; flex: 1; padding: 10px; }\n",
       "    </style>\n",
       "<div class=\"wandb-row\"><div class=\"wandb-col\"><h3>Run history:</h3><br/><table class=\"wandb\"><tr><td>eval/loss</td><td>█▃▂▁</td></tr><tr><td>eval/rouge1</td><td>▁▃▆█</td></tr><tr><td>eval/rouge2</td><td>▁▄▆█</td></tr><tr><td>eval/rougeL</td><td>▁▃▆█</td></tr><tr><td>eval/rougeLsum</td><td>▁▃▆█</td></tr><tr><td>eval/runtime</td><td>▇█▂▁</td></tr><tr><td>eval/samples_per_second</td><td>▂▁▇█</td></tr><tr><td>eval/steps_per_second</td><td>▂▁▇█</td></tr><tr><td>train/epoch</td><td>▁▂▂▃▄▄▄▅▆▆▇███</td></tr><tr><td>train/global_step</td><td>▁▂▂▃▄▄▄▅▆▆▇███</td></tr><tr><td>train/learning_rate</td><td>▆█▇▆▅▄▃▂▁</td></tr><tr><td>train/loss</td><td>█▁▁▁▁▁▁▁▁</td></tr><tr><td>train/total_flos</td><td>▁</td></tr><tr><td>train/train_loss</td><td>▁</td></tr><tr><td>train/train_runtime</td><td>▁</td></tr><tr><td>train/train_samples_per_second</td><td>▁</td></tr><tr><td>train/train_steps_per_second</td><td>▁</td></tr></table><br/></div><div class=\"wandb-col\"><h3>Run summary:</h3><br/><table class=\"wandb\"><tr><td>eval/loss</td><td>0.90187</td></tr><tr><td>eval/rouge1</td><td>0.15151</td></tr><tr><td>eval/rouge2</td><td>0.03815</td></tr><tr><td>eval/rougeL</td><td>0.11489</td></tr><tr><td>eval/rougeLsum</td><td>0.11493</td></tr><tr><td>eval/runtime</td><td>713.659</td></tr><tr><td>eval/samples_per_second</td><td>8.407</td></tr><tr><td>eval/steps_per_second</td><td>1.401</td></tr><tr><td>train/epoch</td><td>4.0</td></tr><tr><td>train/global_step</td><td>4668</td></tr><tr><td>train/learning_rate</td><td>0.0</td></tr><tr><td>train/loss</td><td>0.8342</td></tr><tr><td>train/total_flos</td><td>6.360118173696e+16</td></tr><tr><td>train/train_loss</td><td>1.31387</td></tr><tr><td>train/train_runtime</td><td>11752.0046</td></tr><tr><td>train/train_samples_per_second</td><td>4.765</td></tr><tr><td>train/train_steps_per_second</td><td>0.397</td></tr></table><br/></div></div>"
      ],
      "text/plain": [
       "<IPython.core.display.HTML object>"
      ]
     },
     "metadata": {},
     "output_type": "display_data"
    },
    {
     "data": {
      "text/html": [
       " View run <strong style=\"color:#cdcd00\">olive-durian-79</strong> at: <a href='https://wandb.ai/fede-/huggingface/runs/n8e1xglt' target=\"_blank\">https://wandb.ai/fede-/huggingface/runs/n8e1xglt</a><br/> View project at: <a href='https://wandb.ai/fede-/huggingface' target=\"_blank\">https://wandb.ai/fede-/huggingface</a><br/>Synced 5 W&B file(s), 0 media file(s), 0 artifact file(s) and 0 other file(s)"
      ],
      "text/plain": [
       "<IPython.core.display.HTML object>"
      ]
     },
     "metadata": {},
     "output_type": "display_data"
    },
    {
     "data": {
      "text/html": [
       "Find logs at: <code>.\\wandb\\run-20240519_015032-n8e1xglt\\logs</code>"
      ],
      "text/plain": [
       "<IPython.core.display.HTML object>"
      ]
     },
     "metadata": {},
     "output_type": "display_data"
    },
    {
     "data": {
      "application/vnd.jupyter.widget-view+json": {
       "model_id": "4b3baabacbae466a9e860315903018bb",
       "version_major": 2,
       "version_minor": 0
      },
      "text/plain": [
       "VBox(children=(Label(value='Waiting for wandb.init()...\\r'), FloatProgress(value=0.011111111111111112, max=1.0…"
      ]
     },
     "metadata": {},
     "output_type": "display_data"
    },
    {
     "data": {
      "text/html": [
       "wandb version 0.17.0 is available!  To upgrade, please run:\n",
       " $ pip install wandb --upgrade"
      ],
      "text/plain": [
       "<IPython.core.display.HTML object>"
      ]
     },
     "metadata": {},
     "output_type": "display_data"
    },
    {
     "data": {
      "text/html": [
       "Tracking run with wandb version 0.16.6"
      ],
      "text/plain": [
       "<IPython.core.display.HTML object>"
      ]
     },
     "metadata": {},
     "output_type": "display_data"
    },
    {
     "data": {
      "text/html": [
       "Run data is saved locally in <code>c:\\Users\\Fede\\Desktop\\Art\\Models_with_Trainer\\wandb\\run-20240519_050627-w9axu9sc</code>"
      ],
      "text/plain": [
       "<IPython.core.display.HTML object>"
      ]
     },
     "metadata": {},
     "output_type": "display_data"
    },
    {
     "data": {
      "text/html": [
       "Syncing run <strong><a href='https://wandb.ai/fede-/huggingface/runs/w9axu9sc' target=\"_blank\">fearless-aardvark-80</a></strong> to <a href='https://wandb.ai/fede-/huggingface' target=\"_blank\">Weights & Biases</a> (<a href='https://wandb.me/run' target=\"_blank\">docs</a>)<br/>"
      ],
      "text/plain": [
       "<IPython.core.display.HTML object>"
      ]
     },
     "metadata": {},
     "output_type": "display_data"
    },
    {
     "data": {
      "text/html": [
       " View project at <a href='https://wandb.ai/fede-/huggingface' target=\"_blank\">https://wandb.ai/fede-/huggingface</a>"
      ],
      "text/plain": [
       "<IPython.core.display.HTML object>"
      ]
     },
     "metadata": {},
     "output_type": "display_data"
    },
    {
     "data": {
      "text/html": [
       " View run at <a href='https://wandb.ai/fede-/huggingface/runs/w9axu9sc' target=\"_blank\">https://wandb.ai/fede-/huggingface/runs/w9axu9sc</a>"
      ],
      "text/plain": [
       "<IPython.core.display.HTML object>"
      ]
     },
     "metadata": {},
     "output_type": "display_data"
    },
    {
     "data": {
      "application/vnd.jupyter.widget-view+json": {
       "model_id": "425039a9de26452695290a85e858bae9",
       "version_major": 2,
       "version_minor": 0
      },
      "text/plain": [
       "  0%|          | 0/1556 [00:00<?, ?it/s]"
      ]
     },
     "metadata": {},
     "output_type": "display_data"
    },
    {
     "name": "stdout",
     "output_type": "stream",
     "text": [
      "{'loss': 3.1857, 'learning_rate': 4.3626370165467226e-05, 'epoch': 0.64}\n"
     ]
    },
    {
     "data": {
      "application/vnd.jupyter.widget-view+json": {
       "model_id": "d5693fb7a54d4c6cac0afb9db5131dec",
       "version_major": 2,
       "version_minor": 0
      },
      "text/plain": [
       "  0%|          | 0/1000 [00:00<?, ?it/s]"
      ]
     },
     "metadata": {},
     "output_type": "display_data"
    },
    {
     "name": "stderr",
     "output_type": "stream",
     "text": [
      "[I 2024-05-19 05:33:48,076] Trial 5 pruned. \n"
     ]
    },
    {
     "name": "stdout",
     "output_type": "stream",
     "text": [
      "{'eval_loss': 0.9883716106414795, 'eval_rouge1': 0.14535332281650318, 'eval_rouge2': 0.0326854788356367, 'eval_rougeL': 0.1080016018301917, 'eval_rougeLsum': 0.10802059984704585, 'eval_runtime': 409.8398, 'eval_samples_per_second': 14.64, 'eval_steps_per_second': 2.44, 'epoch': 1.0}\n"
     ]
    },
    {
     "data": {
      "application/vnd.jupyter.widget-view+json": {
       "model_id": "5a02bd11935143818a457ecec80f61ed",
       "version_major": 2,
       "version_minor": 0
      },
      "text/plain": [
       "VBox(children=(Label(value='0.001 MB of 0.001 MB uploaded\\r'), FloatProgress(value=1.0, max=1.0)))"
      ]
     },
     "metadata": {},
     "output_type": "display_data"
    },
    {
     "data": {
      "text/html": [
       "<style>\n",
       "    table.wandb td:nth-child(1) { padding: 0 10px; text-align: left ; width: auto;} td:nth-child(2) {text-align: left ; width: 100%}\n",
       "    .wandb-row { display: flex; flex-direction: row; flex-wrap: wrap; justify-content: flex-start; width: 100% }\n",
       "    .wandb-col { display: flex; flex-direction: column; flex-basis: 100%; flex: 1; padding: 10px; }\n",
       "    </style>\n",
       "<div class=\"wandb-row\"><div class=\"wandb-col\"><h3>Run history:</h3><br/><table class=\"wandb\"><tr><td>eval/loss</td><td>▁</td></tr><tr><td>eval/rouge1</td><td>▁</td></tr><tr><td>eval/rouge2</td><td>▁</td></tr><tr><td>eval/rougeL</td><td>▁</td></tr><tr><td>eval/rougeLsum</td><td>▁</td></tr><tr><td>eval/runtime</td><td>▁</td></tr><tr><td>eval/samples_per_second</td><td>▁</td></tr><tr><td>eval/steps_per_second</td><td>▁</td></tr><tr><td>train/epoch</td><td>▁█</td></tr><tr><td>train/global_step</td><td>▁█</td></tr><tr><td>train/learning_rate</td><td>▁</td></tr><tr><td>train/loss</td><td>▁</td></tr></table><br/></div><div class=\"wandb-col\"><h3>Run summary:</h3><br/><table class=\"wandb\"><tr><td>eval/loss</td><td>0.98837</td></tr><tr><td>eval/rouge1</td><td>0.14535</td></tr><tr><td>eval/rouge2</td><td>0.03269</td></tr><tr><td>eval/rougeL</td><td>0.108</td></tr><tr><td>eval/rougeLsum</td><td>0.10802</td></tr><tr><td>eval/runtime</td><td>409.8398</td></tr><tr><td>eval/samples_per_second</td><td>14.64</td></tr><tr><td>eval/steps_per_second</td><td>2.44</td></tr><tr><td>train/epoch</td><td>1.0</td></tr><tr><td>train/global_step</td><td>778</td></tr><tr><td>train/learning_rate</td><td>4e-05</td></tr><tr><td>train/loss</td><td>3.1857</td></tr></table><br/></div></div>"
      ],
      "text/plain": [
       "<IPython.core.display.HTML object>"
      ]
     },
     "metadata": {},
     "output_type": "display_data"
    },
    {
     "data": {
      "text/html": [
       " View run <strong style=\"color:#cdcd00\">fearless-aardvark-80</strong> at: <a href='https://wandb.ai/fede-/huggingface/runs/w9axu9sc' target=\"_blank\">https://wandb.ai/fede-/huggingface/runs/w9axu9sc</a><br/> View project at: <a href='https://wandb.ai/fede-/huggingface' target=\"_blank\">https://wandb.ai/fede-/huggingface</a><br/>Synced 5 W&B file(s), 0 media file(s), 0 artifact file(s) and 0 other file(s)"
      ],
      "text/plain": [
       "<IPython.core.display.HTML object>"
      ]
     },
     "metadata": {},
     "output_type": "display_data"
    },
    {
     "data": {
      "text/html": [
       "Find logs at: <code>.\\wandb\\run-20240519_050627-w9axu9sc\\logs</code>"
      ],
      "text/plain": [
       "<IPython.core.display.HTML object>"
      ]
     },
     "metadata": {},
     "output_type": "display_data"
    },
    {
     "data": {
      "application/vnd.jupyter.widget-view+json": {
       "model_id": "8d36bb0b4f7f4f879c9171c69bd71c2e",
       "version_major": 2,
       "version_minor": 0
      },
      "text/plain": [
       "VBox(children=(Label(value='Waiting for wandb.init()...\\r'), FloatProgress(value=0.011288888888925108, max=1.0…"
      ]
     },
     "metadata": {},
     "output_type": "display_data"
    },
    {
     "data": {
      "text/html": [
       "wandb version 0.17.0 is available!  To upgrade, please run:\n",
       " $ pip install wandb --upgrade"
      ],
      "text/plain": [
       "<IPython.core.display.HTML object>"
      ]
     },
     "metadata": {},
     "output_type": "display_data"
    },
    {
     "data": {
      "text/html": [
       "Tracking run with wandb version 0.16.6"
      ],
      "text/plain": [
       "<IPython.core.display.HTML object>"
      ]
     },
     "metadata": {},
     "output_type": "display_data"
    },
    {
     "data": {
      "text/html": [
       "Run data is saved locally in <code>c:\\Users\\Fede\\Desktop\\Art\\Models_with_Trainer\\wandb\\run-20240519_053357-l7248zwu</code>"
      ],
      "text/plain": [
       "<IPython.core.display.HTML object>"
      ]
     },
     "metadata": {},
     "output_type": "display_data"
    },
    {
     "data": {
      "text/html": [
       "Syncing run <strong><a href='https://wandb.ai/fede-/huggingface/runs/l7248zwu' target=\"_blank\">dulcet-durian-81</a></strong> to <a href='https://wandb.ai/fede-/huggingface' target=\"_blank\">Weights & Biases</a> (<a href='https://wandb.me/run' target=\"_blank\">docs</a>)<br/>"
      ],
      "text/plain": [
       "<IPython.core.display.HTML object>"
      ]
     },
     "metadata": {},
     "output_type": "display_data"
    },
    {
     "data": {
      "text/html": [
       " View project at <a href='https://wandb.ai/fede-/huggingface' target=\"_blank\">https://wandb.ai/fede-/huggingface</a>"
      ],
      "text/plain": [
       "<IPython.core.display.HTML object>"
      ]
     },
     "metadata": {},
     "output_type": "display_data"
    },
    {
     "data": {
      "text/html": [
       " View run at <a href='https://wandb.ai/fede-/huggingface/runs/l7248zwu' target=\"_blank\">https://wandb.ai/fede-/huggingface/runs/l7248zwu</a>"
      ],
      "text/plain": [
       "<IPython.core.display.HTML object>"
      ]
     },
     "metadata": {},
     "output_type": "display_data"
    },
    {
     "data": {
      "application/vnd.jupyter.widget-view+json": {
       "model_id": "e63ec2d9ca344ee1bd5b998b456ad854",
       "version_major": 2,
       "version_minor": 0
      },
      "text/plain": [
       "  0%|          | 0/7000 [00:00<?, ?it/s]"
      ]
     },
     "metadata": {},
     "output_type": "display_data"
    },
    {
     "name": "stdout",
     "output_type": "stream",
     "text": [
      "{'loss': 6.6956, 'learning_rate': 9.948683993720819e-06, 'epoch': 0.29}\n",
      "{'loss': 1.3693, 'learning_rate': 1.9897367987441638e-05, 'epoch': 0.57}\n",
      "{'loss': 1.0893, 'learning_rate': 2.984605198116246e-05, 'epoch': 0.86}\n"
     ]
    },
    {
     "data": {
      "application/vnd.jupyter.widget-view+json": {
       "model_id": "c1f4b617f324494ca69b004d9f21c3ff",
       "version_major": 2,
       "version_minor": 0
      },
      "text/plain": [
       "  0%|          | 0/750 [00:00<?, ?it/s]"
      ]
     },
     "metadata": {},
     "output_type": "display_data"
    },
    {
     "name": "stderr",
     "output_type": "stream",
     "text": [
      "[I 2024-05-19 06:36:01,843] Trial 6 pruned. \n"
     ]
    },
    {
     "name": "stdout",
     "output_type": "stream",
     "text": [
      "{'eval_loss': 1.0178534984588623, 'eval_rouge1': 0.13940699119102534, 'eval_rouge2': 0.030542995634208352, 'eval_rougeL': 0.10350970166859498, 'eval_rougeLsum': 0.10353198224502455, 'eval_runtime': 396.9578, 'eval_samples_per_second': 15.115, 'eval_steps_per_second': 1.889, 'epoch': 1.0}\n"
     ]
    },
    {
     "data": {
      "application/vnd.jupyter.widget-view+json": {
       "model_id": "c07c5fa786e2412f9e71880f74c1fe6e",
       "version_major": 2,
       "version_minor": 0
      },
      "text/plain": [
       "VBox(children=(Label(value='0.001 MB of 0.001 MB uploaded\\r'), FloatProgress(value=1.0, max=1.0)))"
      ]
     },
     "metadata": {},
     "output_type": "display_data"
    },
    {
     "data": {
      "text/html": [
       "<style>\n",
       "    table.wandb td:nth-child(1) { padding: 0 10px; text-align: left ; width: auto;} td:nth-child(2) {text-align: left ; width: 100%}\n",
       "    .wandb-row { display: flex; flex-direction: row; flex-wrap: wrap; justify-content: flex-start; width: 100% }\n",
       "    .wandb-col { display: flex; flex-direction: column; flex-basis: 100%; flex: 1; padding: 10px; }\n",
       "    </style>\n",
       "<div class=\"wandb-row\"><div class=\"wandb-col\"><h3>Run history:</h3><br/><table class=\"wandb\"><tr><td>eval/loss</td><td>▁</td></tr><tr><td>eval/rouge1</td><td>▁</td></tr><tr><td>eval/rouge2</td><td>▁</td></tr><tr><td>eval/rougeL</td><td>▁</td></tr><tr><td>eval/rougeLsum</td><td>▁</td></tr><tr><td>eval/runtime</td><td>▁</td></tr><tr><td>eval/samples_per_second</td><td>▁</td></tr><tr><td>eval/steps_per_second</td><td>▁</td></tr><tr><td>train/epoch</td><td>▁▄▇█</td></tr><tr><td>train/global_step</td><td>▁▄▇█</td></tr><tr><td>train/learning_rate</td><td>▁▄█</td></tr><tr><td>train/loss</td><td>█▁▁</td></tr></table><br/></div><div class=\"wandb-col\"><h3>Run summary:</h3><br/><table class=\"wandb\"><tr><td>eval/loss</td><td>1.01785</td></tr><tr><td>eval/rouge1</td><td>0.13941</td></tr><tr><td>eval/rouge2</td><td>0.03054</td></tr><tr><td>eval/rougeL</td><td>0.10351</td></tr><tr><td>eval/rougeLsum</td><td>0.10353</td></tr><tr><td>eval/runtime</td><td>396.9578</td></tr><tr><td>eval/samples_per_second</td><td>15.115</td></tr><tr><td>eval/steps_per_second</td><td>1.889</td></tr><tr><td>train/epoch</td><td>1.0</td></tr><tr><td>train/global_step</td><td>1750</td></tr><tr><td>train/learning_rate</td><td>3e-05</td></tr><tr><td>train/loss</td><td>1.0893</td></tr></table><br/></div></div>"
      ],
      "text/plain": [
       "<IPython.core.display.HTML object>"
      ]
     },
     "metadata": {},
     "output_type": "display_data"
    },
    {
     "data": {
      "text/html": [
       " View run <strong style=\"color:#cdcd00\">dulcet-durian-81</strong> at: <a href='https://wandb.ai/fede-/huggingface/runs/l7248zwu' target=\"_blank\">https://wandb.ai/fede-/huggingface/runs/l7248zwu</a><br/> View project at: <a href='https://wandb.ai/fede-/huggingface' target=\"_blank\">https://wandb.ai/fede-/huggingface</a><br/>Synced 5 W&B file(s), 0 media file(s), 0 artifact file(s) and 0 other file(s)"
      ],
      "text/plain": [
       "<IPython.core.display.HTML object>"
      ]
     },
     "metadata": {},
     "output_type": "display_data"
    },
    {
     "data": {
      "text/html": [
       "Find logs at: <code>.\\wandb\\run-20240519_053357-l7248zwu\\logs</code>"
      ],
      "text/plain": [
       "<IPython.core.display.HTML object>"
      ]
     },
     "metadata": {},
     "output_type": "display_data"
    },
    {
     "data": {
      "application/vnd.jupyter.widget-view+json": {
       "model_id": "eea8fb5e6e714560b119b2a18433634a",
       "version_major": 2,
       "version_minor": 0
      },
      "text/plain": [
       "VBox(children=(Label(value='Waiting for wandb.init()...\\r'), FloatProgress(value=0.011288888888925108, max=1.0…"
      ]
     },
     "metadata": {},
     "output_type": "display_data"
    },
    {
     "data": {
      "text/html": [
       "wandb version 0.17.0 is available!  To upgrade, please run:\n",
       " $ pip install wandb --upgrade"
      ],
      "text/plain": [
       "<IPython.core.display.HTML object>"
      ]
     },
     "metadata": {},
     "output_type": "display_data"
    },
    {
     "data": {
      "text/html": [
       "Tracking run with wandb version 0.16.6"
      ],
      "text/plain": [
       "<IPython.core.display.HTML object>"
      ]
     },
     "metadata": {},
     "output_type": "display_data"
    },
    {
     "data": {
      "text/html": [
       "Run data is saved locally in <code>c:\\Users\\Fede\\Desktop\\Art\\Models_with_Trainer\\wandb\\run-20240519_063609-kyolt5cp</code>"
      ],
      "text/plain": [
       "<IPython.core.display.HTML object>"
      ]
     },
     "metadata": {},
     "output_type": "display_data"
    },
    {
     "data": {
      "text/html": [
       "Syncing run <strong><a href='https://wandb.ai/fede-/huggingface/runs/kyolt5cp' target=\"_blank\">iconic-waterfall-82</a></strong> to <a href='https://wandb.ai/fede-/huggingface' target=\"_blank\">Weights & Biases</a> (<a href='https://wandb.me/run' target=\"_blank\">docs</a>)<br/>"
      ],
      "text/plain": [
       "<IPython.core.display.HTML object>"
      ]
     },
     "metadata": {},
     "output_type": "display_data"
    },
    {
     "data": {
      "text/html": [
       " View project at <a href='https://wandb.ai/fede-/huggingface' target=\"_blank\">https://wandb.ai/fede-/huggingface</a>"
      ],
      "text/plain": [
       "<IPython.core.display.HTML object>"
      ]
     },
     "metadata": {},
     "output_type": "display_data"
    },
    {
     "data": {
      "text/html": [
       " View run at <a href='https://wandb.ai/fede-/huggingface/runs/kyolt5cp' target=\"_blank\">https://wandb.ai/fede-/huggingface/runs/kyolt5cp</a>"
      ],
      "text/plain": [
       "<IPython.core.display.HTML object>"
      ]
     },
     "metadata": {},
     "output_type": "display_data"
    },
    {
     "data": {
      "application/vnd.jupyter.widget-view+json": {
       "model_id": "a745f454e3de4d60b565e462143e79c5",
       "version_major": 2,
       "version_minor": 0
      },
      "text/plain": [
       "  0%|          | 0/5250 [00:00<?, ?it/s]"
      ]
     },
     "metadata": {},
     "output_type": "display_data"
    },
    {
     "name": "stdout",
     "output_type": "stream",
     "text": [
      "{'loss': 5.1721, 'learning_rate': 2.1081105226352033e-05, 'epoch': 0.29}\n",
      "{'loss': 1.1228, 'learning_rate': 4.2162210452704065e-05, 'epoch': 0.57}\n",
      "{'loss': 1.0641, 'learning_rate': 5.811169472723897e-05, 'epoch': 0.86}\n"
     ]
    },
    {
     "data": {
      "application/vnd.jupyter.widget-view+json": {
       "model_id": "10df3a5734f447758522a5429b8096b7",
       "version_major": 2,
       "version_minor": 0
      },
      "text/plain": [
       "  0%|          | 0/1000 [00:00<?, ?it/s]"
      ]
     },
     "metadata": {},
     "output_type": "display_data"
    },
    {
     "name": "stderr",
     "output_type": "stream",
     "text": [
      "[I 2024-05-19 07:29:42,198] Trial 7 pruned. \n"
     ]
    },
    {
     "name": "stdout",
     "output_type": "stream",
     "text": [
      "{'eval_loss': 0.9869903326034546, 'eval_rouge1': 0.14097844563711537, 'eval_rouge2': 0.03190900448437038, 'eval_rougeL': 0.10499808487614985, 'eval_rougeLsum': 0.1050294280465442, 'eval_runtime': 635.3965, 'eval_samples_per_second': 9.443, 'eval_steps_per_second': 1.574, 'epoch': 1.0}\n"
     ]
    },
    {
     "data": {
      "application/vnd.jupyter.widget-view+json": {
       "model_id": "71374ebc5ea942daba4de7369a3827b4",
       "version_major": 2,
       "version_minor": 0
      },
      "text/plain": [
       "VBox(children=(Label(value='0.001 MB of 0.001 MB uploaded\\r'), FloatProgress(value=1.0, max=1.0)))"
      ]
     },
     "metadata": {},
     "output_type": "display_data"
    },
    {
     "data": {
      "text/html": [
       "<style>\n",
       "    table.wandb td:nth-child(1) { padding: 0 10px; text-align: left ; width: auto;} td:nth-child(2) {text-align: left ; width: 100%}\n",
       "    .wandb-row { display: flex; flex-direction: row; flex-wrap: wrap; justify-content: flex-start; width: 100% }\n",
       "    .wandb-col { display: flex; flex-direction: column; flex-basis: 100%; flex: 1; padding: 10px; }\n",
       "    </style>\n",
       "<div class=\"wandb-row\"><div class=\"wandb-col\"><h3>Run history:</h3><br/><table class=\"wandb\"><tr><td>eval/loss</td><td>▁</td></tr><tr><td>eval/rouge1</td><td>▁</td></tr><tr><td>eval/rouge2</td><td>▁</td></tr><tr><td>eval/rougeL</td><td>▁</td></tr><tr><td>eval/rougeLsum</td><td>▁</td></tr><tr><td>eval/runtime</td><td>▁</td></tr><tr><td>eval/samples_per_second</td><td>▁</td></tr><tr><td>eval/steps_per_second</td><td>▁</td></tr><tr><td>train/epoch</td><td>▁▄▇█</td></tr><tr><td>train/global_step</td><td>▁▄▇█</td></tr><tr><td>train/learning_rate</td><td>▁▅█</td></tr><tr><td>train/loss</td><td>█▁▁</td></tr></table><br/></div><div class=\"wandb-col\"><h3>Run summary:</h3><br/><table class=\"wandb\"><tr><td>eval/loss</td><td>0.98699</td></tr><tr><td>eval/rouge1</td><td>0.14098</td></tr><tr><td>eval/rouge2</td><td>0.03191</td></tr><tr><td>eval/rougeL</td><td>0.105</td></tr><tr><td>eval/rougeLsum</td><td>0.10503</td></tr><tr><td>eval/runtime</td><td>635.3965</td></tr><tr><td>eval/samples_per_second</td><td>9.443</td></tr><tr><td>eval/steps_per_second</td><td>1.574</td></tr><tr><td>train/epoch</td><td>1.0</td></tr><tr><td>train/global_step</td><td>1750</td></tr><tr><td>train/learning_rate</td><td>6e-05</td></tr><tr><td>train/loss</td><td>1.0641</td></tr></table><br/></div></div>"
      ],
      "text/plain": [
       "<IPython.core.display.HTML object>"
      ]
     },
     "metadata": {},
     "output_type": "display_data"
    },
    {
     "data": {
      "text/html": [
       " View run <strong style=\"color:#cdcd00\">iconic-waterfall-82</strong> at: <a href='https://wandb.ai/fede-/huggingface/runs/kyolt5cp' target=\"_blank\">https://wandb.ai/fede-/huggingface/runs/kyolt5cp</a><br/> View project at: <a href='https://wandb.ai/fede-/huggingface' target=\"_blank\">https://wandb.ai/fede-/huggingface</a><br/>Synced 5 W&B file(s), 0 media file(s), 0 artifact file(s) and 0 other file(s)"
      ],
      "text/plain": [
       "<IPython.core.display.HTML object>"
      ]
     },
     "metadata": {},
     "output_type": "display_data"
    },
    {
     "data": {
      "text/html": [
       "Find logs at: <code>.\\wandb\\run-20240519_063609-kyolt5cp\\logs</code>"
      ],
      "text/plain": [
       "<IPython.core.display.HTML object>"
      ]
     },
     "metadata": {},
     "output_type": "display_data"
    },
    {
     "data": {
      "application/vnd.jupyter.widget-view+json": {
       "model_id": "564c5f4ffd9a4fb088987b4851ff8cf3",
       "version_major": 2,
       "version_minor": 0
      },
      "text/plain": [
       "VBox(children=(Label(value='Waiting for wandb.init()...\\r'), FloatProgress(value=0.011111111111111112, max=1.0…"
      ]
     },
     "metadata": {},
     "output_type": "display_data"
    },
    {
     "data": {
      "text/html": [
       "wandb version 0.17.0 is available!  To upgrade, please run:\n",
       " $ pip install wandb --upgrade"
      ],
      "text/plain": [
       "<IPython.core.display.HTML object>"
      ]
     },
     "metadata": {},
     "output_type": "display_data"
    },
    {
     "data": {
      "text/html": [
       "Tracking run with wandb version 0.16.6"
      ],
      "text/plain": [
       "<IPython.core.display.HTML object>"
      ]
     },
     "metadata": {},
     "output_type": "display_data"
    },
    {
     "data": {
      "text/html": [
       "Run data is saved locally in <code>c:\\Users\\Fede\\Desktop\\Art\\Models_with_Trainer\\wandb\\run-20240519_072950-0zna8xft</code>"
      ],
      "text/plain": [
       "<IPython.core.display.HTML object>"
      ]
     },
     "metadata": {},
     "output_type": "display_data"
    },
    {
     "data": {
      "text/html": [
       "Syncing run <strong><a href='https://wandb.ai/fede-/huggingface/runs/0zna8xft' target=\"_blank\">young-pond-83</a></strong> to <a href='https://wandb.ai/fede-/huggingface' target=\"_blank\">Weights & Biases</a> (<a href='https://wandb.me/run' target=\"_blank\">docs</a>)<br/>"
      ],
      "text/plain": [
       "<IPython.core.display.HTML object>"
      ]
     },
     "metadata": {},
     "output_type": "display_data"
    },
    {
     "data": {
      "text/html": [
       " View project at <a href='https://wandb.ai/fede-/huggingface' target=\"_blank\">https://wandb.ai/fede-/huggingface</a>"
      ],
      "text/plain": [
       "<IPython.core.display.HTML object>"
      ]
     },
     "metadata": {},
     "output_type": "display_data"
    },
    {
     "data": {
      "text/html": [
       " View run at <a href='https://wandb.ai/fede-/huggingface/runs/0zna8xft' target=\"_blank\">https://wandb.ai/fede-/huggingface/runs/0zna8xft</a>"
      ],
      "text/plain": [
       "<IPython.core.display.HTML object>"
      ]
     },
     "metadata": {},
     "output_type": "display_data"
    },
    {
     "data": {
      "application/vnd.jupyter.widget-view+json": {
       "model_id": "645df241246b45d48fa007095f664537",
       "version_major": 2,
       "version_minor": 0
      },
      "text/plain": [
       "  0%|          | 0/3500 [00:00<?, ?it/s]"
      ]
     },
     "metadata": {},
     "output_type": "display_data"
    },
    {
     "name": "stdout",
     "output_type": "stream",
     "text": [
      "{'loss': 5.5475, 'learning_rate': 1.49568274946375e-05, 'epoch': 0.57}\n"
     ]
    },
    {
     "data": {
      "application/vnd.jupyter.widget-view+json": {
       "model_id": "3c873d3648ad4e4fbf8509d31fe0e210",
       "version_major": 2,
       "version_minor": 0
      },
      "text/plain": [
       "  0%|          | 0/750 [00:00<?, ?it/s]"
      ]
     },
     "metadata": {},
     "output_type": "display_data"
    },
    {
     "name": "stderr",
     "output_type": "stream",
     "text": [
      "[I 2024-05-19 08:51:56,836] Trial 8 pruned. \n"
     ]
    },
    {
     "name": "stdout",
     "output_type": "stream",
     "text": [
      "{'eval_loss': 1.0445986986160278, 'eval_rouge1': 0.14337544625770168, 'eval_rouge2': 0.03158299365177118, 'eval_rougeL': 0.10630930429755406, 'eval_rougeLsum': 0.1062970572541562, 'eval_runtime': 394.9902, 'eval_samples_per_second': 15.19, 'eval_steps_per_second': 1.899, 'epoch': 1.0}\n"
     ]
    },
    {
     "data": {
      "application/vnd.jupyter.widget-view+json": {
       "model_id": "d4cfc3f26fc741ebb777b1c77e720b52",
       "version_major": 2,
       "version_minor": 0
      },
      "text/plain": [
       "VBox(children=(Label(value='0.001 MB of 0.001 MB uploaded\\r'), FloatProgress(value=1.0, max=1.0)))"
      ]
     },
     "metadata": {},
     "output_type": "display_data"
    },
    {
     "data": {
      "text/html": [
       "<style>\n",
       "    table.wandb td:nth-child(1) { padding: 0 10px; text-align: left ; width: auto;} td:nth-child(2) {text-align: left ; width: 100%}\n",
       "    .wandb-row { display: flex; flex-direction: row; flex-wrap: wrap; justify-content: flex-start; width: 100% }\n",
       "    .wandb-col { display: flex; flex-direction: column; flex-basis: 100%; flex: 1; padding: 10px; }\n",
       "    </style>\n",
       "<div class=\"wandb-row\"><div class=\"wandb-col\"><h3>Run history:</h3><br/><table class=\"wandb\"><tr><td>eval/loss</td><td>▁</td></tr><tr><td>eval/rouge1</td><td>▁</td></tr><tr><td>eval/rouge2</td><td>▁</td></tr><tr><td>eval/rougeL</td><td>▁</td></tr><tr><td>eval/rougeLsum</td><td>▁</td></tr><tr><td>eval/runtime</td><td>▁</td></tr><tr><td>eval/samples_per_second</td><td>▁</td></tr><tr><td>eval/steps_per_second</td><td>▁</td></tr><tr><td>train/epoch</td><td>▁█</td></tr><tr><td>train/global_step</td><td>▁█</td></tr><tr><td>train/learning_rate</td><td>▁</td></tr><tr><td>train/loss</td><td>▁</td></tr></table><br/></div><div class=\"wandb-col\"><h3>Run summary:</h3><br/><table class=\"wandb\"><tr><td>eval/loss</td><td>1.0446</td></tr><tr><td>eval/rouge1</td><td>0.14338</td></tr><tr><td>eval/rouge2</td><td>0.03158</td></tr><tr><td>eval/rougeL</td><td>0.10631</td></tr><tr><td>eval/rougeLsum</td><td>0.1063</td></tr><tr><td>eval/runtime</td><td>394.9902</td></tr><tr><td>eval/samples_per_second</td><td>15.19</td></tr><tr><td>eval/steps_per_second</td><td>1.899</td></tr><tr><td>train/epoch</td><td>1.0</td></tr><tr><td>train/global_step</td><td>875</td></tr><tr><td>train/learning_rate</td><td>1e-05</td></tr><tr><td>train/loss</td><td>5.5475</td></tr></table><br/></div></div>"
      ],
      "text/plain": [
       "<IPython.core.display.HTML object>"
      ]
     },
     "metadata": {},
     "output_type": "display_data"
    },
    {
     "data": {
      "text/html": [
       " View run <strong style=\"color:#cdcd00\">young-pond-83</strong> at: <a href='https://wandb.ai/fede-/huggingface/runs/0zna8xft' target=\"_blank\">https://wandb.ai/fede-/huggingface/runs/0zna8xft</a><br/> View project at: <a href='https://wandb.ai/fede-/huggingface' target=\"_blank\">https://wandb.ai/fede-/huggingface</a><br/>Synced 5 W&B file(s), 0 media file(s), 0 artifact file(s) and 0 other file(s)"
      ],
      "text/plain": [
       "<IPython.core.display.HTML object>"
      ]
     },
     "metadata": {},
     "output_type": "display_data"
    },
    {
     "data": {
      "text/html": [
       "Find logs at: <code>.\\wandb\\run-20240519_072950-0zna8xft\\logs</code>"
      ],
      "text/plain": [
       "<IPython.core.display.HTML object>"
      ]
     },
     "metadata": {},
     "output_type": "display_data"
    },
    {
     "data": {
      "application/vnd.jupyter.widget-view+json": {
       "model_id": "e569f0e7cbc24eec90ee6a575ee2ddc6",
       "version_major": 2,
       "version_minor": 0
      },
      "text/plain": [
       "VBox(children=(Label(value='Waiting for wandb.init()...\\r'), FloatProgress(value=0.011111111111111112, max=1.0…"
      ]
     },
     "metadata": {},
     "output_type": "display_data"
    },
    {
     "data": {
      "text/html": [
       "wandb version 0.17.0 is available!  To upgrade, please run:\n",
       " $ pip install wandb --upgrade"
      ],
      "text/plain": [
       "<IPython.core.display.HTML object>"
      ]
     },
     "metadata": {},
     "output_type": "display_data"
    },
    {
     "data": {
      "text/html": [
       "Tracking run with wandb version 0.16.6"
      ],
      "text/plain": [
       "<IPython.core.display.HTML object>"
      ]
     },
     "metadata": {},
     "output_type": "display_data"
    },
    {
     "data": {
      "text/html": [
       "Run data is saved locally in <code>c:\\Users\\Fede\\Desktop\\Art\\Models_with_Trainer\\wandb\\run-20240519_085205-xif9e75r</code>"
      ],
      "text/plain": [
       "<IPython.core.display.HTML object>"
      ]
     },
     "metadata": {},
     "output_type": "display_data"
    },
    {
     "data": {
      "text/html": [
       "Syncing run <strong><a href='https://wandb.ai/fede-/huggingface/runs/xif9e75r' target=\"_blank\">genial-dust-84</a></strong> to <a href='https://wandb.ai/fede-/huggingface' target=\"_blank\">Weights & Biases</a> (<a href='https://wandb.me/run' target=\"_blank\">docs</a>)<br/>"
      ],
      "text/plain": [
       "<IPython.core.display.HTML object>"
      ]
     },
     "metadata": {},
     "output_type": "display_data"
    },
    {
     "data": {
      "text/html": [
       " View project at <a href='https://wandb.ai/fede-/huggingface' target=\"_blank\">https://wandb.ai/fede-/huggingface</a>"
      ],
      "text/plain": [
       "<IPython.core.display.HTML object>"
      ]
     },
     "metadata": {},
     "output_type": "display_data"
    },
    {
     "data": {
      "text/html": [
       " View run at <a href='https://wandb.ai/fede-/huggingface/runs/xif9e75r' target=\"_blank\">https://wandb.ai/fede-/huggingface/runs/xif9e75r</a>"
      ],
      "text/plain": [
       "<IPython.core.display.HTML object>"
      ]
     },
     "metadata": {},
     "output_type": "display_data"
    },
    {
     "data": {
      "application/vnd.jupyter.widget-view+json": {
       "model_id": "e0afe8e3fe8b408082ef57183e06c119",
       "version_major": 2,
       "version_minor": 0
      },
      "text/plain": [
       "  0%|          | 0/1556 [00:00<?, ?it/s]"
      ]
     },
     "metadata": {},
     "output_type": "display_data"
    },
    {
     "name": "stdout",
     "output_type": "stream",
     "text": [
      "{'loss': 4.6195, 'learning_rate': 1.8292624150386e-05, 'epoch': 0.64}\n"
     ]
    },
    {
     "data": {
      "application/vnd.jupyter.widget-view+json": {
       "model_id": "dd515670ea584a2d8bba45183c7bab57",
       "version_major": 2,
       "version_minor": 0
      },
      "text/plain": [
       "  0%|          | 0/750 [00:00<?, ?it/s]"
      ]
     },
     "metadata": {},
     "output_type": "display_data"
    },
    {
     "name": "stderr",
     "output_type": "stream",
     "text": [
      "[I 2024-05-19 09:19:27,685] Trial 9 pruned. \n"
     ]
    },
    {
     "name": "stdout",
     "output_type": "stream",
     "text": [
      "{'eval_loss': 1.0400846004486084, 'eval_rouge1': 0.14484947035570164, 'eval_rouge2': 0.03159670744419116, 'eval_rougeL': 0.1074400070914322, 'eval_rougeLsum': 0.10748156471914312, 'eval_runtime': 582.9229, 'eval_samples_per_second': 10.293, 'eval_steps_per_second': 1.287, 'epoch': 1.0}\n"
     ]
    }
   ],
   "source": [
    "best_trials = capt_trainer.hyperparameter_search(n_trials=10,\n",
    "                                                 backend=\"optuna\",\n",
    "                                                 hp_space=optuna_hp_space, \n",
    "                                                 direction=\"maximize\",)"
   ]
  },
  {
   "cell_type": "markdown",
   "metadata": {},
   "source": [
    "## Fine Tune with best parameters"
   ]
  },
  {
   "cell_type": "code",
   "execution_count": 15,
   "metadata": {},
   "outputs": [],
   "source": [
    "model_capt = AutoModelForCausalLM.from_pretrained(checkpoint_capt).to(device)"
   ]
  },
  {
   "cell_type": "code",
   "execution_count": 20,
   "metadata": {},
   "outputs": [
    {
     "name": "stderr",
     "output_type": "stream",
     "text": [
      "c:\\Users\\Fede\\anaconda3\\envs\\tf\\lib\\site-packages\\accelerate\\accelerator.py:436: FutureWarning: Passing the following arguments to `Accelerator` is deprecated and will be removed in version 1.0 of Accelerate: dict_keys(['dispatch_batches', 'split_batches']). Please pass an `accelerate.DataLoaderConfiguration` instead: \n",
      "dataloader_config = DataLoaderConfiguration(dispatch_batches=None, split_batches=False)\n",
      "  warnings.warn(\n"
     ]
    }
   ],
   "source": [
    "torch.cuda.empty_cache()\n",
    "best_hyperparameters = {'learning_rate': 2.0494603779935764e-05, 'num_train_epochs': 4, 'per_device_train_batch_size': 6, 'gradient_accumulation_steps': 3, 'per_device_eval_batch_size': 8, 'warmup_ratio': 0.14388112172513454}\n",
    "\n",
    "capt_training_args = TrainingArguments(\n",
    "    output_dir=\"model_checkpoints/captioning\",\n",
    "    learning_rate=best_hyperparameters[\"learning_rate\"],\n",
    "    num_train_epochs=best_hyperparameters[\"num_train_epochs\"],\n",
    "    fp16=False,\n",
    "    per_device_train_batch_size=best_hyperparameters[\"per_device_train_batch_size\"],\n",
    "    per_device_eval_batch_size=best_hyperparameters[\"per_device_eval_batch_size\"],\n",
    "    gradient_accumulation_steps=best_hyperparameters[\"gradient_accumulation_steps\"],\n",
    "    save_total_limit=2,\n",
    "    evaluation_strategy=\"epoch\",\n",
    "    save_strategy=\"epoch\",\n",
    "    remove_unused_columns=False,\n",
    "    push_to_hub=False,\n",
    "    label_names=[\"labels\"],\n",
    "    load_best_model_at_end=True,\n",
    ")\n",
    "\n",
    "capt_trainer = Trainer(\n",
    "    model=model_capt,\n",
    "    args=capt_training_args,\n",
    "    data_collator=data_collator,\n",
    "    train_dataset=capt_dataset[\"train\"],\n",
    "    eval_dataset=capt_dataset[\"test\"],\n",
    "    compute_metrics=capt_compute_metrics,\n",
    "    preprocess_logits_for_metrics=preprocess_logits_for_metrics,\n",
    "    callbacks=[EarlyStoppingCallback(early_stopping_patience=5)],\n",
    ")\n",
    "\n",
    "torch.cuda.empty_cache()"
   ]
  },
  {
   "cell_type": "code",
   "execution_count": 21,
   "metadata": {},
   "outputs": [],
   "source": [
    "# torch.cuda.empty_cache()\n",
    "# from transformers import EarlyStoppingCallback\n",
    "# capt_training_args = TrainingArguments(\n",
    "#     output_dir=\"model_checkpoints/captioning\",\n",
    "#     learning_rate=1e-5,\n",
    "#     num_train_epochs=5,\n",
    "#     warmup_ratio=0.2,\n",
    "#     fp16=False,\n",
    "#     per_device_train_batch_size=8,\n",
    "#     per_device_eval_batch_size=8,\n",
    "#     gradient_accumulation_steps=2,\n",
    "#     eval_accumulation_steps=1,\n",
    "#     save_total_limit=2,\n",
    "#     evaluation_strategy=\"no\",\n",
    "#     save_strategy=\"no\",\n",
    "#     remove_unused_columns=False,\n",
    "#     push_to_hub=False,\n",
    "#     label_names=[\"description\"],\n",
    "#     load_best_model_at_end=True,\n",
    "# )\n",
    "\n",
    "# capt_trainer = Trainer(\n",
    "#     model=model_capt,\n",
    "#     # model_init=model_init,\n",
    "#     args=capt_training_args,\n",
    "#     data_collator=data_collator,\n",
    "#     train_dataset=capt_dataset[\"train\"],\n",
    "#     eval_dataset=capt_dataset[\"test\"],\n",
    "#     compute_metrics=capt_compute_metrics,\n",
    "#     preprocess_logits_for_metrics=preprocess_logits_for_metrics,\n",
    "# )\n",
    "\n",
    "# torch.cuda.empty_cache()"
   ]
  },
  {
   "cell_type": "code",
   "execution_count": 22,
   "metadata": {},
   "outputs": [
    {
     "name": "stderr",
     "output_type": "stream",
     "text": [
      "Failed to detect the name of this notebook, you can set it manually with the WANDB_NOTEBOOK_NAME environment variable to enable code saving.\n",
      "\u001b[34m\u001b[1mwandb\u001b[0m: Currently logged in as: \u001b[33mrullofederico16\u001b[0m (\u001b[33mfede-\u001b[0m). Use \u001b[1m`wandb login --relogin`\u001b[0m to force relogin\n"
     ]
    },
    {
     "data": {
      "application/vnd.jupyter.widget-view+json": {
       "model_id": "9be50c9d37e446f98c18031b89c6425f",
       "version_major": 2,
       "version_minor": 0
      },
      "text/plain": [
       "VBox(children=(Label(value='Waiting for wandb.init()...\\r'), FloatProgress(value=0.011277777777609622, max=1.0…"
      ]
     },
     "metadata": {},
     "output_type": "display_data"
    },
    {
     "data": {
      "text/html": [
       "wandb version 0.17.0 is available!  To upgrade, please run:\n",
       " $ pip install wandb --upgrade"
      ],
      "text/plain": [
       "<IPython.core.display.HTML object>"
      ]
     },
     "metadata": {},
     "output_type": "display_data"
    },
    {
     "data": {
      "text/html": [
       "Tracking run with wandb version 0.16.6"
      ],
      "text/plain": [
       "<IPython.core.display.HTML object>"
      ]
     },
     "metadata": {},
     "output_type": "display_data"
    },
    {
     "data": {
      "text/html": [
       "Run data is saved locally in <code>c:\\Users\\Fede\\Desktop\\Art\\Models_with_Trainer\\wandb\\run-20240519_142322-uoks6nfz</code>"
      ],
      "text/plain": [
       "<IPython.core.display.HTML object>"
      ]
     },
     "metadata": {},
     "output_type": "display_data"
    },
    {
     "data": {
      "text/html": [
       "Syncing run <strong><a href='https://wandb.ai/fede-/huggingface/runs/uoks6nfz' target=\"_blank\">dandy-elevator-85</a></strong> to <a href='https://wandb.ai/fede-/huggingface' target=\"_blank\">Weights & Biases</a> (<a href='https://wandb.me/run' target=\"_blank\">docs</a>)<br/>"
      ],
      "text/plain": [
       "<IPython.core.display.HTML object>"
      ]
     },
     "metadata": {},
     "output_type": "display_data"
    },
    {
     "data": {
      "text/html": [
       " View project at <a href='https://wandb.ai/fede-/huggingface' target=\"_blank\">https://wandb.ai/fede-/huggingface</a>"
      ],
      "text/plain": [
       "<IPython.core.display.HTML object>"
      ]
     },
     "metadata": {},
     "output_type": "display_data"
    },
    {
     "data": {
      "text/html": [
       " View run at <a href='https://wandb.ai/fede-/huggingface/runs/uoks6nfz' target=\"_blank\">https://wandb.ai/fede-/huggingface/runs/uoks6nfz</a>"
      ],
      "text/plain": [
       "<IPython.core.display.HTML object>"
      ]
     },
     "metadata": {},
     "output_type": "display_data"
    },
    {
     "data": {
      "application/vnd.jupyter.widget-view+json": {
       "model_id": "c1c53bb2ec904b54b4915964054faafb",
       "version_major": 2,
       "version_minor": 0
      },
      "text/plain": [
       "  0%|          | 0/3112 [00:00<?, ?it/s]"
      ]
     },
     "metadata": {},
     "output_type": "display_data"
    },
    {
     "name": "stdout",
     "output_type": "stream",
     "text": [
      "{'loss': 2.5023, 'learning_rate': 1.7201768982388244e-05, 'epoch': 0.64}\n"
     ]
    },
    {
     "data": {
      "application/vnd.jupyter.widget-view+json": {
       "model_id": "55211018275b4c1db0da3b71cd6a8dec",
       "version_major": 2,
       "version_minor": 0
      },
      "text/plain": [
       "  0%|          | 0/750 [00:00<?, ?it/s]"
      ]
     },
     "metadata": {},
     "output_type": "display_data"
    },
    {
     "name": "stdout",
     "output_type": "stream",
     "text": [
      "{'eval_loss': 1.0115524530410767, 'eval_rouge1': 0.14171107682678924, 'eval_rouge2': 0.031799556565640846, 'eval_rougeL': 0.10626585801255453, 'eval_rougeLsum': 0.10623926000160422, 'eval_runtime': 599.7714, 'eval_samples_per_second': 10.004, 'eval_steps_per_second': 1.25, 'epoch': 1.0}\n",
      "{'loss': 1.0246, 'learning_rate': 1.3908934184840725e-05, 'epoch': 1.29}\n",
      "{'loss': 0.9793, 'learning_rate': 1.0616099387293203e-05, 'epoch': 1.93}\n"
     ]
    },
    {
     "data": {
      "application/vnd.jupyter.widget-view+json": {
       "model_id": "128f888aae2446279de4890150a08413",
       "version_major": 2,
       "version_minor": 0
      },
      "text/plain": [
       "  0%|          | 0/750 [00:00<?, ?it/s]"
      ]
     },
     "metadata": {},
     "output_type": "display_data"
    },
    {
     "name": "stdout",
     "output_type": "stream",
     "text": [
      "{'eval_loss': 0.9643548130989075, 'eval_rouge1': 0.15124586840997484, 'eval_rouge2': 0.03573024191953254, 'eval_rougeL': 0.11304348149936935, 'eval_rougeLsum': 0.11301880715894064, 'eval_runtime': 1470.9236, 'eval_samples_per_second': 4.079, 'eval_steps_per_second': 0.51, 'epoch': 2.0}\n",
      "{'loss': 0.9345, 'learning_rate': 7.323264589745684e-06, 'epoch': 2.57}\n"
     ]
    },
    {
     "data": {
      "application/vnd.jupyter.widget-view+json": {
       "model_id": "ba064efb6439434c8f6efa4438fa6813",
       "version_major": 2,
       "version_minor": 0
      },
      "text/plain": [
       "  0%|          | 0/750 [00:00<?, ?it/s]"
      ]
     },
     "metadata": {},
     "output_type": "display_data"
    },
    {
     "name": "stdout",
     "output_type": "stream",
     "text": [
      "{'eval_loss': 0.9455673694610596, 'eval_rouge1': 0.15522336015271893, 'eval_rouge2': 0.037359885157812106, 'eval_rougeL': 0.11464108646148288, 'eval_rougeLsum': 0.114630579360824, 'eval_runtime': 611.6734, 'eval_samples_per_second': 9.809, 'eval_steps_per_second': 1.226, 'epoch': 3.0}\n",
      "{'loss': 0.9201, 'learning_rate': 4.030429792198164e-06, 'epoch': 3.21}\n",
      "{'loss': 0.8961, 'learning_rate': 7.375949946506445e-07, 'epoch': 3.86}\n"
     ]
    },
    {
     "data": {
      "application/vnd.jupyter.widget-view+json": {
       "model_id": "6b0584c22d804cf8ab3ceabd8c36aaf5",
       "version_major": 2,
       "version_minor": 0
      },
      "text/plain": [
       "  0%|          | 0/750 [00:00<?, ?it/s]"
      ]
     },
     "metadata": {},
     "output_type": "display_data"
    },
    {
     "name": "stdout",
     "output_type": "stream",
     "text": [
      "{'eval_loss': 0.9412829875946045, 'eval_rouge1': 0.15842235215663036, 'eval_rouge2': 0.038256559328350065, 'eval_rougeL': 0.1168133235409652, 'eval_rougeLsum': 0.11676527050190175, 'eval_runtime': 661.8576, 'eval_samples_per_second': 9.065, 'eval_steps_per_second': 1.133, 'epoch': 4.0}\n",
      "{'train_runtime': 10460.0263, 'train_samples_per_second': 5.354, 'train_steps_per_second': 0.298, 'train_loss': 1.1991511837682258, 'epoch': 4.0}\n"
     ]
    },
    {
     "data": {
      "text/plain": [
       "TrainOutput(global_step=3112, training_loss=1.1991511837682258, metrics={'train_runtime': 10460.0263, 'train_samples_per_second': 5.354, 'train_steps_per_second': 0.298, 'train_loss': 1.1991511837682258, 'epoch': 4.0})"
      ]
     },
     "execution_count": 22,
     "metadata": {},
     "output_type": "execute_result"
    }
   ],
   "source": [
    "capt_trainer.train()"
   ]
  },
  {
   "cell_type": "code",
   "execution_count": 31,
   "metadata": {},
   "outputs": [
    {
     "data": {
      "image/png": "[encoded data removed]",
      "text/plain": [
       "<PIL.Image.Image image mode=RGB size=341x240>"
      ]
     },
     "metadata": {},
     "output_type": "display_data"
    },
    {
     "name": "stdout",
     "output_type": "stream",
     "text": [
      "Description: The construction of the Villa Da Porto Colleoni probably began in 1440-41 at the behest of Francesco Da Porto. Its decoration was commissioned in the sixteenth century from Paolo Veronese, Giovanni Battista Zelotti, and Giovanni Antonio Fasolo. Unfortunately, the decoration, with the exception of that in the camerone (large room) was later obliterated.The decoration in the camerone is attributed to Fasolo, with a contribution by Zelotti. Here, inserted within elegant Corinthian loggias on the long wall, are four scenes taken from Roman history: Mucius Scaevola before Porsena and Sofonisba Asking Massinissa for Mercy (east wall), Scipio Returning Lucius's Betrothed and the Banquet of Antony and Cleopatra (west wall). On either side of the fireplace the figures of Vulcan and Venus Holding Cupid, and above the door, the figures of Minerva and Mercury complete the decoration.\n"
     ]
    }
   ],
   "source": [
    "sample = dataset[89]\n",
    "image = sample['image']\n",
    "height,width = image.size\n",
    "display(image.resize((int(0.3*height),int(0.3*width))))\n",
    "desc = sample['description']\n",
    "print(f'Description: {desc}')"
   ]
  },
  {
   "cell_type": "code",
   "execution_count": 32,
   "metadata": {},
   "outputs": [
    {
     "name": "stdout",
     "output_type": "stream",
     "text": [
      "the picture shows the sala del consiglio ( room of the gods ). the picture shows the interior of the sala del consiglio ( room of the villa ).\n"
     ]
    }
   ],
   "source": [
    "inputs = processor_capt(images = image, return_tensors='pt').to(device)\n",
    "pixel_values = inputs.pixel_values\n",
    "\n",
    "generated_ids = model_capt.generate(pixel_values=pixel_values, max_length=5000)\n",
    "generated_caption = processor_capt.batch_decode(generated_ids,skip_special_tokens=True)[0]\n",
    "print(generated_caption)"
   ]
  },
  {
   "cell_type": "code",
   "execution_count": 25,
   "metadata": {},
   "outputs": [
    {
     "data": {
      "application/vnd.jupyter.widget-view+json": {
       "model_id": "c3b45da7b8674f1b9464ff386cb307d8",
       "version_major": 2,
       "version_minor": 0
      },
      "text/plain": [
       "model.safetensors:   0%|          | 0.00/1.58G [00:00<?, ?B/s]"
      ]
     },
     "metadata": {},
     "output_type": "display_data"
    },
    {
     "data": {
      "text/plain": [
       "CommitInfo(commit_url='https://huggingface.co/rullo16/Art_huggingface_caption/commit/fc2f99cd75e4ad93dd35cabbb611bfe06d0a62a6', commit_message='Upload GitForCausalLM', commit_description='', oid='fc2f99cd75e4ad93dd35cabbb611bfe06d0a62a6', pr_url=None, pr_revision=None, pr_num=None)"
      ]
     },
     "execution_count": 25,
     "metadata": {},
     "output_type": "execute_result"
    }
   ],
   "source": [
    "model_capt.push_to_hub(\"Art_huggingface_caption\")"
   ]
  },
  {
   "cell_type": "code",
   "execution_count": null,
   "metadata": {},
   "outputs": [],
   "source": []
  }
 ],
 "metadata": {
  "environment": {
   "kernel": "conda-env-pytorch-pytorch",
   "name": "workbench-notebooks.m111",
   "type": "gcloud",
   "uri": "gcr.io/deeplearning-platform-release/workbench-notebooks:m111"
  },
  "kernelspec": {
   "display_name": "tf",
   "language": "python",
   "name": "python3"
  },
  "language_info": {
   "codemirror_mode": {
    "name": "ipython",
    "version": 3
   },
   "file_extension": ".py",
   "mimetype": "text/x-python",
   "name": "python",
   "nbconvert_exporter": "python",
   "pygments_lexer": "ipython3",
   "version": "3.10.14"
  }
 },
 "nbformat": 4,
 "nbformat_minor": 4
}

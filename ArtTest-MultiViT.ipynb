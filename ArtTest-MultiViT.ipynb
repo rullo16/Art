{
 "cells": [
  {
   "cell_type": "code",
   "execution_count": 1,
   "metadata": {},
   "outputs": [],
   "source": [
    "import pandas as pd\n",
    "import datasets\n",
    "\n",
    "import torch"
   ]
  },
  {
   "cell_type": "code",
   "execution_count": 2,
   "metadata": {},
   "outputs": [
    {
     "name": "stdout",
     "output_type": "stream",
     "text": [
      "Columns: ['ID', 'FILE', 'AUTHOR', 'BORN-DIED', 'TITLE', 'DATE', 'TECHNIQUE', 'LOCATION', 'FORM', 'TYPE', 'SCHOOL', 'TIMELINE', 'URL']\n"
     ]
    }
   ],
   "source": [
    "data = pd.read_csv('./toy_dataset_label.csv',sep='\\t',encoding='latin-1')\n",
    "print(f'Columns: {[x for x in data.columns]}')"
   ]
  },
  {
   "cell_type": "code",
   "execution_count": 3,
   "metadata": {},
   "outputs": [
    {
     "data": {
      "text/html": [
       "<div>\n",
       "<style scoped>\n",
       "    .dataframe tbody tr th:only-of-type {\n",
       "        vertical-align: middle;\n",
       "    }\n",
       "\n",
       "    .dataframe tbody tr th {\n",
       "        vertical-align: top;\n",
       "    }\n",
       "\n",
       "    .dataframe thead th {\n",
       "        text-align: right;\n",
       "    }\n",
       "</style>\n",
       "<table border=\"1\" class=\"dataframe\">\n",
       "  <thead>\n",
       "    <tr style=\"text-align: right;\">\n",
       "      <th></th>\n",
       "      <th>ID</th>\n",
       "    </tr>\n",
       "  </thead>\n",
       "  <tbody>\n",
       "    <tr>\n",
       "      <th>count</th>\n",
       "      <td>43455.000000</td>\n",
       "    </tr>\n",
       "    <tr>\n",
       "      <th>mean</th>\n",
       "      <td>21728.000000</td>\n",
       "    </tr>\n",
       "    <tr>\n",
       "      <th>std</th>\n",
       "      <td>12544.522311</td>\n",
       "    </tr>\n",
       "    <tr>\n",
       "      <th>min</th>\n",
       "      <td>1.000000</td>\n",
       "    </tr>\n",
       "    <tr>\n",
       "      <th>25%</th>\n",
       "      <td>10864.500000</td>\n",
       "    </tr>\n",
       "    <tr>\n",
       "      <th>50%</th>\n",
       "      <td>21728.000000</td>\n",
       "    </tr>\n",
       "    <tr>\n",
       "      <th>75%</th>\n",
       "      <td>32591.500000</td>\n",
       "    </tr>\n",
       "    <tr>\n",
       "      <th>max</th>\n",
       "      <td>43455.000000</td>\n",
       "    </tr>\n",
       "  </tbody>\n",
       "</table>\n",
       "</div>"
      ],
      "text/plain": [
       "                 ID\n",
       "count  43455.000000\n",
       "mean   21728.000000\n",
       "std    12544.522311\n",
       "min        1.000000\n",
       "25%    10864.500000\n",
       "50%    21728.000000\n",
       "75%    32591.500000\n",
       "max    43455.000000"
      ]
     },
     "execution_count": 3,
     "metadata": {},
     "output_type": "execute_result"
    }
   ],
   "source": [
    "data.describe()"
   ]
  },
  {
   "cell_type": "code",
   "execution_count": 4,
   "metadata": {},
   "outputs": [
    {
     "data": {
      "text/html": [
       "<div>\n",
       "<style scoped>\n",
       "    .dataframe tbody tr th:only-of-type {\n",
       "        vertical-align: middle;\n",
       "    }\n",
       "\n",
       "    .dataframe tbody tr th {\n",
       "        vertical-align: top;\n",
       "    }\n",
       "\n",
       "    .dataframe thead th {\n",
       "        text-align: right;\n",
       "    }\n",
       "</style>\n",
       "<table border=\"1\" class=\"dataframe\">\n",
       "  <thead>\n",
       "    <tr style=\"text-align: right;\">\n",
       "      <th></th>\n",
       "      <th>ID</th>\n",
       "      <th>FILE</th>\n",
       "      <th>AUTHOR</th>\n",
       "      <th>BORN-DIED</th>\n",
       "      <th>TITLE</th>\n",
       "      <th>DATE</th>\n",
       "      <th>TECHNIQUE</th>\n",
       "      <th>LOCATION</th>\n",
       "      <th>FORM</th>\n",
       "      <th>TYPE</th>\n",
       "      <th>SCHOOL</th>\n",
       "      <th>TIMELINE</th>\n",
       "      <th>URL</th>\n",
       "    </tr>\n",
       "  </thead>\n",
       "  <tbody>\n",
       "    <tr>\n",
       "      <th>0</th>\n",
       "      <td>1</td>\n",
       "      <td>1.jpg</td>\n",
       "      <td>AACHEN, Hans von</td>\n",
       "      <td>(b. 1552, KÃ¶ln, d. 1615, Praha)</td>\n",
       "      <td>Allegory</td>\n",
       "      <td>1598</td>\n",
       "      <td>Oil on copper, 56 x 47 cm</td>\n",
       "      <td>Alte Pinakothek, Munich</td>\n",
       "      <td>painting</td>\n",
       "      <td>mythological</td>\n",
       "      <td>German</td>\n",
       "      <td>1601-1650</td>\n",
       "      <td>http://www.wga.hu/html/a/aachen/allegory.html</td>\n",
       "    </tr>\n",
       "    <tr>\n",
       "      <th>1</th>\n",
       "      <td>2</td>\n",
       "      <td>2.jpg</td>\n",
       "      <td>AACHEN, Hans von</td>\n",
       "      <td>(b. 1552, KÃ¶ln, d. 1615, Praha)</td>\n",
       "      <td>Bacchus, Ceres and Cupid</td>\n",
       "      <td>-</td>\n",
       "      <td>Oil on canvas, 163 x 113 cm</td>\n",
       "      <td>Kunsthistorisches Museum, Vienna</td>\n",
       "      <td>painting</td>\n",
       "      <td>mythological</td>\n",
       "      <td>German</td>\n",
       "      <td>1601-1650</td>\n",
       "      <td>http://www.wga.hu/html/a/aachen/bacchus.html</td>\n",
       "    </tr>\n",
       "    <tr>\n",
       "      <th>2</th>\n",
       "      <td>3</td>\n",
       "      <td>3.jpg</td>\n",
       "      <td>AACHEN, Hans von</td>\n",
       "      <td>(b. 1552, KÃ¶ln, d. 1615, Praha)</td>\n",
       "      <td>Joking Couple</td>\n",
       "      <td>-</td>\n",
       "      <td>Copperplate, 25 x 20 cm</td>\n",
       "      <td>Kunsthistorisches Museum, Vienna</td>\n",
       "      <td>painting</td>\n",
       "      <td>genre</td>\n",
       "      <td>German</td>\n",
       "      <td>1601-1650</td>\n",
       "      <td>http://www.wga.hu/html/a/aachen/j_couple.html</td>\n",
       "    </tr>\n",
       "    <tr>\n",
       "      <th>3</th>\n",
       "      <td>4</td>\n",
       "      <td>4.jpg</td>\n",
       "      <td>AACHEN, Hans von</td>\n",
       "      <td>(b. 1552, KÃ¶ln, d. 1615, Praha)</td>\n",
       "      <td>Portrait of Emperor Rudolf II</td>\n",
       "      <td>1590s</td>\n",
       "      <td>Oil on canvas, 60 x 48 cm</td>\n",
       "      <td>Kunsthistorisches Museum, Vienna</td>\n",
       "      <td>painting</td>\n",
       "      <td>portrait</td>\n",
       "      <td>German</td>\n",
       "      <td>1601-1650</td>\n",
       "      <td>http://www.wga.hu/html/a/aachen/rudolf2.html</td>\n",
       "    </tr>\n",
       "    <tr>\n",
       "      <th>4</th>\n",
       "      <td>5</td>\n",
       "      <td>5.jpg</td>\n",
       "      <td>AACHEN, Hans von</td>\n",
       "      <td>(b. 1552, KÃ¶ln, d. 1615, Praha)</td>\n",
       "      <td>Self-Portrait with a Glass of Wine</td>\n",
       "      <td>c. 1596</td>\n",
       "      <td>Oil on canvas, 53 x 44 cm</td>\n",
       "      <td>Private collection</td>\n",
       "      <td>painting</td>\n",
       "      <td>portrait</td>\n",
       "      <td>German</td>\n",
       "      <td>1601-1650</td>\n",
       "      <td>http://www.wga.hu/html/a/aachen/selfport.html</td>\n",
       "    </tr>\n",
       "  </tbody>\n",
       "</table>\n",
       "</div>"
      ],
      "text/plain": [
       "   ID   FILE            AUTHOR                         BORN-DIED  \\\n",
       "0   1  1.jpg  AACHEN, Hans von  (b. 1552, KÃ¶ln, d. 1615, Praha)   \n",
       "1   2  2.jpg  AACHEN, Hans von  (b. 1552, KÃ¶ln, d. 1615, Praha)   \n",
       "2   3  3.jpg  AACHEN, Hans von  (b. 1552, KÃ¶ln, d. 1615, Praha)   \n",
       "3   4  4.jpg  AACHEN, Hans von  (b. 1552, KÃ¶ln, d. 1615, Praha)   \n",
       "4   5  5.jpg  AACHEN, Hans von  (b. 1552, KÃ¶ln, d. 1615, Praha)   \n",
       "\n",
       "                                TITLE     DATE                    TECHNIQUE  \\\n",
       "0                            Allegory     1598    Oil on copper, 56 x 47 cm   \n",
       "1            Bacchus, Ceres and Cupid        -  Oil on canvas, 163 x 113 cm   \n",
       "2                       Joking Couple        -      Copperplate, 25 x 20 cm   \n",
       "3       Portrait of Emperor Rudolf II    1590s    Oil on canvas, 60 x 48 cm   \n",
       "4  Self-Portrait with a Glass of Wine  c. 1596    Oil on canvas, 53 x 44 cm   \n",
       "\n",
       "                           LOCATION      FORM          TYPE  SCHOOL  \\\n",
       "0           Alte Pinakothek, Munich  painting  mythological  German   \n",
       "1  Kunsthistorisches Museum, Vienna  painting  mythological  German   \n",
       "2  Kunsthistorisches Museum, Vienna  painting         genre  German   \n",
       "3  Kunsthistorisches Museum, Vienna  painting      portrait  German   \n",
       "4                Private collection  painting      portrait  German   \n",
       "\n",
       "    TIMELINE                                            URL  \n",
       "0  1601-1650  http://www.wga.hu/html/a/aachen/allegory.html  \n",
       "1  1601-1650   http://www.wga.hu/html/a/aachen/bacchus.html  \n",
       "2  1601-1650  http://www.wga.hu/html/a/aachen/j_couple.html  \n",
       "3  1601-1650   http://www.wga.hu/html/a/aachen/rudolf2.html  \n",
       "4  1601-1650  http://www.wga.hu/html/a/aachen/selfport.html  "
      ]
     },
     "execution_count": 4,
     "metadata": {},
     "output_type": "execute_result"
    }
   ],
   "source": [
    "data.head()"
   ]
  },
  {
   "cell_type": "code",
   "execution_count": 5,
   "metadata": {},
   "outputs": [
    {
     "data": {
      "text/plain": [
       "MICHELANGELO Buonarroti           592\n",
       "GIOTTO di Bondone                 568\n",
       "REMBRANDT Harmenszoon van Rijn    535\n",
       "DÃRER, Albrecht                  482\n",
       "RAFFAELLO Sanzio                  419\n",
       "                                 ... \n",
       "GORDON, John Watson                 1\n",
       "GORE, Spencer Frederick             1\n",
       "RICCHI, Pietro                      1\n",
       "GOSSE, Nicolas-Louis-FranÃ§ois      1\n",
       "ZÃRN, Michael                      1\n",
       "Name: AUTHOR, Length: 4992, dtype: int64"
      ]
     },
     "execution_count": 5,
     "metadata": {},
     "output_type": "execute_result"
    }
   ],
   "source": [
    "data['AUTHOR'].value_counts()"
   ]
  },
  {
   "cell_type": "code",
   "execution_count": 6,
   "metadata": {},
   "outputs": [],
   "source": [
    "data['TECHNIQUE'] = data['TECHNIQUE'].str.split(',').str[0]\n",
    "data['TECHNIQUE'] = data['TECHNIQUE'].str.split(':').str[0]"
   ]
  },
  {
   "cell_type": "code",
   "execution_count": 7,
   "metadata": {},
   "outputs": [
    {
     "data": {
      "text/plain": [
       "Oil on canvas                                  13649\n",
       "Fresco                                          4316\n",
       "Oil on panel                                    3041\n",
       "Photo                                           2060\n",
       "Oil on wood                                     1848\n",
       "                                               ...  \n",
       "Pen and black ink with gray wash on paper          1\n",
       "Red chalk and pencil on paper laid on board        1\n",
       "Coloured marble relief with bronze                 1\n",
       "Hand coloured engraving and etching                1\n",
       "Oil on canvas 250 x 225 cm                         1\n",
       "Name: TECHNIQUE, Length: 2611, dtype: int64"
      ]
     },
     "execution_count": 7,
     "metadata": {},
     "output_type": "execute_result"
    }
   ],
   "source": [
    "data['TECHNIQUE'].value_counts()"
   ]
  },
  {
   "cell_type": "code",
   "execution_count": 8,
   "metadata": {},
   "outputs": [],
   "source": [
    "data = data[:700]"
   ]
  },
  {
   "cell_type": "code",
   "execution_count": 9,
   "metadata": {},
   "outputs": [
    {
     "name": "stdout",
     "output_type": "stream",
     "text": [
      "89\n",
      "99\n"
     ]
    }
   ],
   "source": [
    "print(len(data['TECHNIQUE'].unique()))\n",
    "print(len(data['AUTHOR'].unique()))"
   ]
  },
  {
   "cell_type": "code",
   "execution_count": 10,
   "metadata": {},
   "outputs": [
    {
     "name": "stderr",
     "output_type": "stream",
     "text": [
      "Art Piece N°: 1:   0%|          | 1/700 [00:00<00:00, 1002.94it/s]C:\\Users\\rullo\\AppData\\Local\\Temp\\ipykernel_18364\\2784964235.py:6: SettingWithCopyWarning: \n",
      "A value is trying to be set on a copy of a slice from a DataFrame\n",
      "\n",
      "See the caveats in the documentation: https://pandas.pydata.org/pandas-docs/stable/user_guide/indexing.html#returning-a-view-versus-a-copy\n",
      "  data['FILE'][idx] = './images/'+str(idx+1)+'.jpg'\n",
      "Art Piece N°: 699: 100%|██████████| 700/700 [00:01<00:00, 585.29it/s]\n"
     ]
    }
   ],
   "source": [
    "from tqdm import tqdm\n",
    "\n",
    "with tqdm(total=len(data)) as pbar:\n",
    "    for idx in range(data.shape[0]):\n",
    "        pbar.set_description(f'Art Piece N°: {idx}')\n",
    "        data['FILE'][idx] = './images/'+str(idx+1)+'.jpg'\n",
    "        #data['URL'][idx] = get_description(data['URL'][idx])\n",
    "        pbar.update()"
   ]
  },
  {
   "cell_type": "code",
   "execution_count": 11,
   "metadata": {},
   "outputs": [
    {
     "data": {
      "text/html": [
       "<div>\n",
       "<style scoped>\n",
       "    .dataframe tbody tr th:only-of-type {\n",
       "        vertical-align: middle;\n",
       "    }\n",
       "\n",
       "    .dataframe tbody tr th {\n",
       "        vertical-align: top;\n",
       "    }\n",
       "\n",
       "    .dataframe thead th {\n",
       "        text-align: right;\n",
       "    }\n",
       "</style>\n",
       "<table border=\"1\" class=\"dataframe\">\n",
       "  <thead>\n",
       "    <tr style=\"text-align: right;\">\n",
       "      <th></th>\n",
       "      <th>ID</th>\n",
       "      <th>FILE</th>\n",
       "      <th>AUTHOR</th>\n",
       "      <th>BORN-DIED</th>\n",
       "      <th>TITLE</th>\n",
       "      <th>DATE</th>\n",
       "      <th>TECHNIQUE</th>\n",
       "      <th>LOCATION</th>\n",
       "      <th>FORM</th>\n",
       "      <th>TYPE</th>\n",
       "      <th>SCHOOL</th>\n",
       "      <th>TIMELINE</th>\n",
       "      <th>URL</th>\n",
       "    </tr>\n",
       "  </thead>\n",
       "  <tbody>\n",
       "    <tr>\n",
       "      <th>0</th>\n",
       "      <td>1</td>\n",
       "      <td>./images/1.jpg</td>\n",
       "      <td>AACHEN, Hans von</td>\n",
       "      <td>(b. 1552, KÃ¶ln, d. 1615, Praha)</td>\n",
       "      <td>Allegory</td>\n",
       "      <td>1598</td>\n",
       "      <td>Oil on copper</td>\n",
       "      <td>Alte Pinakothek, Munich</td>\n",
       "      <td>painting</td>\n",
       "      <td>mythological</td>\n",
       "      <td>German</td>\n",
       "      <td>1601-1650</td>\n",
       "      <td>http://www.wga.hu/html/a/aachen/allegory.html</td>\n",
       "    </tr>\n",
       "    <tr>\n",
       "      <th>1</th>\n",
       "      <td>2</td>\n",
       "      <td>./images/2.jpg</td>\n",
       "      <td>AACHEN, Hans von</td>\n",
       "      <td>(b. 1552, KÃ¶ln, d. 1615, Praha)</td>\n",
       "      <td>Bacchus, Ceres and Cupid</td>\n",
       "      <td>-</td>\n",
       "      <td>Oil on canvas</td>\n",
       "      <td>Kunsthistorisches Museum, Vienna</td>\n",
       "      <td>painting</td>\n",
       "      <td>mythological</td>\n",
       "      <td>German</td>\n",
       "      <td>1601-1650</td>\n",
       "      <td>http://www.wga.hu/html/a/aachen/bacchus.html</td>\n",
       "    </tr>\n",
       "    <tr>\n",
       "      <th>2</th>\n",
       "      <td>3</td>\n",
       "      <td>./images/3.jpg</td>\n",
       "      <td>AACHEN, Hans von</td>\n",
       "      <td>(b. 1552, KÃ¶ln, d. 1615, Praha)</td>\n",
       "      <td>Joking Couple</td>\n",
       "      <td>-</td>\n",
       "      <td>Copperplate</td>\n",
       "      <td>Kunsthistorisches Museum, Vienna</td>\n",
       "      <td>painting</td>\n",
       "      <td>genre</td>\n",
       "      <td>German</td>\n",
       "      <td>1601-1650</td>\n",
       "      <td>http://www.wga.hu/html/a/aachen/j_couple.html</td>\n",
       "    </tr>\n",
       "    <tr>\n",
       "      <th>3</th>\n",
       "      <td>4</td>\n",
       "      <td>./images/4.jpg</td>\n",
       "      <td>AACHEN, Hans von</td>\n",
       "      <td>(b. 1552, KÃ¶ln, d. 1615, Praha)</td>\n",
       "      <td>Portrait of Emperor Rudolf II</td>\n",
       "      <td>1590s</td>\n",
       "      <td>Oil on canvas</td>\n",
       "      <td>Kunsthistorisches Museum, Vienna</td>\n",
       "      <td>painting</td>\n",
       "      <td>portrait</td>\n",
       "      <td>German</td>\n",
       "      <td>1601-1650</td>\n",
       "      <td>http://www.wga.hu/html/a/aachen/rudolf2.html</td>\n",
       "    </tr>\n",
       "    <tr>\n",
       "      <th>4</th>\n",
       "      <td>5</td>\n",
       "      <td>./images/5.jpg</td>\n",
       "      <td>AACHEN, Hans von</td>\n",
       "      <td>(b. 1552, KÃ¶ln, d. 1615, Praha)</td>\n",
       "      <td>Self-Portrait with a Glass of Wine</td>\n",
       "      <td>c. 1596</td>\n",
       "      <td>Oil on canvas</td>\n",
       "      <td>Private collection</td>\n",
       "      <td>painting</td>\n",
       "      <td>portrait</td>\n",
       "      <td>German</td>\n",
       "      <td>1601-1650</td>\n",
       "      <td>http://www.wga.hu/html/a/aachen/selfport.html</td>\n",
       "    </tr>\n",
       "  </tbody>\n",
       "</table>\n",
       "</div>"
      ],
      "text/plain": [
       "   ID            FILE            AUTHOR                         BORN-DIED  \\\n",
       "0   1  ./images/1.jpg  AACHEN, Hans von  (b. 1552, KÃ¶ln, d. 1615, Praha)   \n",
       "1   2  ./images/2.jpg  AACHEN, Hans von  (b. 1552, KÃ¶ln, d. 1615, Praha)   \n",
       "2   3  ./images/3.jpg  AACHEN, Hans von  (b. 1552, KÃ¶ln, d. 1615, Praha)   \n",
       "3   4  ./images/4.jpg  AACHEN, Hans von  (b. 1552, KÃ¶ln, d. 1615, Praha)   \n",
       "4   5  ./images/5.jpg  AACHEN, Hans von  (b. 1552, KÃ¶ln, d. 1615, Praha)   \n",
       "\n",
       "                                TITLE     DATE      TECHNIQUE  \\\n",
       "0                            Allegory     1598  Oil on copper   \n",
       "1            Bacchus, Ceres and Cupid        -  Oil on canvas   \n",
       "2                       Joking Couple        -    Copperplate   \n",
       "3       Portrait of Emperor Rudolf II    1590s  Oil on canvas   \n",
       "4  Self-Portrait with a Glass of Wine  c. 1596  Oil on canvas   \n",
       "\n",
       "                           LOCATION      FORM          TYPE  SCHOOL  \\\n",
       "0           Alte Pinakothek, Munich  painting  mythological  German   \n",
       "1  Kunsthistorisches Museum, Vienna  painting  mythological  German   \n",
       "2  Kunsthistorisches Museum, Vienna  painting         genre  German   \n",
       "3  Kunsthistorisches Museum, Vienna  painting      portrait  German   \n",
       "4                Private collection  painting      portrait  German   \n",
       "\n",
       "    TIMELINE                                            URL  \n",
       "0  1601-1650  http://www.wga.hu/html/a/aachen/allegory.html  \n",
       "1  1601-1650   http://www.wga.hu/html/a/aachen/bacchus.html  \n",
       "2  1601-1650  http://www.wga.hu/html/a/aachen/j_couple.html  \n",
       "3  1601-1650   http://www.wga.hu/html/a/aachen/rudolf2.html  \n",
       "4  1601-1650  http://www.wga.hu/html/a/aachen/selfport.html  "
      ]
     },
     "execution_count": 11,
     "metadata": {},
     "output_type": "execute_result"
    }
   ],
   "source": [
    "data.head()"
   ]
  },
  {
   "cell_type": "code",
   "execution_count": 12,
   "metadata": {},
   "outputs": [
    {
     "data": {
      "text/html": [
       "<div>\n",
       "<style scoped>\n",
       "    .dataframe tbody tr th:only-of-type {\n",
       "        vertical-align: middle;\n",
       "    }\n",
       "\n",
       "    .dataframe tbody tr th {\n",
       "        vertical-align: top;\n",
       "    }\n",
       "\n",
       "    .dataframe thead th {\n",
       "        text-align: right;\n",
       "    }\n",
       "</style>\n",
       "<table border=\"1\" class=\"dataframe\">\n",
       "  <thead>\n",
       "    <tr style=\"text-align: right;\">\n",
       "      <th></th>\n",
       "      <th>FILE</th>\n",
       "      <th>AUTHOR</th>\n",
       "      <th>TECHNIQUE</th>\n",
       "    </tr>\n",
       "  </thead>\n",
       "  <tbody>\n",
       "    <tr>\n",
       "      <th>0</th>\n",
       "      <td>./images/1.jpg</td>\n",
       "      <td>AACHEN, Hans von</td>\n",
       "      <td>Oil on copper</td>\n",
       "    </tr>\n",
       "    <tr>\n",
       "      <th>1</th>\n",
       "      <td>./images/2.jpg</td>\n",
       "      <td>AACHEN, Hans von</td>\n",
       "      <td>Oil on canvas</td>\n",
       "    </tr>\n",
       "    <tr>\n",
       "      <th>2</th>\n",
       "      <td>./images/3.jpg</td>\n",
       "      <td>AACHEN, Hans von</td>\n",
       "      <td>Copperplate</td>\n",
       "    </tr>\n",
       "    <tr>\n",
       "      <th>3</th>\n",
       "      <td>./images/4.jpg</td>\n",
       "      <td>AACHEN, Hans von</td>\n",
       "      <td>Oil on canvas</td>\n",
       "    </tr>\n",
       "    <tr>\n",
       "      <th>4</th>\n",
       "      <td>./images/5.jpg</td>\n",
       "      <td>AACHEN, Hans von</td>\n",
       "      <td>Oil on canvas</td>\n",
       "    </tr>\n",
       "  </tbody>\n",
       "</table>\n",
       "</div>"
      ],
      "text/plain": [
       "             FILE            AUTHOR      TECHNIQUE\n",
       "0  ./images/1.jpg  AACHEN, Hans von  Oil on copper\n",
       "1  ./images/2.jpg  AACHEN, Hans von  Oil on canvas\n",
       "2  ./images/3.jpg  AACHEN, Hans von    Copperplate\n",
       "3  ./images/4.jpg  AACHEN, Hans von  Oil on canvas\n",
       "4  ./images/5.jpg  AACHEN, Hans von  Oil on canvas"
      ]
     },
     "execution_count": 12,
     "metadata": {},
     "output_type": "execute_result"
    }
   ],
   "source": [
    "features = ['FILE','AUTHOR','TECHNIQUE']\n",
    "\n",
    "train_data = data[features]\n",
    "train_data.dropna()\n",
    "train_data.head()"
   ]
  },
  {
   "cell_type": "code",
   "execution_count": 13,
   "metadata": {},
   "outputs": [
    {
     "name": "stdout",
     "output_type": "stream",
     "text": [
      "[('AACHEN, Hans von', 'Oil on copper'), ('AACHEN, Hans von', 'Oil on canvas'), ('AACHEN, Hans von', 'Copperplate'), ('AACHEN, Hans von', 'Oil on canvas'), ('AACHEN, Hans von', 'Oil on canvas'), ('AAGAARD, Carl Frederik', 'Oil on canvas'), ('AAGAARD, Carl Frederik', 'Oil on canvas'), ('ABADIA, Juan de la', 'Wood'), ('ABAQUESNE, MassÃ©ot', 'Maiolica'), ('ABAQUESNE, MassÃ©ot', 'Ceramics'), ('ABAQUESNE, MassÃ©ot', 'Ceramics'), ('ABAQUESNE, MassÃ©ot', 'Ceramic mural composition'), (\"ABBATE, NiccolÃ² dell'\", '-'), (\"ABBATE, NiccolÃ² dell'\", 'Marble'), (\"ABBATE, NiccolÃ² dell'\", 'Oil on canvas'), (\"ABBATE, NiccolÃ² dell'\", 'Oil on canvas'), (\"ABBATE, NiccolÃ² dell'\", 'Oil on canvas'), (\"ABBATE, NiccolÃ² dell'\", 'Oil on canvas'), ('ABBATI, Giuseppe', 'Oil on panel'), ('ABBATI, Giuseppe', 'Oil on canvas'), ('ABBATI, Giuseppe', 'Oil on cardboard'), ('ABBATI, Giuseppe', 'Oil on panel'), ('ABBATINI, Guido Ubaldo', 'Oil on canvas'), ('ABEELE, Pieter van', 'Silver'), ('ABEELE, Pieter van', 'Silver'), ('ABEELE, Pieter van', 'Silver'), ('ABILDGAARD, Nicolai', 'Oil on canvas'), ('ABILDGAARD, Nicolai', 'Engraving'), ('ABONDIO, Antonio', 'Wax on obsidian'), ('ACHENBACH, Oswald', 'Oil on canvas'), ('ADAM, Albrecht', 'Oil and gouache on paper'), ('ADAM, Albrecht', 'Oil on canvas'), ('ADAM, Lambert-Sigisbert', 'Bronze'), ('ADAM, Lambert-Sigisbert', 'Lead'), ('ADAM, Lambert-Sigisbert', 'Marble'), ('ADAM, Lambert-Sigisbert', 'Drawing'), ('ADAM, Lambert-Sigisbert', 'Terracotta'), ('ADAM, Nicolas-SÃ©bastien', 'Bronze'), ('ADAM, Nicolas-SÃ©bastien', 'Marble'), ('ADAM, Nicolas-SÃ©bastien', 'Marble'), ('ADAM, Nicolas-SÃ©bastien', 'Marble'), ('ADAM, Nicolas-SÃ©bastien', 'Marble'), ('ADAM, Nicolas-SÃ©bastien', 'Marble'), ('ADAM, Nicolas-SÃ©bastien', 'Marble'), ('ADAM, Nicolas-SÃ©bastien', 'Marble'), ('ADAM, Robert', 'Photo'), ('ADAM, Robert', 'Photo'), ('ADAM, Robert', 'Photo'), ('ADAM, Robert', 'Photo'), ('ADAM-SALOMON, Antoine-Samuel', 'White marble'), ('ADEMOLLO, Luigi', 'Fresco'), ('ADEMOLLO, Luigi', 'Fresco'), ('ADEMOLLO, Luigi', 'Fresco'), ('ADEMOLLO, Luigi', 'Fresco'), ('ADEMOLLO, Luigi', 'Fresco'), ('ADEMOLLO, Luigi', 'Fresco'), ('ADEMOLLO, Luigi', 'Fresco'), ('ADEMOLLO, Luigi', 'Fresco'), ('ADEMOLLO, Luigi', 'Fresco'), ('ADEMOLLO, Luigi', 'Fresco'), ('ADEMOLLO, Luigi', 'Fresco'), ('ADLER, Salomon', 'Oil on canvas'), ('ADOLPHI, Christoffel', 'Silver'), ('ADRIAENSSEN, Alexander', 'Oil on canvas'), ('ADRIAENSSEN, Alexander', 'Oil on oak panel'), ('ADRIAENSSEN, Alexander', 'Oil on panel'), ('ADRIAENSSEN, Alexander', 'Oil on panel'), ('ADRIAENSSEN, Alexander', 'Oil on oak panel'), ('ADRIANO FIORENTINO', 'Brass'), ('ADRIANO FIORENTINO', 'Bronze'), ('ADRIANO FIORENTINO', 'Bronze'), ('ADRIANO FIORENTINO', 'Marble'), ('ADRIANO FIORENTINO', 'Cast copper alloy'), ('ADRIANO FIORENTINO', 'Bronze'), ('AELST, Willem van', 'Oil on canvas'), ('AELST, Willem van', 'Oil on canvas'), ('AELST, Willem van', 'Oil on canvas'), ('AELST, Willem van', 'Oil on canvas'), ('AELST, Willem van', 'Oil on canvas'), ('AELST, Willem van', 'Oil on canvas'), ('AELST, Willem van', 'Oil on canvas'), ('AELST, Willem van', 'Oil on canvas'), ('AELST, Willem van', 'Oil on canvas'), ('AELST, Willem van', 'Oil on panel'), ('AELST, Willem van', 'Oil on canvas'), ('AELST, Willem van', 'Oil on canvas'), ('AELST, Willem van', 'Oil on canvas'), ('AELST, Willem van', 'Oil on canvas'), ('AELST, Willem van', 'Oil on canvas'), ('AELST, Willem van', 'Oil on panel'), ('AELST, Willem van', 'Oil on copper'), ('AELST, Willem van', 'Oil on canvas'), ('AELST, Willem van', 'Oil on canvas'), ('AELST, Willem van', 'Oil on canvas'), ('AELST, Willem van', 'Black chalk on vellum'), ('AENVANCK, Theodoor', 'Oil on panel'), ('AERT VAN ORT', 'Stained glass'), ('AERTSEN, Pieter', 'Oil on wood'), ('AERTSEN, Pieter', 'Oil on wood'), ('AERTSEN, Pieter', 'Oil on wood'), ('AERTSEN, Pieter', 'Oil on wood'), ('AERTSEN, Pieter', 'Oil on canvas'), ('AERTSEN, Pieter', 'Oil on panel'), ('AERTSEN, Pieter', 'Oil on wood'), ('AERTSEN, Pieter', 'Oil on wood'), ('AERTSEN, Pieter', 'Oil on oak'), ('AERTSEN, Pieter', 'Oil on oak wood'), ('AERTSEN, Pieter', 'Oil on oak'), ('AERTSEN, Pieter', 'Oil on wood'), ('AERTSEN, Pieter', 'Oil on panel'), ('AERTSEN, Pieter', 'Oil on wood'), ('AERTSEN, Pieter', 'Oil on wood'), ('AERTSEN, Pieter', 'Oil on panel'), ('AERTSEN, Pieter', 'Oil on panel'), ('AERTSEN, Pieter', 'Oil on panel'), ('AERTSEN, Pieter', 'Oil on panel'), ('AGASSE, Jacques-Laurent', 'Oil on canvas'), ('AGASSE, Jacques-Laurent', 'Oil on panel'), ('AGASSE, Jacques-Laurent', 'Oil on paper laid down on board'), ('AGASSE, Jacques-Laurent', 'Oil on canvas'), ('AGASSE, Jacques-Laurent', 'Oil on canvas'), ('AGNOLO DI POLO', 'Gilt and painted terracotta'), ('AGNOLO DI VENTURA', 'Marble'), ('AGNOLO DI VENTURA', 'Marble'), ('AGNOLO DI VENTURA', 'Marble'), ('AGNOLO DI VENTURA', 'Marble'), ('AGNOLO DI VENTURA', 'Marble'), ('AGOSTINO DI DUCCIO', 'Marble'), ('AGOSTINO DI DUCCIO', 'Marble'), ('AGOSTINO DI DUCCIO', 'Marble'), ('AGOSTINO DI DUCCIO', 'Marble'), ('AGOSTINO DI DUCCIO', 'Terracotta with traces of paint'), ('AGOSTINO DI DUCCIO', 'Glazed terracotta'), ('AGOSTINO DI DUCCIO', 'Pietra caciolfa'), ('AGOSTINO DI DUCCIO', 'Marble'), ('AGOSTINO DI DUCCIO', 'Marble'), ('AGOSTINO DI DUCCIO', 'Marble'), ('AGOSTINO DI DUCCIO', 'Marble'), ('AGOSTINO DI DUCCIO', 'Photo'), ('AGOSTINO DI DUCCIO', 'Marble'), ('AGOSTINO DI DUCCIO', 'Marble'), ('AGOSTINO DI DUCCIO', 'Marble'), ('AGOSTINO DI DUCCIO', 'Marble'), ('AGOSTINO DI DUCCIO', 'Marble'), ('AGOSTINO DI DUCCIO', 'Marble'), ('AGOSTINO DI DUCCIO', 'Marble'), ('AGOSTINO DI DUCCIO', '-'), ('AGOSTINO DI GIOVANNI', 'Marble'), ('AGOSTINO DI GIOVANNI', 'Marble'), ('AGOSTINO DI GIOVANNI', 'Marble'), ('AGOSTINO DI GIOVANNI', 'Marble'), ('AGOSTINO DI GIOVANNI', 'Marble'), (\"AGRATE, Gian Francesco Ferrari d'\", 'Marble'), ('AIVAZOVSKY, Ivan Konstantinovich', 'Oil on canvas'), ('AIVAZOVSKY, Ivan Konstantinovich', 'Pencil and gouache on paper'), ('AIVAZOVSKY, Ivan Konstantinovich', 'Pencil and gouache on paper'), ('AIVAZOVSKY, Ivan Konstantinovich', 'Oil on canvas'), ('AKEN, Joseph van', 'Oil on canvas'), ('AKEN, Joseph van', 'Oil on canvas'), ('AKEN, Joseph van', 'Oil on canvas'), ('AKEN, Joseph van', 'Oil on canvas'), ('AKOTANTOS, Angelos', 'Tempera and leaf on panel'), ('AKOTANTOS, Angelos', 'Tempera on panel'), (\"ALBA, Macrino d'\", 'Oil on panel'), ('ALBANI, Francesco', 'Oil on canvas'), ('ALBANI, Francesco', 'Oil on canvas'), ('ALBANI, Francesco', 'Oil on canvas'), ('ALBANI, Francesco', 'Oil on canvas'), ('ALBANI, Francesco', 'Oil on canvas'), ('ALBANI, Francesco', 'Fresco'), ('ALBANI, Francesco', 'Fresco'), ('ALBANI, Francesco', 'Oil on canvas'), ('ALBANI, Francesco', 'Oil on copper'), ('ALBANI, Francesco', 'Oil on wood transferred to canvas'), ('ALBANI, Francesco', 'Oil on copper'), ('ALBANI, Francesco', 'Oil on copper'), ('ALBANI, Francesco', 'Oil on copper'), ('ALBANI, Francesco', 'Oil on canvas'), ('ALBANI, Francesco', 'Oil on canvas'), ('ALBANI, Francesco', 'Oil on canvas'), ('ALBANI, Francesco', 'Oil on canvas'), ('ALBANI, Francesco', 'Oil on canvas'), ('ALBANI, Francesco', 'Fresco'), ('ALBANI, Francesco', 'Fresco'), ('ALBANI, Francesco', 'Fresco'), ('ALBANI, Francesco', 'Fresco'), ('ALBANI, Francesco', 'Fresco'), ('ALBANI, Francesco', 'Fresco'), ('ALBANI, Francesco', 'Fresco'), ('ALBANI, Francesco', 'Fresco'), ('ALBANI, Francesco', 'Black crayon with white highlights on blue paper'), ('ALBEREGNO, Jacobello', 'Tempera on panel'), ('ALBEREGNO, Jacobello', 'Tempera on panel'), ('ALBEREGNO, Jacobello', 'Tempera on panel'), ('ALBEREGNO, Jacobello', 'Tempera on panel'), ('ALBERTI, Antonio', 'Fresco'), ('ALBERTI, Cherubino', 'Engraving. 320 x 170 cm'), ('ALBERTI, Cherubino', 'Engraving'), ('ALBERTI, Cherubino', 'Engraving. 280 x 190 mm'), ('ALBERTI, Cherubino', 'Fresco'), ('ALBERTI, Giovanni', 'Fresco'), ('ALBERTI, Leon Battista', 'Photo'), ('ALBERTI, Leon Battista', 'Photo'), ('ALBERTI, Leon Battista', 'Photo'), ('ALBERTI, Leon Battista', 'Photo'), ('ALBERTI, Leon Battista', 'Photo'), ('ALBERTI, Leon Battista', 'Photo'), ('ALBERTI, Leon Battista', 'Photo'), ('ALBERTI, Leon Battista', 'Photo'), ('ALBERTI, Leon Battista', 'Photo'), ('ALBERTI, Leon Battista', 'Photo'), ('ALBERTI, Leon Battista', 'Photo'), ('ALBERTI, Leon Battista', 'Photo'), ('ALBERTI, Leon Battista', 'Bronze'), ('ALBERTI, Leon Battista', 'Marble'), ('ALBERTI, Leon Battista', 'Marble'), ('ALBERTI, Leon Battista', 'Marble'), ('ALBERTI, Leon Battista', 'Photo'), ('ALBERTI, Leon Battista', 'Photo'), ('ALBERTINELLI, Mariotto', 'Panel'), ('ALBERTINELLI, Mariotto', 'Tempera on panel'), ('ALBERTINELLI, Mariotto', 'Panel'), ('ALBERTINELLI, Mariotto', 'Oil on wood'), ('ALBERTINELLI, Mariotto', 'Oil on wood'), ('ALBERTINELLI, Mariotto', 'Oil on wood'), ('ALBERTINELLI, Mariotto', 'Oil on wood'), ('ALBERTINELLI, Mariotto', 'Oil on panel'), ('ALBOTTO, Francesco', 'Oil on canvas'), ('ALBOTTO, Francesco', 'Oil on canvas'), ('ALCIBAR, JosÃ© de', 'Oil on canvas'), ('ALDROVANDI, Ulisse', 'Watercolour'), ('ALDROVANDI, Ulisse', 'Woodcut'), ('ALDROVANDI, Ulisse', 'Woodcut'), ('ALDROVANDI, Ulisse', 'Woodcut'), ('ALDROVANDI, Ulisse', 'Watercolour'), ('ALDROVANDI, Ulisse', 'Woodcut'), ('ALDROVANDI, Ulisse', 'Woodcut'), ('ALDROVANDI, Ulisse', 'Watercolour'), ('ALEKSANDROVIÃ\\x86, Ljubomir', 'Oil on canvas'), ('ALENZA Y NIETO, Leonardo', 'Oil on canvas'), ('ALENZA Y NIETO, Leonardo', 'Oil on canvas'), ('ALESSI, Galeazzo', '-'), ('ALESSI, Galeazzo', '-'), ('ALESSI, Galeazzo', '-'), ('ALESSO DI BENOZZO', 'Tempera and gold on wood'), ('ALESSO DI BENOZZO', 'Oil on panel'), ('ALESSO DI BENOZZO', 'Oil on panel'), ('ALESSO DI BENOZZO', 'Tempera on panel'), ('ALESSO DI BENOZZO', 'Tempera on wood'), ('ALGARDI, Alessandro', 'Bronze'), ('ALGARDI, Alessandro', 'Marble'), ('ALGARDI, Alessandro', 'Marble'), ('ALGARDI, Alessandro', 'Bronze'), ('ALGARDI, Alessandro', 'Marble'), ('ALGARDI, Alessandro', 'Marble'), ('ALGARDI, Alessandro', 'Marble'), ('ALGARDI, Alessandro', 'Marble'), ('ALGARDI, Alessandro', 'Bronze'), ('ALGARDI, Alessandro', 'Bronze'), ('ALGARDI, Alessandro', 'Stucco'), ('ALGARDI, Alessandro', 'Stucco'), ('ALGARDI, Alessandro', 'Marble'), ('ALGARDI, Alessandro', 'Marble'), ('ALGARDI, Alessandro', 'Marble'), ('ALGARDI, Alessandro', 'Marble'), ('ALGARDI, Alessandro', 'Marble'), ('ALGARDI, Alessandro', 'Black marble'), ('ALGARDI, Alessandro', 'Photo'), ('ALGARDI, Alessandro', 'Photo'), ('ALGARDI, Alessandro', 'Marble'), ('ALGARDI, Alessandro', 'Marble'), ('ALGARDI, Alessandro', 'Marble'), ('ALGARDI, Alessandro', 'Marble'), ('ALGARDI, Alessandro', 'Marble'), ('ALGARDI, Alessandro', 'Marble'), ('ALINCBROT, Louis', 'Oil on panel'), ('ALLAR, AndrÃ©-Joseph', 'White marble'), ('ALLAR, AndrÃ©-Joseph', 'White marble'), ('ALLAR, AndrÃ©-Joseph', 'White marble'), ('ALLAR, AndrÃ©-Joseph', 'Marble'), ('ALLAR, AndrÃ©-Joseph', 'Bronze'), ('ALLAR, AndrÃ©-Joseph', 'Bronze'), ('ALLEGRAIN, Christophe-Gabriel', 'Marble'), ('ALLEGRAIN, Etienne', 'Oil on canvas'), ('ALLEGRAIN, Etienne', 'Oil on canvas '), ('ALLEGRAIN, Etienne', 'Oil on canvas '), ('ALLORI, Alessandro', 'Fresco'), ('ALLORI, Alessandro', 'Fresco'), ('ALLORI, Alessandro', 'Fresco'), ('ALLORI, Alessandro', 'Fresco'), ('ALLORI, Alessandro', 'Fresco'), ('ALLORI, Alessandro', 'Red and black chalk'), ('ALLORI, Alessandro', 'Oil on copper'), ('ALLORI, Alessandro', 'Oil on canvas'), ('ALLORI, Alessandro', 'Oil on copper'), ('ALLORI, Alessandro', 'Oil on canvas'), ('ALLORI, Alessandro', 'Fresco'), ('ALLORI, Alessandro', 'Oil on copper'), ('ALLORI, Alessandro', 'Oil on canvas'), ('ALLORI, Alessandro', 'Fresco'), ('ALLORI, Alessandro', 'Oil on lead with gold leaf'), ('ALLORI, Alessandro', 'Oil on panel'), ('ALLORI, Alessandro', 'Oil on canvas transferred from wood'), ('ALLORI, Alessandro', 'Oil on copper'), ('ALLORI, Alessandro', 'Oil on copper'), ('ALLORI, Alessandro', 'Oil on slate'), ('ALLORI, Alessandro', 'Oil on canvas'), ('ALLORI, Alessandro', 'Fresco'), ('ALLORI, Alessandro', 'Fresco'), ('ALLORI, Alessandro', 'Oil on wood'), ('ALLORI, Cristofano', 'Oil on canvas'), ('ALLORI, Cristofano', 'Oil on canvas'), ('ALLORI, Cristofano', 'Oil on canvas'), ('ALLORI, Cristofano', 'Oil on canvas'), ('ALLORI, Cristofano', 'Oil on canvas'), ('ALLSTON, Washington', 'Oil on canvas'), ('ALMA-TADEMA, Lawrence', 'Oil on canvas'), ('ALMA-TADEMA, Lawrence', 'Oil on panel'), ('ALMA-TADEMA, Lawrence', 'Oil on panel'), ('ALMA-TADEMA, Lawrence', 'Oil on canvas'), ('ALMA-TADEMA, Lawrence', 'Watercolour'), ('ALMONACID, SebastiÃ¡n de', 'Marble'), ('ALMONACID, SebastiÃ¡n de', 'Marble'), ('ALSLOOT, Denis van', 'Oil on copper'), ('ALSLOOT, Denis van', 'Oil on oak panel'), ('ALSLOOT, Denis van', 'Oil on panel'), ('ALSLOOT, Denis van', 'Oil on wood'), ('ALSLOOT, Denis van', 'Oil on oak panel'), ('ALT, Rudolf von', 'Watercolour and gum arabic on paper'), ('ALTDORFER, Albrecht', 'Panel'), ('ALTDORFER, Albrecht', 'Parchment and wood'), ('ALTDORFER, Albrecht', 'Parchment on wood'), ('ALTDORFER, Albrecht', 'Wood'), ('ALTDORFER, Albrecht', 'Oil tempera on wood'), ('ALTDORFER, Albrecht', 'Lime panel'), ('ALTDORFER, Albrecht', 'Lime panel'), ('ALTDORFER, Albrecht', 'Fresco'), ('ALTDORFER, Albrecht', 'Oil on limewood'), ('ALTDORFER, Albrecht', 'Linden panel'), ('ALTDORFER, Albrecht', 'Parchment on lime panel'), ('ALTDORFER, Albrecht', 'Oil on panel'), ('ALTDORFER, Albrecht', 'Oil on panel'), ('ALTDORFER, Albrecht', 'Linden panel'), ('ALTDORFER, Albrecht', 'Oil on wood'), ('ALTDORFER, Albrecht', 'Wood'), ('ALTDORFER, Albrecht', 'Limewood'), ('ALTDORFER, Albrecht', 'Limewood'), ('ALTDORFER, Albrecht', 'Wood'), ('ALTDORFER, Albrecht', 'Wood'), ('ALTDORFER, Albrecht', 'Wood'), ('ALTDORFER, Albrecht', 'Oil on limewood'), ('ALTDORFER, Albrecht', 'Wood'), ('ALTDORFER, Albrecht', 'Pine panel'), ('ALTDORFER, Albrecht', 'Linden panel'), ('ALTDORFER, Albrecht', 'Oil on panel'), ('ALTDORFER, Albrecht', 'Oil on wood'), ('ALTDORFER, Albrecht', 'Oil on wood'), ('ALTDORFER, Albrecht', 'Oil on wood'), ('ALTDORFER, Albrecht', 'Oil on wood'), ('ALTDORFER, Albrecht', 'Oil on wood'), ('ALTDORFER, Albrecht', 'Oil on wood'), ('ALTDORFER, Albrecht', 'Oil on wood'), ('ALTDORFER, Albrecht', 'Woodcut with five tone blocks'), ('ALTDORFER, Albrecht', 'Etching'), ('ALTDORFER, Albrecht', 'Etching with watercolour'), ('ALTDORFER, Albrecht', 'Woodcut'), ('ALTENSTETTER, David', 'Silver and silvergilt'), ('ALTICHIERO da Zevio', 'Fresco'), ('ALTICHIERO da Zevio', 'Fresco'), ('ALTICHIERO da Zevio', 'Fresco'), ('ALTICHIERO da Zevio', 'Fresco'), ('ALTICHIERO da Zevio', 'Fresco'), ('ALTICHIERO da Zevio', 'Fresco'), ('ALTICHIERO da Zevio', 'Fresco'), ('ALTICHIERO da Zevio', 'Fresco'), ('ALTICHIERO da Zevio', 'Fresco'), ('ALTICHIERO da Zevio', 'Fresco'), ('ALTICHIERO da Zevio', 'Fresco'), ('ALTICHIERO da Zevio', 'Fresco'), ('ALTICHIERO da Zevio', 'Fresco'), ('ALTICHIERO da Zevio', 'Fresco'), ('ALTICHIERO da Zevio', 'Fresco'), ('ALTICHIERO da Zevio', 'Fresco'), ('ALTICHIERO da Zevio', 'Fresco'), ('ALTICHIERO da Zevio', 'Fresco'), ('ALTICHIERO da Zevio', 'Fresco'), ('ALTICHIERO da Zevio', 'Fresco'), ('ALTICHIERO da Zevio', 'Fresco'), ('ALTICHIERO da Zevio', 'Fresco'), ('ALTICHIERO da Zevio', 'Fresco'), ('ALTICHIERO da Zevio', 'Fresco'), (\"ALTISSIMO, Cristofano dell'\", 'Oil on wood'), (\"ALTISSIMO, Cristofano dell'\", 'Oil on canvas'), ('ALTOBELLO, Francesco Antonio', 'Oil on canvas'), ('ALTOMONTE, Bartolomeo', 'Oil on canvas'), ('ALTOMONTE, Martino', 'Oil on canvas'), ('ALTOMONTE, Martino', 'Oil on canvas'), ('Ã\\x81LVARES, Baltasar', 'Photo'), ('Ã\\x81LVARES, Baltasar', 'Photo'), ('Ã\\x81LVAREZ Y CUBERO, JosÃ©', 'Marble'), ('Ã\\x81LVAREZ Y CUBERO, JosÃ©', 'Marble'), ('Ã\\x81LVAREZ Y CUBERO, JosÃ©', 'Marble'), ('AMADEO, Giovanni Antonio', 'Photo'), ('AMADEO, Giovanni Antonio', 'Marble'), ('AMADEO, Giovanni Antonio', 'Marble'), ('AMADEO, Giovanni Antonio', '-'), ('AMBERGER, Christoph', 'Wood'), ('AMBERGER, Christoph', 'Oil on panel'), ('AMBERGER, Christoph', 'Oil on wood'), ('AMBERGER, Christoph', 'Oil on panel'), ('AMBERGER, Christoph', 'Wood'), ('AMBERGER, Christoph', 'Oil on wood'), ('AMBERGER, Christoph', 'Oil on wood'), ('AMEDEI, Giuliano', 'Tempera and gold on parchment'), ('AMENDOLA, Giovanni Battista', 'Bronze'), ('AMENDOLA, Giovanni Battista', 'Bronze'), ('AMERLING, Friedrich von', 'Oil on canvas'), ('AMERLING, Friedrich von', 'Oil on canvas'), ('AMERLING, Friedrich von', 'Oil on canvas'), ('AMERLING, Friedrich von', 'Oil on panel'), ('AMERLING, Friedrich von', 'Oil on canvas'), ('AMERLING, Friedrich von', 'Oil on canvas'), ('AMERLING, Friedrich von', 'Oil on canvas'), ('AMERLING, Friedrich von', 'Oil on canvas'), ('AMERLING, Friedrich von', 'Oil on canvas'), ('AMERLING, Friedrich von', 'Oil on canvas'), ('AMICO FRIULANO DEL DOSSO', 'Oil on canvas'), ('AMIGONI, Jacopo', 'Oil on canvas'), ('AMIGONI, Jacopo', 'Oil on canvas'), ('AMIGONI, Jacopo', 'Oil on canvas'), ('AMIGONI, Jacopo', 'Oil on canvas'), ('AMIGONI, Jacopo', 'Oil on canvas'), ('AMIGONI, Jacopo', 'Oil on canvas'), ('AMIGONI, Jacopo', 'Oil on canvas'), ('AMIGONI, Jacopo', 'Oil on canvas'), ('AMIGONI, Jacopo', 'Oil on canvas'), ('AMIGONI, Jacopo', 'Oil on canvas'), ('AMIGONI, Jacopo', 'Oil on canvas'), ('AMIGONI, Jacopo', 'Oil on canvas'), ('AMIGONI, Jacopo', 'Oil on canvas'), ('AMIGONI, Jacopo', 'Oil on canvas'), ('AMMAN, Jost', 'Woodcut'), ('AMMAN, Jost', 'Woodcut'), ('AMMAN, Jost', 'Woodcut'), ('AMMAN, Jost', 'Woodcut'), ('AMMAN, Jost', 'Woodcut'), ('AMMANATI, Bartolomeo', 'Bronze'), ('AMMANATI, Bartolomeo', 'Bronze'), ('AMMANATI, Bartolomeo', 'Marble'), ('AMMANATI, Bartolomeo', 'Marble'), ('AMMANATI, Bartolomeo', 'Marble'), ('AMMANATI, Bartolomeo', 'Marble'), ('AMMANATI, Bartolomeo', 'Bronze'), ('AMMANATI, Bartolomeo', 'Marble and bronze'), ('AMMANATI, Bartolomeo', 'Marble and bronze'), ('AMMANATI, Bartolomeo', 'Marble and bronze'), ('AMMANATI, Bartolomeo', 'Marble and bronze'), ('AMMANATI, Bartolomeo', 'Marble and bronze'), ('AMMANATI, Bartolomeo', 'Bronze'), ('AMMANATI, Bartolomeo', 'Bronze'), ('AMMANATI, Bartolomeo', 'Bronze'), ('AMMANATI, Bartolomeo', 'Bronze'), ('AMMANATI, Bartolomeo', 'Marble'), ('AMMANATI, Bartolomeo', 'Stucco'), ('AMMANATI, Bartolomeo', 'Marble'), ('AMMANATI, Bartolomeo', 'Stone'), ('AMMANATI, Bartolomeo', 'Photo'), ('AMMANATI, Bartolomeo', 'Photo'), ('AMMANATI, Bartolomeo', 'Photo'), ('AMMANATI, Bartolomeo', 'Photo'), ('AMMANATI, Bartolomeo', 'Photo'), ('AMMANATI, Bartolomeo', 'Photo'), ('AMMANATI, Bartolomeo', 'Photo'), ('AMMANATI, Bartolomeo', 'Pen'), ('AMSTEL, Jan van', 'Oil on oak panel'), ('ANCHER, Anna Kirstine', 'Oil on canvas'), ('ANCHER, Anna Kirstine', 'Oil on canvas'), (\"ANCONA, Vito d'\", 'Oil on canvas'), ('ANDERSON, William', 'Oil on canvas'), ('ANDERSON, William', 'Oil on canvas'), ('ANDERSON, William', 'Oil on canvas'), ('ANDERSON, William', 'Oil on oak panel'), ('ANDERSON, William', 'Oil on panel'), ('ANDREA DA FIRENZE', 'Fresco'), ('ANDREA DA FIRENZE', 'Fresco'), ('ANDREA DA FIRENZE', 'Fresco'), ('ANDREA DA FIRENZE', 'Fresco'), ('ANDREA DA FIRENZE', 'Fresco'), ('ANDREA DA FIRENZE', 'Fresco'), ('ANDREA DA FIRENZE', 'Fresco'), ('ANDREA DA FIRENZE', 'Fresco'), ('ANDREA DA FIRENZE', 'Fresco'), ('ANDREA DA FIRENZE', 'Fresco'), ('ANDREA DA FIRENZE', 'Fresco'), ('ANDREA DA FIRENZE', 'Fresco'), ('ANDREA DA FIRENZE', 'Fresco'), ('ANDREA DA FIRENZE', 'Fresco'), ('ANDREA DA FIRENZE', 'Fresco'), ('ANDREA DA FIRENZE', 'Fresco'), ('ANDREA DA FIRENZE', 'Fresco'), ('ANDREA DA FIRENZE', 'Fresco'), ('ANDREA DA FIRENZE', 'Fresco'), ('ANDREA DA FIRENZE', 'Fresco'), ('ANDREA DA FIRENZE', 'Fresco'), ('ANDREA DA FIRENZE', 'Fresco'), ('ANDREA DA FIRENZE', 'Fresco'), ('ANDREA DA FIRENZE', 'Fresco'), ('ANDREA DA FIRENZE', 'Fresco'), ('ANDREA DA FIRENZE', 'Fresco'), ('ANDREA DA FIRENZE', 'Fresco'), ('ANDREA DA FIRENZE', 'Fresco'), ('ANDREA DA FIRENZE', 'Fresco'), ('ANDREA DA FIRENZE', 'Fresco'), ('ANDREA DA FIRENZE', 'Fresco'), ('ANDREA DA FIRENZE', 'Fresco'), ('ANDREA DA FIRENZE', 'Fresco'), ('ANDREA DA FIRENZE', 'Fresco'), ('ANDREA DA FIRENZE', 'Fresco'), ('ANDREA DA FIRENZE', 'Fresco'), ('ANDREA DA FIRENZE', 'Egg tempera on wood'), ('ANDREA DA FIRENZE', 'Egg tempera on wood'), ('ANDREA DA FIRENZE', 'Egg tempera on wood'), ('ANDREA DA FIRENZE', 'Egg tempera on wood'), ('ANDREA DA FIRENZE', 'Egg tempera on wood'), ('ANDREA DA FIRENZE', 'Egg tempera on wood'), ('ANDREA DA FIRENZE', 'Tempera on wood'), ('ANDREA DA FIRENZE', 'Wood'), ('ANDREA DA FIRENZE', 'Wood'), ('ANDREA DA FIRENZE', 'Fresco'), ('ANDREA DA MURANO', 'Tempera on wood'), ('ANDREA DA MURANO', 'Tempera on wood'), ('ANDREA DA MURANO', 'Tempera on wood transferred to canvas'), ('ANDREA DEL CASTAGNO', 'Fresco'), ('ANDREA DEL CASTAGNO', 'Fresco'), ('ANDREA DEL CASTAGNO', 'Fresco'), ('ANDREA DEL CASTAGNO', 'Fresco'), ('ANDREA DEL CASTAGNO', 'Fresco'), ('ANDREA DEL CASTAGNO', 'Mosaic'), ('ANDREA DEL CASTAGNO', 'Mosaic'), ('ANDREA DEL CASTAGNO', 'Mosaic'), ('ANDREA DEL CASTAGNO', 'Stained glass'), ('ANDREA DEL CASTAGNO', 'Fresco'), ('ANDREA DEL CASTAGNO', 'Fresco'), ('ANDREA DEL CASTAGNO', 'Fresco'), ('ANDREA DEL CASTAGNO', 'Fresco'), ('ANDREA DEL CASTAGNO', 'Fresco'), ('ANDREA DEL CASTAGNO', 'Synopia'), ('ANDREA DEL CASTAGNO', 'Fresco'), ('ANDREA DEL CASTAGNO', 'Fresco'), ('ANDREA DEL CASTAGNO', 'Fresco'), ('ANDREA DEL CASTAGNO', 'Fresco'), ('ANDREA DEL CASTAGNO', 'Fresco'), ('ANDREA DEL CASTAGNO', 'Fresco'), ('ANDREA DEL CASTAGNO', 'Fresco'), ('ANDREA DEL CASTAGNO', 'Fresco'), ('ANDREA DEL CASTAGNO', 'Fresco'), ('ANDREA DEL CASTAGNO', 'Fresco'), ('ANDREA DEL CASTAGNO', 'Fresco'), ('ANDREA DEL CASTAGNO', 'Fresco'), ('ANDREA DEL CASTAGNO', 'Fresco'), ('ANDREA DEL CASTAGNO', 'Photo'), ('ANDREA DEL CASTAGNO', 'Fresco'), ('ANDREA DEL CASTAGNO', 'Fresco'), ('ANDREA DEL CASTAGNO', 'Fresco transferred to wood'), ('ANDREA DEL CASTAGNO', 'Fresco transferred to wood'), ('ANDREA DEL CASTAGNO', 'Fresco transferred to wood'), ('ANDREA DEL CASTAGNO', 'Fresco transferred to wood'), ('ANDREA DEL CASTAGNO', 'Fresco transferred to wood'), ('ANDREA DEL CASTAGNO', 'Fresco transferred to wood'), ('ANDREA DEL CASTAGNO', 'Fresco'), ('ANDREA DEL CASTAGNO', 'Fresco transferred to wood'), ('ANDREA DEL CASTAGNO', 'Fresco transferred to wood'), ('ANDREA DEL CASTAGNO', 'Panel'), ('ANDREA DEL CASTAGNO', 'Panel'), ('ANDREA DEL CASTAGNO', 'Tempera on leather on wood'), ('ANDREA DEL CASTAGNO', 'Fresco'), ('ANDREA DEL CASTAGNO', 'Fresco'), ('ANDREA DEL CASTAGNO', 'Fresco'), ('ANDREA DEL CASTAGNO', 'Fresco'), ('ANDREA DEL CASTAGNO', 'Fresco'), ('ANDREA DEL CASTAGNO', 'Tempera on panel'), ('ANDREA DEL CASTAGNO', 'Fresco'), ('ANDREA DEL CASTAGNO', 'Fresco'), ('ANDREA DEL SARTO', 'Oil on wood'), ('ANDREA DEL SARTO', 'Fresco'), ('ANDREA DEL SARTO', 'Fresco'), ('ANDREA DEL SARTO', 'Fresco'), ('ANDREA DEL SARTO', 'Frescoes'), ('ANDREA DEL SARTO', 'Fresco'), ('ANDREA DEL SARTO', 'Fresco'), ('ANDREA DEL SARTO', 'Red chalk'), ('ANDREA DEL SARTO', 'Fresco'), ('ANDREA DEL SARTO', 'Oil on canvas (transferred)'), ('ANDREA DEL SARTO', 'Oil on wood'), ('ANDREA DEL SARTO', 'Oil on wood'), ('ANDREA DEL SARTO', 'Oil on wood'), ('ANDREA DEL SARTO', 'Oil on panel'), ('ANDREA DEL SARTO', 'Oil on wood'), ('ANDREA DEL SARTO', 'Oil on wood'), ('ANDREA DEL SARTO', 'Oil on canvas transferred from wood'), ('ANDREA DEL SARTO', 'Oil on wood'), ('ANDREA DEL SARTO', 'Oil on wood'), ('ANDREA DEL SARTO', 'Oil on canvas'), ('ANDREA DEL SARTO', 'Wood'), ('ANDREA DEL SARTO', 'Panel'), ('ANDREA DEL SARTO', 'Oil on canvas'), ('ANDREA DEL SARTO', 'Fresco'), ('ANDREA DEL SARTO', 'Fresco'), ('ANDREA DEL SARTO', 'Fresco'), ('ANDREA DEL SARTO', 'Fresco'), ('ANDREA DEL SARTO', 'Sanguine'), ('ANDREA DEL SARTO', 'Oil on wood'), ('ANDREA DEL SARTO', 'Oil on wood'), ('ANDREA DEL SARTO', 'Oil on wood'), ('ANDREA DEL SARTO', 'Oil on wood'), ('ANDREA DEL SARTO', 'Fresco'), ('ANDREA DEL SARTO', 'Fresco'), ('ANDREA DEL SARTO', 'Fresco'), ('ANDREA DEL SARTO', 'Fresco'), ('ANDREA DEL SARTO', 'Fresco'), ('ANDREA DEL SARTO', 'Drawing'), ('ANDREA DEL SARTO', 'Oil on wood'), ('ANDREA DEL SARTO', 'Oil on wood'), ('ANDREA DEL SARTO', 'Oil on poplar panel'), ('ANDREA DEL SARTO', 'Oil on wood'), ('ANDREA DEL SARTO', 'Charcoal on paper'), ('ANDREA DEL SARTO', 'Oil on panel'), ('ANDREA DEL SARTO', 'Oil on wood'), ('ANDREA DEL SARTO', 'Oil on wood'), ('ANDREA DEL SARTO', 'Oil on wood'), ('ANDREA DEL SARTO', 'Oil on wood'), ('ANDREA DEL SARTO', 'Oil on wood'), ('ANDREA DEL SARTO', 'Oil on wood'), ('ANDREA DEL SARTO', 'Oil on wood'), ('ANDREA DEL SARTO', 'Oil on wood'), ('ANDREA DEL SARTO', 'Oil on wood'), ('ANDREA DEL SARTO', 'Oil on canvas'), ('ANDREA DEL SARTO', 'Fresco'), ('ANDREA DEL SARTO', 'Oil on wood'), ('ANDREA DEL SARTO', 'Oil on wood'), ('ANDREA DEL SARTO', 'Oil on wood'), ('ANDREA DEL SARTO', 'Oil on wood'), ('ANDREA DEL SARTO', 'Tempera on wood'), ('ANDREA DEL SARTO', 'Tempera on wood'), ('ANDREA DEL SARTO', 'Oil on wood'), ('ANDREA DI BARTOLO', 'Panel'), ('ANDREA DI BARTOLO', 'Oil on panel'), ('ANDREA DI BARTOLO', 'Tempera on wood'), ('ANDREA DI BARTOLO', 'Oil on panel'), ('ANDREA DI NERIO', 'Tempera'), (\"ANDREA di Vanni d'Andrea\", 'Tempera on wood'), (\"ANDREA di Vanni d'Andrea\", 'Tempera on wood'), (\"ANDREA di Vanni d'Andrea\", 'Tempera on wood'), (\"ANDREA di Vanni d'Andrea\", 'Tempera on wood'), (\"ANDREA di Vanni d'Andrea\", 'Tempera on wood'), (\"ANDREA di Vanni d'Andrea\", 'Tempera on wood'), (\"ANDREA di Vanni d'Andrea\", 'Tempera on panel'), ('ANDREANI, Andrea', 'Chiaroscuro woodcut'), ('ANDREANI, Andrea', 'Chiaroscuro woodcut'), ('ANDREANI, Andrea', 'Chiaroscuro woodcut'), ('ANDREANI, Andrea', 'Chiaroscuro woodcut'), ('ANDREANI, Andrea', 'Chiaroscuro woodcut'), ('ANDREANI, Andrea', 'Chiaroscuro woodcut'), ('ANDREANI, Andrea', 'Chiaroscuro woodcut'), ('ANDREANI, Andrea', 'Chiaroscuro woodcut'), ('ANDREANI, Andrea', 'Chiaroscuro woodcut'), ('ANDREESCU, Ion', 'Oil on canvas'), ('ANDREESCU, Ion', 'Oil on canvas'), ('ANDREOLI, Giorgio', 'Tin-glazed earthenware'), ('ANDREOLI, Giorgio', 'Lustred tin-glazed earthenware'), ('ANDRIESSEN, Jurriaan', 'Oil on canvas'), ('ANDRIESSEN, Jurriaan', 'Oil on canvas'), ('ANDROUET DU CERCEAU, Jacques the Elder', 'Engraving'), ('ANDROUET DU CERCEAU, Jacques the Elder', 'Engraving'), ('ANDROUET DU CERCEAU, Jacques the Elder', 'Engraving'), ('ANDROUET DU CERCEAU, Jacques the Elder', 'Engraving'), ('ANESI, Paolo', 'Oil on canvas'), ('ANESI, Paolo', 'Oil on canvas'), ('ANESI, Paolo', 'Oil on copper'), ('ANESI, Paolo', 'Oil on canvas'), ('ANESI, Paolo', 'Oil on canvas'), ('ANESI, Paolo', 'Oil on canvas'), ('ANESI, Paolo', 'Oil on canvas'), ('Ã\\x81NGEL, Pedro', 'Engraving'), ('ANGELI, Giuseppe', 'Fresco'), ('ANGELI, Giuseppe', 'Fresco'), ('ANGELI, Giuseppe', 'Fresco'), ('ANGELI, Giuseppe', 'Fresco'), ('ANGELI, Giuseppe', 'Fresco'), ('ANGELI, Giuseppe', 'Fresco'), ('ANGELI, Giuseppe', 'Fresco'), ('ANGELI, Giuseppe', 'Fresco'), ('ANGELI, Giuseppe', 'Fresco'), ('ANGELI, Giuseppe', 'Fresco'), ('ANGELI, Giuseppe', 'Oil on canvas'), ('ANGELI, Giuseppe', 'Oil on canvas'), ('ANGELI, Giuseppe', 'Oil on canvas'), ('ANGELI, Giuseppe', 'Oil on canvas'), ('ANGELI, Giuseppe', 'Oil on canvas'), ('ANGELICO, Fra', 'Tempera and gold on panel')]\n",
      "700\n",
      "             FILE            AUTHOR      TECHNIQUE  \\\n",
      "0  ./images/1.jpg  AACHEN, Hans von  Oil on copper   \n",
      "1  ./images/2.jpg  AACHEN, Hans von  Oil on canvas   \n",
      "2  ./images/3.jpg  AACHEN, Hans von    Copperplate   \n",
      "3  ./images/4.jpg  AACHEN, Hans von  Oil on canvas   \n",
      "4  ./images/5.jpg  AACHEN, Hans von  Oil on canvas   \n",
      "\n",
      "                                   label  \n",
      "0  ('AACHEN, Hans von', 'Oil on copper')  \n",
      "1  ('AACHEN, Hans von', 'Oil on canvas')  \n",
      "2    ('AACHEN, Hans von', 'Copperplate')  \n",
      "3  ('AACHEN, Hans von', 'Oil on canvas')  \n",
      "4  ('AACHEN, Hans von', 'Oil on canvas')  \n"
     ]
    },
    {
     "name": "stderr",
     "output_type": "stream",
     "text": [
      "C:\\Users\\rullo\\AppData\\Local\\Temp\\ipykernel_18364\\828865807.py:5: SettingWithCopyWarning: \n",
      "A value is trying to be set on a copy of a slice from a DataFrame.\n",
      "Try using .loc[row_indexer,col_indexer] = value instead\n",
      "\n",
      "See the caveats in the documentation: https://pandas.pydata.org/pandas-docs/stable/user_guide/indexing.html#returning-a-view-versus-a-copy\n",
      "  train_data['label'] = l\n"
     ]
    }
   ],
   "source": [
    "l = list(zip(train_data['AUTHOR'],train_data['TECHNIQUE']))\n",
    "print(l)\n",
    "print(len(l))\n",
    "l = [str(i) for i in l]\n",
    "train_data['label'] = l\n",
    "print(train_data.head())"
   ]
  },
  {
   "cell_type": "code",
   "execution_count": 14,
   "metadata": {},
   "outputs": [
    {
     "name": "stdout",
     "output_type": "stream",
     "text": [
      "{\"('ALBERTI, Antonio', 'Fresco')\": 0, \"('AAGAARD, Carl Frederik', 'Oil on canvas')\": 1, \"('ALLEGRAIN, Etienne', 'Oil on canvas ')\": 2, \"('AERT VAN ORT', 'Stained glass')\": 3, \"('AACHEN, Hans von', 'Copperplate')\": 4, \"('ALINCBROT, Louis', 'Oil on panel')\": 5, \"('ALTDORFER, Albrecht', 'Etching')\": 6, \"('ANDREA DEL CASTAGNO', 'Fresco transferred to wood')\": 7, \"('ALBERTINELLI, Mariotto', 'Panel')\": 8, \"('ANDREA DEL CASTAGNO', 'Synopia')\": 9, \"('ALTOMONTE, Bartolomeo', 'Oil on canvas')\": 10, \"('ANDREA DEL CASTAGNO', 'Photo')\": 11, \"('ADAM, Nicolas-SÃ©bastien', 'Marble')\": 12, \"('ANDREA DA MURANO', 'Tempera on wood transferred to canvas')\": 13, \"('ALESSO DI BENOZZO', 'Tempera on panel')\": 14, \"('AMMANATI, Bartolomeo', 'Photo')\": 15, \"('ALTDORFER, Albrecht', 'Etching with watercolour')\": 16, \"('ALGARDI, Alessandro', 'Stucco')\": 17, \"('AACHEN, Hans von', 'Oil on copper')\": 18, \"('ABAQUESNE, MassÃ©ot', 'Maiolica')\": 19, \"('ADAM, Robert', 'Photo')\": 20, \"('ADRIANO FIORENTINO', 'Bronze')\": 21, \"('AELST, Willem van', 'Oil on copper')\": 22, \"('ALESSO DI BENOZZO', 'Tempera and gold on wood')\": 23, \"('AMADEO, Giovanni Antonio', 'Marble')\": 24, \"('ADRIAENSSEN, Alexander', 'Oil on oak panel')\": 25, \"('ALTDORFER, Albrecht', 'Linden panel')\": 26, '(\"ALTISSIMO, Cristofano dell\\'\", \\'Oil on wood\\')': 27, \"('AKOTANTOS, Angelos', 'Tempera on panel')\": 28, \"('ALGARDI, Alessandro', 'Black marble')\": 29, \"('AMMANATI, Bartolomeo', 'Pen')\": 30, \"('ANDERSON, William', 'Oil on panel')\": 31, \"('ALLORI, Cristofano', 'Oil on canvas')\": 32, \"('ADAM, Lambert-Sigisbert', 'Drawing')\": 33, \"('ALTDORFER, Albrecht', 'Parchment on wood')\": 34, \"('ALTDORFER, Albrecht', 'Parchment and wood')\": 35, \"('ABAQUESNE, MassÃ©ot', 'Ceramics')\": 36, \"('ANDREA DA FIRENZE', 'Egg tempera on wood')\": 37, \"('ALTICHIERO da Zevio', 'Fresco')\": 38, \"('ALLORI, Alessandro', 'Oil on copper')\": 39, \"('ALBERTI, Cherubino', 'Engraving. 320 x 170 cm')\": 40, \"('ALLAR, AndrÃ©-Joseph', 'Marble')\": 41, \"('ANDREA DEL SARTO', 'Sanguine')\": 42, \"('AMIGONI, Jacopo', 'Oil on canvas')\": 43, \"('ALDROVANDI, Ulisse', 'Woodcut')\": 44, \"('ANDREA DI BARTOLO', 'Tempera on wood')\": 45, '(\"ANDREA di Vanni d\\'Andrea\", \\'Tempera on wood\\')': 46, \"('ANDREA DEL SARTO', 'Oil on poplar panel')\": 47, \"('ABBATI, Giuseppe', 'Oil on canvas')\": 48, \"('ADRIANO FIORENTINO', 'Cast copper alloy')\": 49, \"('AKOTANTOS, Angelos', 'Tempera and leaf on panel')\": 50, \"('ALBERTINELLI, Mariotto', 'Tempera on panel')\": 51, \"('ANDREA DEL SARTO', 'Oil on wood')\": 52, \"('ANDREA DEL SARTO', 'Red chalk')\": 53, \"('AENVANCK, Theodoor', 'Oil on panel')\": 54, '(\"ALBA, Macrino d\\'\", \\'Oil on panel\\')': 55, \"('ALCIBAR, JosÃ© de', 'Oil on canvas')\": 56, \"('ALENZA Y NIETO, Leonardo', 'Oil on canvas')\": 57, \"('ALBERTI, Leon Battista', 'Marble')\": 58, \"('ANDREA DEL CASTAGNO', 'Stained glass')\": 59, \"('ALBANI, Francesco', 'Oil on wood transferred to canvas')\": 60, \"('ADEMOLLO, Luigi', 'Fresco')\": 61, \"('AMMANATI, Bartolomeo', 'Stucco')\": 62, \"('ALTDORFER, Albrecht', 'Panel')\": 63, '(\"ANCONA, Vito d\\'\", \\'Oil on canvas\\')': 64, \"('ALBANI, Francesco', 'Oil on canvas')\": 65, \"('ANDREA DEL SARTO', 'Tempera on wood')\": 66, \"('AERTSEN, Pieter', 'Oil on canvas')\": 67, \"('ALGARDI, Alessandro', 'Marble')\": 68, \"('ALLORI, Alessandro', 'Oil on panel')\": 69, \"('ALTDORFER, Albrecht', 'Oil tempera on wood')\": 70, \"('ANDREOLI, Giorgio', 'Lustred tin-glazed earthenware')\": 71, \"('ADRIAENSSEN, Alexander', 'Oil on canvas')\": 72, \"('ANDREA DEL SARTO', 'Oil on panel')\": 73, \"('AGASSE, Jacques-Laurent', 'Oil on panel')\": 74, \"('ALESSO DI BENOZZO', 'Tempera on wood')\": 75, \"('ALLAR, AndrÃ©-Joseph', 'White marble')\": 76, \"('ANDROUET DU CERCEAU, Jacques the Elder', 'Engraving')\": 77, \"('AIVAZOVSKY, Ivan Konstantinovich', 'Pencil and gouache on paper')\": 78, \"('ADAM, Lambert-Sigisbert', 'Bronze')\": 79, \"('ABAQUESNE, MassÃ©ot', 'Ceramic mural composition')\": 80, \"('ALESSO DI BENOZZO', 'Oil on panel')\": 81, \"('ANDREA DEL CASTAGNO', 'Tempera on leather on wood')\": 82, \"('AGOSTINO DI DUCCIO', 'Terracotta with traces of paint')\": 83, \"('AMMANATI, Bartolomeo', 'Stone')\": 84, \"('ANDERSON, William', 'Oil on oak panel')\": 85, \"('ANDREA DEL SARTO', 'Oil on canvas transferred from wood')\": 86, \"('Ã\\\\x81LVARES, Baltasar', 'Photo')\": 87, \"('ADAM-SALOMON, Antoine-Samuel', 'White marble')\": 88, \"('ANDREA DA MURANO', 'Tempera on wood')\": 89, \"('ADAM, Lambert-Sigisbert', 'Lead')\": 90, \"('ALBANI, Francesco', 'Black crayon with white highlights on blue paper')\": 91, \"('AMERLING, Friedrich von', 'Oil on panel')\": 92, \"('ALMA-TADEMA, Lawrence', 'Oil on panel')\": 93, \"('AMBERGER, Christoph', 'Wood')\": 94, \"('ALTDORFER, Albrecht', 'Woodcut')\": 95, \"('ANDREA DEL SARTO', 'Drawing')\": 96, \"('ANCHER, Anna Kirstine', 'Oil on canvas')\": 97, \"('ANDREA DEL SARTO', 'Charcoal on paper')\": 98, \"('ADRIANO FIORENTINO', 'Brass')\": 99, \"('AGOSTINO DI DUCCIO', 'Glazed terracotta')\": 100, \"('AGOSTINO DI GIOVANNI', 'Marble')\": 101, \"('ABBATI, Giuseppe', 'Oil on cardboard')\": 102, \"('ABILDGAARD, Nicolai', 'Engraving')\": 103, \"('ABONDIO, Antonio', 'Wax on obsidian')\": 104, \"('ALBERTINELLI, Mariotto', 'Oil on panel')\": 105, \"('ALBANI, Francesco', 'Fresco')\": 106, \"('ALEKSANDROVIÃ\\\\x86, Ljubomir', 'Oil on canvas')\": 107, \"('ALLEGRAIN, Etienne', 'Oil on canvas')\": 108, \"('ALLORI, Alessandro', 'Oil on wood')\": 109, \"('ALTOMONTE, Martino', 'Oil on canvas')\": 110, \"('AGNOLO DI POLO', 'Gilt and painted terracotta')\": 111, \"('ALBERTI, Leon Battista', 'Bronze')\": 112, \"('AIVAZOVSKY, Ivan Konstantinovich', 'Oil on canvas')\": 113, \"('AMENDOLA, Giovanni Battista', 'Bronze')\": 114, \"('AMMANATI, Bartolomeo', 'Marble')\": 115, \"('ANDRIESSEN, Jurriaan', 'Oil on canvas')\": 116, \"('ACHENBACH, Oswald', 'Oil on canvas')\": 117, \"('ALSLOOT, Denis van', 'Oil on copper')\": 118, \"('ANDREA DA FIRENZE', 'Fresco')\": 119, \"('ABILDGAARD, Nicolai', 'Oil on canvas')\": 120, \"('AERTSEN, Pieter', 'Oil on oak wood')\": 121, \"('ABBATI, Giuseppe', 'Oil on panel')\": 122, \"('ANDREA DEL CASTAGNO', 'Panel')\": 123, '(\"ABBATE, NiccolÃ² dell\\'\", \\'-\\')': 124, \"('ANDREA DEL CASTAGNO', 'Fresco')\": 125, \"('ANDREA DI BARTOLO', 'Panel')\": 126, \"('ANDREESCU, Ion', 'Oil on canvas')\": 127, \"('ALTDORFER, Albrecht', 'Fresco')\": 128, \"('ALBOTTO, Francesco', 'Oil on canvas')\": 129, \"('ANDERSON, William', 'Oil on canvas')\": 130, \"('ANDREA DEL SARTO', 'Frescoes')\": 131, \"('ADAM, Nicolas-SÃ©bastien', 'Bronze')\": 132, \"('Ã\\\\x81NGEL, Pedro', 'Engraving')\": 133, \"('ALTDORFER, Albrecht', 'Wood')\": 134, \"('ALTDORFER, Albrecht', 'Pine panel')\": 135, \"('ANESI, Paolo', 'Oil on canvas')\": 136, \"('ALLSTON, Washington', 'Oil on canvas')\": 137, \"('ANDREA DEL SARTO', 'Oil on canvas (transferred)')\": 138, \"('ALTDORFER, Albrecht', 'Lime panel')\": 139, \"('ADOLPHI, Christoffel', 'Silver')\": 140, \"('ALTDORFER, Albrecht', 'Parchment on lime panel')\": 141, \"('AGNOLO DI VENTURA', 'Marble')\": 142, \"('ALT, Rudolf von', 'Watercolour and gum arabic on paper')\": 143, \"('ABEELE, Pieter van', 'Silver')\": 144, \"('ADAM, Albrecht', 'Oil and gouache on paper')\": 145, \"('ALTDORFER, Albrecht', 'Woodcut with five tone blocks')\": 146, \"('ADRIANO FIORENTINO', 'Marble')\": 147, \"('ALMONACID, SebastiÃ¡n de', 'Marble')\": 148, \"('ALBERTINELLI, Mariotto', 'Oil on wood')\": 149, \"('ALSLOOT, Denis van', 'Oil on panel')\": 150, \"('AACHEN, Hans von', 'Oil on canvas')\": 151, \"('ADRIAENSSEN, Alexander', 'Oil on panel')\": 152, \"('AELST, Willem van', 'Oil on canvas')\": 153, \"('ALLORI, Alessandro', 'Oil on canvas transferred from wood')\": 154, \"('ALTDORFER, Albrecht', 'Oil on limewood')\": 155, '(\"ALTISSIMO, Cristofano dell\\'\", \\'Oil on canvas\\')': 156, \"('ANDREA DEL SARTO', 'Panel')\": 157, \"('ANDREOLI, Giorgio', 'Tin-glazed earthenware')\": 158, \"('ABBATINI, Guido Ubaldo', 'Oil on canvas')\": 159, \"('ALTENSTETTER, David', 'Silver and silvergilt')\": 160, \"('AMMAN, Jost', 'Woodcut')\": 161, \"('ALLAR, AndrÃ©-Joseph', 'Bronze')\": 162, \"('ALLORI, Alessandro', 'Oil on slate')\": 163, \"('ALLORI, Alessandro', 'Oil on lead with gold leaf')\": 164, \"('AMICO FRIULANO DEL DOSSO', 'Oil on canvas')\": 165, \"('AMBERGER, Christoph', 'Oil on wood')\": 166, \"('ALLORI, Alessandro', 'Oil on canvas')\": 167, \"('ANDREA DEL SARTO', 'Oil on canvas')\": 168, \"('ABADIA, Juan de la', 'Wood')\": 169, \"('AMADEO, Giovanni Antonio', 'Photo')\": 170, \"('AGOSTINO DI DUCCIO', 'Pietra caciolfa')\": 171, \"('ALBERTI, Cherubino', 'Fresco')\": 172, \"('AERTSEN, Pieter', 'Oil on oak')\": 173, \"('ALBERTI, Cherubino', 'Engraving')\": 174, \"('ALBANI, Francesco', 'Oil on copper')\": 175, \"('AKEN, Joseph van', 'Oil on canvas')\": 176, \"('AGOSTINO DI DUCCIO', '-')\": 177, \"('ANDREA DI NERIO', 'Tempera')\": 178, \"('Ã\\\\x81LVAREZ Y CUBERO, JosÃ©', 'Marble')\": 179, \"('AERTSEN, Pieter', 'Oil on wood')\": 180, \"('ALGARDI, Alessandro', 'Bronze')\": 181, \"('ANESI, Paolo', 'Oil on copper')\": 182, \"('ANGELI, Giuseppe', 'Oil on canvas')\": 183, \"('ALSLOOT, Denis van', 'Oil on wood')\": 184, \"('AGASSE, Jacques-Laurent', 'Oil on paper laid down on board')\": 185, \"('AGOSTINO DI DUCCIO', 'Photo')\": 186, \"('ADLER, Salomon', 'Oil on canvas')\": 187, \"('AMBERGER, Christoph', 'Oil on panel')\": 188, \"('ALBERTI, Cherubino', 'Engraving. 280 x 190 mm')\": 189, \"('ANDREA DA FIRENZE', 'Wood')\": 190, \"('ALMA-TADEMA, Lawrence', 'Watercolour')\": 191, \"('AMERLING, Friedrich von', 'Oil on canvas')\": 192, \"('ALMA-TADEMA, Lawrence', 'Oil on canvas')\": 193, \"('ALLEGRAIN, Christophe-Gabriel', 'Marble')\": 194, \"('ADAM, Lambert-Sigisbert', 'Marble')\": 195, \"('AMMANATI, Bartolomeo', 'Marble and bronze')\": 196, \"('ANGELICO, Fra', 'Tempera and gold on panel')\": 197, \"('ALSLOOT, Denis van', 'Oil on oak panel')\": 198, '(\"ABBATE, NiccolÃ² dell\\'\", \\'Oil on canvas\\')': 199, \"('ALBERTI, Leon Battista', 'Photo')\": 200, \"('ALTDORFER, Albrecht', 'Oil on wood')\": 201, '(\"AGRATE, Gian Francesco Ferrari d\\'\", \\'Marble\\')': 202, \"('AERTSEN, Pieter', 'Oil on panel')\": 203, \"('ALDROVANDI, Ulisse', 'Watercolour')\": 204, \"('ALLORI, Alessandro', 'Fresco')\": 205, \"('ANDREA DEL SARTO', 'Fresco')\": 206, \"('ANDREA DA FIRENZE', 'Tempera on wood')\": 207, \"('ANDREANI, Andrea', 'Chiaroscuro woodcut')\": 208, \"('ALGARDI, Alessandro', 'Photo')\": 209, \"('AMEDEI, Giuliano', 'Tempera and gold on parchment')\": 210, \"('AGOSTINO DI DUCCIO', 'Marble')\": 211, \"('ANDREA DEL SARTO', 'Wood')\": 212, \"('ADAM, Lambert-Sigisbert', 'Terracotta')\": 213, \"('ADAM, Albrecht', 'Oil on canvas')\": 214, \"('ALTDORFER, Albrecht', 'Limewood')\": 215, \"('ALLORI, Alessandro', 'Red and black chalk')\": 216, \"('AMSTEL, Jan van', 'Oil on oak panel')\": 217, '(\"ABBATE, NiccolÃ² dell\\'\", \\'Marble\\')': 218, \"('AELST, Willem van', 'Oil on panel')\": 219, \"('ALESSI, Galeazzo', '-')\": 220, \"('ANDREA DEL CASTAGNO', 'Tempera on panel')\": 221, \"('ALTDORFER, Albrecht', 'Oil on panel')\": 222, \"('AMADEO, Giovanni Antonio', '-')\": 223, \"('AMMANATI, Bartolomeo', 'Bronze')\": 224, \"('ANDREA DI BARTOLO', 'Oil on panel')\": 225, \"('ANDREA DEL CASTAGNO', 'Mosaic')\": 226, \"('ALBEREGNO, Jacobello', 'Tempera on panel')\": 227, '(\"ANDREA di Vanni d\\'Andrea\", \\'Tempera on panel\\')': 228, \"('ANGELI, Giuseppe', 'Fresco')\": 229, \"('AELST, Willem van', 'Black chalk on vellum')\": 230, \"('AGASSE, Jacques-Laurent', 'Oil on canvas')\": 231, \"('ALTOBELLO, Francesco Antonio', 'Oil on canvas')\": 232, \"('ALBERTI, Giovanni', 'Fresco')\": 233}\n"
     ]
    }
   ],
   "source": [
    "labels= zip(train_data['AUTHOR'],train_data['TECHNIQUE'])\n",
    "labels = set(list(labels))\n",
    "label2id, id2label = dict(), dict()\n",
    "for i, label in enumerate(labels):\n",
    "    label2id[str(label)]=i\n",
    "    id2label[i]=label\n",
    "print(label2id)"
   ]
  },
  {
   "cell_type": "code",
   "execution_count": 15,
   "metadata": {},
   "outputs": [],
   "source": [
    "# from sklearn.preprocessing import OneHotEncoder\n",
    "# encoder_a= OneHotEncoder()\n",
    "# encoder_t = OneHotEncoder()\n",
    "\n",
    "# enc_author = pd.DataFrame(encoder_a.fit_transform(train_data[['AUTHOR']]).toarray())\n",
    "# enc_tech = pd.DataFrame(encoder_t.fit_transform(train_data[['TECHNIQUE']]).toarray())\n",
    "\n",
    "# lab_A = train_data['AUTHOR'].unique()\n",
    "# lab_T = train_data['TECHNIQUE'].unique()\n",
    "# enc_author.columns = lab_A\n",
    "# enc_tech.columns = lab_T\n",
    "\n",
    "# train_data = train_data.join(enc_author)\n",
    "# train_data = train_data.join(enc_tech)\n"
   ]
  },
  {
   "cell_type": "code",
   "execution_count": 16,
   "metadata": {},
   "outputs": [],
   "source": [
    "# print(train_data.columns)"
   ]
  },
  {
   "cell_type": "code",
   "execution_count": 17,
   "metadata": {},
   "outputs": [],
   "source": [
    "# cols = train_data.columns\n",
    "# label_cols = list(cols[3:])\n",
    "# num_labels = len(label_cols)\n",
    "# print(label_cols)"
   ]
  },
  {
   "cell_type": "code",
   "execution_count": 18,
   "metadata": {},
   "outputs": [],
   "source": [
    "# train_data['one-hot'] = list(train_data[label_cols].values)\n",
    "# train_data.head()"
   ]
  },
  {
   "cell_type": "code",
   "execution_count": 19,
   "metadata": {},
   "outputs": [],
   "source": [
    "# labels = set(tuple(lst) for lst in train_data['one-hot'])\n",
    "# labels = [list(lst) for lst in labels]\n",
    "# print(len(labels))"
   ]
  },
  {
   "cell_type": "code",
   "execution_count": 20,
   "metadata": {},
   "outputs": [
    {
     "name": "stdout",
     "output_type": "stream",
     "text": [
      "0               ('AACHEN, Hans von', 'Oil on copper')\n",
      "1               ('AACHEN, Hans von', 'Oil on canvas')\n",
      "2                 ('AACHEN, Hans von', 'Copperplate')\n",
      "3               ('AACHEN, Hans von', 'Oil on canvas')\n",
      "4               ('AACHEN, Hans von', 'Oil on canvas')\n",
      "                            ...                      \n",
      "695             ('ANGELI, Giuseppe', 'Oil on canvas')\n",
      "696             ('ANGELI, Giuseppe', 'Oil on canvas')\n",
      "697             ('ANGELI, Giuseppe', 'Oil on canvas')\n",
      "698             ('ANGELI, Giuseppe', 'Oil on canvas')\n",
      "699    ('ANGELICO, Fra', 'Tempera and gold on panel')\n",
      "Name: label, Length: 700, dtype: object\n",
      "0       18\n",
      "1      151\n",
      "2        4\n",
      "3      151\n",
      "4      151\n",
      "      ... \n",
      "695    183\n",
      "696    183\n",
      "697    183\n",
      "698    183\n",
      "699    197\n",
      "Name: label, Length: 700, dtype: int64\n"
     ]
    }
   ],
   "source": [
    "train_data = train_data.rename(columns={'FILE':'image', 'AUTHOR':'author','TECHNIQUE':'technique'})\n",
    "temp = train_data['label']\n",
    "print(temp)\n",
    "train_data['label'] = train_data['label'].map(label2id)\n",
    "print(train_data['label'])"
   ]
  },
  {
   "cell_type": "code",
   "execution_count": 46,
   "metadata": {},
   "outputs": [
    {
     "name": "stdout",
     "output_type": "stream",
     "text": [
      "Dataset({\n",
      "    features: ['image', 'label'],\n",
      "    num_rows: 700\n",
      "})\n",
      "[18, 151, 4, 151, 151, 1, 1, 169, 19, 36, 36, 80, 124, 218, 199, 199, 199, 199, 122, 48, 102, 122, 159, 144, 144, 144, 120, 103, 104, 117, 145, 214, 79, 90, 195, 33, 213, 132, 12, 12, 12, 12, 12, 12, 12, 20, 20, 20, 20, 88, 61, 61, 61, 61, 61, 61, 61, 61, 61, 61, 61, 187, 140, 72, 25, 152, 152, 25, 99, 21, 21, 147, 49, 21, 153, 153, 153, 153, 153, 153, 153, 153, 153, 219, 153, 153, 153, 153, 153, 219, 22, 153, 153, 153, 230, 54, 3, 180, 180, 180, 180, 67, 203, 180, 180, 173, 121, 173, 180, 203, 180, 180, 203, 203, 203, 203, 231, 74, 185, 231, 231, 111, 142, 142, 142, 142, 142, 211, 211, 211, 211, 83, 100, 171, 211, 211, 211, 211, 186, 211, 211, 211, 211, 211, 211, 211, 177, 101, 101, 101, 101, 101, 202, 113, 78, 78, 113, 176, 176, 176, 176, 50, 28, 55, 65, 65, 65, 65, 65, 106, 106, 65, 175, 60, 175, 175, 175, 65, 65, 65, 65, 65, 106, 106, 106, 106, 106, 106, 106, 106, 91, 227, 227, 227, 227, 0, 40, 174, 189, 172, 233, 200, 200, 200, 200, 200, 200, 200, 200, 200, 200, 200, 200, 112, 58, 58, 58, 200, 200, 8, 51, 8, 149, 149, 149, 149, 105, 129, 129, 56, 204, 44, 44, 44, 204, 44, 44, 204, 107, 57, 57, 220, 220, 220, 23, 81, 81, 14, 75, 181, 68, 68, 181, 68, 68, 68, 68, 181, 181, 17, 17, 68, 68, 68, 68, 68, 29, 209, 209, 68, 68, 68, 68, 68, 68, 5, 76, 76, 76, 41, 162, 162, 194, 108, 2, 2, 205, 205, 205, 205, 205, 216, 39, 167, 39, 167, 205, 39, 167, 205, 164, 69, 154, 39, 39, 163, 167, 205, 205, 109, 32, 32, 32, 32, 32, 137, 193, 93, 93, 193, 191, 148, 148, 118, 198, 150, 184, 198, 143, 63, 35, 34, 134, 70, 139, 139, 128, 155, 26, 141, 222, 222, 26, 201, 134, 215, 215, 134, 134, 134, 155, 134, 135, 26, 222, 201, 201, 201, 201, 201, 201, 201, 146, 6, 16, 95, 160, 38, 38, 38, 38, 38, 38, 38, 38, 38, 38, 38, 38, 38, 38, 38, 38, 38, 38, 38, 38, 38, 38, 38, 38, 27, 156, 232, 10, 110, 110, 87, 87, 179, 179, 179, 170, 24, 24, 223, 94, 188, 166, 188, 94, 166, 166, 210, 114, 114, 192, 192, 192, 92, 192, 192, 192, 192, 192, 192, 165, 43, 43, 43, 43, 43, 43, 43, 43, 43, 43, 43, 43, 43, 43, 161, 161, 161, 161, 161, 224, 224, 115, 115, 115, 115, 224, 196, 196, 196, 196, 196, 224, 224, 224, 224, 115, 62, 115, 84, 15, 15, 15, 15, 15, 15, 15, 30, 217, 97, 97, 64, 130, 130, 130, 85, 31, 119, 119, 119, 119, 119, 119, 119, 119, 119, 119, 119, 119, 119, 119, 119, 119, 119, 119, 119, 119, 119, 119, 119, 119, 119, 119, 119, 119, 119, 119, 119, 119, 119, 119, 119, 119, 37, 37, 37, 37, 37, 37, 207, 190, 190, 119, 89, 89, 13, 125, 125, 125, 125, 125, 226, 226, 226, 59, 125, 125, 125, 125, 125, 9, 125, 125, 125, 125, 125, 125, 125, 125, 125, 125, 125, 125, 125, 11, 125, 125, 7, 7, 7, 7, 7, 7, 125, 7, 7, 123, 123, 82, 125, 125, 125, 125, 125, 221, 125, 125, 52, 206, 206, 206, 131, 206, 206, 53, 206, 138, 52, 52, 52, 73, 52, 52, 86, 52, 52, 168, 212, 157, 168, 206, 206, 206, 206, 42, 52, 52, 52, 52, 206, 206, 206, 206, 206, 96, 52, 52, 47, 52, 98, 73, 52, 52, 52, 52, 52, 52, 52, 52, 52, 168, 206, 52, 52, 52, 52, 66, 66, 52, 126, 225, 45, 225, 178, 46, 46, 46, 46, 46, 46, 228, 208, 208, 208, 208, 208, 208, 208, 208, 208, 127, 127, 158, 71, 116, 116, 77, 77, 77, 77, 136, 136, 182, 136, 136, 136, 136, 133, 229, 229, 229, 229, 229, 229, 229, 229, 229, 229, 183, 183, 183, 183, 183, 197]\n"
     ]
    }
   ],
   "source": [
    "features = ['image','label']\n",
    "train_data = train_data[features]\n",
    "train_dataset = datasets.Dataset.from_dict(train_data).cast_column('image',datasets.Image())\n",
    "print(train_dataset)\n",
    "print(train_dataset['label'])"
   ]
  },
  {
   "cell_type": "code",
   "execution_count": 47,
   "metadata": {},
   "outputs": [],
   "source": [
    "from torch.utils.data import Dataset\n",
    "\n",
    "class ImageCaptioningDataset(Dataset):\n",
    "    \n",
    "    def __init__(self, dataset, processor):\n",
    "        self.dataset = dataset\n",
    "        self.processor = processor\n",
    "\n",
    "    def __len__(self):\n",
    "        return len(self.dataset)\n",
    "\n",
    "    def __getitem__(self, idx):\n",
    "        item = self.dataset[idx]\n",
    "        encoding = self.processor(images=item[\"image\"], text=item[\"label\"], padding=\"max_length\", return_tensors=\"pt\", truncation=True)\n",
    "        # remove batch dimension\n",
    "        encoding = {k:v.squeeze() for k,v in encoding.items()}\n",
    "        return encoding"
   ]
  },
  {
   "cell_type": "code",
   "execution_count": 48,
   "metadata": {},
   "outputs": [],
   "source": [
    "from transformers import AutoProcessor\n",
    "\n",
    "processor_capt = AutoProcessor.from_pretrained(\"google/vit-base-patch16-224-in21k\")"
   ]
  },
  {
   "cell_type": "code",
   "execution_count": 49,
   "metadata": {},
   "outputs": [],
   "source": [
    "from torchvision.transforms import RandomResizedCrop, Compose, Normalize, ToTensor\n",
    "\n",
    "normalize = Normalize(mean=processor_capt.image_mean, std=processor_capt.image_std)\n",
    "\n",
    "size = (\n",
    "\n",
    "    processor_capt.size[\"shortest_edge\"]\n",
    "\n",
    "    if \"shortest_edge\" in processor_capt.size\n",
    "\n",
    "    else (processor_capt.size[\"height\"], processor_capt.size[\"width\"])\n",
    "\n",
    ")\n",
    "\n",
    "_transforms = Compose([RandomResizedCrop(size), ToTensor(), normalize])\n"
   ]
  },
  {
   "cell_type": "code",
   "execution_count": 50,
   "metadata": {},
   "outputs": [],
   "source": [
    "def transforms(examples):\n",
    "    examples['pixel_values'] = [_transforms(img.convert('RGB'))for img in examples['image']]\n",
    "    del examples['image']\n",
    "    return examples"
   ]
  },
  {
   "cell_type": "code",
   "execution_count": 51,
   "metadata": {},
   "outputs": [],
   "source": [
    "train = train_dataset.with_transform(transforms)"
   ]
  },
  {
   "cell_type": "code",
   "execution_count": 52,
   "metadata": {},
   "outputs": [
    {
     "name": "stderr",
     "output_type": "stream",
     "text": [
      "Some weights of the model checkpoint at google/vit-base-patch16-224-in21k were not used when initializing ViTForImageClassification: ['pooler.dense.weight', 'pooler.dense.bias']\n",
      "- This IS expected if you are initializing ViTForImageClassification from the checkpoint of a model trained on another task or with another architecture (e.g. initializing a BertForSequenceClassification model from a BertForPreTraining model).\n",
      "- This IS NOT expected if you are initializing ViTForImageClassification from the checkpoint of a model that you expect to be exactly identical (initializing a BertForSequenceClassification model from a BertForSequenceClassification model).\n",
      "Some weights of ViTForImageClassification were not initialized from the model checkpoint at google/vit-base-patch16-224-in21k and are newly initialized: ['classifier.weight', 'classifier.bias']\n",
      "You should probably TRAIN this model on a down-stream task to be able to use it for predictions and inference.\n"
     ]
    }
   ],
   "source": [
    "from transformers import AutoModelForImageClassification, TrainingArguments, Trainer\n",
    "\n",
    "checkpoint= 'google/vit-base-patch16-224-in21k'\n",
    "\n",
    "model = AutoModelForImageClassification.from_pretrained(\n",
    "    checkpoint,\n",
    "    num_labels = len(labels),\n",
    "    id2label = id2label,\n",
    "    label2id = label2id,\n",
    "    problem_type='multi_label_classification'\n",
    ")"
   ]
  },
  {
   "cell_type": "code",
   "execution_count": 53,
   "metadata": {},
   "outputs": [],
   "source": [
    "from transformers import DefaultDataCollator\n",
    "\n",
    "data_collator=DefaultDataCollator()"
   ]
  },
  {
   "cell_type": "code",
   "execution_count": 54,
   "metadata": {},
   "outputs": [
    {
     "name": "stderr",
     "output_type": "stream",
     "text": [
      "d:\\envs\\tf\\lib\\site-packages\\transformers\\optimization.py:407: FutureWarning: This implementation of AdamW is deprecated and will be removed in a future version. Use the PyTorch implementation torch.optim.AdamW instead, or set `no_deprecation_warning=True` to disable this warning\n",
      "  warnings.warn(\n"
     ]
    },
    {
     "data": {
      "application/vnd.jupyter.widget-view+json": {
       "model_id": "4d50115175084cca8880e6764a956c6f",
       "version_major": 2,
       "version_minor": 0
      },
      "text/plain": [
       "  0%|          | 0/1100 [00:00<?, ?it/s]"
      ]
     },
     "metadata": {},
     "output_type": "display_data"
    },
    {
     "data": {
      "text/html": [
       "<pre style=\"white-space:pre;overflow-x:auto;line-height:normal;font-family:Menlo,'DejaVu Sans Mono',consolas,'Courier New',monospace\"><span style=\"color: #800000; text-decoration-color: #800000\">╭─────────────────────────────── </span><span style=\"color: #800000; text-decoration-color: #800000; font-weight: bold\">Traceback </span><span style=\"color: #bf7f7f; text-decoration-color: #bf7f7f; font-weight: bold\">(most recent call last)</span><span style=\"color: #800000; text-decoration-color: #800000\"> ────────────────────────────────╮</span>\n",
       "<span style=\"color: #800000; text-decoration-color: #800000\">│</span> <span style=\"color: #808000; text-decoration-color: #808000\">C:\\Users\\rullo\\AppData\\Local\\Temp\\ipykernel_18364\\2029330845.py</span>:<span style=\"color: #0000ff; text-decoration-color: #0000ff\">24</span> in <span style=\"color: #00ff00; text-decoration-color: #00ff00\">&lt;module&gt;</span>                   <span style=\"color: #800000; text-decoration-color: #800000\">│</span>\n",
       "<span style=\"color: #800000; text-decoration-color: #800000\">│</span>                                                                                                  <span style=\"color: #800000; text-decoration-color: #800000\">│</span>\n",
       "<span style=\"color: #800000; text-decoration-color: #800000\">│</span> <span style=\"color: #800000; text-decoration-color: #800000; font-style: italic\">[Errno 2] No such file or directory: </span>                                                            <span style=\"color: #800000; text-decoration-color: #800000\">│</span>\n",
       "<span style=\"color: #800000; text-decoration-color: #800000\">│</span> <span style=\"color: #800000; text-decoration-color: #800000; font-style: italic\">'C:\\\\Users\\\\rullo\\\\AppData\\\\Local\\\\Temp\\\\ipykernel_18364\\\\2029330845.py'</span>                         <span style=\"color: #800000; text-decoration-color: #800000\">│</span>\n",
       "<span style=\"color: #800000; text-decoration-color: #800000\">│</span>                                                                                                  <span style=\"color: #800000; text-decoration-color: #800000\">│</span>\n",
       "<span style=\"color: #800000; text-decoration-color: #800000\">│</span> <span style=\"color: #808000; text-decoration-color: #808000\">d:\\envs\\tf\\lib\\site-packages\\transformers\\trainer.py</span>:<span style=\"color: #0000ff; text-decoration-color: #0000ff\">1664</span> in <span style=\"color: #00ff00; text-decoration-color: #00ff00\">train</span>                               <span style=\"color: #800000; text-decoration-color: #800000\">│</span>\n",
       "<span style=\"color: #800000; text-decoration-color: #800000\">│</span>                                                                                                  <span style=\"color: #800000; text-decoration-color: #800000\">│</span>\n",
       "<span style=\"color: #800000; text-decoration-color: #800000\">│</span>   <span style=\"color: #7f7f7f; text-decoration-color: #7f7f7f\">1661 │   │   </span>inner_training_loop = find_executable_batch_size(                                 <span style=\"color: #800000; text-decoration-color: #800000\">│</span>\n",
       "<span style=\"color: #800000; text-decoration-color: #800000\">│</span>   <span style=\"color: #7f7f7f; text-decoration-color: #7f7f7f\">1662 │   │   │   </span><span style=\"color: #00ffff; text-decoration-color: #00ffff\">self</span>._inner_training_loop, <span style=\"color: #00ffff; text-decoration-color: #00ffff\">self</span>._train_batch_size, args.auto_find_batch_size  <span style=\"color: #800000; text-decoration-color: #800000\">│</span>\n",
       "<span style=\"color: #800000; text-decoration-color: #800000\">│</span>   <span style=\"color: #7f7f7f; text-decoration-color: #7f7f7f\">1663 │   │   </span>)                                                                                 <span style=\"color: #800000; text-decoration-color: #800000\">│</span>\n",
       "<span style=\"color: #800000; text-decoration-color: #800000\">│</span> <span style=\"color: #800000; text-decoration-color: #800000\">❱ </span>1664 <span style=\"color: #7f7f7f; text-decoration-color: #7f7f7f\">│   │   </span><span style=\"color: #0000ff; text-decoration-color: #0000ff\">return</span> inner_training_loop(                                                       <span style=\"color: #800000; text-decoration-color: #800000\">│</span>\n",
       "<span style=\"color: #800000; text-decoration-color: #800000\">│</span>   <span style=\"color: #7f7f7f; text-decoration-color: #7f7f7f\">1665 │   │   │   </span>args=args,                                                                    <span style=\"color: #800000; text-decoration-color: #800000\">│</span>\n",
       "<span style=\"color: #800000; text-decoration-color: #800000\">│</span>   <span style=\"color: #7f7f7f; text-decoration-color: #7f7f7f\">1666 │   │   │   </span>resume_from_checkpoint=resume_from_checkpoint,                                <span style=\"color: #800000; text-decoration-color: #800000\">│</span>\n",
       "<span style=\"color: #800000; text-decoration-color: #800000\">│</span>   <span style=\"color: #7f7f7f; text-decoration-color: #7f7f7f\">1667 │   │   │   </span>trial=trial,                                                                  <span style=\"color: #800000; text-decoration-color: #800000\">│</span>\n",
       "<span style=\"color: #800000; text-decoration-color: #800000\">│</span>                                                                                                  <span style=\"color: #800000; text-decoration-color: #800000\">│</span>\n",
       "<span style=\"color: #800000; text-decoration-color: #800000\">│</span> <span style=\"color: #808000; text-decoration-color: #808000\">d:\\envs\\tf\\lib\\site-packages\\transformers\\trainer.py</span>:<span style=\"color: #0000ff; text-decoration-color: #0000ff\">1932</span> in <span style=\"color: #00ff00; text-decoration-color: #00ff00\">_inner_training_loop</span>                <span style=\"color: #800000; text-decoration-color: #800000\">│</span>\n",
       "<span style=\"color: #800000; text-decoration-color: #800000\">│</span>                                                                                                  <span style=\"color: #800000; text-decoration-color: #800000\">│</span>\n",
       "<span style=\"color: #800000; text-decoration-color: #800000\">│</span>   <span style=\"color: #7f7f7f; text-decoration-color: #7f7f7f\">1929 │   │   │   │   │   </span><span style=\"color: #0000ff; text-decoration-color: #0000ff\">with</span> model.no_sync():                                                 <span style=\"color: #800000; text-decoration-color: #800000\">│</span>\n",
       "<span style=\"color: #800000; text-decoration-color: #800000\">│</span>   <span style=\"color: #7f7f7f; text-decoration-color: #7f7f7f\">1930 │   │   │   │   │   │   </span>tr_loss_step = <span style=\"color: #00ffff; text-decoration-color: #00ffff\">self</span>.training_step(model, inputs)                  <span style=\"color: #800000; text-decoration-color: #800000\">│</span>\n",
       "<span style=\"color: #800000; text-decoration-color: #800000\">│</span>   <span style=\"color: #7f7f7f; text-decoration-color: #7f7f7f\">1931 │   │   │   │   </span><span style=\"color: #0000ff; text-decoration-color: #0000ff\">else</span>:                                                                     <span style=\"color: #800000; text-decoration-color: #800000\">│</span>\n",
       "<span style=\"color: #800000; text-decoration-color: #800000\">│</span> <span style=\"color: #800000; text-decoration-color: #800000\">❱ </span>1932 <span style=\"color: #7f7f7f; text-decoration-color: #7f7f7f\">│   │   │   │   │   </span>tr_loss_step = <span style=\"color: #00ffff; text-decoration-color: #00ffff\">self</span>.training_step(model, inputs)                      <span style=\"color: #800000; text-decoration-color: #800000\">│</span>\n",
       "<span style=\"color: #800000; text-decoration-color: #800000\">│</span>   <span style=\"color: #7f7f7f; text-decoration-color: #7f7f7f\">1933 │   │   │   │   </span>                                                                          <span style=\"color: #800000; text-decoration-color: #800000\">│</span>\n",
       "<span style=\"color: #800000; text-decoration-color: #800000\">│</span>   <span style=\"color: #7f7f7f; text-decoration-color: #7f7f7f\">1934 │   │   │   │   </span><span style=\"color: #0000ff; text-decoration-color: #0000ff\">if</span> (                                                                      <span style=\"color: #800000; text-decoration-color: #800000\">│</span>\n",
       "<span style=\"color: #800000; text-decoration-color: #800000\">│</span>   <span style=\"color: #7f7f7f; text-decoration-color: #7f7f7f\">1935 │   │   │   │   │   </span>args.logging_nan_inf_filter                                           <span style=\"color: #800000; text-decoration-color: #800000\">│</span>\n",
       "<span style=\"color: #800000; text-decoration-color: #800000\">│</span>                                                                                                  <span style=\"color: #800000; text-decoration-color: #800000\">│</span>\n",
       "<span style=\"color: #800000; text-decoration-color: #800000\">│</span> <span style=\"color: #808000; text-decoration-color: #808000\">d:\\envs\\tf\\lib\\site-packages\\transformers\\trainer.py</span>:<span style=\"color: #0000ff; text-decoration-color: #0000ff\">2727</span> in <span style=\"color: #00ff00; text-decoration-color: #00ff00\">training_step</span>                       <span style=\"color: #800000; text-decoration-color: #800000\">│</span>\n",
       "<span style=\"color: #800000; text-decoration-color: #800000\">│</span>                                                                                                  <span style=\"color: #800000; text-decoration-color: #800000\">│</span>\n",
       "<span style=\"color: #800000; text-decoration-color: #800000\">│</span>   <span style=\"color: #7f7f7f; text-decoration-color: #7f7f7f\">2724 │   │   │   </span><span style=\"color: #0000ff; text-decoration-color: #0000ff\">return</span> loss_mb.reduce_mean().detach().to(<span style=\"color: #00ffff; text-decoration-color: #00ffff\">self</span>.args.device)                    <span style=\"color: #800000; text-decoration-color: #800000\">│</span>\n",
       "<span style=\"color: #800000; text-decoration-color: #800000\">│</span>   <span style=\"color: #7f7f7f; text-decoration-color: #7f7f7f\">2725 │   │   </span>                                                                                  <span style=\"color: #800000; text-decoration-color: #800000\">│</span>\n",
       "<span style=\"color: #800000; text-decoration-color: #800000\">│</span>   <span style=\"color: #7f7f7f; text-decoration-color: #7f7f7f\">2726 │   │   </span><span style=\"color: #0000ff; text-decoration-color: #0000ff\">with</span> <span style=\"color: #00ffff; text-decoration-color: #00ffff\">self</span>.compute_loss_context_manager():                                         <span style=\"color: #800000; text-decoration-color: #800000\">│</span>\n",
       "<span style=\"color: #800000; text-decoration-color: #800000\">│</span> <span style=\"color: #800000; text-decoration-color: #800000\">❱ </span>2727 <span style=\"color: #7f7f7f; text-decoration-color: #7f7f7f\">│   │   │   </span>loss = <span style=\"color: #00ffff; text-decoration-color: #00ffff\">self</span>.compute_loss(model, inputs)                                       <span style=\"color: #800000; text-decoration-color: #800000\">│</span>\n",
       "<span style=\"color: #800000; text-decoration-color: #800000\">│</span>   <span style=\"color: #7f7f7f; text-decoration-color: #7f7f7f\">2728 │   │   </span>                                                                                  <span style=\"color: #800000; text-decoration-color: #800000\">│</span>\n",
       "<span style=\"color: #800000; text-decoration-color: #800000\">│</span>   <span style=\"color: #7f7f7f; text-decoration-color: #7f7f7f\">2729 │   │   </span><span style=\"color: #0000ff; text-decoration-color: #0000ff\">if</span> <span style=\"color: #00ffff; text-decoration-color: #00ffff\">self</span>.args.n_gpu &gt; <span style=\"color: #0000ff; text-decoration-color: #0000ff\">1</span>:                                                           <span style=\"color: #800000; text-decoration-color: #800000\">│</span>\n",
       "<span style=\"color: #800000; text-decoration-color: #800000\">│</span>   <span style=\"color: #7f7f7f; text-decoration-color: #7f7f7f\">2730 │   │   │   </span>loss = loss.mean()  <span style=\"color: #7f7f7f; text-decoration-color: #7f7f7f\"># mean() to average on multi-gpu parallel training</span>        <span style=\"color: #800000; text-decoration-color: #800000\">│</span>\n",
       "<span style=\"color: #800000; text-decoration-color: #800000\">│</span>                                                                                                  <span style=\"color: #800000; text-decoration-color: #800000\">│</span>\n",
       "<span style=\"color: #800000; text-decoration-color: #800000\">│</span> <span style=\"color: #808000; text-decoration-color: #808000\">d:\\envs\\tf\\lib\\site-packages\\transformers\\trainer.py</span>:<span style=\"color: #0000ff; text-decoration-color: #0000ff\">2759</span> in <span style=\"color: #00ff00; text-decoration-color: #00ff00\">compute_loss</span>                        <span style=\"color: #800000; text-decoration-color: #800000\">│</span>\n",
       "<span style=\"color: #800000; text-decoration-color: #800000\">│</span>                                                                                                  <span style=\"color: #800000; text-decoration-color: #800000\">│</span>\n",
       "<span style=\"color: #800000; text-decoration-color: #800000\">│</span>   <span style=\"color: #7f7f7f; text-decoration-color: #7f7f7f\">2756 │   │   │   </span>labels = inputs.pop(<span style=\"color: #808000; text-decoration-color: #808000\">\"labels\"</span>)                                                 <span style=\"color: #800000; text-decoration-color: #800000\">│</span>\n",
       "<span style=\"color: #800000; text-decoration-color: #800000\">│</span>   <span style=\"color: #7f7f7f; text-decoration-color: #7f7f7f\">2757 │   │   </span><span style=\"color: #0000ff; text-decoration-color: #0000ff\">else</span>:                                                                             <span style=\"color: #800000; text-decoration-color: #800000\">│</span>\n",
       "<span style=\"color: #800000; text-decoration-color: #800000\">│</span>   <span style=\"color: #7f7f7f; text-decoration-color: #7f7f7f\">2758 │   │   │   </span>labels = <span style=\"color: #0000ff; text-decoration-color: #0000ff\">None</span>                                                                 <span style=\"color: #800000; text-decoration-color: #800000\">│</span>\n",
       "<span style=\"color: #800000; text-decoration-color: #800000\">│</span> <span style=\"color: #800000; text-decoration-color: #800000\">❱ </span>2759 <span style=\"color: #7f7f7f; text-decoration-color: #7f7f7f\">│   │   </span>outputs = model(**inputs)                                                         <span style=\"color: #800000; text-decoration-color: #800000\">│</span>\n",
       "<span style=\"color: #800000; text-decoration-color: #800000\">│</span>   <span style=\"color: #7f7f7f; text-decoration-color: #7f7f7f\">2760 │   │   # Save past state if it exists</span>                                                    <span style=\"color: #800000; text-decoration-color: #800000\">│</span>\n",
       "<span style=\"color: #800000; text-decoration-color: #800000\">│</span>   <span style=\"color: #7f7f7f; text-decoration-color: #7f7f7f\">2761 │   │   # TODO: this needs to be fixed and made cleaner later.</span>                            <span style=\"color: #800000; text-decoration-color: #800000\">│</span>\n",
       "<span style=\"color: #800000; text-decoration-color: #800000\">│</span>   <span style=\"color: #7f7f7f; text-decoration-color: #7f7f7f\">2762 │   │   </span><span style=\"color: #0000ff; text-decoration-color: #0000ff\">if</span> <span style=\"color: #00ffff; text-decoration-color: #00ffff\">self</span>.args.past_index &gt;= <span style=\"color: #0000ff; text-decoration-color: #0000ff\">0</span>:                                                     <span style=\"color: #800000; text-decoration-color: #800000\">│</span>\n",
       "<span style=\"color: #800000; text-decoration-color: #800000\">│</span>                                                                                                  <span style=\"color: #800000; text-decoration-color: #800000\">│</span>\n",
       "<span style=\"color: #800000; text-decoration-color: #800000\">│</span> <span style=\"color: #808000; text-decoration-color: #808000\">d:\\envs\\tf\\lib\\site-packages\\torch\\nn\\modules\\module.py</span>:<span style=\"color: #0000ff; text-decoration-color: #0000ff\">1501</span> in <span style=\"color: #00ff00; text-decoration-color: #00ff00\">_call_impl</span>                       <span style=\"color: #800000; text-decoration-color: #800000\">│</span>\n",
       "<span style=\"color: #800000; text-decoration-color: #800000\">│</span>                                                                                                  <span style=\"color: #800000; text-decoration-color: #800000\">│</span>\n",
       "<span style=\"color: #800000; text-decoration-color: #800000\">│</span>   <span style=\"color: #7f7f7f; text-decoration-color: #7f7f7f\">1498 │   │   </span><span style=\"color: #0000ff; text-decoration-color: #0000ff\">if</span> <span style=\"color: #ff00ff; text-decoration-color: #ff00ff\">not</span> (<span style=\"color: #00ffff; text-decoration-color: #00ffff\">self</span>._backward_hooks <span style=\"color: #ff00ff; text-decoration-color: #ff00ff\">or</span> <span style=\"color: #00ffff; text-decoration-color: #00ffff\">self</span>._backward_pre_hooks <span style=\"color: #ff00ff; text-decoration-color: #ff00ff\">or</span> <span style=\"color: #00ffff; text-decoration-color: #00ffff\">self</span>._forward_hooks   <span style=\"color: #800000; text-decoration-color: #800000\">│</span>\n",
       "<span style=\"color: #800000; text-decoration-color: #800000\">│</span>   <span style=\"color: #7f7f7f; text-decoration-color: #7f7f7f\">1499 │   │   │   │   </span><span style=\"color: #ff00ff; text-decoration-color: #ff00ff\">or</span> _global_backward_pre_hooks <span style=\"color: #ff00ff; text-decoration-color: #ff00ff\">or</span> _global_backward_hooks                   <span style=\"color: #800000; text-decoration-color: #800000\">│</span>\n",
       "<span style=\"color: #800000; text-decoration-color: #800000\">│</span>   <span style=\"color: #7f7f7f; text-decoration-color: #7f7f7f\">1500 │   │   │   │   </span><span style=\"color: #ff00ff; text-decoration-color: #ff00ff\">or</span> _global_forward_hooks <span style=\"color: #ff00ff; text-decoration-color: #ff00ff\">or</span> _global_forward_pre_hooks):                   <span style=\"color: #800000; text-decoration-color: #800000\">│</span>\n",
       "<span style=\"color: #800000; text-decoration-color: #800000\">│</span> <span style=\"color: #800000; text-decoration-color: #800000\">❱ </span>1501 <span style=\"color: #7f7f7f; text-decoration-color: #7f7f7f\">│   │   │   </span><span style=\"color: #0000ff; text-decoration-color: #0000ff\">return</span> forward_call(*args, **kwargs)                                          <span style=\"color: #800000; text-decoration-color: #800000\">│</span>\n",
       "<span style=\"color: #800000; text-decoration-color: #800000\">│</span>   <span style=\"color: #7f7f7f; text-decoration-color: #7f7f7f\">1502 │   │   # Do not call functions when jit is used</span>                                          <span style=\"color: #800000; text-decoration-color: #800000\">│</span>\n",
       "<span style=\"color: #800000; text-decoration-color: #800000\">│</span>   <span style=\"color: #7f7f7f; text-decoration-color: #7f7f7f\">1503 │   │   </span>full_backward_hooks, non_full_backward_hooks = [], []                             <span style=\"color: #800000; text-decoration-color: #800000\">│</span>\n",
       "<span style=\"color: #800000; text-decoration-color: #800000\">│</span>   <span style=\"color: #7f7f7f; text-decoration-color: #7f7f7f\">1504 │   │   </span>backward_pre_hooks = []                                                           <span style=\"color: #800000; text-decoration-color: #800000\">│</span>\n",
       "<span style=\"color: #800000; text-decoration-color: #800000\">│</span>                                                                                                  <span style=\"color: #800000; text-decoration-color: #800000\">│</span>\n",
       "<span style=\"color: #800000; text-decoration-color: #800000\">│</span> <span style=\"color: #808000; text-decoration-color: #808000\">d:\\envs\\tf\\lib\\site-packages\\transformers\\models\\vit\\modeling_vit.py</span>:<span style=\"color: #0000ff; text-decoration-color: #0000ff\">833</span> in <span style=\"color: #00ff00; text-decoration-color: #00ff00\">forward</span>              <span style=\"color: #800000; text-decoration-color: #800000\">│</span>\n",
       "<span style=\"color: #800000; text-decoration-color: #800000\">│</span>                                                                                                  <span style=\"color: #800000; text-decoration-color: #800000\">│</span>\n",
       "<span style=\"color: #800000; text-decoration-color: #800000\">│</span>   <span style=\"color: #7f7f7f; text-decoration-color: #7f7f7f\">830 │   │   │   │   </span>loss = loss_fct(logits.view(-<span style=\"color: #0000ff; text-decoration-color: #0000ff\">1</span>, <span style=\"color: #00ffff; text-decoration-color: #00ffff\">self</span>.num_labels), labels.view(-<span style=\"color: #0000ff; text-decoration-color: #0000ff\">1</span>))         <span style=\"color: #800000; text-decoration-color: #800000\">│</span>\n",
       "<span style=\"color: #800000; text-decoration-color: #800000\">│</span>   <span style=\"color: #7f7f7f; text-decoration-color: #7f7f7f\">831 │   │   │   </span><span style=\"color: #0000ff; text-decoration-color: #0000ff\">elif</span> <span style=\"color: #00ffff; text-decoration-color: #00ffff\">self</span>.config.problem_type == <span style=\"color: #808000; text-decoration-color: #808000\">\"multi_label_classification\"</span>:                 <span style=\"color: #800000; text-decoration-color: #800000\">│</span>\n",
       "<span style=\"color: #800000; text-decoration-color: #800000\">│</span>   <span style=\"color: #7f7f7f; text-decoration-color: #7f7f7f\">832 │   │   │   │   </span>loss_fct = BCEWithLogitsLoss()                                             <span style=\"color: #800000; text-decoration-color: #800000\">│</span>\n",
       "<span style=\"color: #800000; text-decoration-color: #800000\">│</span> <span style=\"color: #800000; text-decoration-color: #800000\">❱ </span>833 <span style=\"color: #7f7f7f; text-decoration-color: #7f7f7f\">│   │   │   │   </span>loss = loss_fct(logits, labels)                                            <span style=\"color: #800000; text-decoration-color: #800000\">│</span>\n",
       "<span style=\"color: #800000; text-decoration-color: #800000\">│</span>   <span style=\"color: #7f7f7f; text-decoration-color: #7f7f7f\">834 │   │   </span>                                                                                   <span style=\"color: #800000; text-decoration-color: #800000\">│</span>\n",
       "<span style=\"color: #800000; text-decoration-color: #800000\">│</span>   <span style=\"color: #7f7f7f; text-decoration-color: #7f7f7f\">835 │   │   </span><span style=\"color: #0000ff; text-decoration-color: #0000ff\">if</span> <span style=\"color: #ff00ff; text-decoration-color: #ff00ff\">not</span> return_dict:                                                                <span style=\"color: #800000; text-decoration-color: #800000\">│</span>\n",
       "<span style=\"color: #800000; text-decoration-color: #800000\">│</span>   <span style=\"color: #7f7f7f; text-decoration-color: #7f7f7f\">836 │   │   │   </span>output = (logits,) + outputs[<span style=\"color: #0000ff; text-decoration-color: #0000ff\">1</span>:]                                               <span style=\"color: #800000; text-decoration-color: #800000\">│</span>\n",
       "<span style=\"color: #800000; text-decoration-color: #800000\">│</span>                                                                                                  <span style=\"color: #800000; text-decoration-color: #800000\">│</span>\n",
       "<span style=\"color: #800000; text-decoration-color: #800000\">│</span> <span style=\"color: #808000; text-decoration-color: #808000\">d:\\envs\\tf\\lib\\site-packages\\torch\\nn\\modules\\module.py</span>:<span style=\"color: #0000ff; text-decoration-color: #0000ff\">1501</span> in <span style=\"color: #00ff00; text-decoration-color: #00ff00\">_call_impl</span>                       <span style=\"color: #800000; text-decoration-color: #800000\">│</span>\n",
       "<span style=\"color: #800000; text-decoration-color: #800000\">│</span>                                                                                                  <span style=\"color: #800000; text-decoration-color: #800000\">│</span>\n",
       "<span style=\"color: #800000; text-decoration-color: #800000\">│</span>   <span style=\"color: #7f7f7f; text-decoration-color: #7f7f7f\">1498 │   │   </span><span style=\"color: #0000ff; text-decoration-color: #0000ff\">if</span> <span style=\"color: #ff00ff; text-decoration-color: #ff00ff\">not</span> (<span style=\"color: #00ffff; text-decoration-color: #00ffff\">self</span>._backward_hooks <span style=\"color: #ff00ff; text-decoration-color: #ff00ff\">or</span> <span style=\"color: #00ffff; text-decoration-color: #00ffff\">self</span>._backward_pre_hooks <span style=\"color: #ff00ff; text-decoration-color: #ff00ff\">or</span> <span style=\"color: #00ffff; text-decoration-color: #00ffff\">self</span>._forward_hooks   <span style=\"color: #800000; text-decoration-color: #800000\">│</span>\n",
       "<span style=\"color: #800000; text-decoration-color: #800000\">│</span>   <span style=\"color: #7f7f7f; text-decoration-color: #7f7f7f\">1499 │   │   │   │   </span><span style=\"color: #ff00ff; text-decoration-color: #ff00ff\">or</span> _global_backward_pre_hooks <span style=\"color: #ff00ff; text-decoration-color: #ff00ff\">or</span> _global_backward_hooks                   <span style=\"color: #800000; text-decoration-color: #800000\">│</span>\n",
       "<span style=\"color: #800000; text-decoration-color: #800000\">│</span>   <span style=\"color: #7f7f7f; text-decoration-color: #7f7f7f\">1500 │   │   │   │   </span><span style=\"color: #ff00ff; text-decoration-color: #ff00ff\">or</span> _global_forward_hooks <span style=\"color: #ff00ff; text-decoration-color: #ff00ff\">or</span> _global_forward_pre_hooks):                   <span style=\"color: #800000; text-decoration-color: #800000\">│</span>\n",
       "<span style=\"color: #800000; text-decoration-color: #800000\">│</span> <span style=\"color: #800000; text-decoration-color: #800000\">❱ </span>1501 <span style=\"color: #7f7f7f; text-decoration-color: #7f7f7f\">│   │   │   </span><span style=\"color: #0000ff; text-decoration-color: #0000ff\">return</span> forward_call(*args, **kwargs)                                          <span style=\"color: #800000; text-decoration-color: #800000\">│</span>\n",
       "<span style=\"color: #800000; text-decoration-color: #800000\">│</span>   <span style=\"color: #7f7f7f; text-decoration-color: #7f7f7f\">1502 │   │   # Do not call functions when jit is used</span>                                          <span style=\"color: #800000; text-decoration-color: #800000\">│</span>\n",
       "<span style=\"color: #800000; text-decoration-color: #800000\">│</span>   <span style=\"color: #7f7f7f; text-decoration-color: #7f7f7f\">1503 │   │   </span>full_backward_hooks, non_full_backward_hooks = [], []                             <span style=\"color: #800000; text-decoration-color: #800000\">│</span>\n",
       "<span style=\"color: #800000; text-decoration-color: #800000\">│</span>   <span style=\"color: #7f7f7f; text-decoration-color: #7f7f7f\">1504 │   │   </span>backward_pre_hooks = []                                                           <span style=\"color: #800000; text-decoration-color: #800000\">│</span>\n",
       "<span style=\"color: #800000; text-decoration-color: #800000\">│</span>                                                                                                  <span style=\"color: #800000; text-decoration-color: #800000\">│</span>\n",
       "<span style=\"color: #800000; text-decoration-color: #800000\">│</span> <span style=\"color: #808000; text-decoration-color: #808000\">d:\\envs\\tf\\lib\\site-packages\\torch\\nn\\modules\\loss.py</span>:<span style=\"color: #0000ff; text-decoration-color: #0000ff\">720</span> in <span style=\"color: #00ff00; text-decoration-color: #00ff00\">forward</span>                             <span style=\"color: #800000; text-decoration-color: #800000\">│</span>\n",
       "<span style=\"color: #800000; text-decoration-color: #800000\">│</span>                                                                                                  <span style=\"color: #800000; text-decoration-color: #800000\">│</span>\n",
       "<span style=\"color: #800000; text-decoration-color: #800000\">│</span>   <span style=\"color: #7f7f7f; text-decoration-color: #7f7f7f\"> 717 │   │   </span><span style=\"color: #00ffff; text-decoration-color: #00ffff\">self</span>.pos_weight: Optional[Tensor]                                                 <span style=\"color: #800000; text-decoration-color: #800000\">│</span>\n",
       "<span style=\"color: #800000; text-decoration-color: #800000\">│</span>   <span style=\"color: #7f7f7f; text-decoration-color: #7f7f7f\"> 718 │   </span>                                                                                      <span style=\"color: #800000; text-decoration-color: #800000\">│</span>\n",
       "<span style=\"color: #800000; text-decoration-color: #800000\">│</span>   <span style=\"color: #7f7f7f; text-decoration-color: #7f7f7f\"> 719 │   </span><span style=\"color: #0000ff; text-decoration-color: #0000ff\">def</span> <span style=\"color: #00ff00; text-decoration-color: #00ff00\">forward</span>(<span style=\"color: #00ffff; text-decoration-color: #00ffff\">self</span>, <span style=\"color: #00ffff; text-decoration-color: #00ffff\">input</span>: Tensor, target: Tensor) -&gt; Tensor:                           <span style=\"color: #800000; text-decoration-color: #800000\">│</span>\n",
       "<span style=\"color: #800000; text-decoration-color: #800000\">│</span> <span style=\"color: #800000; text-decoration-color: #800000\">❱ </span> 720 <span style=\"color: #7f7f7f; text-decoration-color: #7f7f7f\">│   │   </span><span style=\"color: #0000ff; text-decoration-color: #0000ff\">return</span> F.binary_cross_entropy_with_logits(<span style=\"color: #00ffff; text-decoration-color: #00ffff\">input</span>, target,                          <span style=\"color: #800000; text-decoration-color: #800000\">│</span>\n",
       "<span style=\"color: #800000; text-decoration-color: #800000\">│</span>   <span style=\"color: #7f7f7f; text-decoration-color: #7f7f7f\"> 721 │   │   │   │   │   │   │   │   │   │   │   │     </span><span style=\"color: #00ffff; text-decoration-color: #00ffff\">self</span>.weight,                            <span style=\"color: #800000; text-decoration-color: #800000\">│</span>\n",
       "<span style=\"color: #800000; text-decoration-color: #800000\">│</span>   <span style=\"color: #7f7f7f; text-decoration-color: #7f7f7f\"> 722 │   │   │   │   │   │   │   │   │   │   │   │     </span>pos_weight=<span style=\"color: #00ffff; text-decoration-color: #00ffff\">self</span>.pos_weight,             <span style=\"color: #800000; text-decoration-color: #800000\">│</span>\n",
       "<span style=\"color: #800000; text-decoration-color: #800000\">│</span>   <span style=\"color: #7f7f7f; text-decoration-color: #7f7f7f\"> 723 │   │   │   │   │   │   │   │   │   │   │   │     </span>reduction=<span style=\"color: #00ffff; text-decoration-color: #00ffff\">self</span>.reduction)               <span style=\"color: #800000; text-decoration-color: #800000\">│</span>\n",
       "<span style=\"color: #800000; text-decoration-color: #800000\">│</span>                                                                                                  <span style=\"color: #800000; text-decoration-color: #800000\">│</span>\n",
       "<span style=\"color: #800000; text-decoration-color: #800000\">│</span> <span style=\"color: #808000; text-decoration-color: #808000\">d:\\envs\\tf\\lib\\site-packages\\torch\\nn\\functional.py</span>:<span style=\"color: #0000ff; text-decoration-color: #0000ff\">3163</span> in <span style=\"color: #00ff00; text-decoration-color: #00ff00\">binary_cross_entropy_with_logits</span>     <span style=\"color: #800000; text-decoration-color: #800000\">│</span>\n",
       "<span style=\"color: #800000; text-decoration-color: #800000\">│</span>                                                                                                  <span style=\"color: #800000; text-decoration-color: #800000\">│</span>\n",
       "<span style=\"color: #800000; text-decoration-color: #800000\">│</span>   <span style=\"color: #7f7f7f; text-decoration-color: #7f7f7f\">3160 │   │   </span>reduction_enum = _Reduction.get_enum(reduction)                                   <span style=\"color: #800000; text-decoration-color: #800000\">│</span>\n",
       "<span style=\"color: #800000; text-decoration-color: #800000\">│</span>   <span style=\"color: #7f7f7f; text-decoration-color: #7f7f7f\">3161 │   </span>                                                                                      <span style=\"color: #800000; text-decoration-color: #800000\">│</span>\n",
       "<span style=\"color: #800000; text-decoration-color: #800000\">│</span>   <span style=\"color: #7f7f7f; text-decoration-color: #7f7f7f\">3162 │   </span><span style=\"color: #0000ff; text-decoration-color: #0000ff\">if</span> <span style=\"color: #ff00ff; text-decoration-color: #ff00ff\">not</span> (target.size() == <span style=\"color: #00ffff; text-decoration-color: #00ffff\">input</span>.size()):                                               <span style=\"color: #800000; text-decoration-color: #800000\">│</span>\n",
       "<span style=\"color: #800000; text-decoration-color: #800000\">│</span> <span style=\"color: #800000; text-decoration-color: #800000\">❱ </span>3163 <span style=\"color: #7f7f7f; text-decoration-color: #7f7f7f\">│   │   </span><span style=\"color: #0000ff; text-decoration-color: #0000ff\">raise</span> <span style=\"color: #00ffff; text-decoration-color: #00ffff\">ValueError</span>(<span style=\"color: #808000; text-decoration-color: #808000\">\"Target size ({}) must be the same as input size ({})\"</span>.format(t  <span style=\"color: #800000; text-decoration-color: #800000\">│</span>\n",
       "<span style=\"color: #800000; text-decoration-color: #800000\">│</span>   <span style=\"color: #7f7f7f; text-decoration-color: #7f7f7f\">3164 │   </span>                                                                                      <span style=\"color: #800000; text-decoration-color: #800000\">│</span>\n",
       "<span style=\"color: #800000; text-decoration-color: #800000\">│</span>   <span style=\"color: #7f7f7f; text-decoration-color: #7f7f7f\">3165 │   </span><span style=\"color: #0000ff; text-decoration-color: #0000ff\">return</span> torch.binary_cross_entropy_with_logits(<span style=\"color: #00ffff; text-decoration-color: #00ffff\">input</span>, target, weight, pos_weight, red  <span style=\"color: #800000; text-decoration-color: #800000\">│</span>\n",
       "<span style=\"color: #800000; text-decoration-color: #800000\">│</span>   <span style=\"color: #7f7f7f; text-decoration-color: #7f7f7f\">3166 </span>                                                                                          <span style=\"color: #800000; text-decoration-color: #800000\">│</span>\n",
       "<span style=\"color: #800000; text-decoration-color: #800000\">╰──────────────────────────────────────────────────────────────────────────────────────────────────╯</span>\n",
       "<span style=\"color: #ff0000; text-decoration-color: #ff0000; font-weight: bold\">ValueError: </span>Target size <span style=\"font-weight: bold\">(</span><span style=\"color: #800080; text-decoration-color: #800080; font-weight: bold\">torch.Size</span><span style=\"font-weight: bold\">([</span><span style=\"color: #008080; text-decoration-color: #008080; font-weight: bold\">8</span><span style=\"font-weight: bold\">]))</span> must be the same as input size <span style=\"font-weight: bold\">(</span><span style=\"color: #800080; text-decoration-color: #800080; font-weight: bold\">torch.Size</span><span style=\"font-weight: bold\">([</span><span style=\"color: #008080; text-decoration-color: #008080; font-weight: bold\">8</span>, <span style=\"color: #008080; text-decoration-color: #008080; font-weight: bold\">234</span><span style=\"font-weight: bold\">]))</span>\n",
       "</pre>\n"
      ],
      "text/plain": [
       "\u001b[31m╭─\u001b[0m\u001b[31m──────────────────────────────\u001b[0m\u001b[31m \u001b[0m\u001b[1;31mTraceback \u001b[0m\u001b[1;2;31m(most recent call last)\u001b[0m\u001b[31m \u001b[0m\u001b[31m───────────────────────────────\u001b[0m\u001b[31m─╮\u001b[0m\n",
       "\u001b[31m│\u001b[0m \u001b[33mC:\\Users\\rullo\\AppData\\Local\\Temp\\ipykernel_18364\\2029330845.py\u001b[0m:\u001b[94m24\u001b[0m in \u001b[92m<module>\u001b[0m                   \u001b[31m│\u001b[0m\n",
       "\u001b[31m│\u001b[0m                                                                                                  \u001b[31m│\u001b[0m\n",
       "\u001b[31m│\u001b[0m \u001b[3;31m[Errno 2] No such file or directory: \u001b[0m                                                            \u001b[31m│\u001b[0m\n",
       "\u001b[31m│\u001b[0m \u001b[3;31m'C:\\\\Users\\\\rullo\\\\AppData\\\\Local\\\\Temp\\\\ipykernel_18364\\\\2029330845.py'\u001b[0m                         \u001b[31m│\u001b[0m\n",
       "\u001b[31m│\u001b[0m                                                                                                  \u001b[31m│\u001b[0m\n",
       "\u001b[31m│\u001b[0m \u001b[33md:\\envs\\tf\\lib\\site-packages\\transformers\\trainer.py\u001b[0m:\u001b[94m1664\u001b[0m in \u001b[92mtrain\u001b[0m                               \u001b[31m│\u001b[0m\n",
       "\u001b[31m│\u001b[0m                                                                                                  \u001b[31m│\u001b[0m\n",
       "\u001b[31m│\u001b[0m   \u001b[2m1661 \u001b[0m\u001b[2m│   │   \u001b[0minner_training_loop = find_executable_batch_size(                                 \u001b[31m│\u001b[0m\n",
       "\u001b[31m│\u001b[0m   \u001b[2m1662 \u001b[0m\u001b[2m│   │   │   \u001b[0m\u001b[96mself\u001b[0m._inner_training_loop, \u001b[96mself\u001b[0m._train_batch_size, args.auto_find_batch_size  \u001b[31m│\u001b[0m\n",
       "\u001b[31m│\u001b[0m   \u001b[2m1663 \u001b[0m\u001b[2m│   │   \u001b[0m)                                                                                 \u001b[31m│\u001b[0m\n",
       "\u001b[31m│\u001b[0m \u001b[31m❱ \u001b[0m1664 \u001b[2m│   │   \u001b[0m\u001b[94mreturn\u001b[0m inner_training_loop(                                                       \u001b[31m│\u001b[0m\n",
       "\u001b[31m│\u001b[0m   \u001b[2m1665 \u001b[0m\u001b[2m│   │   │   \u001b[0margs=args,                                                                    \u001b[31m│\u001b[0m\n",
       "\u001b[31m│\u001b[0m   \u001b[2m1666 \u001b[0m\u001b[2m│   │   │   \u001b[0mresume_from_checkpoint=resume_from_checkpoint,                                \u001b[31m│\u001b[0m\n",
       "\u001b[31m│\u001b[0m   \u001b[2m1667 \u001b[0m\u001b[2m│   │   │   \u001b[0mtrial=trial,                                                                  \u001b[31m│\u001b[0m\n",
       "\u001b[31m│\u001b[0m                                                                                                  \u001b[31m│\u001b[0m\n",
       "\u001b[31m│\u001b[0m \u001b[33md:\\envs\\tf\\lib\\site-packages\\transformers\\trainer.py\u001b[0m:\u001b[94m1932\u001b[0m in \u001b[92m_inner_training_loop\u001b[0m                \u001b[31m│\u001b[0m\n",
       "\u001b[31m│\u001b[0m                                                                                                  \u001b[31m│\u001b[0m\n",
       "\u001b[31m│\u001b[0m   \u001b[2m1929 \u001b[0m\u001b[2m│   │   │   │   │   \u001b[0m\u001b[94mwith\u001b[0m model.no_sync():                                                 \u001b[31m│\u001b[0m\n",
       "\u001b[31m│\u001b[0m   \u001b[2m1930 \u001b[0m\u001b[2m│   │   │   │   │   │   \u001b[0mtr_loss_step = \u001b[96mself\u001b[0m.training_step(model, inputs)                  \u001b[31m│\u001b[0m\n",
       "\u001b[31m│\u001b[0m   \u001b[2m1931 \u001b[0m\u001b[2m│   │   │   │   \u001b[0m\u001b[94melse\u001b[0m:                                                                     \u001b[31m│\u001b[0m\n",
       "\u001b[31m│\u001b[0m \u001b[31m❱ \u001b[0m1932 \u001b[2m│   │   │   │   │   \u001b[0mtr_loss_step = \u001b[96mself\u001b[0m.training_step(model, inputs)                      \u001b[31m│\u001b[0m\n",
       "\u001b[31m│\u001b[0m   \u001b[2m1933 \u001b[0m\u001b[2m│   │   │   │   \u001b[0m                                                                          \u001b[31m│\u001b[0m\n",
       "\u001b[31m│\u001b[0m   \u001b[2m1934 \u001b[0m\u001b[2m│   │   │   │   \u001b[0m\u001b[94mif\u001b[0m (                                                                      \u001b[31m│\u001b[0m\n",
       "\u001b[31m│\u001b[0m   \u001b[2m1935 \u001b[0m\u001b[2m│   │   │   │   │   \u001b[0margs.logging_nan_inf_filter                                           \u001b[31m│\u001b[0m\n",
       "\u001b[31m│\u001b[0m                                                                                                  \u001b[31m│\u001b[0m\n",
       "\u001b[31m│\u001b[0m \u001b[33md:\\envs\\tf\\lib\\site-packages\\transformers\\trainer.py\u001b[0m:\u001b[94m2727\u001b[0m in \u001b[92mtraining_step\u001b[0m                       \u001b[31m│\u001b[0m\n",
       "\u001b[31m│\u001b[0m                                                                                                  \u001b[31m│\u001b[0m\n",
       "\u001b[31m│\u001b[0m   \u001b[2m2724 \u001b[0m\u001b[2m│   │   │   \u001b[0m\u001b[94mreturn\u001b[0m loss_mb.reduce_mean().detach().to(\u001b[96mself\u001b[0m.args.device)                    \u001b[31m│\u001b[0m\n",
       "\u001b[31m│\u001b[0m   \u001b[2m2725 \u001b[0m\u001b[2m│   │   \u001b[0m                                                                                  \u001b[31m│\u001b[0m\n",
       "\u001b[31m│\u001b[0m   \u001b[2m2726 \u001b[0m\u001b[2m│   │   \u001b[0m\u001b[94mwith\u001b[0m \u001b[96mself\u001b[0m.compute_loss_context_manager():                                         \u001b[31m│\u001b[0m\n",
       "\u001b[31m│\u001b[0m \u001b[31m❱ \u001b[0m2727 \u001b[2m│   │   │   \u001b[0mloss = \u001b[96mself\u001b[0m.compute_loss(model, inputs)                                       \u001b[31m│\u001b[0m\n",
       "\u001b[31m│\u001b[0m   \u001b[2m2728 \u001b[0m\u001b[2m│   │   \u001b[0m                                                                                  \u001b[31m│\u001b[0m\n",
       "\u001b[31m│\u001b[0m   \u001b[2m2729 \u001b[0m\u001b[2m│   │   \u001b[0m\u001b[94mif\u001b[0m \u001b[96mself\u001b[0m.args.n_gpu > \u001b[94m1\u001b[0m:                                                           \u001b[31m│\u001b[0m\n",
       "\u001b[31m│\u001b[0m   \u001b[2m2730 \u001b[0m\u001b[2m│   │   │   \u001b[0mloss = loss.mean()  \u001b[2m# mean() to average on multi-gpu parallel training\u001b[0m        \u001b[31m│\u001b[0m\n",
       "\u001b[31m│\u001b[0m                                                                                                  \u001b[31m│\u001b[0m\n",
       "\u001b[31m│\u001b[0m \u001b[33md:\\envs\\tf\\lib\\site-packages\\transformers\\trainer.py\u001b[0m:\u001b[94m2759\u001b[0m in \u001b[92mcompute_loss\u001b[0m                        \u001b[31m│\u001b[0m\n",
       "\u001b[31m│\u001b[0m                                                                                                  \u001b[31m│\u001b[0m\n",
       "\u001b[31m│\u001b[0m   \u001b[2m2756 \u001b[0m\u001b[2m│   │   │   \u001b[0mlabels = inputs.pop(\u001b[33m\"\u001b[0m\u001b[33mlabels\u001b[0m\u001b[33m\"\u001b[0m)                                                 \u001b[31m│\u001b[0m\n",
       "\u001b[31m│\u001b[0m   \u001b[2m2757 \u001b[0m\u001b[2m│   │   \u001b[0m\u001b[94melse\u001b[0m:                                                                             \u001b[31m│\u001b[0m\n",
       "\u001b[31m│\u001b[0m   \u001b[2m2758 \u001b[0m\u001b[2m│   │   │   \u001b[0mlabels = \u001b[94mNone\u001b[0m                                                                 \u001b[31m│\u001b[0m\n",
       "\u001b[31m│\u001b[0m \u001b[31m❱ \u001b[0m2759 \u001b[2m│   │   \u001b[0moutputs = model(**inputs)                                                         \u001b[31m│\u001b[0m\n",
       "\u001b[31m│\u001b[0m   \u001b[2m2760 \u001b[0m\u001b[2m│   │   \u001b[0m\u001b[2m# Save past state if it exists\u001b[0m                                                    \u001b[31m│\u001b[0m\n",
       "\u001b[31m│\u001b[0m   \u001b[2m2761 \u001b[0m\u001b[2m│   │   \u001b[0m\u001b[2m# TODO: this needs to be fixed and made cleaner later.\u001b[0m                            \u001b[31m│\u001b[0m\n",
       "\u001b[31m│\u001b[0m   \u001b[2m2762 \u001b[0m\u001b[2m│   │   \u001b[0m\u001b[94mif\u001b[0m \u001b[96mself\u001b[0m.args.past_index >= \u001b[94m0\u001b[0m:                                                     \u001b[31m│\u001b[0m\n",
       "\u001b[31m│\u001b[0m                                                                                                  \u001b[31m│\u001b[0m\n",
       "\u001b[31m│\u001b[0m \u001b[33md:\\envs\\tf\\lib\\site-packages\\torch\\nn\\modules\\module.py\u001b[0m:\u001b[94m1501\u001b[0m in \u001b[92m_call_impl\u001b[0m                       \u001b[31m│\u001b[0m\n",
       "\u001b[31m│\u001b[0m                                                                                                  \u001b[31m│\u001b[0m\n",
       "\u001b[31m│\u001b[0m   \u001b[2m1498 \u001b[0m\u001b[2m│   │   \u001b[0m\u001b[94mif\u001b[0m \u001b[95mnot\u001b[0m (\u001b[96mself\u001b[0m._backward_hooks \u001b[95mor\u001b[0m \u001b[96mself\u001b[0m._backward_pre_hooks \u001b[95mor\u001b[0m \u001b[96mself\u001b[0m._forward_hooks   \u001b[31m│\u001b[0m\n",
       "\u001b[31m│\u001b[0m   \u001b[2m1499 \u001b[0m\u001b[2m│   │   │   │   \u001b[0m\u001b[95mor\u001b[0m _global_backward_pre_hooks \u001b[95mor\u001b[0m _global_backward_hooks                   \u001b[31m│\u001b[0m\n",
       "\u001b[31m│\u001b[0m   \u001b[2m1500 \u001b[0m\u001b[2m│   │   │   │   \u001b[0m\u001b[95mor\u001b[0m _global_forward_hooks \u001b[95mor\u001b[0m _global_forward_pre_hooks):                   \u001b[31m│\u001b[0m\n",
       "\u001b[31m│\u001b[0m \u001b[31m❱ \u001b[0m1501 \u001b[2m│   │   │   \u001b[0m\u001b[94mreturn\u001b[0m forward_call(*args, **kwargs)                                          \u001b[31m│\u001b[0m\n",
       "\u001b[31m│\u001b[0m   \u001b[2m1502 \u001b[0m\u001b[2m│   │   \u001b[0m\u001b[2m# Do not call functions when jit is used\u001b[0m                                          \u001b[31m│\u001b[0m\n",
       "\u001b[31m│\u001b[0m   \u001b[2m1503 \u001b[0m\u001b[2m│   │   \u001b[0mfull_backward_hooks, non_full_backward_hooks = [], []                             \u001b[31m│\u001b[0m\n",
       "\u001b[31m│\u001b[0m   \u001b[2m1504 \u001b[0m\u001b[2m│   │   \u001b[0mbackward_pre_hooks = []                                                           \u001b[31m│\u001b[0m\n",
       "\u001b[31m│\u001b[0m                                                                                                  \u001b[31m│\u001b[0m\n",
       "\u001b[31m│\u001b[0m \u001b[33md:\\envs\\tf\\lib\\site-packages\\transformers\\models\\vit\\modeling_vit.py\u001b[0m:\u001b[94m833\u001b[0m in \u001b[92mforward\u001b[0m              \u001b[31m│\u001b[0m\n",
       "\u001b[31m│\u001b[0m                                                                                                  \u001b[31m│\u001b[0m\n",
       "\u001b[31m│\u001b[0m   \u001b[2m830 \u001b[0m\u001b[2m│   │   │   │   \u001b[0mloss = loss_fct(logits.view(-\u001b[94m1\u001b[0m, \u001b[96mself\u001b[0m.num_labels), labels.view(-\u001b[94m1\u001b[0m))         \u001b[31m│\u001b[0m\n",
       "\u001b[31m│\u001b[0m   \u001b[2m831 \u001b[0m\u001b[2m│   │   │   \u001b[0m\u001b[94melif\u001b[0m \u001b[96mself\u001b[0m.config.problem_type == \u001b[33m\"\u001b[0m\u001b[33mmulti_label_classification\u001b[0m\u001b[33m\"\u001b[0m:                 \u001b[31m│\u001b[0m\n",
       "\u001b[31m│\u001b[0m   \u001b[2m832 \u001b[0m\u001b[2m│   │   │   │   \u001b[0mloss_fct = BCEWithLogitsLoss()                                             \u001b[31m│\u001b[0m\n",
       "\u001b[31m│\u001b[0m \u001b[31m❱ \u001b[0m833 \u001b[2m│   │   │   │   \u001b[0mloss = loss_fct(logits, labels)                                            \u001b[31m│\u001b[0m\n",
       "\u001b[31m│\u001b[0m   \u001b[2m834 \u001b[0m\u001b[2m│   │   \u001b[0m                                                                                   \u001b[31m│\u001b[0m\n",
       "\u001b[31m│\u001b[0m   \u001b[2m835 \u001b[0m\u001b[2m│   │   \u001b[0m\u001b[94mif\u001b[0m \u001b[95mnot\u001b[0m return_dict:                                                                \u001b[31m│\u001b[0m\n",
       "\u001b[31m│\u001b[0m   \u001b[2m836 \u001b[0m\u001b[2m│   │   │   \u001b[0moutput = (logits,) + outputs[\u001b[94m1\u001b[0m:]                                               \u001b[31m│\u001b[0m\n",
       "\u001b[31m│\u001b[0m                                                                                                  \u001b[31m│\u001b[0m\n",
       "\u001b[31m│\u001b[0m \u001b[33md:\\envs\\tf\\lib\\site-packages\\torch\\nn\\modules\\module.py\u001b[0m:\u001b[94m1501\u001b[0m in \u001b[92m_call_impl\u001b[0m                       \u001b[31m│\u001b[0m\n",
       "\u001b[31m│\u001b[0m                                                                                                  \u001b[31m│\u001b[0m\n",
       "\u001b[31m│\u001b[0m   \u001b[2m1498 \u001b[0m\u001b[2m│   │   \u001b[0m\u001b[94mif\u001b[0m \u001b[95mnot\u001b[0m (\u001b[96mself\u001b[0m._backward_hooks \u001b[95mor\u001b[0m \u001b[96mself\u001b[0m._backward_pre_hooks \u001b[95mor\u001b[0m \u001b[96mself\u001b[0m._forward_hooks   \u001b[31m│\u001b[0m\n",
       "\u001b[31m│\u001b[0m   \u001b[2m1499 \u001b[0m\u001b[2m│   │   │   │   \u001b[0m\u001b[95mor\u001b[0m _global_backward_pre_hooks \u001b[95mor\u001b[0m _global_backward_hooks                   \u001b[31m│\u001b[0m\n",
       "\u001b[31m│\u001b[0m   \u001b[2m1500 \u001b[0m\u001b[2m│   │   │   │   \u001b[0m\u001b[95mor\u001b[0m _global_forward_hooks \u001b[95mor\u001b[0m _global_forward_pre_hooks):                   \u001b[31m│\u001b[0m\n",
       "\u001b[31m│\u001b[0m \u001b[31m❱ \u001b[0m1501 \u001b[2m│   │   │   \u001b[0m\u001b[94mreturn\u001b[0m forward_call(*args, **kwargs)                                          \u001b[31m│\u001b[0m\n",
       "\u001b[31m│\u001b[0m   \u001b[2m1502 \u001b[0m\u001b[2m│   │   \u001b[0m\u001b[2m# Do not call functions when jit is used\u001b[0m                                          \u001b[31m│\u001b[0m\n",
       "\u001b[31m│\u001b[0m   \u001b[2m1503 \u001b[0m\u001b[2m│   │   \u001b[0mfull_backward_hooks, non_full_backward_hooks = [], []                             \u001b[31m│\u001b[0m\n",
       "\u001b[31m│\u001b[0m   \u001b[2m1504 \u001b[0m\u001b[2m│   │   \u001b[0mbackward_pre_hooks = []                                                           \u001b[31m│\u001b[0m\n",
       "\u001b[31m│\u001b[0m                                                                                                  \u001b[31m│\u001b[0m\n",
       "\u001b[31m│\u001b[0m \u001b[33md:\\envs\\tf\\lib\\site-packages\\torch\\nn\\modules\\loss.py\u001b[0m:\u001b[94m720\u001b[0m in \u001b[92mforward\u001b[0m                             \u001b[31m│\u001b[0m\n",
       "\u001b[31m│\u001b[0m                                                                                                  \u001b[31m│\u001b[0m\n",
       "\u001b[31m│\u001b[0m   \u001b[2m 717 \u001b[0m\u001b[2m│   │   \u001b[0m\u001b[96mself\u001b[0m.pos_weight: Optional[Tensor]                                                 \u001b[31m│\u001b[0m\n",
       "\u001b[31m│\u001b[0m   \u001b[2m 718 \u001b[0m\u001b[2m│   \u001b[0m                                                                                      \u001b[31m│\u001b[0m\n",
       "\u001b[31m│\u001b[0m   \u001b[2m 719 \u001b[0m\u001b[2m│   \u001b[0m\u001b[94mdef\u001b[0m \u001b[92mforward\u001b[0m(\u001b[96mself\u001b[0m, \u001b[96minput\u001b[0m: Tensor, target: Tensor) -> Tensor:                           \u001b[31m│\u001b[0m\n",
       "\u001b[31m│\u001b[0m \u001b[31m❱ \u001b[0m 720 \u001b[2m│   │   \u001b[0m\u001b[94mreturn\u001b[0m F.binary_cross_entropy_with_logits(\u001b[96minput\u001b[0m, target,                          \u001b[31m│\u001b[0m\n",
       "\u001b[31m│\u001b[0m   \u001b[2m 721 \u001b[0m\u001b[2m│   │   │   │   │   │   │   │   │   │   │   │     \u001b[0m\u001b[96mself\u001b[0m.weight,                            \u001b[31m│\u001b[0m\n",
       "\u001b[31m│\u001b[0m   \u001b[2m 722 \u001b[0m\u001b[2m│   │   │   │   │   │   │   │   │   │   │   │     \u001b[0mpos_weight=\u001b[96mself\u001b[0m.pos_weight,             \u001b[31m│\u001b[0m\n",
       "\u001b[31m│\u001b[0m   \u001b[2m 723 \u001b[0m\u001b[2m│   │   │   │   │   │   │   │   │   │   │   │     \u001b[0mreduction=\u001b[96mself\u001b[0m.reduction)               \u001b[31m│\u001b[0m\n",
       "\u001b[31m│\u001b[0m                                                                                                  \u001b[31m│\u001b[0m\n",
       "\u001b[31m│\u001b[0m \u001b[33md:\\envs\\tf\\lib\\site-packages\\torch\\nn\\functional.py\u001b[0m:\u001b[94m3163\u001b[0m in \u001b[92mbinary_cross_entropy_with_logits\u001b[0m     \u001b[31m│\u001b[0m\n",
       "\u001b[31m│\u001b[0m                                                                                                  \u001b[31m│\u001b[0m\n",
       "\u001b[31m│\u001b[0m   \u001b[2m3160 \u001b[0m\u001b[2m│   │   \u001b[0mreduction_enum = _Reduction.get_enum(reduction)                                   \u001b[31m│\u001b[0m\n",
       "\u001b[31m│\u001b[0m   \u001b[2m3161 \u001b[0m\u001b[2m│   \u001b[0m                                                                                      \u001b[31m│\u001b[0m\n",
       "\u001b[31m│\u001b[0m   \u001b[2m3162 \u001b[0m\u001b[2m│   \u001b[0m\u001b[94mif\u001b[0m \u001b[95mnot\u001b[0m (target.size() == \u001b[96minput\u001b[0m.size()):                                               \u001b[31m│\u001b[0m\n",
       "\u001b[31m│\u001b[0m \u001b[31m❱ \u001b[0m3163 \u001b[2m│   │   \u001b[0m\u001b[94mraise\u001b[0m \u001b[96mValueError\u001b[0m(\u001b[33m\"\u001b[0m\u001b[33mTarget size (\u001b[0m\u001b[33m{}\u001b[0m\u001b[33m) must be the same as input size (\u001b[0m\u001b[33m{}\u001b[0m\u001b[33m)\u001b[0m\u001b[33m\"\u001b[0m.format(t  \u001b[31m│\u001b[0m\n",
       "\u001b[31m│\u001b[0m   \u001b[2m3164 \u001b[0m\u001b[2m│   \u001b[0m                                                                                      \u001b[31m│\u001b[0m\n",
       "\u001b[31m│\u001b[0m   \u001b[2m3165 \u001b[0m\u001b[2m│   \u001b[0m\u001b[94mreturn\u001b[0m torch.binary_cross_entropy_with_logits(\u001b[96minput\u001b[0m, target, weight, pos_weight, red  \u001b[31m│\u001b[0m\n",
       "\u001b[31m│\u001b[0m   \u001b[2m3166 \u001b[0m                                                                                          \u001b[31m│\u001b[0m\n",
       "\u001b[31m╰──────────────────────────────────────────────────────────────────────────────────────────────────╯\u001b[0m\n",
       "\u001b[1;91mValueError: \u001b[0mTarget size \u001b[1m(\u001b[0m\u001b[1;35mtorch.Size\u001b[0m\u001b[1m(\u001b[0m\u001b[1m[\u001b[0m\u001b[1;36m8\u001b[0m\u001b[1m]\u001b[0m\u001b[1m)\u001b[0m\u001b[1m)\u001b[0m must be the same as input size \u001b[1m(\u001b[0m\u001b[1;35mtorch.Size\u001b[0m\u001b[1m(\u001b[0m\u001b[1m[\u001b[0m\u001b[1;36m8\u001b[0m, \u001b[1;36m234\u001b[0m\u001b[1m]\u001b[0m\u001b[1m)\u001b[0m\u001b[1m)\u001b[0m\n"
      ]
     },
     "metadata": {},
     "output_type": "display_data"
    }
   ],
   "source": [
    "training_args = TrainingArguments(\n",
    "    output_dir='culo_model',\n",
    "    remove_unused_columns=False,\n",
    "    #evaluation_strategy = 'epoch',\n",
    "    #save_strategy = 'epoch',\n",
    "    learning_rate=5e-5,\n",
    "    per_device_train_batch_size = 8,\n",
    "    gradient_accumulation_steps=4,\n",
    "    num_train_epochs=50,\n",
    "    warmup_ratio=0.1,\n",
    "    logging_steps=10,\n",
    "    #load_best_model_at_end = True,\n",
    "    #metric_for_best_model = 'accuracy'\n",
    ")\n",
    "\n",
    "trainer = Trainer(\n",
    "    model = model,\n",
    "    args = training_args,\n",
    "    data_collator = data_collator,\n",
    "    train_dataset=train,\n",
    "    tokenizer = processor_capt,\n",
    ")\n",
    "\n",
    "trainer.train()"
   ]
  },
  {
   "cell_type": "code",
   "execution_count": null,
   "metadata": {},
   "outputs": [],
   "source": []
  },
  {
   "cell_type": "code",
   "execution_count": null,
   "metadata": {},
   "outputs": [],
   "source": []
  }
 ],
 "metadata": {
  "kernelspec": {
   "display_name": "tf",
   "language": "python",
   "name": "python3"
  },
  "language_info": {
   "codemirror_mode": {
    "name": "ipython",
    "version": 3
   },
   "file_extension": ".py",
   "mimetype": "text/x-python",
   "name": "python",
   "nbconvert_exporter": "python",
   "pygments_lexer": "ipython3",
   "version": "3.10.10"
  },
  "orig_nbformat": 4
 },
 "nbformat": 4,
 "nbformat_minor": 2
}

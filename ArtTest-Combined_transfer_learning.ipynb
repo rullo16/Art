{
 "cells": [
  {
   "cell_type": "code",
   "execution_count": 16,
   "metadata": {},
   "outputs": [],
   "source": [
    "import pandas as pd\n",
    "import datasets\n",
    "from PIL import Image\n",
    "import torch\n",
    "import torch.nn as nn\n",
    "import torch.optim as optim\n",
    "from torchvision import transforms\n",
    "from torchvision.datasets import ImageFolder\n",
    "from torch.utils.data import DataLoader\n",
    "from torch.nn.parallel import DataParallel\n",
    "import numpy as np"
   ]
  },
  {
   "cell_type": "code",
   "execution_count": 17,
   "metadata": {},
   "outputs": [],
   "source": [
    "from io import BytesIO\n",
    "import urllib\n",
    "from urllib.request import urlopen\n",
    "from zipfile import ZipFile\n",
    "import os\n",
    "zipurl = \"https://gohkust.sharepoint.com/teams/DEEPART/_layouts/15/download.aspx?SourceUrl=%2Fteams%2FDEEPART%2FShared%20Documents%2FGeneral%2FDataset%2Ftoy%5Fdataset%2Ezip\"\n",
    "hdr = {'Accept': 'text/html,application/xhtml+xml,application/xml;q=0.9,*/*;q=0.8'}\n",
    "req = urllib.request.Request(url=zipurl, header=hdr)\n",
    "if not os.path.isdir('./images/'):\n",
    "    with urlopen(req) as zipresp:\n",
    "        with ZipFile(BytesIO(zipresp.read())) as zfile:\n",
    "            zfile.extractall('./images/')\n"
   ]
  },
  {
   "cell_type": "code",
   "execution_count": 18,
   "metadata": {},
   "outputs": [
    {
     "name": "stdout",
     "output_type": "stream",
     "text": [
      "coumns:['ID', 'FILE', 'AUTHOR', 'BORN-DIED', 'TITLE', 'DATE', 'TECHNIQUE', 'LOCATION', 'FORM', 'TYPE', 'SCHOOL', 'TIMELINE', 'URL']\n"
     ]
    }
   ],
   "source": [
    "train_data = pd.read_csv('./described_dataset_label.csv',sep='\\t',encoding='latin-1', index_col=[0])\n",
    "print(f'coumns:{[x for x in train_data.columns]}')"
   ]
  },
  {
   "cell_type": "code",
   "execution_count": 19,
   "metadata": {},
   "outputs": [
    {
     "data": {
      "text/html": [
       "<div>\n",
       "<style scoped>\n",
       "    .dataframe tbody tr th:only-of-type {\n",
       "        vertical-align: middle;\n",
       "    }\n",
       "\n",
       "    .dataframe tbody tr th {\n",
       "        vertical-align: top;\n",
       "    }\n",
       "\n",
       "    .dataframe thead th {\n",
       "        text-align: right;\n",
       "    }\n",
       "</style>\n",
       "<table border=\"1\" class=\"dataframe\">\n",
       "  <thead>\n",
       "    <tr style=\"text-align: right;\">\n",
       "      <th></th>\n",
       "      <th>ID</th>\n",
       "    </tr>\n",
       "  </thead>\n",
       "  <tbody>\n",
       "    <tr>\n",
       "      <th>count</th>\n",
       "      <td>153.000000</td>\n",
       "    </tr>\n",
       "    <tr>\n",
       "      <th>mean</th>\n",
       "      <td>77.000000</td>\n",
       "    </tr>\n",
       "    <tr>\n",
       "      <th>std</th>\n",
       "      <td>44.311398</td>\n",
       "    </tr>\n",
       "    <tr>\n",
       "      <th>min</th>\n",
       "      <td>1.000000</td>\n",
       "    </tr>\n",
       "    <tr>\n",
       "      <th>25%</th>\n",
       "      <td>39.000000</td>\n",
       "    </tr>\n",
       "    <tr>\n",
       "      <th>50%</th>\n",
       "      <td>77.000000</td>\n",
       "    </tr>\n",
       "    <tr>\n",
       "      <th>75%</th>\n",
       "      <td>115.000000</td>\n",
       "    </tr>\n",
       "    <tr>\n",
       "      <th>max</th>\n",
       "      <td>153.000000</td>\n",
       "    </tr>\n",
       "  </tbody>\n",
       "</table>\n",
       "</div>"
      ],
      "text/plain": [
       "               ID\n",
       "count  153.000000\n",
       "mean    77.000000\n",
       "std     44.311398\n",
       "min      1.000000\n",
       "25%     39.000000\n",
       "50%     77.000000\n",
       "75%    115.000000\n",
       "max    153.000000"
      ]
     },
     "execution_count": 19,
     "metadata": {},
     "output_type": "execute_result"
    }
   ],
   "source": [
    "train_data.describe()"
   ]
  },
  {
   "cell_type": "code",
   "execution_count": 20,
   "metadata": {},
   "outputs": [
    {
     "data": {
      "text/html": [
       "<div>\n",
       "<style scoped>\n",
       "    .dataframe tbody tr th:only-of-type {\n",
       "        vertical-align: middle;\n",
       "    }\n",
       "\n",
       "    .dataframe tbody tr th {\n",
       "        vertical-align: top;\n",
       "    }\n",
       "\n",
       "    .dataframe thead th {\n",
       "        text-align: right;\n",
       "    }\n",
       "</style>\n",
       "<table border=\"1\" class=\"dataframe\">\n",
       "  <thead>\n",
       "    <tr style=\"text-align: right;\">\n",
       "      <th></th>\n",
       "      <th>ID</th>\n",
       "      <th>FILE</th>\n",
       "      <th>AUTHOR</th>\n",
       "      <th>BORN-DIED</th>\n",
       "      <th>TITLE</th>\n",
       "      <th>DATE</th>\n",
       "      <th>TECHNIQUE</th>\n",
       "      <th>LOCATION</th>\n",
       "      <th>FORM</th>\n",
       "      <th>TYPE</th>\n",
       "      <th>SCHOOL</th>\n",
       "      <th>TIMELINE</th>\n",
       "      <th>URL</th>\n",
       "    </tr>\n",
       "  </thead>\n",
       "  <tbody>\n",
       "    <tr>\n",
       "      <th>0</th>\n",
       "      <td>1</td>\n",
       "      <td>./images/1.jpg</td>\n",
       "      <td>AACHEN, Hans von</td>\n",
       "      <td>(b. 1552, KÃ¶ln, d. 1615, Praha)</td>\n",
       "      <td>Allegory</td>\n",
       "      <td>1598</td>\n",
       "      <td>Oil on copper, 56 x 47 cm</td>\n",
       "      <td>Alte Pinakothek, Munich</td>\n",
       "      <td>painting</td>\n",
       "      <td>mythological</td>\n",
       "      <td>German</td>\n",
       "      <td>1601-1650</td>\n",
       "      <td>The painting, displaying the characteristic Ma...</td>\n",
       "    </tr>\n",
       "    <tr>\n",
       "      <th>1</th>\n",
       "      <td>2</td>\n",
       "      <td>./images/2.jpg</td>\n",
       "      <td>AACHEN, Hans von</td>\n",
       "      <td>(b. 1552, KÃ¶ln, d. 1615, Praha)</td>\n",
       "      <td>Bacchus, Ceres and Cupid</td>\n",
       "      <td>-</td>\n",
       "      <td>Oil on canvas, 163 x 113 cm</td>\n",
       "      <td>Kunsthistorisches Museum, Vienna</td>\n",
       "      <td>painting</td>\n",
       "      <td>mythological</td>\n",
       "      <td>German</td>\n",
       "      <td>1601-1650</td>\n",
       "      <td>The representation of this group is related to...</td>\n",
       "    </tr>\n",
       "    <tr>\n",
       "      <th>2</th>\n",
       "      <td>3</td>\n",
       "      <td>./images/3.jpg</td>\n",
       "      <td>AACHEN, Hans von</td>\n",
       "      <td>(b. 1552, KÃ¶ln, d. 1615, Praha)</td>\n",
       "      <td>Joking Couple</td>\n",
       "      <td>-</td>\n",
       "      <td>Copperplate, 25 x 20 cm</td>\n",
       "      <td>Kunsthistorisches Museum, Vienna</td>\n",
       "      <td>painting</td>\n",
       "      <td>genre</td>\n",
       "      <td>German</td>\n",
       "      <td>1601-1650</td>\n",
       "      <td>At the end of the 16th century the court of Em...</td>\n",
       "    </tr>\n",
       "    <tr>\n",
       "      <th>3</th>\n",
       "      <td>4</td>\n",
       "      <td>./images/4.jpg</td>\n",
       "      <td>AACHEN, Hans von</td>\n",
       "      <td>(b. 1552, KÃ¶ln, d. 1615, Praha)</td>\n",
       "      <td>Portrait of Emperor Rudolf II</td>\n",
       "      <td>1590s</td>\n",
       "      <td>Oil on canvas, 60 x 48 cm</td>\n",
       "      <td>Kunsthistorisches Museum, Vienna</td>\n",
       "      <td>painting</td>\n",
       "      <td>portrait</td>\n",
       "      <td>German</td>\n",
       "      <td>1601-1650</td>\n",
       "      <td>Rudolf II (1552-1612) was the son of the Holy ...</td>\n",
       "    </tr>\n",
       "    <tr>\n",
       "      <th>4</th>\n",
       "      <td>5</td>\n",
       "      <td>./images/5.jpg</td>\n",
       "      <td>AACHEN, Hans von</td>\n",
       "      <td>(b. 1552, KÃ¶ln, d. 1615, Praha)</td>\n",
       "      <td>Self-Portrait with a Glass of Wine</td>\n",
       "      <td>c. 1596</td>\n",
       "      <td>Oil on canvas, 53 x 44 cm</td>\n",
       "      <td>Private collection</td>\n",
       "      <td>painting</td>\n",
       "      <td>portrait</td>\n",
       "      <td>German</td>\n",
       "      <td>1601-1650</td>\n",
       "      <td>Hans von Aachen was an artist who fully embrac...</td>\n",
       "    </tr>\n",
       "  </tbody>\n",
       "</table>\n",
       "</div>"
      ],
      "text/plain": [
       "   ID            FILE            AUTHOR                         BORN-DIED  \\\n",
       "0   1  ./images/1.jpg  AACHEN, Hans von  (b. 1552, KÃ¶ln, d. 1615, Praha)   \n",
       "1   2  ./images/2.jpg  AACHEN, Hans von  (b. 1552, KÃ¶ln, d. 1615, Praha)   \n",
       "2   3  ./images/3.jpg  AACHEN, Hans von  (b. 1552, KÃ¶ln, d. 1615, Praha)   \n",
       "3   4  ./images/4.jpg  AACHEN, Hans von  (b. 1552, KÃ¶ln, d. 1615, Praha)   \n",
       "4   5  ./images/5.jpg  AACHEN, Hans von  (b. 1552, KÃ¶ln, d. 1615, Praha)   \n",
       "\n",
       "                                TITLE     DATE                    TECHNIQUE  \\\n",
       "0                            Allegory     1598    Oil on copper, 56 x 47 cm   \n",
       "1            Bacchus, Ceres and Cupid        -  Oil on canvas, 163 x 113 cm   \n",
       "2                       Joking Couple        -      Copperplate, 25 x 20 cm   \n",
       "3       Portrait of Emperor Rudolf II    1590s    Oil on canvas, 60 x 48 cm   \n",
       "4  Self-Portrait with a Glass of Wine  c. 1596    Oil on canvas, 53 x 44 cm   \n",
       "\n",
       "                           LOCATION      FORM          TYPE  SCHOOL  \\\n",
       "0           Alte Pinakothek, Munich  painting  mythological  German   \n",
       "1  Kunsthistorisches Museum, Vienna  painting  mythological  German   \n",
       "2  Kunsthistorisches Museum, Vienna  painting         genre  German   \n",
       "3  Kunsthistorisches Museum, Vienna  painting      portrait  German   \n",
       "4                Private collection  painting      portrait  German   \n",
       "\n",
       "    TIMELINE                                                URL  \n",
       "0  1601-1650  The painting, displaying the characteristic Ma...  \n",
       "1  1601-1650  The representation of this group is related to...  \n",
       "2  1601-1650  At the end of the 16th century the court of Em...  \n",
       "3  1601-1650  Rudolf II (1552-1612) was the son of the Holy ...  \n",
       "4  1601-1650  Hans von Aachen was an artist who fully embrac...  "
      ]
     },
     "execution_count": 20,
     "metadata": {},
     "output_type": "execute_result"
    }
   ],
   "source": [
    "train_data.head()"
   ]
  },
  {
   "cell_type": "code",
   "execution_count": 21,
   "metadata": {},
   "outputs": [
    {
     "data": {
      "text/html": [
       "<div>\n",
       "<style scoped>\n",
       "    .dataframe tbody tr th:only-of-type {\n",
       "        vertical-align: middle;\n",
       "    }\n",
       "\n",
       "    .dataframe tbody tr th {\n",
       "        vertical-align: top;\n",
       "    }\n",
       "\n",
       "    .dataframe thead th {\n",
       "        text-align: right;\n",
       "    }\n",
       "</style>\n",
       "<table border=\"1\" class=\"dataframe\">\n",
       "  <thead>\n",
       "    <tr style=\"text-align: right;\">\n",
       "      <th></th>\n",
       "      <th>FILE</th>\n",
       "      <th>AUTHOR</th>\n",
       "      <th>TECHNIQUE</th>\n",
       "      <th>URL</th>\n",
       "    </tr>\n",
       "  </thead>\n",
       "  <tbody>\n",
       "    <tr>\n",
       "      <th>0</th>\n",
       "      <td>./images/1.jpg</td>\n",
       "      <td>AACHEN, Hans von</td>\n",
       "      <td>Oil on copper</td>\n",
       "      <td>The painting, displaying the characteristic Ma...</td>\n",
       "    </tr>\n",
       "    <tr>\n",
       "      <th>1</th>\n",
       "      <td>./images/2.jpg</td>\n",
       "      <td>AACHEN, Hans von</td>\n",
       "      <td>Oil on canvas</td>\n",
       "      <td>The representation of this group is related to...</td>\n",
       "    </tr>\n",
       "    <tr>\n",
       "      <th>2</th>\n",
       "      <td>./images/3.jpg</td>\n",
       "      <td>AACHEN, Hans von</td>\n",
       "      <td>Copperplate</td>\n",
       "      <td>At the end of the 16th century the court of Em...</td>\n",
       "    </tr>\n",
       "    <tr>\n",
       "      <th>3</th>\n",
       "      <td>./images/4.jpg</td>\n",
       "      <td>AACHEN, Hans von</td>\n",
       "      <td>Oil on canvas</td>\n",
       "      <td>Rudolf II (1552-1612) was the son of the Holy ...</td>\n",
       "    </tr>\n",
       "    <tr>\n",
       "      <th>4</th>\n",
       "      <td>./images/5.jpg</td>\n",
       "      <td>AACHEN, Hans von</td>\n",
       "      <td>Oil on canvas</td>\n",
       "      <td>Hans von Aachen was an artist who fully embrac...</td>\n",
       "    </tr>\n",
       "  </tbody>\n",
       "</table>\n",
       "</div>"
      ],
      "text/plain": [
       "             FILE            AUTHOR      TECHNIQUE  \\\n",
       "0  ./images/1.jpg  AACHEN, Hans von  Oil on copper   \n",
       "1  ./images/2.jpg  AACHEN, Hans von  Oil on canvas   \n",
       "2  ./images/3.jpg  AACHEN, Hans von    Copperplate   \n",
       "3  ./images/4.jpg  AACHEN, Hans von  Oil on canvas   \n",
       "4  ./images/5.jpg  AACHEN, Hans von  Oil on canvas   \n",
       "\n",
       "                                                 URL  \n",
       "0  The painting, displaying the characteristic Ma...  \n",
       "1  The representation of this group is related to...  \n",
       "2  At the end of the 16th century the court of Em...  \n",
       "3  Rudolf II (1552-1612) was the son of the Holy ...  \n",
       "4  Hans von Aachen was an artist who fully embrac...  "
      ]
     },
     "execution_count": 21,
     "metadata": {},
     "output_type": "execute_result"
    }
   ],
   "source": [
    "features = ['FILE','AUTHOR','TECHNIQUE','URL']\n",
    "train_data = train_data[features]\n",
    "train_data = train_data[:500]\n",
    "train_data['TECHNIQUE'] = train_data['TECHNIQUE'].str.split(',').str[0]\n",
    "train_data['TECHNIQUE'] = train_data['TECHNIQUE'].str.split(':').str[0]\n",
    "train_data.head()"
   ]
  },
  {
   "cell_type": "code",
   "execution_count": 22,
   "metadata": {},
   "outputs": [],
   "source": [
    "train_data.dropna()\n",
    "train_data = train_data[train_data['URL'] != 0]"
   ]
  },
  {
   "cell_type": "code",
   "execution_count": 23,
   "metadata": {},
   "outputs": [],
   "source": [
    "train_data = train_data.rename(columns={'FILE':'image','AUTHOR':'author', 'TECHNIQUE':'style','URL':'description'})"
   ]
  },
  {
   "cell_type": "code",
   "execution_count": 24,
   "metadata": {},
   "outputs": [],
   "source": [
    "labels_auth = train_data['author'].unique()\n",
    "label2id_auth, id2label_auth = dict(), dict()\n",
    "for i, label in enumerate(labels_auth):\n",
    "    label2id_auth[label]=i\n",
    "    id2label_auth[i]=label"
   ]
  },
  {
   "cell_type": "code",
   "execution_count": 25,
   "metadata": {},
   "outputs": [],
   "source": [
    "labels_sty = train_data['style'].unique()\n",
    "label2id_sty, id2label_sty = dict(), dict()\n",
    "for i, label in enumerate(labels_sty):\n",
    "    label2id_sty[label]=i\n",
    "    id2label_sty[i]=label"
   ]
  },
  {
   "cell_type": "code",
   "execution_count": 26,
   "metadata": {},
   "outputs": [
    {
     "data": {
      "text/plain": [
       "Index(['image', 'author', 'style', 'description'], dtype='object')"
      ]
     },
     "execution_count": 26,
     "metadata": {},
     "output_type": "execute_result"
    }
   ],
   "source": [
    "train_data['author'] = train_data['author'].map(label2id_auth)\n",
    "train_data['style'] = train_data['style'].map(label2id_sty)\n",
    "train_data.columns"
   ]
  },
  {
   "cell_type": "code",
   "execution_count": 27,
   "metadata": {},
   "outputs": [
    {
     "ename": "AttributeError",
     "evalue": "module 'datasets' has no attribute 'Dataset'",
     "output_type": "error",
     "traceback": [
      "\u001b[0;31m---------------------------------------------------------------------------\u001b[0m",
      "\u001b[0;31mAttributeError\u001b[0m                            Traceback (most recent call last)",
      "\u001b[1;32m/home/fede/Desktop/Art/ArtTest-Combined_transfer_learning.ipynb Cell 12\u001b[0m line \u001b[0;36m1\n\u001b[0;32m----> <a href='vscode-notebook-cell:/home/fede/Desktop/Art/ArtTest-Combined_transfer_learning.ipynb#X14sZmlsZQ%3D%3D?line=0'>1</a>\u001b[0m train_dataset \u001b[39m=\u001b[39m datasets\u001b[39m.\u001b[39mDataset\u001b[39m.\u001b[39mfrom_dict(train_data)\u001b[39m.\u001b[39mcast_column(\u001b[39m'\u001b[39m\u001b[39mimage\u001b[39m\u001b[39m'\u001b[39m,datasets\u001b[39m.\u001b[39mImage())\n\u001b[1;32m      <a href='vscode-notebook-cell:/home/fede/Desktop/Art/ArtTest-Combined_transfer_learning.ipynb#X14sZmlsZQ%3D%3D?line=1'>2</a>\u001b[0m train_dataset_git \u001b[39m=\u001b[39m datasets\u001b[39m.\u001b[39mDataset\u001b[39m.\u001b[39mfrom_dict(train_data[[\u001b[39m'\u001b[39m\u001b[39mimage\u001b[39m\u001b[39m'\u001b[39m,\u001b[39m'\u001b[39m\u001b[39mdescription\u001b[39m\u001b[39m'\u001b[39m]])\u001b[39m.\u001b[39mcast_column(\u001b[39m'\u001b[39m\u001b[39mimage\u001b[39m\u001b[39m'\u001b[39m,datasets\u001b[39m.\u001b[39mImage())\n\u001b[1;32m      <a href='vscode-notebook-cell:/home/fede/Desktop/Art/ArtTest-Combined_transfer_learning.ipynb#X14sZmlsZQ%3D%3D?line=2'>3</a>\u001b[0m train_dataset_vit_auth \u001b[39m=\u001b[39m datasets\u001b[39m.\u001b[39mDataset\u001b[39m.\u001b[39mfrom_dict(train_data[[\u001b[39m'\u001b[39m\u001b[39mimage\u001b[39m\u001b[39m'\u001b[39m,\u001b[39m'\u001b[39m\u001b[39mauthor\u001b[39m\u001b[39m'\u001b[39m]])\u001b[39m.\u001b[39mcast_column(\u001b[39m'\u001b[39m\u001b[39mimage\u001b[39m\u001b[39m'\u001b[39m,datasets\u001b[39m.\u001b[39mImage())\n",
      "\u001b[0;31mAttributeError\u001b[0m: module 'datasets' has no attribute 'Dataset'"
     ]
    }
   ],
   "source": [
    "train_dataset = datasets.Dataset.from_dict(train_data).cast_column('image',datasets.Image())\n",
    "train_dataset_git = datasets.Dataset.from_dict(train_data[['image','description']]).cast_column('image',datasets.Image())\n",
    "train_dataset_vit_auth = datasets.Dataset.from_dict(train_data[['image','author']]).cast_column('image',datasets.Image())\n",
    "train_dataset_vit_style = datasets.Dataset.from_dict(train_data[['image','style']]).cast_column('image',datasets.Image())\n",
    "print(train_dataset)"
   ]
  },
  {
   "cell_type": "code",
   "execution_count": 44,
   "metadata": {},
   "outputs": [
    {
     "ename": "NameError",
     "evalue": "name 'train_dataset' is not defined",
     "output_type": "error",
     "traceback": [
      "\u001b[0;31m---------------------------------------------------------------------------\u001b[0m",
      "\u001b[0;31mNameError\u001b[0m                                 Traceback (most recent call last)",
      "\u001b[1;32m/home/fede/Desktop/Art/ArtTest-Combined_transfer_learning.ipynb Cell 13\u001b[0m line \u001b[0;36m1\n\u001b[0;32m----> <a href='vscode-notebook-cell:/home/fede/Desktop/Art/ArtTest-Combined_transfer_learning.ipynb#X20sZmlsZQ%3D%3D?line=0'>1</a>\u001b[0m sample \u001b[39m=\u001b[39m train_dataset[\u001b[39m26\u001b[39m]\n\u001b[1;32m      <a href='vscode-notebook-cell:/home/fede/Desktop/Art/ArtTest-Combined_transfer_learning.ipynb#X20sZmlsZQ%3D%3D?line=2'>3</a>\u001b[0m image \u001b[39m=\u001b[39m sample[\u001b[39m'\u001b[39m\u001b[39mimage\u001b[39m\u001b[39m'\u001b[39m]\n\u001b[1;32m      <a href='vscode-notebook-cell:/home/fede/Desktop/Art/ArtTest-Combined_transfer_learning.ipynb#X20sZmlsZQ%3D%3D?line=3'>4</a>\u001b[0m height,width \u001b[39m=\u001b[39m image\u001b[39m.\u001b[39msize\n",
      "\u001b[0;31mNameError\u001b[0m: name 'train_dataset' is not defined"
     ]
    }
   ],
   "source": [
    "sample = train_dataset[26]\n",
    "\n",
    "image = sample['image']\n",
    "height,width = image.size\n",
    "display(image.resize((int(0.3*height),int(0.3*width))))\n",
    "caption = sample['description']\n",
    "author = sample['author']\n",
    "technique = sample['style']\n",
    "print(f'Description: {caption}')\n",
    "print(f'Author: {author}')\n",
    "print(f'Technique: {technique}')"
   ]
  },
  {
   "cell_type": "code",
   "execution_count": 45,
   "metadata": {},
   "outputs": [
    {
     "ename": "ModuleNotFoundError",
     "evalue": "No module named 'torch.utils'",
     "output_type": "error",
     "traceback": [
      "\u001b[0;31m---------------------------------------------------------------------------\u001b[0m",
      "\u001b[0;31mModuleNotFoundError\u001b[0m                       Traceback (most recent call last)",
      "\u001b[1;32m/home/fede/Desktop/Art/ArtTest-Combined_transfer_learning.ipynb Cell 14\u001b[0m line \u001b[0;36m1\n\u001b[0;32m----> <a href='vscode-notebook-cell:/home/fede/Desktop/Art/ArtTest-Combined_transfer_learning.ipynb#X21sZmlsZQ%3D%3D?line=0'>1</a>\u001b[0m \u001b[39mfrom\u001b[39;00m \u001b[39mtorch\u001b[39;00m\u001b[39m.\u001b[39;00m\u001b[39mutils\u001b[39;00m\u001b[39m.\u001b[39;00m\u001b[39mdata\u001b[39;00m \u001b[39mimport\u001b[39;00m Dataset\n\u001b[1;32m      <a href='vscode-notebook-cell:/home/fede/Desktop/Art/ArtTest-Combined_transfer_learning.ipynb#X21sZmlsZQ%3D%3D?line=2'>3</a>\u001b[0m \u001b[39mclass\u001b[39;00m \u001b[39mImageCaptioningDataset\u001b[39;00m(Dataset):\n\u001b[1;32m      <a href='vscode-notebook-cell:/home/fede/Desktop/Art/ArtTest-Combined_transfer_learning.ipynb#X21sZmlsZQ%3D%3D?line=4'>5</a>\u001b[0m     \u001b[39mdef\u001b[39;00m \u001b[39m__init__\u001b[39m(\u001b[39mself\u001b[39m, dataset, processor):\n",
      "\u001b[0;31mModuleNotFoundError\u001b[0m: No module named 'torch.utils'"
     ]
    }
   ],
   "source": [
    "from torch.utils.data import Dataset\n",
    "\n",
    "class ImageCaptioningDataset(Dataset):\n",
    "    \n",
    "    def __init__(self, dataset, processor):\n",
    "        self.dataset = dataset\n",
    "        self.processor = processor\n",
    "\n",
    "    def __len__(self):\n",
    "        return len(self.dataset)\n",
    "\n",
    "    def __getitem__(self, idx):\n",
    "        item = self.dataset[idx]\n",
    "        encoding = self.processor(images=item[\"image\"], text=item[\"description\"], padding=\"max_length\", return_tensors=\"pt\", truncation=True)\n",
    "        # remove batch dimension\n",
    "        encoding = {k:v.squeeze() for k,v in encoding.items()}\n",
    "        return encoding"
   ]
  },
  {
   "cell_type": "code",
   "execution_count": null,
   "metadata": {},
   "outputs": [],
   "source": [
    "from torch.utils.data import Dataset\n",
    "\n",
    "class ImageClassificationDataset(Dataset):\n",
    "    \n",
    "    def __init__(self, dataset, processor):\n",
    "        self.dataset = dataset\n",
    "        self.processor = processor\n",
    "\n",
    "    def __len__(self):\n",
    "        return len(self.dataset)\n",
    "\n",
    "    def __getitem__(self, idx):\n",
    "        item = self.dataset[idx]\n",
    "        encoding = self.processor(images=item[\"image\"], text=item[\"label\"], padding=\"max_length\", return_tensors=\"pt\", truncation=True)\n",
    "        # remove batch dimension\n",
    "        encoding = {k:v.squeeze() for k,v in encoding.items()}\n",
    "        return encoding"
   ]
  },
  {
   "cell_type": "code",
   "execution_count": null,
   "metadata": {},
   "outputs": [
    {
     "name": "stderr",
     "output_type": "stream",
     "text": [
      "2023-08-08 14:49:41.467425: I tensorflow/core/platform/cpu_feature_guard.cc:182] This TensorFlow binary is optimized to use available CPU instructions in performance-critical operations.\n",
      "To enable the following instructions: AVX2 FMA, in other operations, rebuild TensorFlow with the appropriate compiler flags.\n"
     ]
    }
   ],
   "source": [
    "from transformers import AutoProcessor\n",
    "\n",
    "processor_clas = AutoProcessor.from_pretrained(\"google/vit-base-patch16-224-in21k\")\n",
    "processor_capt = AutoProcessor.from_pretrained(\"microsoft/git-base\")"
   ]
  },
  {
   "cell_type": "code",
   "execution_count": null,
   "metadata": {},
   "outputs": [],
   "source": [
    "from torchvision.transforms import RandomResizedCrop, Compose, Normalize, ToTensor\n",
    "\n",
    "normalize = Normalize(mean=processor_clas.image_mean, std=processor_clas.image_std)\n",
    "\n",
    "size = (\n",
    "\n",
    "    processor_clas.size[\"shortest_edge\"]\n",
    "\n",
    "    if \"shortest_edge\" in processor_clas.size\n",
    "\n",
    "    else (processor_clas.size[\"height\"], processor_clas.size[\"width\"])\n",
    "\n",
    ")\n",
    "\n",
    "_transforms = Compose([RandomResizedCrop(size), ToTensor(), normalize])"
   ]
  },
  {
   "cell_type": "code",
   "execution_count": null,
   "metadata": {},
   "outputs": [],
   "source": [
    "def transforms(examples):\n",
    "    examples['pixel_values'] = [_transforms(img.convert('RGB'))for img in examples['image']]\n",
    "    del examples['image']\n",
    "    return examples"
   ]
  },
  {
   "cell_type": "code",
   "execution_count": null,
   "metadata": {},
   "outputs": [
    {
     "name": "stderr",
     "output_type": "stream",
     "text": [
      "Some weights of ViTForImageClassification were not initialized from the model checkpoint at google/vit-base-patch16-224-in21k and are newly initialized: ['classifier.bias', 'classifier.weight']\n",
      "You should probably TRAIN this model on a down-stream task to be able to use it for predictions and inference.\n"
     ]
    }
   ],
   "source": [
    "from transformers import AutoModelForImageClassification, TrainingArguments, Trainer\n",
    "\n",
    "checkpoint= 'google/vit-base-patch16-224-in21k'\n",
    "\n",
    "model_clas_auth = AutoModelForImageClassification.from_pretrained(\n",
    "    checkpoint,\n",
    "    num_labels = len(labels_auth),\n",
    "    id2label = id2label_auth,\n",
    "    label2id = label2id_auth\n",
    ")"
   ]
  },
  {
   "cell_type": "code",
   "execution_count": null,
   "metadata": {},
   "outputs": [
    {
     "name": "stderr",
     "output_type": "stream",
     "text": [
      "Some weights of ViTForImageClassification were not initialized from the model checkpoint at google/vit-base-patch16-224-in21k and are newly initialized: ['classifier.bias', 'classifier.weight']\n",
      "You should probably TRAIN this model on a down-stream task to be able to use it for predictions and inference.\n"
     ]
    }
   ],
   "source": [
    "model_clas_sty = AutoModelForImageClassification.from_pretrained(\n",
    "    checkpoint,\n",
    "    num_labels = len(labels_sty),\n",
    "    id2label = id2label_sty,\n",
    "    label2id = label2id_sty\n",
    ")"
   ]
  },
  {
   "cell_type": "code",
   "execution_count": null,
   "metadata": {},
   "outputs": [],
   "source": [
    "train_dataset_vit_auth = train_dataset_vit_auth.rename_column('author','label')\n",
    "train_dataset_vit_style = train_dataset_vit_style.rename_column('style','label')\n",
    "train_capt = ImageCaptioningDataset(train_dataset_git,processor_capt)\n",
    "# train_dataset_vit_auth = ImageClassificationDataset(train_dataset_vit_auth,processor_clas)\n",
    "# train_dataset_vit_style = ImageClassificationDataset(train_dataset_vit_style,processor_clas)\n",
    "train_sty = train_dataset_vit_style.with_transform(transforms)\n",
    "train_auth = train_dataset_vit_auth.with_transform(transforms)"
   ]
  },
  {
   "cell_type": "code",
   "execution_count": null,
   "metadata": {},
   "outputs": [],
   "source": [
    "from torch.utils.data import DataLoader\n",
    "train_dataloader_vit_sty = DataLoader(train_sty,shuffle=True,batch_size=2)\n",
    "train_dataloader_vit_auth = DataLoader(train_auth, shuffle=True, batch_size=2)\n",
    "train_dataloader_git = DataLoader(train_capt,shuffle=True,batch_size=2)"
   ]
  },
  {
   "cell_type": "code",
   "execution_count": null,
   "metadata": {},
   "outputs": [],
   "source": [
    "from transformers import AutoModelForCausalLM\n",
    "\n",
    "model_capt = AutoModelForCausalLM.from_pretrained('microsoft/git-base')"
   ]
  },
  {
   "cell_type": "code",
   "execution_count": null,
   "metadata": {},
   "outputs": [
    {
     "name": "stdout",
     "output_type": "stream",
     "text": [
      "input_ids torch.Size([2, 512])\n",
      "attention_mask torch.Size([2, 512])\n",
      "pixel_values torch.Size([2, 3, 224, 224])\n"
     ]
    }
   ],
   "source": [
    "batch = next(iter(train_dataloader_git))\n",
    "for k,v in batch.items():\n",
    "    print(k,v.shape)"
   ]
  },
  {
   "cell_type": "code",
   "execution_count": null,
   "metadata": {},
   "outputs": [
    {
     "data": {
      "text/plain": [
       "tensor(8.2316, grad_fn=<NllLossBackward0>)"
      ]
     },
     "execution_count": 26,
     "metadata": {},
     "output_type": "execute_result"
    }
   ],
   "source": [
    "outputs = model_capt(input_ids=batch['input_ids'],\n",
    "                attention_mask=batch['attention_mask'],\n",
    "                pixel_values=batch['pixel_values'],\n",
    "                labels=batch['input_ids'])\n",
    "\n",
    "outputs.loss"
   ]
  },
  {
   "cell_type": "code",
   "execution_count": null,
   "metadata": {},
   "outputs": [],
   "source": [
    "vit_model_auth = model_clas_auth #nn.DataParallel(model_clas_auth)\n",
    "vit_model_sty = model_clas_sty #nn.DataParallel(model_clas_sty)"
   ]
  },
  {
   "cell_type": "code",
   "execution_count": null,
   "metadata": {},
   "outputs": [],
   "source": [
    "vit_optimizer_auth = torch.optim.AdamW(vit_model_auth.parameters(), lr=1e-5)\n",
    "vit_optimizer_sty = torch.optim.AdamW(vit_model_sty.parameters(), lr=1e-5)\n",
    "git_optimizer = torch.optim.AdamW(model_capt.parameters(),lr=5e-5)\n",
    "vit_criterion_auth = nn.CrossEntropyLoss()\n",
    "vit_criterion_sty = nn.CrossEntropyLoss()\n",
    "git_criterion = nn.CrossEntropyLoss()"
   ]
  },
  {
   "cell_type": "code",
   "execution_count": null,
   "metadata": {},
   "outputs": [],
   "source": [
    "num_epochs_class = 50\n",
    "num_epochs_capt = 10"
   ]
  },
  {
   "cell_type": "code",
   "execution_count": null,
   "metadata": {},
   "outputs": [
    {
     "name": "stderr",
     "output_type": "stream",
     "text": [
      "Loss: 3.6348609924316406: 100%|██████████| 212/212 [02:09<00:00,  1.64it/s]\n",
      "Loss: 4.311413764953613: 100%|██████████| 212/212 [02:05<00:00,  1.68it/s]\n",
      "Loss: 2.8062796592712402: 100%|██████████| 212/212 [02:05<00:00,  1.70it/s]\n",
      "Loss: 3.663330554962158: 100%|██████████| 212/212 [02:04<00:00,  1.70it/s]\n",
      "Loss: 1.9705915451049805: 100%|██████████| 212/212 [02:04<00:00,  1.71it/s]\n",
      "Loss: 4.241854667663574: 100%|██████████| 212/212 [02:05<00:00,  1.70it/s]\n",
      "Loss: 2.9700167179107666: 100%|██████████| 212/212 [02:04<00:00,  1.70it/s]\n",
      "Loss: 3.6018996238708496: 100%|██████████| 212/212 [02:05<00:00,  1.69it/s]\n",
      "Loss: 4.007667541503906: 100%|██████████| 212/212 [02:04<00:00,  1.70it/s]\n",
      "Loss: 4.245004653930664: 100%|██████████| 212/212 [02:06<00:00,  1.67it/s]\n",
      "Loss: 2.8543407917022705: 100%|██████████| 212/212 [02:08<00:00,  1.65it/s]\n",
      "Loss: 4.473720073699951: 100%|██████████| 212/212 [02:06<00:00,  1.68it/s]\n",
      "Loss: 4.709948539733887: 100%|██████████| 212/212 [02:06<00:00,  1.68it/s]\n",
      "Loss: 3.4718198776245117: 100%|██████████| 212/212 [02:06<00:00,  1.68it/s]\n",
      "Loss: 2.765211582183838: 100%|██████████| 212/212 [02:05<00:00,  1.69it/s]\n",
      "Loss: 3.5100302696228027: 100%|██████████| 212/212 [02:05<00:00,  1.69it/s]\n",
      "Loss: 1.7120184898376465: 100%|██████████| 212/212 [02:05<00:00,  1.69it/s]\n",
      "Loss: 3.71120548248291: 100%|██████████| 212/212 [02:06<00:00,  1.68it/s]\n",
      "Loss: 2.9365079402923584: 100%|██████████| 212/212 [02:05<00:00,  1.70it/s]\n",
      "Loss: 3.214475154876709: 100%|██████████| 212/212 [02:08<00:00,  1.65it/s]\n",
      "Loss: 2.726585865020752: 100%|██████████| 212/212 [02:06<00:00,  1.68it/s]\n",
      "Loss: 3.45827054977417: 100%|██████████| 212/212 [02:06<00:00,  1.68it/s]\n",
      "Loss: 2.788175582885742: 100%|██████████| 212/212 [02:06<00:00,  1.68it/s]\n",
      "Loss: 3.6233208179473877: 100%|██████████| 212/212 [02:06<00:00,  1.67it/s]\n",
      "Loss: 3.177777051925659: 100%|██████████| 212/212 [02:06<00:00,  1.68it/s]\n",
      "Loss: 3.366734743118286: 100%|██████████| 212/212 [02:06<00:00,  1.68it/s]\n",
      "Loss: 1.7620697021484375: 100%|██████████| 212/212 [02:06<00:00,  1.68it/s]\n",
      "Loss: 3.224483013153076: 100%|██████████| 212/212 [02:06<00:00,  1.68it/s]\n",
      "Loss: 1.4158647060394287: 100%|██████████| 212/212 [02:06<00:00,  1.68it/s]\n",
      "Loss: 2.7166266441345215: 100%|██████████| 212/212 [02:06<00:00,  1.67it/s]\n",
      "Loss: 1.5644434690475464: 100%|██████████| 212/212 [02:06<00:00,  1.68it/s]\n",
      "Loss: 3.950303554534912: 100%|██████████| 212/212 [02:06<00:00,  1.67it/s]\n",
      "Loss: 1.9442377090454102: 100%|██████████| 212/212 [02:04<00:00,  1.71it/s]\n",
      "Loss: 3.167759656906128: 100%|██████████| 212/212 [02:04<00:00,  1.70it/s]\n",
      "Loss: 0.7849155068397522: 100%|██████████| 212/212 [02:03<00:00,  1.72it/s]\n",
      "Loss: 3.601398468017578: 100%|██████████| 212/212 [02:04<00:00,  1.70it/s]\n",
      "Loss: 1.6841013431549072: 100%|██████████| 212/212 [02:03<00:00,  1.72it/s]\n",
      "Loss: 3.3510210514068604: 100%|██████████| 212/212 [02:04<00:00,  1.71it/s]\n",
      "Loss: 2.7545413970947266: 100%|██████████| 212/212 [02:03<00:00,  1.72it/s]\n",
      "Loss: 2.377169132232666: 100%|██████████| 212/212 [02:03<00:00,  1.72it/s]\n",
      "Loss: 0.8426102995872498: 100%|██████████| 212/212 [02:02<00:00,  1.72it/s]\n",
      "Loss: 3.458601236343384: 100%|██████████| 212/212 [02:03<00:00,  1.71it/s]\n",
      "Loss: 0.9565953016281128: 100%|██████████| 212/212 [02:03<00:00,  1.72it/s]\n",
      "Loss: 3.185070514678955: 100%|██████████| 212/212 [02:02<00:00,  1.72it/s]\n",
      "Loss: 3.0512146949768066: 100%|██████████| 212/212 [02:02<00:00,  1.72it/s]\n",
      "Loss: 3.8753318786621094: 100%|██████████| 212/212 [02:04<00:00,  1.71it/s]\n",
      "Loss: 0.8985733389854431: 100%|██████████| 212/212 [01:58<00:00,  1.79it/s]\n",
      "Loss: 1.0454390048980713: 100%|██████████| 212/212 [01:58<00:00,  1.79it/s]\n",
      "Loss: 1.858579158782959: 100%|██████████| 212/212 [01:59<00:00,  1.78it/s]\n",
      "Loss: 2.9895811080932617: 100%|██████████| 212/212 [01:59<00:00,  1.77it/s]\n",
      "Loss: 0.9693300724029541: 100%|██████████| 212/212 [01:59<00:00,  1.78it/s]\n",
      "Loss: 3.2969233989715576: 100%|██████████| 212/212 [02:02<00:00,  1.73it/s]\n",
      "Loss: 1.6023725271224976: 100%|██████████| 212/212 [02:04<00:00,  1.70it/s]\n",
      "Loss: 2.537055253982544: 100%|██████████| 212/212 [02:03<00:00,  1.71it/s]\n",
      "Loss: 1.0407698154449463: 100%|██████████| 212/212 [02:03<00:00,  1.72it/s]\n",
      "Loss: 1.4037604331970215: 100%|██████████| 212/212 [02:04<00:00,  1.71it/s]\n",
      "Loss: 2.7572855949401855: 100%|██████████| 212/212 [02:03<00:00,  1.72it/s]\n",
      "Loss: 1.5348347425460815: 100%|██████████| 212/212 [02:04<00:00,  1.71it/s]\n",
      "Loss: 2.1553800106048584: 100%|██████████| 212/212 [02:03<00:00,  1.72it/s]\n",
      "Loss: 0.9789268970489502: 100%|██████████| 212/212 [02:03<00:00,  1.72it/s]\n",
      "Loss: 3.2130703926086426: 100%|██████████| 212/212 [02:03<00:00,  1.71it/s]\n",
      "Loss: 1.9118537902832031: 100%|██████████| 212/212 [02:04<00:00,  1.70it/s]\n",
      "Loss: 0.25866398215293884: 100%|██████████| 212/212 [02:07<00:00,  1.66it/s]\n",
      "Loss: 0.7796699404716492: 100%|██████████| 212/212 [02:12<00:00,  1.60it/s]\n",
      "Loss: 0.15311479568481445: 100%|██████████| 212/212 [02:07<00:00,  1.67it/s]\n",
      "Loss: 2.578871488571167: 100%|██████████| 212/212 [02:11<00:00,  1.61it/s]\n",
      "Loss: 0.46957695484161377: 100%|██████████| 212/212 [02:07<00:00,  1.66it/s]\n",
      "Loss: 1.719882845878601: 100%|██████████| 212/212 [02:07<00:00,  1.67it/s]\n",
      "Loss: 2.5049543380737305: 100%|██████████| 212/212 [02:10<00:00,  1.63it/s]\n",
      "Loss: 1.7641737461090088: 100%|██████████| 212/212 [02:09<00:00,  1.64it/s]\n",
      "Loss: 0.12897680699825287: 100%|██████████| 212/212 [02:14<00:00,  1.58it/s]\n",
      "Loss: 2.538013219833374: 100%|██████████| 212/212 [02:10<00:00,  1.62it/s]\n",
      "Loss: 0.8692939281463623: 100%|██████████| 212/212 [02:09<00:00,  1.64it/s]\n",
      "Loss: 1.6252694129943848: 100%|██████████| 212/212 [02:01<00:00,  1.75it/s]\n",
      "Loss: 0.6098510026931763: 100%|██████████| 212/212 [02:26<00:00,  1.44it/s]\n",
      "Loss: 2.602550983428955: 100%|██████████| 212/212 [02:06<00:00,  1.67it/s]\n",
      "Loss: 4.347405910491943: 100%|██████████| 212/212 [02:01<00:00,  1.75it/s]\n",
      "Loss: 0.8584238886833191: 100%|██████████| 212/212 [02:07<00:00,  1.66it/s]\n",
      "Loss: 0.19847498834133148: 100%|██████████| 212/212 [02:06<00:00,  1.67it/s]\n",
      "Loss: 0.4550105333328247: 100%|██████████| 212/212 [02:07<00:00,  1.66it/s]\n",
      "Loss: 0.05638410151004791: 100%|██████████| 212/212 [02:06<00:00,  1.67it/s]\n",
      "Loss: 2.462648868560791: 100%|██████████| 212/212 [02:07<00:00,  1.67it/s]\n",
      "Loss: 0.6369528770446777: 100%|██████████| 212/212 [02:06<00:00,  1.68it/s]\n",
      "Loss: 2.113832712173462: 100%|██████████| 212/212 [02:07<00:00,  1.67it/s]\n",
      "Loss: 0.4490548372268677: 100%|██████████| 212/212 [02:07<00:00,  1.67it/s]\n",
      "Loss: 1.0447156429290771: 100%|██████████| 212/212 [02:07<00:00,  1.66it/s]\n",
      "Loss: 0.32835283875465393: 100%|██████████| 212/212 [02:06<00:00,  1.67it/s]\n",
      "Loss: 1.4700785875320435: 100%|██████████| 212/212 [02:07<00:00,  1.67it/s]\n",
      "Loss: 0.3808521330356598: 100%|██████████| 212/212 [02:07<00:00,  1.66it/s]\n",
      "Loss: 1.5647048950195312: 100%|██████████| 212/212 [02:07<00:00,  1.66it/s]\n",
      "Loss: 1.2979896068572998: 100%|██████████| 212/212 [02:07<00:00,  1.67it/s]\n",
      "Loss: 0.5322743654251099: 100%|██████████| 212/212 [02:07<00:00,  1.67it/s]\n",
      "Loss: 0.10611346364021301: 100%|██████████| 212/212 [02:06<00:00,  1.67it/s]\n",
      "Loss: 2.060741424560547: 100%|██████████| 212/212 [02:07<00:00,  1.66it/s]\n",
      "Loss: 0.6161903142929077: 100%|██████████| 212/212 [02:07<00:00,  1.67it/s]\n",
      "Loss: 1.0594340562820435: 100%|██████████| 212/212 [02:07<00:00,  1.67it/s]\n",
      "Loss: 0.40396764874458313: 100%|██████████| 212/212 [02:07<00:00,  1.67it/s]\n",
      "Loss: 1.2381877899169922: 100%|██████████| 212/212 [02:07<00:00,  1.66it/s]\n",
      "Loss: 0.13137076795101166: 100%|██████████| 212/212 [02:07<00:00,  1.66it/s]\n",
      "Loss: 0.3788853883743286: 100%|██████████| 212/212 [02:07<00:00,  1.66it/s]\n",
      "100%|██████████| 50/50 [3:29:52<00:00, 251.86s/it]\n"
     ]
    }
   ],
   "source": [
    "device = 'cpu'\n",
    "with tqdm(total=num_epochs_class) as pbar_epoch:\n",
    "    for epoch in range(num_epochs_class):\n",
    "        #Train Loop ViT Style\n",
    "\n",
    "        vit_model_sty.train()\n",
    "        with tqdm(total=len(train_dataloader_vit_sty)) as pbar_vit:\n",
    "            for idx, batch in enumerate(train_dataloader_vit_sty):\n",
    "                labels = batch.pop('label').to(device)\n",
    "                pixel_values=batch.pop('pixel_values').to(device)\n",
    "\n",
    "                outputs = vit_model_sty(\n",
    "                                pixel_values=pixel_values,\n",
    "                                labels = labels)\n",
    "                loss = outputs.loss\n",
    "\n",
    "                loss.backward()\n",
    "                pbar_vit.set_description(f'Loss sty: {loss.item()}')\n",
    "\n",
    "                vit_optimizer_sty.step()\n",
    "                vit_optimizer_sty.zero_grad()\n",
    "                pbar_vit.update()\n",
    "\n",
    "        #Train Loop ViT Author\n",
    "\n",
    "        vit_model_auth.train()\n",
    "        with tqdm(total=len(train_dataloader_vit_auth)) as pbar_vit:\n",
    "            for idx, batch in enumerate(train_dataloader_vit_auth):\n",
    "                labels = batch.pop('label').to(device)\n",
    "                pixel_values=batch.pop('pixel_values').to(device)\n",
    "\n",
    "                outputs = vit_model_auth(\n",
    "                                pixel_values=pixel_values,\n",
    "                                labels = labels)\n",
    "                loss = outputs.loss\n",
    "                \n",
    "                pbar_vit.set_description(f'Loss auth: {loss.item()}')\n",
    "\n",
    "                loss.backward()\n",
    "\n",
    "                vit_optimizer_auth.step()\n",
    "                vit_optimizer_auth.zero_grad()\n",
    "                pbar_vit.update()\n",
    "        pbar_epoch.update()"
   ]
  },
  {
   "cell_type": "code",
   "execution_count": null,
   "metadata": {},
   "outputs": [
    {
     "name": "stderr",
     "output_type": "stream",
     "text": [
      "Loss: 1.6000421047210693: 100%|██████████| 212/212 [08:29<00:00,  2.40s/it]\n",
      "Loss: 0.14816232025623322: 100%|██████████| 212/212 [08:31<00:00,  2.41s/it]\n",
      "Loss: 0.8034674525260925: 100%|██████████| 212/212 [08:30<00:00,  2.41s/it]\n",
      "Loss: 0.008642308413982391: 100%|██████████| 212/212 [08:27<00:00,  2.39s/it]\n",
      "Loss: 0.3237895965576172: 100%|██████████| 212/212 [08:26<00:00,  2.39s/it]\n",
      "Loss: 0.3836548328399658: 100%|██████████| 212/212 [08:24<00:00,  2.38s/it]\n",
      "Loss: 0.04237696900963783: 100%|██████████| 212/212 [08:23<00:00,  2.37s/it]\n",
      "Loss: 0.19649139046669006: 100%|██████████| 212/212 [08:24<00:00,  2.38s/it]\n",
      "Loss: 0.0931105762720108: 100%|██████████| 212/212 [08:24<00:00,  2.38s/it]\n",
      "Loss: 0.06943077594041824: 100%|██████████| 212/212 [08:28<00:00,  2.40s/it]\n",
      "Epoch N°: 9: 100%|██████████| 10/10 [1:24:31<00:00, 507.11s/it]\n"
     ]
    }
   ],
   "source": [
    "device = 'cpu'\n",
    "with tqdm(total=num_epochs_capt) as pbar_epoch:\n",
    "    for epoch in range(num_epochs_capt):\n",
    "        pbar_epoch.set_description(f'Epoch N°: {epoch}')\n",
    "        #Train Loop GiT\n",
    "        with tqdm(total=len(train_dataloader_git)) as pbar_git:\n",
    "            for idx, batch in enumerate(train_dataloader_git):\n",
    "                pbar_git.set_description(f'Loss: {loss.item()}')\n",
    "                input_ids = batch.pop('input_ids').to(device)\n",
    "                pixel_values=batch.pop('pixel_values').to(device)\n",
    "\n",
    "                outputs = model_capt(input_ids=input_ids,\n",
    "                                pixel_values=pixel_values,\n",
    "                                labels = input_ids)\n",
    "                loss = outputs.loss\n",
    "\n",
    "                loss.backward()\n",
    "\n",
    "                git_optimizer.step()\n",
    "                git_optimizer.zero_grad()\n",
    "                pbar_git.update()\n",
    "        pbar_epoch.update()"
   ]
  },
  {
   "cell_type": "code",
   "execution_count": null,
   "metadata": {},
   "outputs": [
    {
     "data": {
      "image/jpeg": "[encoded data removed]",
      "image/png": "[encoded data removed]",
      "text/plain": [
       "<PIL.Image.Image image mode=RGB size=301x180>"
      ]
     },
     "metadata": {},
     "output_type": "display_data"
    },
    {
     "name": "stdout",
     "output_type": "stream",
     "text": [
      "Author: ABILDGAARD, Nicolai\n",
      "Style:  Oil on canvas\n",
      "Description: The subject is taken from the Songs of Ossian.\n"
     ]
    }
   ],
   "source": [
    "sample = train_dataset[26]\n",
    "image = sample['image']\n",
    "height,width = image.size\n",
    "display(image.resize((int(0.3*height),int(0.3*width))))\n",
    "author = sample['author']\n",
    "style = sample['style']\n",
    "desc = sample['description']\n",
    "print(f'Author: {id2label_auth[author]}')\n",
    "print(f'Style:  {id2label_sty[style]}')\n",
    "print(f'Description: {desc}')"
   ]
  },
  {
   "cell_type": "code",
   "execution_count": null,
   "metadata": {},
   "outputs": [],
   "source": [
    "torch.save(model_capt.state_dict(), './model_checkpoints/model_capt.pt')\n",
    "torch.save(model_clas_auth.state_dict(), './model_checkpoints/model_clas_auth.pt')\n",
    "torch.save(model_clas_sty.state_dict(),'./model_checkpoints/model_clas_sty.pt')"
   ]
  },
  {
   "cell_type": "code",
   "execution_count": null,
   "metadata": {},
   "outputs": [],
   "source": [
    "from transformers import AutoImageProcessor\n",
    "\n",
    "device = 'cpu' #torch.device(\"cuda:0\" if torch.cuda.is_available() else \"cpu\")\n",
    "\n",
    "image_processor = AutoImageProcessor.from_pretrained(checkpoint)\n",
    "\n",
    "inputs = image_processor(image, return_tensors=\"pt\").to(device)\n",
    "\n",
    "with torch.no_grad():\n",
    "    logits_auth = model_clas_auth(**inputs).logits"
   ]
  },
  {
   "cell_type": "code",
   "execution_count": null,
   "metadata": {},
   "outputs": [],
   "source": [
    "from transformers import AutoImageProcessor\n",
    "\n",
    "#device = torch.device(\"cuda:0\" if torch.cuda.is_available() else \"cpu\")\n",
    "\n",
    "image_processor = AutoImageProcessor.from_pretrained(checkpoint)\n",
    "\n",
    "inputs = image_processor(image, return_tensors=\"pt\").to(device)\n",
    "\n",
    "with torch.no_grad():\n",
    "    logits_sty = model_clas_sty(**inputs).logits"
   ]
  },
  {
   "cell_type": "code",
   "execution_count": null,
   "metadata": {},
   "outputs": [
    {
     "name": "stdout",
     "output_type": "stream",
     "text": [
      "the crucifixion scene is located on the altar wall. the grouping and the gestures of the figures are characterized by a particularly high level of sophistication. in the distinct contrast between the serene pose and inward - focused expression of\n"
     ]
    }
   ],
   "source": [
    "device = 'cpu'\n",
    "inputs = processor_capt(images = image, return_tensors='pt').to(device)\n",
    "pixel_values = inputs.pixel_values\n",
    "\n",
    "generated_ids = model_capt.generate(pixel_values=pixel_values, max_length=50)\n",
    "generated_caption = processor_capt.batch_decode(generated_ids,skip_special_tokens=True)[0]\n",
    "print(generated_caption)"
   ]
  },
  {
   "cell_type": "code",
   "execution_count": null,
   "metadata": {},
   "outputs": [
    {
     "name": "stdout",
     "output_type": "stream",
     "text": [
      "ABILDGAARD, Nicolai\n",
      "Oil on canvas\n"
     ]
    }
   ],
   "source": [
    "predicted_label_auth = logits_auth.argmax(-1).item()\n",
    "predicted_label_sty = logits_sty.argmax(-1).item()\n",
    "print(model_clas_auth.config.id2label[predicted_label_auth])\n",
    "print(model_clas_sty.config.id2label[predicted_label_sty])"
   ]
  },
  {
   "attachments": {},
   "cell_type": "markdown",
   "metadata": {},
   "source": [
    "Put Everything Together"
   ]
  },
  {
   "cell_type": "code",
   "execution_count": null,
   "metadata": {},
   "outputs": [
    {
     "data": {
      "text/plain": [
       "\" from transformers import GPT2Tokenizer, GPT2LMHeadModel\\n\\ntokenizer = GPT2Tokenizer.from_pretrained('gpt2')\\nmodel = GPT2LMHeadModel.from_pretrained('gpt2')\\npredicted_label_auth = model_clas_auth.config.id2label[predicted_label_auth]\\npredicted_label_sty = model_clas_sty.config.id2label[predicted_label_sty]\\ntext=predicted_label_auth+' '+predicted_label_sty + ' ' + generated_caption\\nencoded_input = tokenizer(text, return_tensors='pt').to(device)\\n# output = model(**encoded_input)\\ngenerated_ids = model.generate(input_ids = encoded_input.input_ids, attention_mask=encoded_input.attention_mask, max_length=500)\\ngenerated_caption = tokenizer.batch_decode(generated_ids,skip_special_tokens=True)[0]\\nprint(generated_caption) \""
      ]
     },
     "execution_count": 38,
     "metadata": {},
     "output_type": "execute_result"
    }
   ],
   "source": [
    "\"\"\" from transformers import GPT2Tokenizer, GPT2LMHeadModel\n",
    "\n",
    "tokenizer = GPT2Tokenizer.from_pretrained('gpt2')\n",
    "model = GPT2LMHeadModel.from_pretrained('gpt2')\n",
    "predicted_label_auth = model_clas_auth.config.id2label[predicted_label_auth]\n",
    "predicted_label_sty = model_clas_sty.config.id2label[predicted_label_sty]\n",
    "text=predicted_label_auth+' '+predicted_label_sty + ' ' + generated_caption\n",
    "encoded_input = tokenizer(text, return_tensors='pt').to(device)\n",
    "# output = model(**encoded_input)\n",
    "generated_ids = model.generate(input_ids = encoded_input.input_ids, attention_mask=encoded_input.attention_mask, max_length=500)\n",
    "generated_caption = tokenizer.batch_decode(generated_ids,skip_special_tokens=True)[0]\n",
    "print(generated_caption) \"\"\""
   ]
  },
  {
   "cell_type": "code",
   "execution_count": null,
   "metadata": {},
   "outputs": [],
   "source": [
    "predicted_label_auth = model_clas_auth.config.id2label[predicted_label_auth]\n",
    "predicted_label_sty = model_clas_sty.config.id2label[predicted_label_sty]\n",
    "text=predicted_label_auth+' '+predicted_label_sty + ' ' + generated_caption"
   ]
  },
  {
   "cell_type": "code",
   "execution_count": null,
   "metadata": {},
   "outputs": [
    {
     "ename": "NameError",
     "evalue": "name 'text' is not defined",
     "output_type": "error",
     "traceback": [
      "\u001b[0;31m---------------------------------------------------------------------------\u001b[0m",
      "\u001b[0;31mNameError\u001b[0m                                 Traceback (most recent call last)",
      "\u001b[1;32m/home/fede/Desktop/Art/ArtTest-Combined_transfer_learning.ipynb Cell 41\u001b[0m line \u001b[0;36m3\n\u001b[1;32m     <a href='vscode-notebook-cell:/home/fede/Desktop/Art/ArtTest-Combined_transfer_learning.ipynb#X55sZmlsZQ%3D%3D?line=29'>30</a>\u001b[0m     generated_text \u001b[39m=\u001b[39m tokenizer\u001b[39m.\u001b[39mdecode(outputs[\u001b[39m0\u001b[39m], skip_special_tokens\u001b[39m=\u001b[39m\u001b[39mTrue\u001b[39;00m)\n\u001b[1;32m     <a href='vscode-notebook-cell:/home/fede/Desktop/Art/ArtTest-Combined_transfer_learning.ipynb#X55sZmlsZQ%3D%3D?line=30'>31</a>\u001b[0m     \u001b[39mreturn\u001b[39;00m generated_text\n\u001b[0;32m---> <a href='vscode-notebook-cell:/home/fede/Desktop/Art/ArtTest-Combined_transfer_learning.ipynb#X55sZmlsZQ%3D%3D?line=32'>33</a>\u001b[0m generate_text(text)\n",
      "\u001b[0;31mNameError\u001b[0m: name 'text' is not defined"
     ]
    }
   ],
   "source": [
    "import torch\n",
    "from transformers import LlamaModel, LlamaTokenizer\n",
    "\n",
    "def generate_text(strings, model_name='Llama-2-7b', max_length=100, temperature=1.0, top_k=50):\n",
    "    # Load pre-trained GPT-2 model and tokenizer\n",
    "    tokenizer = LlamaTokenizer.from_pretrained(model_name)\n",
    "    # Add a new padding token to the tokenizer\n",
    "    tokenizer.add_special_tokens({'pad_token': '[PAD]'})\n",
    "\n",
    "    model = LlamaModel.from_pretrained(model_name)\n",
    "\n",
    "    # Set the model to evaluation mode (no training)\n",
    "    model.eval()\n",
    "\n",
    "    # Tokenize the input strings and convert them to tensors\n",
    "    inputs = tokenizer(strings, return_tensors='pt', padding=True, truncation=True)\n",
    "\n",
    "    # Generate text based on the input strings\n",
    "    with torch.no_grad():\n",
    "        outputs = model.generate(\n",
    "            input_ids=inputs.input_ids,\n",
    "            attention_mask=inputs.attention_mask,\n",
    "            max_length=max_length,\n",
    "            temperature=temperature,\n",
    "            top_k=top_k,\n",
    "            pad_token_id=tokenizer.eos_token_id\n",
    "        )\n",
    "\n",
    "    # Decode the generated tokens back to text\n",
    "    generated_text = tokenizer.decode(outputs[0], skip_special_tokens=True)\n",
    "    return generated_text\n",
    "\n",
    "generate_text(text)"
   ]
  },
  {
   "cell_type": "code",
   "execution_count": null,
   "metadata": {},
   "outputs": [],
   "source": []
  }
 ],
 "metadata": {
  "kernelspec": {
   "display_name": "tf",
   "language": "python",
   "name": "python3"
  },
  "language_info": {
   "codemirror_mode": {
    "name": "ipython",
    "version": 3
   },
   "file_extension": ".py",
   "mimetype": "text/x-python",
   "name": "python",
   "nbconvert_exporter": "python",
   "pygments_lexer": "ipython3",
   "version": "3.11.5"
  },
  "orig_nbformat": 4
 },
 "nbformat": 4,
 "nbformat_minor": 2
}

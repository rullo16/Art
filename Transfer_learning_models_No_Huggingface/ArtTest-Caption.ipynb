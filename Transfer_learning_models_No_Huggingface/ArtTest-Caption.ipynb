{
 "cells": [
  {
   "cell_type": "markdown",
   "metadata": {},
   "source": [
    "%pip install torchtext\n",
    "%pip install wandb"
   ]
  },
  {
   "cell_type": "code",
   "execution_count": 1,
   "metadata": {},
   "outputs": [
    {
     "name": "stderr",
     "output_type": "stream",
     "text": [
      "[nltk_data] Downloading package punkt to\n",
      "[nltk_data]     C:\\Users\\Fede\\AppData\\Roaming\\nltk_data...\n",
      "[nltk_data]   Package punkt is already up-to-date!\n",
      "Failed to detect the name of this notebook, you can set it manually with the WANDB_NOTEBOOK_NAME environment variable to enable code saving.\n",
      "\u001b[34m\u001b[1mwandb\u001b[0m: Currently logged in as: \u001b[33mrullofederico16\u001b[0m (\u001b[33mfede-\u001b[0m). Use \u001b[1m`wandb login --relogin`\u001b[0m to force relogin\n"
     ]
    },
    {
     "data": {
      "text/html": [
       "wandb version 0.16.5 is available!  To upgrade, please run:\n",
       " $ pip install wandb --upgrade"
      ],
      "text/plain": [
       "<IPython.core.display.HTML object>"
      ]
     },
     "metadata": {},
     "output_type": "display_data"
    },
    {
     "data": {
      "text/html": [
       "Tracking run with wandb version 0.16.3"
      ],
      "text/plain": [
       "<IPython.core.display.HTML object>"
      ]
     },
     "metadata": {},
     "output_type": "display_data"
    },
    {
     "data": {
      "text/html": [
       "Run data is saved locally in <code>c:\\Users\\Fede\\Desktop\\Art\\Transfer_learning_models_No_Huggingface\\wandb\\run-20240402_182012-vhjxigd5</code>"
      ],
      "text/plain": [
       "<IPython.core.display.HTML object>"
      ]
     },
     "metadata": {},
     "output_type": "display_data"
    },
    {
     "data": {
      "text/html": [
       "Syncing run <strong><a href='https://wandb.ai/fede-/art-test-caption/runs/vhjxigd5' target=\"_blank\">expert-dew-60</a></strong> to <a href='https://wandb.ai/fede-/art-test-caption' target=\"_blank\">Weights & Biases</a> (<a href='https://wandb.me/run' target=\"_blank\">docs</a>)<br/>"
      ],
      "text/plain": [
       "<IPython.core.display.HTML object>"
      ]
     },
     "metadata": {},
     "output_type": "display_data"
    },
    {
     "data": {
      "text/html": [
       " View project at <a href='https://wandb.ai/fede-/art-test-caption' target=\"_blank\">https://wandb.ai/fede-/art-test-caption</a>"
      ],
      "text/plain": [
       "<IPython.core.display.HTML object>"
      ]
     },
     "metadata": {},
     "output_type": "display_data"
    },
    {
     "data": {
      "text/html": [
       " View run at <a href='https://wandb.ai/fede-/art-test-caption/runs/vhjxigd5' target=\"_blank\">https://wandb.ai/fede-/art-test-caption/runs/vhjxigd5</a>"
      ],
      "text/plain": [
       "<IPython.core.display.HTML object>"
      ]
     },
     "metadata": {},
     "output_type": "display_data"
    }
   ],
   "source": [
    "import pandas as pd\n",
    "import torch\n",
    "import torchvision\n",
    "import numpy as np\n",
    "from PIL import Image\n",
    "import torch.nn as nn\n",
    "import torch.nn.functional as F\n",
    "import torch.optim as optim\n",
    "import matplotlib.pyplot as plt\n",
    "from torchvision import transforms\n",
    "from torch.utils.data import DataLoader, random_split\n",
    "from sklearn.model_selection import train_test_split\n",
    "import numpy as np\n",
    "from tqdm import tqdm\n",
    "import wandb\n",
    "import nltk\n",
    "nltk.download('punkt')\n",
    "wandb.login()\n",
    "wandb.init(project=\"art-test-caption\")\n",
    "device = torch.device(\"cuda\" if torch.cuda.is_available() else \"cpu\")"
   ]
  },
  {
   "cell_type": "markdown",
   "metadata": {},
   "source": [
    "!wget http://nlp.stanford.edu/data/glove.6B.zip\n",
    "!unzip glove.6B.zip\n",
    "!ls -lat\n",
    "\n",
    "vocab,embeddings = [],[]\n",
    "with open('glove.6B.50d.txt','rt') as fi:\n",
    "    full_content = fi.read().strip().split('\\n')\n",
    "for i in range(len(full_content)):\n",
    "    i_word = full_content[i].split(' ')[0]\n",
    "    i_embeddings = [float(val) for val in full_content[i].split(' ')[1:]]\n",
    "    vocab.append(i_word)\n",
    "    embeddings.append(i_embeddings)\n",
    "\n",
    "import numpy as np\n",
    "vocab = np.array(vocab)\n",
    "embs = np.array(embeddings)\n",
    "\n",
    "#insert '<pad>' and '<unk>' tokens at start of vocab_npa.\n",
    "vocab = np.insert(vocab, 0, '<pad>')\n",
    "vocab = np.insert(vocab, 1, '<unk>')\n",
    "print(vocab[:10])\n",
    "\n",
    "pad_emb = np.zeros((1,embs.shape[1]))   #embedding for '<pad>' token.\n",
    "unk_emb = np.mean(embs,axis=0,keepdims=True)    #embedding for '<unk>' token.\n",
    "\n",
    "#insert embeddings for pad and unk tokens at top of embs_npa.\n",
    "embs = np.vstack((pad_emb,unk_emb,embs))\n",
    "print(embs.shape)"
   ]
  },
  {
   "cell_type": "code",
   "execution_count": 2,
   "metadata": {},
   "outputs": [
    {
     "name": "stdout",
     "output_type": "stream",
     "text": [
      "columns:['image', 'description']\n"
     ]
    }
   ],
   "source": [
    "data = pd.read_csv('../described_dataset_label.csv',sep='\\t',encoding='latin-1')\n",
    "data = data[:3000]\n",
    "data = data.rename(columns={'FILE':'image','URL':'description'})\n",
    "data = data[['image','description']]\n",
    "data['image'] = [f'.{x}' for x in data['image']]\n",
    "print(f'columns:{[x for x in data.columns]}')"
   ]
  },
  {
   "cell_type": "code",
   "execution_count": 3,
   "metadata": {},
   "outputs": [
    {
     "name": "stderr",
     "output_type": "stream",
     "text": [
      "100%|██████████| 3000/3000 [00:34<00:00, 86.89it/s] \n"
     ]
    }
   ],
   "source": [
    "transform = transforms.Compose([\n",
    "    transforms.Resize((256,256)),\n",
    "    transforms.ToTensor(),\n",
    "])\n",
    "\n",
    "img_tr = [transform(Image.open(img)) for img in tqdm(data['image'])]\n",
    "\n",
    "mean,std = img_tr[0].mean(),img_tr[0].std()"
   ]
  },
  {
   "cell_type": "code",
   "execution_count": 4,
   "metadata": {},
   "outputs": [
    {
     "name": "stdout",
     "output_type": "stream",
     "text": [
      "mean and std before normalize:\n",
      "Mean of the image: tensor([0.4685, 0.3801, 0.3472])\n",
      "Std of the image: tensor([0.2129, 0.1872, 0.1589])\n"
     ]
    }
   ],
   "source": [
    "mean,std = img_tr[0].mean([1,2]),img_tr[0].std([1,2])\n",
    "print(\"mean and std before normalize:\")\n",
    "print(\"Mean of the image:\", mean)\n",
    "print(\"Std of the image:\", std)"
   ]
  },
  {
   "cell_type": "code",
   "execution_count": 5,
   "metadata": {},
   "outputs": [],
   "source": [
    "# Split train into train and val\n",
    "X_train, X_val, y_train, y_val = train_test_split(data['image'],data['description'], test_size=0.2, random_state=42)"
   ]
  },
  {
   "cell_type": "code",
   "execution_count": 6,
   "metadata": {},
   "outputs": [],
   "source": [
    "#Image Transformations\n",
    "img_train_transform = transforms.Compose([\n",
    "    transforms.Resize(224),\n",
    "    transforms.CenterCrop(224),\n",
    "    transforms.ToTensor(),\n",
    "    transforms.Normalize(mean,std),\n",
    "    ])\n",
    "\n",
    "img_test_transform = transforms.Compose([\n",
    "    transforms.Resize(224),\n",
    "    transforms.CenterCrop(224),\n",
    "    transforms.ToTensor(),\n",
    "    transforms.Normalize(mean,std),\n",
    "    ])"
   ]
  },
  {
   "cell_type": "markdown",
   "metadata": {},
   "source": [
    "# Vocabulary Class Explanation\n",
    "\n",
    "## Introduction\n",
    "This code defines a Python class called `Vocabulary` which is designed to create and manage a vocabulary for natural language processing tasks.\n",
    "\n",
    "## Class Initialization\n",
    "- The `Vocabulary` class is initialized with a name.\n",
    "- It initializes three tokens (`PAD_token`, `SOS_token`, `EOS_token`) which are used for padding short sentences, marking the start of a sentence, and marking the end of a sentence respectively.\n",
    "- It initializes dictionaries to store mappings between words and indices, and vice versa.\n",
    "- It also tracks the number of words, sentences, and the length of the longest sentence.\n",
    "\n",
    "## Method: add_word\n",
    "- This method adds a word to the vocabulary.\n",
    "- If the word is not already in the vocabulary, it assigns it a unique index and initializes its count to 1.\n",
    "- If the word already exists in the vocabulary, it simply increments its count.\n",
    "\n",
    "## Method: add_sentence\n",
    "- This method adds a sentence to the vocabulary.\n",
    "- It splits the sentence into words, adds each word using the `add_word` method, and updates the length of the longest sentence.\n",
    "- It also increments the count of sentences.\n",
    "\n",
    "## Method: to_word\n",
    "- This method converts an index to its corresponding word in the vocabulary.\n",
    "\n",
    "## Method: to_index\n",
    "- This method converts a word to its corresponding index in the vocabulary.\n",
    "\n",
    "## Method: len\n",
    "- This method returns the total number of words in the vocabulary.\n",
    "\n",
    "## Usage\n",
    "- After defining the `Vocabulary` class, an instance of it named `vocab` is created with the name 'art'.\n",
    "- Then, it iterates through sentences (presumably contained in a variable called `data['description']`), tokenizes each sentence into words using NLTK's `word_tokenize` function, and adds each word to the vocabulary using the `add_word` method."
   ]
  },
  {
   "cell_type": "code",
   "execution_count": 7,
   "metadata": {},
   "outputs": [
    {
     "name": "stderr",
     "output_type": "stream",
     "text": [
      "100%|██████████| 3000/3000 [00:01<00:00, 2505.18it/s]\n"
     ]
    }
   ],
   "source": [
    "from nltk.tokenize import word_tokenize\n",
    "class Vocabulary:\n",
    "    \n",
    "    def __init__(self, name):\n",
    "        self.name = name\n",
    "        PAD_token = 0   # Used for padding short sentences\n",
    "        SOS_token = 1   # Start-of-sentence token\n",
    "        EOS_token = 2   # End-of-sentence token\n",
    "        self.word2index = {\"PAD\": PAD_token, \"SOS\": SOS_token, \"EOS\": EOS_token}\n",
    "        self.word2count = {}\n",
    "        self.index2word = {PAD_token: \"PAD\", SOS_token: \"SOS\", EOS_token: \"EOS\"}\n",
    "        self.num_words = 3\n",
    "        self.num_sentences = 0\n",
    "        self.longest_sentence = 0\n",
    "\n",
    "    def add_word(self, word):\n",
    "        if word not in self.word2index:\n",
    "            # First entry of word into vocabulary\n",
    "            self.word2index[word] = self.num_words\n",
    "            self.word2count[word] = 1\n",
    "            self.index2word[self.num_words] = word\n",
    "            self.num_words += 1\n",
    "        else:\n",
    "            # Word exists; increase word count\n",
    "            self.word2count[word] += 1\n",
    "            \n",
    "    def add_sentence(self, sentence):\n",
    "        sentence_len = 0\n",
    "        for word in sentence.split(' '):\n",
    "            sentence_len += 1\n",
    "            self.add_word(word)\n",
    "        if sentence_len > self.longest_sentence:\n",
    "            # This is the longest sentence\n",
    "            self.longest_sentence = sentence_len\n",
    "        # Count the number of sentences\n",
    "        self.num_sentences += 1\n",
    "\n",
    "    def to_word(self, index):\n",
    "        return self.index2word[index]\n",
    "\n",
    "    def to_index(self, word):\n",
    "        return self.word2index[word]\n",
    "    \n",
    "    def len(self):\n",
    "        return self.num_words\n",
    "\n",
    "vocab = Vocabulary('art')\n",
    "for sentence in tqdm(data['description']):\n",
    "    sentence = word_tokenize(sentence)\n",
    "    for word in sentence:\n",
    "        vocab.add_word(word)"
   ]
  },
  {
   "cell_type": "markdown",
   "metadata": {},
   "source": [
    "# ArtDataset Class Explanation\n",
    "\n",
    "## Introduction\n",
    "This code defines a custom dataset class `ArtDataset` for handling image and caption data. It's designed to be compatible with PyTorch's `torch.utils.data.Dataset` class.\n",
    "\n",
    "## Class Initialization\n",
    "- The `ArtDataset` class is initialized with image data, corresponding labels (captions), an optional transformation for images, and a maximum caption length.\n",
    "- It stores these parameters as attributes for later use.\n",
    "\n",
    "## Method: __len__\n",
    "- This method returns the length of the dataset, which is the number of samples (images) in the dataset.\n",
    "\n",
    "## Method: __getitem__\n",
    "- This method is used to retrieve a single item (image and caption pair) from the dataset given an index.\n",
    "- It loads the image corresponding to the index using PIL's `Image.open` function and converts it to RGB format.\n",
    "- If a transformation is provided, it applies the transformation to the image.\n",
    "- It tokenizes the caption using NLTK's `word_tokenize` function, appending start-of-sentence (`SOS`) and end-of-sentence (`EOS`) tokens to the tokenized caption.\n",
    "- If the length of the tokenized caption exceeds the maximum caption length, it truncates it; otherwise, it pads it with `PAD` tokens to match the maximum length.\n",
    "- It then converts the tokens to indices using a predefined vocabulary (`vocab`) and creates a PyTorch tensor from the indices.\n",
    "- Finally, it returns a tuple containing the processed image and the tokenized caption.\n",
    "\n",
    "## Dataset Instantiation\n",
    "- After defining the `ArtDataset` class, two instances of it (`train_dataset` and `val_dataset`) are created using training and validation data (`X_train`, `y_train`, `X_val`, `y_val`), respectively.\n",
    "- Transformation functions (`img_train_transform` and `img_test_transform`) are applied to the images if provided.\n",
    "\n"
   ]
  },
  {
   "cell_type": "code",
   "execution_count": 8,
   "metadata": {},
   "outputs": [],
   "source": [
    "from nltk.tokenize import word_tokenize\n",
    "class ArtDataset(torch.utils.data.Dataset):\n",
    "\n",
    "    def __init__(self,images,labels,transform=None, max_caption_length=50):\n",
    "        self.data = images\n",
    "        self.labels = labels\n",
    "        self.transform = transform\n",
    "        self.max_caption_length = max_caption_length\n",
    "\n",
    "    def __len__(self):\n",
    "        return len(self.data)\n",
    "    \n",
    "    def __getitem__(self,index):\n",
    "        img_pil = Image.open(self.data[index])\n",
    "        img_pil = img_pil.convert('RGB')\n",
    "        if self.transform is not None:\n",
    "            img_pil = self.transform(img_pil)\n",
    "        else:\n",
    "            tr1 = transforms.ToTensor()\n",
    "            img_pil = tr1(img_pil)\n",
    "\n",
    "        #Tokenize caption using nltk\n",
    "        caption = self.labels[index]\n",
    "        tokens = []\n",
    "        tokens.append('SOS')\n",
    "        tokens.extend(word_tokenize(caption))\n",
    "        tokens.append('EOS')\n",
    "        if len(tokens) > self.max_caption_length:\n",
    "            tokens = tokens[:self.max_caption_length]\n",
    "        else:\n",
    "            tokens += [\"PAD\"] * (self.max_caption_length - len(tokens))\n",
    "        #Convert tokens to indices\n",
    "        caption = [vocab.to_index(token) for token in tokens]\n",
    "\n",
    "        tokenized_caption = torch.LongTensor(caption)\n",
    "        return(img_pil,tokenized_caption)\n",
    "\n",
    "train_dataset = ArtDataset(X_train.values,y_train.values,transform=img_train_transform)\n",
    "val_dataset = ArtDataset(X_val.values,y_val.values,transform=img_test_transform)"
   ]
  },
  {
   "cell_type": "code",
   "execution_count": 9,
   "metadata": {},
   "outputs": [
    {
     "name": "stderr",
     "output_type": "stream",
     "text": [
      "Clipping input data to the valid range for imshow with RGB data ([0..1] for floats or [0..255] for integers).\n"
     ]
    },
    {
     "name": "stdout",
     "output_type": "stream",
     "text": [
      "Feature batch shape: torch.Size([32, 3, 224, 224])\n",
      "Labels batch shape: 32\n"
     ]
    },
    {
     "data": {
      "image/png": "[encoded data removed]",
      "text/plain": [
       "<Figure size 640x480 with 1 Axes>"
      ]
     },
     "metadata": {},
     "output_type": "display_data"
    }
   ],
   "source": [
    "batch_size = 32\n",
    "trainloader = DataLoader(train_dataset, batch_size=batch_size, shuffle=True)\n",
    "testloader = DataLoader(val_dataset, batch_size=batch_size, shuffle=False)\n",
    "features, labels = next(iter(trainloader))\n",
    "print(f\"Feature batch shape: {features.size()}\")\n",
    "print(f\"Labels batch shape: {len(labels)}\")\n",
    "img = features[0].squeeze()\n",
    "plt.imshow(img.permute(*torch.arange(img.ndim - 1, -1, -1)))\n",
    "plt.show()\n",
    "# print(f\"Label_tokenized: {labels}\")\n",
    "# print(f\"Label: {[vocab.to_word(x) for x in labels[0]]}\")"
   ]
  },
  {
   "cell_type": "code",
   "execution_count": 10,
   "metadata": {},
   "outputs": [],
   "source": [
    "del data\n",
    "del X_train,X_val,y_train,y_val"
   ]
  },
  {
   "cell_type": "markdown",
   "metadata": {},
   "source": [
    "## Show Attend and Tell model\n",
    "\n",
    "## Introduction\n",
    "This markdown provides a more detailed explanation of the Show and Tell model code, focusing on the rationale behind the architectural choices made.\n",
    "\n",
    "## Encoder\n",
    "### Explanation:\n",
    "- The `Encoder` class employs a pre-trained ResNet-50 model for image feature extraction.\n",
    "  - **Rationale**: ResNet-50 is a deep convolutional neural network known for its effectiveness in image classification tasks. By utilizing a pre-trained ResNet-50 model, the encoder benefits from the high-level features learned from a large dataset (like ImageNet), allowing it to capture rich image representations.\n",
    "- The encoder freezes the ResNet-50 weights and removes the last fully connected layer.\n",
    "  - **Rationale**: Freezing the weights prevents them from being updated during training, which helps preserve the learned features of the ResNet-50 model. Removing the last fully connected layer simplifies the model and prepares it for feature extraction.\n",
    "- The extracted features are projected onto a lower-dimensional space using a linear layer.\n",
    "  - **Rationale**: Projecting the high-dimensional features onto a lower-dimensional space reduces computational complexity while retaining the most relevant information. This helps in training and improves generalization.\n",
    "\n",
    "## Attention\n",
    "### Explanation:\n",
    "- The `Attention` mechanism calculates attention weights based on the similarity between encoder features and decoder hidden states.\n",
    "  - **Rationale**: By calculating attention weights, the model can dynamically focus on different parts of the image when generating captions. This enables the model to attend to relevant image regions while generating each word of the caption, improving the quality and relevance of the generated captions.\n",
    "- The attention weights are used to compute a weighted sum of encoder features, providing context information to the decoder.\n",
    "  - **Rationale**: Incorporating context information helps the decoder generate more informative and coherent captions by considering relevant image regions at each decoding step.\n",
    "\n",
    "## Decoder\n",
    "### Explanation:\n",
    "- The `Decoder` class generates captions based on the extracted features and attention mechanism.\n",
    "  - **Rationale**: By using an LSTM-based decoder, the model can capture the sequential nature of language and generate captions word by word. The LSTM's ability to retain long-term dependencies helps in generating coherent and contextually relevant captions.\n",
    "- The decoder employs an LSTM to generate a sequence of words.\n",
    "  - **Rationale**: LSTMs are well-suited for sequential data modeling tasks like language generation. They can capture dependencies between words in a sentence, making them suitable for generating captions.\n",
    "- At each step, the attention mechanism provides context information to the decoder.\n",
    "  - **Rationale**: Incorporating attention helps the model focus on relevant image regions while generating each word of the caption, improving the overall quality of the generated captions.\n",
    "- The decoding process continues until an end token is generated or a maximum sequence length is reached.\n",
    "  - **Rationale**: Ending the caption generation process upon encountering an end token ensures that the model produces captions of fixed length. Additionally, imposing a maximum sequence length helps prevent the model from generating overly long or repetitive captions, enhancing the efficiency and relevance of the generated captions.\n",
    "\n",
    "## Summary\n",
    "This detailed explanation highlights the rationale behind the architectural choices made in the Show and Tell model. By leveraging pre-trained ResNet-50 for feature extraction, incorporating attention mechanism for context-aware caption generation, and using LSTM-based decoder for sequential language modeling, the model achieves the capability to generate descriptive and contextually relevant captions for images. These choices are grounded in the principles of effective feature representation, attentional focus, and sequential modeling, enabling the model to produce high-quality image captions.\n"
   ]
  },
  {
   "cell_type": "code",
   "execution_count": 11,
   "metadata": {},
   "outputs": [],
   "source": [
    "from torchvision.models.densenet import DenseNet201_Weights\n",
    "class Encoder(nn.Module):\n",
    "    def __init__(self, embed_dim, batch_norm_momentum=0.9, dropout=0.5) -> None:\n",
    "        super(Encoder,self).__init__()\n",
    "        # resnet = torchvision.models.resnet50(weights=\"ResNet50_Weights.DEFAULT\")\n",
    "        # resnet = torchvision.models.resnext101_64x4d(pretrained=True)\n",
    "        self.dense_net = torchvision.models.densenet201(weights=DenseNet201_Weights.IMAGENET1K_V1)\n",
    "        for param in self.dense_net.parameters():\n",
    "            param.requires_grad = False\n",
    "        \n",
    "        #Adjusting the output features according to the embed_dim\n",
    "        self.embed = nn.Linear(self.dense_net.classifier.out_features,embed_dim)\n",
    "        self.batch = nn.BatchNorm1d(embed_dim,momentum=batch_norm_momentum)\n",
    "        self.dropout = nn.Dropout(dropout)\n",
    "\n",
    "        #Initializing the weights and bias\n",
    "        self.embed.weight.data.normal_(0.0,0.1)\n",
    "        self.embed.bias.data.fill_(0)\n",
    "\n",
    "\n",
    "    def forward(self,imgs):\n",
    "        features = self.dense_net(imgs)\n",
    "        features = self.dropout(features)\n",
    "        features = self.embed(features)\n",
    "        features = self.batch(features)\n",
    "        \n",
    "        return features"
   ]
  },
  {
   "cell_type": "code",
   "execution_count": 12,
   "metadata": {},
   "outputs": [],
   "source": [
    "class Attention(nn.Module):\n",
    "\n",
    "    def __init__(self, encoder_dim, decoder_dim, attention_dim) -> None:\n",
    "        super(Attention, self).__init__()\n",
    "        self.encoder_att = nn.Linear(encoder_dim, attention_dim)#U\n",
    "        self.decoder_att = nn.Linear(decoder_dim, attention_dim)#W\n",
    "        self.full_att = nn.Linear(attention_dim,1)#V\n",
    "        \n",
    "\n",
    "    def forward(self, encoder_out, decoder_hidden):\n",
    "        att1 = self.encoder_att(encoder_out)\n",
    "        att2 = self.decoder_att(decoder_hidden).unsqueeze(1) # W * decoder_hidden\n",
    "        att = F.relu(att1+att2) # ReLU(U * encoder_out + W * decoder_hidden)\n",
    "        att = self.full_att(att).squeeze(2) # V * ReLU(U * encoder_out + W * decoder_hidden)\n",
    "        alpha = F.softmax(att, dim=1) # attention weights\n",
    "        attention_weighted_encoding = torch.sum(encoder_out * alpha,dim=1).squeeze(1) # attention_weighted_encoding\n",
    "\n",
    "        return attention_weighted_encoding, alpha"
   ]
  },
  {
   "cell_type": "code",
   "execution_count": 13,
   "metadata": {},
   "outputs": [],
   "source": [
    "class Decoder(nn.Module):\n",
    "    def __init__(self, embed_size, hidden_size, vocab_size,dropout=0.5):\n",
    "        super(Decoder, self).__init__()\n",
    "\n",
    "        self.hidden_size = hidden_size\n",
    "        self.attention = Attention(embed_size, hidden_size, hidden_size)\n",
    "\n",
    "        self.embedding = nn.Embedding(vocab_size, embed_size)\n",
    "        self.dropout = nn.Dropout(dropout)\n",
    "        self.lstm = nn.LSTM(embed_size, hidden_size, batch_first=True)\n",
    "        self.linear = nn.Linear(hidden_size, vocab_size)\n",
    "        self.f_beta = nn.Linear(hidden_size, embed_size)\n",
    "        self.sigmoid = nn.Sigmoid()\n",
    "\n",
    "        self.init_weights()\n",
    "\n",
    "    def init_weights(self):\n",
    "        self.embedding.weight.data.uniform_(-0.1, 0.1)\n",
    "        self.linear.weight.data.uniform_(-0.1, 0.1)\n",
    "        self.linear.bias.data.fill_(0)\n",
    "\n",
    "    def forward(self, features, captions):\n",
    "        embeddings = self.embedding(captions)\n",
    "        features = features.unsqueeze(1)\n",
    "        embeddings = torch.cat((features, embeddings[:,:-1,:]), dim=1)\n",
    "        hidden, _ = self.lstm(embeddings)\n",
    "        attention_weighted_encoding, _ = self.attention(features, hidden)\n",
    "        gate = self.sigmoid(self.f_beta(hidden))\n",
    "        attention_weighted_encoding = gate * attention_weighted_encoding\n",
    "        # inputs = torch.cat((embeddings[:, :-1, :], attention_weighted_encoding), dim=1) #Combined lstm output and attention weighted encoding in a single tensor, reduces the number of LSTM iterations.\n",
    "        inputs = torch.cat((embeddings,attention_weighted_encoding))\n",
    "        lstm_out, _ = self.lstm(inputs)\n",
    "        \n",
    "        outputs = self.linear(self.dropout(lstm_out))\n",
    "        \n",
    "        return outputs\n",
    "    \n",
    "    def sample(self,features, max_len=50):\n",
    "        sampled_ids = []\n",
    "        inputs = features.unsqueeze(1)\n",
    "        states = None\n",
    "\n",
    "        for _ in range(max_len):\n",
    "            hiddens, states = self.lstm(inputs, states)          \n",
    "            outputs = self.linear(hiddens)\n",
    "            out = outputs.squeeze(1)    \n",
    "            predicted = torch.argmax(out,dim=1)\n",
    "            sampled_ids.append(predicted.cpu().numpy()[0].item())\n",
    "            inputs = self.embedding(predicted).unsqueeze(1)                 \n",
    "        # sampled_ids = torch.stack(sampled_ids,1)\n",
    "        return sampled_ids\n",
    "    \n",
    "    #Top-k + Nucleus Sampling\n",
    "    def sample_combined_sampling(self, features, max_len=50, temperature=1.0, top_k=0, top_p=0.0):\n",
    "        sampled_ids = []\n",
    "        inputs = features.unsqueeze(1)\n",
    "        states = None\n",
    "        \n",
    "        for _ in range(max_len):\n",
    "            hiddens, states= self.lstm(inputs, states)\n",
    "            outputs = self.linear(hiddens)/temperature\n",
    "            if top_k > 0:\n",
    "                outputs = self.top_k_sampling(outputs, top_k)\n",
    "            elif top_p < 1.0:\n",
    "                outputs = self.nucleus_sampling(outputs,top_p)\n",
    "            out = outputs.squeeze(1)    \n",
    "            predicted = torch.argmax(out,dim=1)\n",
    "            sampled_ids.append(predicted.cpu().numpy()[0].item())\n",
    "            inputs = self.embedding(predicted).unsqueeze(1) \n",
    "        # sampled_ids = torch.stack(sampled_ids,1)\n",
    "        return sampled_ids\n",
    "\n",
    "#Operates directly on logits and not softmax probabilities\n",
    "    def top_k_sampling(self, logits, k):\n",
    "        with torch.no_grad():\n",
    "            top_values, top_indices = torch.topk(logits, k, dim=-1)\n",
    "            min_value = top_values[:, -1].unsqueeze(-1)\n",
    "            logits = torch.where(logits < min_value, torch.tensor(-float('inf'), device=logits.device), logits)\n",
    "        return logits\n",
    "\n",
    "    def nucleus_sampling(self, logits, p):\n",
    "        with torch.no_grad():\n",
    "            sorted_logits, sorted_indices = torch.sort(logits, descending=True)\n",
    "            cumulative_probs = torch.cumsum(F.softmax(sorted_logits, dim=-1), dim=-1)\n",
    "            sorted_indices_to_remove = cumulative_probs > p\n",
    "            sorted_indices_to_remove[:, 1:] = sorted_indices_to_remove[:, :-1].clone()\n",
    "            sorted_indices_to_remove[:, 0] = 0\n",
    "            indices_to_remove = sorted_indices[sorted_indices_to_remove]\n",
    "            logits[indices_to_remove] = -float('inf')\n",
    "        return logits\n"
   ]
  },
  {
   "cell_type": "markdown",
   "metadata": {},
   "source": [
    "# `train` Function Explanation\n",
    "\n",
    "## Introduction\n",
    "This function is responsible for training the Show and Tell model using the provided data and optimizer.\n",
    "\n",
    "## Function Parameters\n",
    "- `train_loader`: The data loader for training images and captions.\n",
    "- `encoder`: The encoder model responsible for extracting image features.\n",
    "- `decoder`: The decoder model responsible for generating captions.\n",
    "- `criterion`: The loss function used to compute the training loss.\n",
    "- `encoder_optimizer`: The optimizer used to update the parameters of the encoder model (can be `None` if the encoder is frozen).\n",
    "- `decoder_optimizer`: The optimizer used to update the parameters of the decoder model.\n",
    "- `epoch`: The current epoch number.\n",
    "\n",
    "## Training Loop\n",
    "- The function iterates over the batches of training data provided by `train_loader`.\n",
    "- For each batch:\n",
    "  - It moves the images and captions to the appropriate device (CPU or GPU).\n",
    "  - It computes the lengths of the captions in the batch.\n",
    "  - It passes the images through the encoder to obtain image features.\n",
    "  - It passes the image features and captions through the decoder to obtain predicted scores for each word in the captions.\n",
    "  - It packs the predicted scores and the ground truth captions using `pack_padded_sequence` to handle variable-length sequences.\n",
    "  - It computes the loss between the predicted scores and the ground truth captions using the provided loss function (`criterion`).\n",
    "  - It backpropagates the loss and updates the parameters of the decoder (and optionally the encoder) using the specified optimizers (`decoder_optimizer` and `encoder_optimizer`).\n",
    "  - It logs the current loss for monitoring training progress.\n",
    "  - It updates the progress bar with information about the current epoch, batch number, and loss.\n",
    "\n",
    "## Logging\n",
    "- The function logs the loss for each batch using Weights & Biases (`wandb`) for monitoring training progress.\n",
    "- It also appends the mean loss for the entire epoch to the `train_loss` list for further analysis or visualization."
   ]
  },
  {
   "cell_type": "code",
   "execution_count": 14,
   "metadata": {},
   "outputs": [],
   "source": [
    "def train(encoder, decoder,encoder_optimizer, decoder_optimizer, criterion, train_loader, val_loader, epochs=10, early_stopping_patience=25):\n",
    "    best_val_loss = float('inf')\n",
    "    epochs_no_improve = 0\n",
    "    train_losses = []\n",
    "    val_losses = []\n",
    "\n",
    "    #Train the model\n",
    "    with tqdm(total=epochs) as pbar:\n",
    "        for epoch in range(epochs):\n",
    "            encoder.train()\n",
    "            decoder.train()\n",
    "            train_loss = 0.0\n",
    "            for i, (images, captions) in enumerate(train_loader,0):\n",
    "                images, captions = images.to(device), captions.to(device)\n",
    "                encoder_optimizer.zero_grad() if encoder_optimizer else None\n",
    "                decoder_optimizer.zero_grad()\n",
    "                \n",
    "                features = encoder(images)\n",
    "                outputs = decoder(features, captions)\n",
    "\n",
    "                #Flatten the outputs and the captions\n",
    "                decode_lengths = [len(cap) for cap in captions]\n",
    "                outputs = nn.utils.rnn.pack_padded_sequence(outputs, decode_lengths, batch_first=True, enforce_sorted=False)\n",
    "                captions = nn.utils.rnn.pack_padded_sequence(captions, decode_lengths, batch_first=True, enforce_sorted=False)\n",
    "\n",
    "                loss = criterion(outputs.data,captions.data)\n",
    "                \n",
    "                loss.backward()\n",
    "                encoder_optimizer.step() if encoder_optimizer else None\n",
    "                decoder_optimizer.step()\n",
    "\n",
    "                train_loss += loss.item()\n",
    "\n",
    "            train_losses.append(train_loss/len(train_loader))\n",
    "\n",
    "            #Validation of the model\n",
    "            encoder.eval()\n",
    "            decoder.eval()\n",
    "            val_loss = 0.0\n",
    "            with torch.no_grad():\n",
    "                for img,captions in val_loader:\n",
    "                    img,captions = img.to(device),captions.to(device)\n",
    "                    features = encoder(img)\n",
    "                    outputs = decoder(features, captions)\n",
    "                    decode_lengths = [len(cap) for cap in captions]\n",
    "                    outputs = nn.utils.rnn.pack_padded_sequence(outputs, decode_lengths, batch_first=True, enforce_sorted=False)\n",
    "                    captions = nn.utils.rnn.pack_padded_sequence(captions, decode_lengths, batch_first=True, enforce_sorted=False)\n",
    "                    loss = criterion(outputs.data,captions.data)\n",
    "                    val_loss += loss.item()\n",
    "            val_losses.append(val_loss/len(val_loader))\n",
    "\n",
    "            #Early stopping\n",
    "            if val_loss < best_val_loss:\n",
    "                best_val_loss = val_loss\n",
    "                epochs_no_improve = 0\n",
    "            else:\n",
    "                epochs_no_improve += 1\n",
    "                if epochs_no_improve >= early_stopping_patience:\n",
    "                    print(f'Early stopping! Epoch: {epoch+1}')\n",
    "                    break\n",
    "\n",
    "            pbar.set_description(f'Train Loss: {train_losses[-1]:.3f} | Val Loss: {val_losses[-1]:.3f}')\n",
    "            pbar.update(1)\n",
    "\n",
    "    return train_losses, val_losses"
   ]
  },
  {
   "cell_type": "code",
   "execution_count": 15,
   "metadata": {},
   "outputs": [],
   "source": [
    "import matplotlib.pyplot as plt\n",
    "\n",
    "def plot_loss(loss_values, title=\"Loss Plot\"):\n",
    "    \"\"\"\n",
    "    Plot the loss values over training epochs.\n",
    "\n",
    "    Parameters:\n",
    "    - loss_values: A list or array of loss values for each epoch.\n",
    "    - title: The title of the plot (optional).\n",
    "    \"\"\"\n",
    "    plt.figure(figsize=(10, 6))\n",
    "    plt.plot(loss_values[0], marker='o', linestyle='-', label='train')\n",
    "    plt.plot(loss_values[1], marker='o', linestyle='-',label='val')\n",
    "    plt.title(title)\n",
    "    plt.legend()\n",
    "    plt.xlabel('Epochs')\n",
    "    plt.ylabel('Loss')\n",
    "    plt.grid(True)\n",
    "    plt.show()"
   ]
  },
  {
   "cell_type": "markdown",
   "metadata": {},
   "source": [
    "### Optimizing the Model with Optuna"
   ]
  },
  {
   "cell_type": "code",
   "execution_count": 16,
   "metadata": {},
   "outputs": [],
   "source": [
    "#Define the function to convert the predicted ids to words\n",
    "def convert_to_words(sampled_ids):\n",
    "    sampled_caption = []\n",
    "    for word_id in sampled_ids:\n",
    "        word_id = int(word_id)\n",
    "        word = vocab.index2word[word_id]\n",
    "        sampled_caption.append(word)\n",
    "        if word == 'EOS':\n",
    "            break\n",
    "    sentence = ' '.join(sampled_caption)\n",
    "    return sentence"
   ]
  },
  {
   "cell_type": "code",
   "execution_count": 17,
   "metadata": {},
   "outputs": [],
   "source": [
    "#Define the prediction function\n",
    "def predict(encoder, decoder,image, top_k, top_p, max_len=50, temperature=1.0):\n",
    "    encoder.eval()\n",
    "    decoder.eval()\n",
    "    image = image.to(device)\n",
    "    feature = encoder(image)\n",
    "    sampled_ids = []\n",
    "    sampled_ids = decoder.sample_combined_sampling(feature, max_len=max_len, temperature=temperature, top_k=top_k, top_p=top_p)\n",
    "    return sampled_ids"
   ]
  },
  {
   "cell_type": "code",
   "execution_count": 18,
   "metadata": {},
   "outputs": [],
   "source": [
    "from datasets import load_metric\n",
    "\n",
    "def rouge_score(encoder, decoder, data_loader, top_p, top_k):\n",
    "    rouge = load_metric('rouge')\n",
    "    predictions = []\n",
    "    references = []\n",
    "    for img, label in data_loader: \n",
    "        res = predict(encoder, decoder, img, top_k=top_k, top_p=top_p)\n",
    "        sentence = convert_to_words(res)\n",
    "        predictions.append(sentence)\n",
    "        references.append(label)\n",
    "    result = rouge.compute(predictions=predictions, references=references, use_aggregator=True)\n",
    "    return result[\"rougeL\"].mid.fmeasure\n"
   ]
  },
  {
   "cell_type": "code",
   "execution_count": 19,
   "metadata": {},
   "outputs": [],
   "source": [
    "# import optuna\n",
    "\n",
    "# def objective(trial):\n",
    "#     # Define search space for hyperparameters\n",
    "#     learning_rate = trial.suggest_float('learning_rate', 1e-5, 1e-1,log=True)\n",
    "#     batch_size = trial.suggest_categorical('batch_size', [32, 64])\n",
    "#     early_stopping_patience = trial.suggest_int('early_stopping_patience', 5, 25)\n",
    "#     weight_decay = trial.suggest_float('weight_decay', 1e-6, 1e-4, log=True)\n",
    "#     dropout_rate = trial.suggest_float('dropout_rate', 0.1, 0.5, log=True)\n",
    "#     top_k = trial.suggest_categorical('top_k', [0, 1])\n",
    "#     top_p = trial.suggest_categorical('top_p', [0.0, 1.0])\n",
    "\n",
    "#     # Train the model with current hyperparameters\n",
    "\n",
    "#     encoder = Encoder(embed_dim=512).to(device)\n",
    "#     decoder = Decoder(embed_size=512, hidden_size=512, vocab_size=vocab.len(),dropout=dropout_rate).to(device)\n",
    "#     optimizer_encoder = torch.optim.AdamW(encoder.parameters(), lr=learning_rate, weight_decay=weight_decay)\n",
    "#     optimizer_decoder = torch.optim.AdamW(decoder.parameters(), lr=learning_rate, weight_decay=weight_decay)\n",
    "#     criterion = nn.CrossEntropyLoss()\n",
    "#     train_loader = DataLoader(train_dataset, batch_size=batch_size, shuffle=True)\n",
    "#     val_loader = DataLoader(val_dataset, batch_size=batch_size, shuffle=False)\n",
    "#     _,val_loss = train(encoder, decoder, optimizer_encoder, optimizer_decoder, criterion, train_loader, val_loader, epochs=30, early_stopping_patience=early_stopping_patience)\n",
    "#     accuracy = rouge_score(encoder, decoder, val_loader, top_p=top_p, top_k=top_k)\n",
    "#     return accuracy\n",
    "\n",
    "# # Create a study object and optimize the objective function\n",
    "# study = optuna.create_study(direction='maximize')\n",
    "# study.optimize(objective, n_trials=50)\n",
    "\n",
    "# # Get the best hyperparameters and accuracy\n",
    "# best_params = study.best_params\n",
    "# best_accuracy = study.best_value\n",
    "\n",
    "# print(\"Best hyperparameters Author:\", best_params)\n",
    "# print(\"Best accuracy Author:\", best_accuracy)"
   ]
  },
  {
   "cell_type": "markdown",
   "metadata": {},
   "source": [
    "## Train and Hyperparams"
   ]
  },
  {
   "cell_type": "code",
   "execution_count": 20,
   "metadata": {},
   "outputs": [],
   "source": [
    "#Parameters and Hyperparameters\n",
    "\n",
    "#Model Parameters\n",
    "embed_dim = 200\n",
    "attention_dim = 224\n",
    "decoder_dim = 224\n",
    "dropout = 1.27e-01\n",
    "batch_norm_momentum = 0.9\n",
    "\n",
    "#Training Hyperparameters\n",
    "epochs = 100\n",
    "encoder_lr = 1.65e-02\n",
    "decoder_lr = 1.65e-02\n",
    "weight_decay = 1.55e-06\n",
    "alpha_c = 1.0\n",
    "fine_tune_encoder = False\n",
    "checkpoint = None\n"
   ]
  },
  {
   "cell_type": "code",
   "execution_count": 21,
   "metadata": {},
   "outputs": [
    {
     "name": "stderr",
     "output_type": "stream",
     "text": [
      "Train Loss: 1.106 | Val Loss: 6.581:  27%|██▋       | 27/100 [20:10<54:32, 44.83s/it]  "
     ]
    },
    {
     "name": "stdout",
     "output_type": "stream",
     "text": [
      "Early stopping! Epoch: 28\n"
     ]
    },
    {
     "name": "stderr",
     "output_type": "stream",
     "text": [
      "\n"
     ]
    }
   ],
   "source": [
    "decoder = Decoder(embed_size=embed_dim, hidden_size=decoder_dim, vocab_size=vocab.len(),dropout=dropout).to(device)\n",
    "encoder = Encoder(embed_dim, batch_norm_momentum=batch_norm_momentum, dropout=dropout).to(device)\n",
    "\n",
    "parameters = list(decoder.parameters())+list(encoder.embed.parameters())\n",
    "decoder_optimizer = optim.AdamW(filter(lambda p: p.requires_grad, parameters), lr=decoder_lr, weight_decay=weight_decay)\n",
    "encoder_optimizer = optim.AdamW(filter(lambda p: p.requires_grad, encoder.parameters()), lr=encoder_lr, weight_decay=weight_decay) if fine_tune_encoder else None\n",
    "\n",
    "criterion = nn.CrossEntropyLoss() \n",
    "train_loss, val_loss = train(encoder,decoder,encoder_optimizer,decoder_optimizer,criterion,trainloader,testloader,epochs=epochs)"
   ]
  },
  {
   "cell_type": "code",
   "execution_count": 22,
   "metadata": {},
   "outputs": [
    {
     "data": {
      "image/png": "[encoded data removed]",
      "text/plain": [
       "<Figure size 1000x600 with 1 Axes>"
      ]
     },
     "metadata": {},
     "output_type": "display_data"
    }
   ],
   "source": [
    "plot_loss([train_loss,val_loss])"
   ]
  },
  {
   "cell_type": "markdown",
   "metadata": {},
   "source": [
    "# `evaluate` Function Explanation\n",
    "\n",
    "## Introduction\n",
    "This function is responsible for evaluating the performance of the Show and Tell model on the validation dataset.\n",
    "\n",
    "## Function Parameters\n",
    "- `valloader`: The data loader for validation images and captions.\n",
    "- `encoder`: The encoder model used for feature extraction.\n",
    "- `decoder`: The decoder model used for caption generation.\n",
    "- `loss_fn`: The loss function used to compute the evaluation loss.\n",
    "\n",
    "## Evaluation Loop\n",
    "- The function iterates over the batches of validation data provided by `valloader`.\n",
    "- For each batch:\n",
    "  - It moves the images and captions to the appropriate device (CPU or GPU).\n",
    "  - It passes the images through the encoder to obtain image features.\n",
    "  - It passes the image features and ground truth captions through the decoder to obtain predicted scores for each word in the captions.\n",
    "  - It computes the loss between the predicted scores and the ground truth captions using the provided loss function (`loss_fn`).\n",
    "  - It logs the current loss for the batch for monitoring evaluation progress.\n",
    "\n",
    "## Logging\n",
    "- The function logs the loss for each batch using Weights & Biases (`wandb`) for monitoring evaluation progress.\n",
    "\n"
   ]
  },
  {
   "cell_type": "markdown",
   "metadata": {},
   "source": [
    "# `bleu_score` Function Explanation\n",
    "\n",
    "## Introduction\n",
    "This function computes the BLEU (Bilingual Evaluation Understudy) score for the generated captions by the Show and Tell model on the validation dataset.\n",
    "\n",
    "## Function Parameters\n",
    "- `valloader`: The data loader for validation images and captions.\n",
    "- `encoder`: The encoder model used for feature extraction.\n",
    "- `decoder`: The decoder model used for caption generation.\n",
    "\n",
    "## BLEU Score Computation\n",
    "- The function imports the `load_metric` function from the `datasets` library, which is used to load the BLEU metric.\n",
    "- It sets the encoder and decoder models to evaluation mode using the `eval()` method.\n",
    "- The function iterates over the batches of validation data provided by `valloader`.\n",
    "- For each batch:\n",
    "  - It moves the images to the appropriate device (CPU or GPU).\n",
    "  - It extracts features from the images using the encoder.\n",
    "  - It generates captions for the images using the decoder's `sample_beam_search` method.\n",
    "  - It converts the indices of the generated captions to actual words using the vocabulary (`vocab`).\n",
    "  - It adds the generated captions and ground truth captions to the BLEU metric using the `add` method.\n",
    "- Finally, the function computes the BLEU score using the `compute` method of the BLEU metric.\n",
    "\n",
    "## BLEU Score\n",
    "- The BLEU score is a metric commonly used to evaluate the quality of machine-translated text. It measures the similarity between the generated captions and the ground truth captions by computing the precision of n-grams (typically up to 4-grams) in the generated captions compared to the reference captions.\n",
    "\n",
    "## Summary\n",
    "This function evaluates the quality of the generated captions by computing the BLEU score, providing a quantitative measure of the model's performance in generating captions that are similar to the ground truth captions.\n"
   ]
  },
  {
   "cell_type": "code",
   "execution_count": 23,
   "metadata": {},
   "outputs": [],
   "source": [
    "from datasets import load_metric\n",
    "#BLEU Score\n",
    "def bleu_score(valloader,encoder,decoder,vocab):\n",
    "    bleu_score = load_metric(\"bleu\")\n",
    "    encoder.eval()\n",
    "    decoder.eval()\n",
    "\n",
    "    for _ , (images,descriptions) in enumerate(valloader,0):\n",
    "        images = images.to(device)\n",
    "        # descriptions = descriptions.to(device)\n",
    "        features = encoder(images)\n",
    "        outputs = decoder.sample_combined_sampling(features)\n",
    "\n",
    "        outputs = [vocab.to_word(x) for x in outputs]\n",
    "        # print(outputs)\n",
    "        bleu_score.add(predictions=outputs,references=descriptions)\n",
    "\n",
    "    return bleu_score.compute()"
   ]
  },
  {
   "cell_type": "code",
   "execution_count": 24,
   "metadata": {},
   "outputs": [
    {
     "name": "stderr",
     "output_type": "stream",
     "text": [
      "C:\\Users\\Fede\\AppData\\Local\\Temp\\ipykernel_22240\\3671032434.py:4: FutureWarning: load_metric is deprecated and will be removed in the next major version of datasets. Use 'evaluate.load' instead, from the new library 🤗 Evaluate: https://huggingface.co/docs/evaluate\n",
      "  rouge = load_metric('rouge')\n"
     ]
    },
    {
     "name": "stdout",
     "output_type": "stream",
     "text": [
      "Rouge Score: 0.0\n"
     ]
    }
   ],
   "source": [
    "results = rouge_score(encoder,decoder,testloader,top_p=1.0,top_k=0)\n",
    "print(f\"Rouge Score: {results}\")"
   ]
  },
  {
   "cell_type": "markdown",
   "metadata": {},
   "source": [
    "# `convert_to_words` Function Explanation\n",
    "\n",
    "## Introduction\n",
    "This function converts the predicted word indices generated by the decoder into actual words using the vocabulary mapping.\n",
    "\n",
    "## Function Parameters\n",
    "- `sampled_ids`: A list of predicted word indices generated by the decoder.\n",
    "\n",
    "## Conversion Process\n",
    "- The function iterates over the predicted word indices (`sampled_ids`).\n",
    "- For each word index, it retrieves the corresponding word from the vocabulary using the `index2word` mapping.\n",
    "- It appends the word to the `sampled_caption` list.\n",
    "- If the word is 'EOS' (end-of-sentence token), it stops the iteration as the caption is complete.\n",
    "- Finally, it joins the words in the `sampled_caption` list to form the final caption sentence.\n",
    "\n",
    "## Summary\n",
    "This function plays a crucial role in converting the output of the decoder (predicted word indices) into human-readable captions. It utilizes the vocabulary mapping (`index2word`) to perform the conversion, enabling the model to generate descriptive captions for images.\n"
   ]
  },
  {
   "cell_type": "code",
   "execution_count": 25,
   "metadata": {},
   "outputs": [],
   "source": [
    "#Define the function to display the image and the predicted caption\n",
    "def display_image_caption(image,sentence):\n",
    "    plt.imshow(image.squeeze().permute(1,2,0))\n",
    "    plt.title(sentence)\n",
    "    plt.show()"
   ]
  },
  {
   "cell_type": "code",
   "execution_count": 26,
   "metadata": {},
   "outputs": [],
   "source": [
    "#Define the function to display the image and the actual caption\n",
    "def display_image_caption_actual(image, label):\n",
    "    plt.imshow(image.squeeze().permute(1,2,0))\n",
    "    plt.title(convert_to_words(tuple(label.numpy())))\n",
    "    plt.show()"
   ]
  },
  {
   "cell_type": "code",
   "execution_count": 28,
   "metadata": {},
   "outputs": [
    {
     "name": "stdout",
     "output_type": "stream",
     "text": [
      "Predicted: SOS The painting is signed with monogram lower right . EOS\n"
     ]
    }
   ],
   "source": [
    "\n",
    "#img, label = next(iter(testloader))\n",
    "for img, label in testloader:\n",
    "    # display_image_caption_actual(img[:1], label[:1])\n",
    "    img = img.to(device)\n",
    "    res = predict(encoder,decoder,img, top_k=0, top_p=1.0, max_len=500, temperature=0.2)\n",
    "    sentence = convert_to_words(res)\n",
    "    print(f\"Predicted: {sentence}\")\n",
    "    break"
   ]
  },
  {
   "cell_type": "code",
   "execution_count": null,
   "metadata": {},
   "outputs": [],
   "source": []
  }
 ],
 "metadata": {
  "environment": {
   "kernel": "conda-env-pytorch-pytorch",
   "name": "workbench-notebooks.m111",
   "type": "gcloud",
   "uri": "gcr.io/deeplearning-platform-release/workbench-notebooks:m111"
  },
  "kernelspec": {
   "display_name": "tf",
   "language": "python",
   "name": "python3"
  },
  "language_info": {
   "codemirror_mode": {
    "name": "ipython",
    "version": 3
   },
   "file_extension": ".py",
   "mimetype": "text/x-python",
   "name": "python",
   "nbconvert_exporter": "python",
   "pygments_lexer": "ipython3",
   "version": "3.10.12"
  }
 },
 "nbformat": 4,
 "nbformat_minor": 4
}
